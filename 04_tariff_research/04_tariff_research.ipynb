{
 "cells": [
  {
   "cell_type": "markdown",
   "metadata": {},
   "source": [
    "# Определение перспективного тарифа для телеком компании"
   ]
  },
  {
   "cell_type": "markdown",
   "metadata": {},
   "source": [
    "Вы аналитик компании «Мегалайн» — федерального оператора сотовой связи. Клиентам предлагают два тарифных плана: «Смарт» и «Ультра». Чтобы скорректировать рекламный бюджет, коммерческий департамент хочет понять, какой тариф приносит больше денег.\n",
    "Вам предстоит сделать предварительный анализ тарифов на небольшой выборке клиентов. В вашем распоряжении данные 500 пользователей «Мегалайна»: кто они, откуда, каким тарифом пользуются, сколько звонков и сообщений каждый отправил за 2018 год. Нужно проанализировать поведение клиентов и сделать вывод — какой тариф лучше."
   ]
  },
  {
   "cell_type": "markdown",
   "metadata": {},
   "source": [
    "## Изучение данных из файлов"
   ]
  },
  {
   "cell_type": "code",
   "execution_count": 1,
   "metadata": {},
   "outputs": [],
   "source": [
    "import pandas as pd\n",
    "import numpy as np\n",
    "import matplotlib.pyplot as plt\n",
    "import seaborn as sns\n",
    "import scipy.stats as st\n",
    "import math\n",
    "from functools import reduce"
   ]
  },
  {
   "cell_type": "markdown",
   "metadata": {},
   "source": [
    "Загрузим данные из разных файлов."
   ]
  },
  {
   "cell_type": "code",
   "execution_count": 2,
   "metadata": {},
   "outputs": [],
   "source": [
    "calls = pd.read_csv('/datasets/calls.csv')\n",
    "internet = pd.read_csv('/datasets/internet.csv')\n",
    "messages = pd.read_csv('/datasets/messages.csv')\n",
    "tariffs = pd.read_csv('/datasets/tariffs.csv')\n",
    "users = pd.read_csv('/datasets/users.csv')"
   ]
  },
  {
   "cell_type": "markdown",
   "metadata": {},
   "source": [
    "Изучим по отдельности каждый файл."
   ]
  },
  {
   "cell_type": "markdown",
   "metadata": {},
   "source": [
    "Таблица users (информация о пользователях):\n",
    "- user_id — уникальный идентификатор пользователя;\n",
    "- first_name — имя пользователя;\n",
    "- last_name — фамилия пользователя;\n",
    "- age — возраст пользователя (годы);\n",
    "- reg_date — дата подключения тарифа (день, месяц, год);\n",
    "- churn_date — дата прекращения пользования тарифом (если значение пропущено, то тариф ещё действовал на момент выгрузки данных);\n",
    "- city — город проживания пользователя;\n",
    "- tariff — название тарифного плана."
   ]
  },
  {
   "cell_type": "code",
   "execution_count": 3,
   "metadata": {},
   "outputs": [
    {
     "data": {
      "text/html": [
       "<div>\n",
       "<style scoped>\n",
       "    .dataframe tbody tr th:only-of-type {\n",
       "        vertical-align: middle;\n",
       "    }\n",
       "\n",
       "    .dataframe tbody tr th {\n",
       "        vertical-align: top;\n",
       "    }\n",
       "\n",
       "    .dataframe thead th {\n",
       "        text-align: right;\n",
       "    }\n",
       "</style>\n",
       "<table border=\"1\" class=\"dataframe\">\n",
       "  <thead>\n",
       "    <tr style=\"text-align: right;\">\n",
       "      <th></th>\n",
       "      <th>user_id</th>\n",
       "      <th>age</th>\n",
       "      <th>churn_date</th>\n",
       "      <th>city</th>\n",
       "      <th>first_name</th>\n",
       "      <th>last_name</th>\n",
       "      <th>reg_date</th>\n",
       "      <th>tariff</th>\n",
       "    </tr>\n",
       "  </thead>\n",
       "  <tbody>\n",
       "    <tr>\n",
       "      <td>304</td>\n",
       "      <td>1304</td>\n",
       "      <td>68</td>\n",
       "      <td>NaN</td>\n",
       "      <td>Владимир</td>\n",
       "      <td>Илья</td>\n",
       "      <td>Соловьёв</td>\n",
       "      <td>2018-11-05</td>\n",
       "      <td>ultra</td>\n",
       "    </tr>\n",
       "    <tr>\n",
       "      <td>340</td>\n",
       "      <td>1340</td>\n",
       "      <td>50</td>\n",
       "      <td>NaN</td>\n",
       "      <td>Пенза</td>\n",
       "      <td>Тимофей</td>\n",
       "      <td>Алютин</td>\n",
       "      <td>2018-01-30</td>\n",
       "      <td>smart</td>\n",
       "    </tr>\n",
       "    <tr>\n",
       "      <td>47</td>\n",
       "      <td>1047</td>\n",
       "      <td>67</td>\n",
       "      <td>NaN</td>\n",
       "      <td>Саратов</td>\n",
       "      <td>Милица</td>\n",
       "      <td>Меркулова</td>\n",
       "      <td>2018-10-29</td>\n",
       "      <td>smart</td>\n",
       "    </tr>\n",
       "    <tr>\n",
       "      <td>67</td>\n",
       "      <td>1067</td>\n",
       "      <td>45</td>\n",
       "      <td>NaN</td>\n",
       "      <td>Москва</td>\n",
       "      <td>Юзефа</td>\n",
       "      <td>Абашкина</td>\n",
       "      <td>2018-04-09</td>\n",
       "      <td>smart</td>\n",
       "    </tr>\n",
       "    <tr>\n",
       "      <td>479</td>\n",
       "      <td>1479</td>\n",
       "      <td>40</td>\n",
       "      <td>NaN</td>\n",
       "      <td>Хабаровск</td>\n",
       "      <td>Игорь</td>\n",
       "      <td>Богданов</td>\n",
       "      <td>2018-07-03</td>\n",
       "      <td>smart</td>\n",
       "    </tr>\n",
       "    <tr>\n",
       "      <td>485</td>\n",
       "      <td>1485</td>\n",
       "      <td>34</td>\n",
       "      <td>NaN</td>\n",
       "      <td>Киров</td>\n",
       "      <td>Таисия</td>\n",
       "      <td>Сухова</td>\n",
       "      <td>2018-12-29</td>\n",
       "      <td>ultra</td>\n",
       "    </tr>\n",
       "    <tr>\n",
       "      <td>310</td>\n",
       "      <td>1310</td>\n",
       "      <td>28</td>\n",
       "      <td>NaN</td>\n",
       "      <td>Уфа</td>\n",
       "      <td>Рудольф</td>\n",
       "      <td>Нестеров</td>\n",
       "      <td>2018-03-22</td>\n",
       "      <td>ultra</td>\n",
       "    </tr>\n",
       "    <tr>\n",
       "      <td>31</td>\n",
       "      <td>1031</td>\n",
       "      <td>66</td>\n",
       "      <td>NaN</td>\n",
       "      <td>Москва</td>\n",
       "      <td>Лаврентий</td>\n",
       "      <td>Тимофеев</td>\n",
       "      <td>2018-11-02</td>\n",
       "      <td>smart</td>\n",
       "    </tr>\n",
       "    <tr>\n",
       "      <td>249</td>\n",
       "      <td>1249</td>\n",
       "      <td>25</td>\n",
       "      <td>NaN</td>\n",
       "      <td>Курск</td>\n",
       "      <td>Изольда</td>\n",
       "      <td>Авдушева</td>\n",
       "      <td>2018-08-14</td>\n",
       "      <td>smart</td>\n",
       "    </tr>\n",
       "    <tr>\n",
       "      <td>90</td>\n",
       "      <td>1090</td>\n",
       "      <td>54</td>\n",
       "      <td>2018-12-03</td>\n",
       "      <td>Череповец</td>\n",
       "      <td>Екатерина</td>\n",
       "      <td>Астафьева</td>\n",
       "      <td>2018-10-11</td>\n",
       "      <td>ultra</td>\n",
       "    </tr>\n",
       "  </tbody>\n",
       "</table>\n",
       "</div>"
      ],
      "text/plain": [
       "     user_id  age  churn_date       city first_name  last_name    reg_date  \\\n",
       "304     1304   68         NaN   Владимир       Илья   Соловьёв  2018-11-05   \n",
       "340     1340   50         NaN      Пенза    Тимофей     Алютин  2018-01-30   \n",
       "47      1047   67         NaN    Саратов     Милица  Меркулова  2018-10-29   \n",
       "67      1067   45         NaN     Москва      Юзефа   Абашкина  2018-04-09   \n",
       "479     1479   40         NaN  Хабаровск      Игорь   Богданов  2018-07-03   \n",
       "485     1485   34         NaN      Киров     Таисия     Сухова  2018-12-29   \n",
       "310     1310   28         NaN        Уфа    Рудольф   Нестеров  2018-03-22   \n",
       "31      1031   66         NaN     Москва  Лаврентий   Тимофеев  2018-11-02   \n",
       "249     1249   25         NaN      Курск    Изольда   Авдушева  2018-08-14   \n",
       "90      1090   54  2018-12-03  Череповец  Екатерина  Астафьева  2018-10-11   \n",
       "\n",
       "    tariff  \n",
       "304  ultra  \n",
       "340  smart  \n",
       "47   smart  \n",
       "67   smart  \n",
       "479  smart  \n",
       "485  ultra  \n",
       "310  ultra  \n",
       "31   smart  \n",
       "249  smart  \n",
       "90   ultra  "
      ]
     },
     "metadata": {},
     "output_type": "display_data"
    }
   ],
   "source": [
    "display(users.sample(10, random_state=1))"
   ]
  },
  {
   "cell_type": "code",
   "execution_count": 4,
   "metadata": {},
   "outputs": [
    {
     "name": "stdout",
     "output_type": "stream",
     "text": [
      "<class 'pandas.core.frame.DataFrame'>\n",
      "RangeIndex: 500 entries, 0 to 499\n",
      "Data columns (total 8 columns):\n",
      "user_id       500 non-null int64\n",
      "age           500 non-null int64\n",
      "churn_date    38 non-null object\n",
      "city          500 non-null object\n",
      "first_name    500 non-null object\n",
      "last_name     500 non-null object\n",
      "reg_date      500 non-null object\n",
      "tariff        500 non-null object\n",
      "dtypes: int64(2), object(6)\n",
      "memory usage: 31.4+ KB\n"
     ]
    }
   ],
   "source": [
    "users.info()"
   ]
  },
  {
   "cell_type": "markdown",
   "metadata": {},
   "source": [
    "Есть пропущенные значения в столбце 'churn_date'. Из 500 строк заполнено только 38, это значит, что на момент выгрузки данных клиенты перестали пользоваться тарифом. Заполнять пропуски не будем."
   ]
  },
  {
   "cell_type": "markdown",
   "metadata": {},
   "source": [
    "Таблица calls (информация о звонках):\n",
    "- id — уникальный номер звонка;\n",
    "- call_date — дата звонка;\n",
    "- duration — длительность звонка в минутах;\n",
    "- user_id — идентификатор пользователя, сделавшего звонок."
   ]
  },
  {
   "cell_type": "code",
   "execution_count": 5,
   "metadata": {},
   "outputs": [
    {
     "data": {
      "text/html": [
       "<div>\n",
       "<style scoped>\n",
       "    .dataframe tbody tr th:only-of-type {\n",
       "        vertical-align: middle;\n",
       "    }\n",
       "\n",
       "    .dataframe tbody tr th {\n",
       "        vertical-align: top;\n",
       "    }\n",
       "\n",
       "    .dataframe thead th {\n",
       "        text-align: right;\n",
       "    }\n",
       "</style>\n",
       "<table border=\"1\" class=\"dataframe\">\n",
       "  <thead>\n",
       "    <tr style=\"text-align: right;\">\n",
       "      <th></th>\n",
       "      <th>id</th>\n",
       "      <th>call_date</th>\n",
       "      <th>duration</th>\n",
       "      <th>user_id</th>\n",
       "    </tr>\n",
       "  </thead>\n",
       "  <tbody>\n",
       "    <tr>\n",
       "      <td>26953</td>\n",
       "      <td>1066_374</td>\n",
       "      <td>2018-08-26</td>\n",
       "      <td>0.00</td>\n",
       "      <td>1066</td>\n",
       "    </tr>\n",
       "    <tr>\n",
       "      <td>66122</td>\n",
       "      <td>1168_1273</td>\n",
       "      <td>2018-03-28</td>\n",
       "      <td>16.05</td>\n",
       "      <td>1168</td>\n",
       "    </tr>\n",
       "    <tr>\n",
       "      <td>67325</td>\n",
       "      <td>1171_350</td>\n",
       "      <td>2018-09-14</td>\n",
       "      <td>6.23</td>\n",
       "      <td>1171</td>\n",
       "    </tr>\n",
       "    <tr>\n",
       "      <td>74643</td>\n",
       "      <td>1186_465</td>\n",
       "      <td>2018-09-02</td>\n",
       "      <td>0.79</td>\n",
       "      <td>1186</td>\n",
       "    </tr>\n",
       "    <tr>\n",
       "      <td>192311</td>\n",
       "      <td>1472_124</td>\n",
       "      <td>2018-05-04</td>\n",
       "      <td>5.94</td>\n",
       "      <td>1472</td>\n",
       "    </tr>\n",
       "    <tr>\n",
       "      <td>47375</td>\n",
       "      <td>1118_664</td>\n",
       "      <td>2018-10-24</td>\n",
       "      <td>13.41</td>\n",
       "      <td>1118</td>\n",
       "    </tr>\n",
       "    <tr>\n",
       "      <td>91143</td>\n",
       "      <td>1227_563</td>\n",
       "      <td>2018-08-03</td>\n",
       "      <td>15.15</td>\n",
       "      <td>1227</td>\n",
       "    </tr>\n",
       "    <tr>\n",
       "      <td>3818</td>\n",
       "      <td>1010_67</td>\n",
       "      <td>2018-08-16</td>\n",
       "      <td>14.29</td>\n",
       "      <td>1010</td>\n",
       "    </tr>\n",
       "    <tr>\n",
       "      <td>182822</td>\n",
       "      <td>1454_574</td>\n",
       "      <td>2018-09-23</td>\n",
       "      <td>9.98</td>\n",
       "      <td>1454</td>\n",
       "    </tr>\n",
       "    <tr>\n",
       "      <td>187346</td>\n",
       "      <td>1463_0</td>\n",
       "      <td>2018-12-05</td>\n",
       "      <td>10.63</td>\n",
       "      <td>1463</td>\n",
       "    </tr>\n",
       "  </tbody>\n",
       "</table>\n",
       "</div>"
      ],
      "text/plain": [
       "               id   call_date  duration  user_id\n",
       "26953    1066_374  2018-08-26      0.00     1066\n",
       "66122   1168_1273  2018-03-28     16.05     1168\n",
       "67325    1171_350  2018-09-14      6.23     1171\n",
       "74643    1186_465  2018-09-02      0.79     1186\n",
       "192311   1472_124  2018-05-04      5.94     1472\n",
       "47375    1118_664  2018-10-24     13.41     1118\n",
       "91143    1227_563  2018-08-03     15.15     1227\n",
       "3818      1010_67  2018-08-16     14.29     1010\n",
       "182822   1454_574  2018-09-23      9.98     1454\n",
       "187346     1463_0  2018-12-05     10.63     1463"
      ]
     },
     "metadata": {},
     "output_type": "display_data"
    }
   ],
   "source": [
    "display(calls.sample(10, random_state=1))"
   ]
  },
  {
   "cell_type": "code",
   "execution_count": 6,
   "metadata": {},
   "outputs": [
    {
     "name": "stdout",
     "output_type": "stream",
     "text": [
      "<class 'pandas.core.frame.DataFrame'>\n",
      "RangeIndex: 202607 entries, 0 to 202606\n",
      "Data columns (total 4 columns):\n",
      "id           202607 non-null object\n",
      "call_date    202607 non-null object\n",
      "duration     202607 non-null float64\n",
      "user_id      202607 non-null int64\n",
      "dtypes: float64(1), int64(1), object(2)\n",
      "memory usage: 6.2+ MB\n"
     ]
    }
   ],
   "source": [
    "calls.info()"
   ]
  },
  {
   "cell_type": "markdown",
   "metadata": {},
   "source": [
    "Пропущенных значений нет, но есть значения = 0.00. Скорее всего, это пропущенные вызовы, заменять такие данные не будем, т.к. они не влияют на расчёты."
   ]
  },
  {
   "cell_type": "markdown",
   "metadata": {},
   "source": [
    "Таблица messages (информация о сообщениях):\n",
    "- id — уникальный номер сообщения;\n",
    "- message_date — дата сообщения;\n",
    "- user_id — идентификатор пользователя, отправившего сообщение."
   ]
  },
  {
   "cell_type": "code",
   "execution_count": 7,
   "metadata": {},
   "outputs": [
    {
     "data": {
      "text/html": [
       "<div>\n",
       "<style scoped>\n",
       "    .dataframe tbody tr th:only-of-type {\n",
       "        vertical-align: middle;\n",
       "    }\n",
       "\n",
       "    .dataframe tbody tr th {\n",
       "        vertical-align: top;\n",
       "    }\n",
       "\n",
       "    .dataframe thead th {\n",
       "        text-align: right;\n",
       "    }\n",
       "</style>\n",
       "<table border=\"1\" class=\"dataframe\">\n",
       "  <thead>\n",
       "    <tr style=\"text-align: right;\">\n",
       "      <th></th>\n",
       "      <th>id</th>\n",
       "      <th>message_date</th>\n",
       "      <th>user_id</th>\n",
       "    </tr>\n",
       "  </thead>\n",
       "  <tbody>\n",
       "    <tr>\n",
       "      <td>45696</td>\n",
       "      <td>1197_26</td>\n",
       "      <td>2018-12-31</td>\n",
       "      <td>1197</td>\n",
       "    </tr>\n",
       "    <tr>\n",
       "      <td>66091</td>\n",
       "      <td>1282_523</td>\n",
       "      <td>2018-11-30</td>\n",
       "      <td>1282</td>\n",
       "    </tr>\n",
       "    <tr>\n",
       "      <td>18743</td>\n",
       "      <td>1082_184</td>\n",
       "      <td>2018-10-18</td>\n",
       "      <td>1082</td>\n",
       "    </tr>\n",
       "    <tr>\n",
       "      <td>33759</td>\n",
       "      <td>1146_557</td>\n",
       "      <td>2018-12-22</td>\n",
       "      <td>1146</td>\n",
       "    </tr>\n",
       "    <tr>\n",
       "      <td>11403</td>\n",
       "      <td>1048_49</td>\n",
       "      <td>2018-09-27</td>\n",
       "      <td>1048</td>\n",
       "    </tr>\n",
       "    <tr>\n",
       "      <td>97793</td>\n",
       "      <td>1401_125</td>\n",
       "      <td>2018-08-10</td>\n",
       "      <td>1401</td>\n",
       "    </tr>\n",
       "    <tr>\n",
       "      <td>406</td>\n",
       "      <td>1000_406</td>\n",
       "      <td>2018-12-29</td>\n",
       "      <td>1000</td>\n",
       "    </tr>\n",
       "    <tr>\n",
       "      <td>71393</td>\n",
       "      <td>1302_221</td>\n",
       "      <td>2018-10-23</td>\n",
       "      <td>1302</td>\n",
       "    </tr>\n",
       "    <tr>\n",
       "      <td>103004</td>\n",
       "      <td>1420_11</td>\n",
       "      <td>2018-12-12</td>\n",
       "      <td>1420</td>\n",
       "    </tr>\n",
       "    <tr>\n",
       "      <td>53795</td>\n",
       "      <td>1238_208</td>\n",
       "      <td>2018-10-08</td>\n",
       "      <td>1238</td>\n",
       "    </tr>\n",
       "  </tbody>\n",
       "</table>\n",
       "</div>"
      ],
      "text/plain": [
       "              id message_date  user_id\n",
       "45696    1197_26   2018-12-31     1197\n",
       "66091   1282_523   2018-11-30     1282\n",
       "18743   1082_184   2018-10-18     1082\n",
       "33759   1146_557   2018-12-22     1146\n",
       "11403    1048_49   2018-09-27     1048\n",
       "97793   1401_125   2018-08-10     1401\n",
       "406     1000_406   2018-12-29     1000\n",
       "71393   1302_221   2018-10-23     1302\n",
       "103004   1420_11   2018-12-12     1420\n",
       "53795   1238_208   2018-10-08     1238"
      ]
     },
     "metadata": {},
     "output_type": "display_data"
    }
   ],
   "source": [
    "display(messages.sample(10, random_state=1))"
   ]
  },
  {
   "cell_type": "code",
   "execution_count": 8,
   "metadata": {},
   "outputs": [
    {
     "name": "stdout",
     "output_type": "stream",
     "text": [
      "<class 'pandas.core.frame.DataFrame'>\n",
      "RangeIndex: 123036 entries, 0 to 123035\n",
      "Data columns (total 3 columns):\n",
      "id              123036 non-null object\n",
      "message_date    123036 non-null object\n",
      "user_id         123036 non-null int64\n",
      "dtypes: int64(1), object(2)\n",
      "memory usage: 2.8+ MB\n"
     ]
    }
   ],
   "source": [
    "messages.info()"
   ]
  },
  {
   "cell_type": "markdown",
   "metadata": {},
   "source": [
    "Пропущенных значений нет."
   ]
  },
  {
   "cell_type": "markdown",
   "metadata": {},
   "source": [
    "Таблица internet (информация об интернет-сессиях):\n",
    "- id — уникальный номер сессии;\n",
    "- mb_used — объём потраченного за сессию интернет-трафика (в мегабайтах);\n",
    "- session_date — дата интернет-сессии;\n",
    "- user_id — идентификатор пользователя."
   ]
  },
  {
   "cell_type": "code",
   "execution_count": 9,
   "metadata": {},
   "outputs": [
    {
     "data": {
      "text/html": [
       "<div>\n",
       "<style scoped>\n",
       "    .dataframe tbody tr th:only-of-type {\n",
       "        vertical-align: middle;\n",
       "    }\n",
       "\n",
       "    .dataframe tbody tr th {\n",
       "        vertical-align: top;\n",
       "    }\n",
       "\n",
       "    .dataframe thead th {\n",
       "        text-align: right;\n",
       "    }\n",
       "</style>\n",
       "<table border=\"1\" class=\"dataframe\">\n",
       "  <thead>\n",
       "    <tr style=\"text-align: right;\">\n",
       "      <th></th>\n",
       "      <th>Unnamed: 0</th>\n",
       "      <th>id</th>\n",
       "      <th>mb_used</th>\n",
       "      <th>session_date</th>\n",
       "      <th>user_id</th>\n",
       "    </tr>\n",
       "  </thead>\n",
       "  <tbody>\n",
       "    <tr>\n",
       "      <td>35745</td>\n",
       "      <td>35745</td>\n",
       "      <td>1124_125</td>\n",
       "      <td>122.45</td>\n",
       "      <td>2018-12-03</td>\n",
       "      <td>1124</td>\n",
       "    </tr>\n",
       "    <tr>\n",
       "      <td>18383</td>\n",
       "      <td>18383</td>\n",
       "      <td>1064_102</td>\n",
       "      <td>320.60</td>\n",
       "      <td>2018-12-19</td>\n",
       "      <td>1064</td>\n",
       "    </tr>\n",
       "    <tr>\n",
       "      <td>59774</td>\n",
       "      <td>59774</td>\n",
       "      <td>1203_22</td>\n",
       "      <td>605.96</td>\n",
       "      <td>2018-06-17</td>\n",
       "      <td>1203</td>\n",
       "    </tr>\n",
       "    <tr>\n",
       "      <td>56317</td>\n",
       "      <td>56317</td>\n",
       "      <td>1188_123</td>\n",
       "      <td>781.73</td>\n",
       "      <td>2018-05-08</td>\n",
       "      <td>1188</td>\n",
       "    </tr>\n",
       "    <tr>\n",
       "      <td>52231</td>\n",
       "      <td>52231</td>\n",
       "      <td>1176_386</td>\n",
       "      <td>150.98</td>\n",
       "      <td>2018-08-20</td>\n",
       "      <td>1176</td>\n",
       "    </tr>\n",
       "    <tr>\n",
       "      <td>20276</td>\n",
       "      <td>20276</td>\n",
       "      <td>1068_26</td>\n",
       "      <td>389.65</td>\n",
       "      <td>2018-12-04</td>\n",
       "      <td>1068</td>\n",
       "    </tr>\n",
       "    <tr>\n",
       "      <td>82748</td>\n",
       "      <td>82748</td>\n",
       "      <td>1281_64</td>\n",
       "      <td>841.89</td>\n",
       "      <td>2018-11-07</td>\n",
       "      <td>1281</td>\n",
       "    </tr>\n",
       "    <tr>\n",
       "      <td>129266</td>\n",
       "      <td>129266</td>\n",
       "      <td>1431_300</td>\n",
       "      <td>461.23</td>\n",
       "      <td>2018-11-26</td>\n",
       "      <td>1431</td>\n",
       "    </tr>\n",
       "    <tr>\n",
       "      <td>46783</td>\n",
       "      <td>46783</td>\n",
       "      <td>1160_75</td>\n",
       "      <td>0.00</td>\n",
       "      <td>2018-08-15</td>\n",
       "      <td>1160</td>\n",
       "    </tr>\n",
       "    <tr>\n",
       "      <td>48492</td>\n",
       "      <td>48492</td>\n",
       "      <td>1168_260</td>\n",
       "      <td>336.06</td>\n",
       "      <td>2018-07-28</td>\n",
       "      <td>1168</td>\n",
       "    </tr>\n",
       "  </tbody>\n",
       "</table>\n",
       "</div>"
      ],
      "text/plain": [
       "        Unnamed: 0        id  mb_used session_date  user_id\n",
       "35745        35745  1124_125   122.45   2018-12-03     1124\n",
       "18383        18383  1064_102   320.60   2018-12-19     1064\n",
       "59774        59774   1203_22   605.96   2018-06-17     1203\n",
       "56317        56317  1188_123   781.73   2018-05-08     1188\n",
       "52231        52231  1176_386   150.98   2018-08-20     1176\n",
       "20276        20276   1068_26   389.65   2018-12-04     1068\n",
       "82748        82748   1281_64   841.89   2018-11-07     1281\n",
       "129266      129266  1431_300   461.23   2018-11-26     1431\n",
       "46783        46783   1160_75     0.00   2018-08-15     1160\n",
       "48492        48492  1168_260   336.06   2018-07-28     1168"
      ]
     },
     "metadata": {},
     "output_type": "display_data"
    }
   ],
   "source": [
    "display(internet.sample(10, random_state=1))"
   ]
  },
  {
   "cell_type": "code",
   "execution_count": 10,
   "metadata": {},
   "outputs": [
    {
     "name": "stdout",
     "output_type": "stream",
     "text": [
      "<class 'pandas.core.frame.DataFrame'>\n",
      "RangeIndex: 149396 entries, 0 to 149395\n",
      "Data columns (total 5 columns):\n",
      "Unnamed: 0      149396 non-null int64\n",
      "id              149396 non-null object\n",
      "mb_used         149396 non-null float64\n",
      "session_date    149396 non-null object\n",
      "user_id         149396 non-null int64\n",
      "dtypes: float64(1), int64(2), object(2)\n",
      "memory usage: 5.7+ MB\n"
     ]
    }
   ],
   "source": [
    "internet.info()"
   ]
  },
  {
   "cell_type": "markdown",
   "metadata": {},
   "source": [
    "Таблица tariffs (информация о тарифах):\n",
    "- tariff_name — название тарифа;\n",
    "- rub_monthly_fee — ежемесячная абонентская плата в рублях;\n",
    "- minutes_included — количество минут разговора в месяц, включённых в абонентскую плату;\n",
    "- messages_included — количество сообщений в месяц, включённых в абонентскую плату;\n",
    "- mb_per_month_included — объём интернет-трафика, включённого в абонентскую плату (в мегабайтах);\n",
    "- rub_per_minute — стоимость минуты разговора сверх тарифного пакета (например, если в тарифе 100 минут разговора в месяц, то со 101 минуты будет взиматься плата);\n",
    "- rub_per_message — стоимость отправки сообщения сверх тарифного пакета;\n",
    "- rub_per_gb — стоимость дополнительного гигабайта интернет-трафика сверх тарифного пакета (1 гигабайт = 1024 мегабайта)."
   ]
  },
  {
   "cell_type": "code",
   "execution_count": 11,
   "metadata": {},
   "outputs": [
    {
     "data": {
      "text/html": [
       "<div>\n",
       "<style scoped>\n",
       "    .dataframe tbody tr th:only-of-type {\n",
       "        vertical-align: middle;\n",
       "    }\n",
       "\n",
       "    .dataframe tbody tr th {\n",
       "        vertical-align: top;\n",
       "    }\n",
       "\n",
       "    .dataframe thead th {\n",
       "        text-align: right;\n",
       "    }\n",
       "</style>\n",
       "<table border=\"1\" class=\"dataframe\">\n",
       "  <thead>\n",
       "    <tr style=\"text-align: right;\">\n",
       "      <th></th>\n",
       "      <th>messages_included</th>\n",
       "      <th>mb_per_month_included</th>\n",
       "      <th>minutes_included</th>\n",
       "      <th>rub_monthly_fee</th>\n",
       "      <th>rub_per_gb</th>\n",
       "      <th>rub_per_message</th>\n",
       "      <th>rub_per_minute</th>\n",
       "      <th>tariff_name</th>\n",
       "    </tr>\n",
       "  </thead>\n",
       "  <tbody>\n",
       "    <tr>\n",
       "      <td>0</td>\n",
       "      <td>50</td>\n",
       "      <td>15360</td>\n",
       "      <td>500</td>\n",
       "      <td>550</td>\n",
       "      <td>200</td>\n",
       "      <td>3</td>\n",
       "      <td>3</td>\n",
       "      <td>smart</td>\n",
       "    </tr>\n",
       "    <tr>\n",
       "      <td>1</td>\n",
       "      <td>1000</td>\n",
       "      <td>30720</td>\n",
       "      <td>3000</td>\n",
       "      <td>1950</td>\n",
       "      <td>150</td>\n",
       "      <td>1</td>\n",
       "      <td>1</td>\n",
       "      <td>ultra</td>\n",
       "    </tr>\n",
       "  </tbody>\n",
       "</table>\n",
       "</div>"
      ],
      "text/plain": [
       "   messages_included  mb_per_month_included  minutes_included  \\\n",
       "0                 50                  15360               500   \n",
       "1               1000                  30720              3000   \n",
       "\n",
       "   rub_monthly_fee  rub_per_gb  rub_per_message  rub_per_minute tariff_name  \n",
       "0              550         200                3               3       smart  \n",
       "1             1950         150                1               1       ultra  "
      ]
     },
     "execution_count": 11,
     "metadata": {},
     "output_type": "execute_result"
    }
   ],
   "source": [
    "tariffs"
   ]
  },
  {
   "cell_type": "markdown",
   "metadata": {},
   "source": [
    "Данные о тарифах не содержат пропусков или некорректных значений."
   ]
  },
  {
   "cell_type": "markdown",
   "metadata": {},
   "source": [
    "### Вывод"
   ]
  },
  {
   "cell_type": "markdown",
   "metadata": {},
   "source": [
    "При изучении файлов были выявлены следующие пункты:\n",
    "- пропуски в столбце 'churn_date', но они не влияют на анализ данных, поэтому из заполнять не нужно;\n",
    "- в столбце 'duration' есть значения = 0.00, которые мы заменять не будем, т.к. это могут быть пропущенные звонки, которые не влияют на расходы клиентов;\n",
    "- в столбце 'mb_used' есть значения = 0.00, которые мы заменять не будем, т.к. это не тарифицируемые значения;\n",
    "- значения в столбцах 'duration' и 'mb_used', кроме 0, необходимо округлить вверх до целого значения;\n",
    "- в столбцах с датами необходимо изменить тип данных."
   ]
  },
  {
   "cell_type": "markdown",
   "metadata": {},
   "source": [
    "## Предобработка данных"
   ]
  },
  {
   "cell_type": "markdown",
   "metadata": {},
   "source": [
    "Изменим тип данных в столбцах 'reg_date', 'churn_date', 'call_date', 'message_date' и 'session_date' - из строки в дату. Это необходимо сделать, чтобы получить месяц."
   ]
  },
  {
   "cell_type": "code",
   "execution_count": 12,
   "metadata": {},
   "outputs": [],
   "source": [
    "users['reg_date'] = pd.to_datetime(users['reg_date'], format='%Y-%m-%d')\n",
    "users['churn_date'] = pd.to_datetime(users['churn_date'], format='%Y-%m-%d')\n",
    "calls['call_date'] = pd.to_datetime(calls['call_date'], format='%Y-%m-%d')\n",
    "messages['message_date'] = pd.to_datetime(messages['message_date'], format='%Y-%m-%d')\n",
    "internet['session_date'] = pd.to_datetime(internet['session_date'], format='%Y-%m-%d')"
   ]
  },
  {
   "cell_type": "markdown",
   "metadata": {},
   "source": [
    "«Мегалайн» всегда округляет вверх значения минут и мегабайтов, поэтому необходимо округлить значения минут и мегабайтов с помощью np.ceil."
   ]
  },
  {
   "cell_type": "code",
   "execution_count": 13,
   "metadata": {},
   "outputs": [],
   "source": [
    "calls['duration'] = calls['duration'].apply(np.ceil)\n",
    "internet['mb_used'] = internet['mb_used'].apply(np.ceil)"
   ]
  },
  {
   "cell_type": "markdown",
   "metadata": {},
   "source": [
    "Посчитаем для каждого пользователя:\n",
    "- количество сделанных звонков и израсходованных минут разговора по месяцам;\n",
    "- количество отправленных сообщений по месяцам;\n",
    "- объем израсходованного интернет-трафика по месяцам;\n",
    "- помесячную выручку с каждого пользователя.\n",
    "\n",
    "Для начала добавим новые столбцы с месяцами."
   ]
  },
  {
   "cell_type": "code",
   "execution_count": 14,
   "metadata": {},
   "outputs": [],
   "source": [
    "calls['month'] = calls['call_date'].dt.month\n",
    "messages['month'] = messages['message_date'].dt.month\n",
    "internet['month'] = internet['session_date'].dt.month"
   ]
  },
  {
   "cell_type": "markdown",
   "metadata": {},
   "source": [
    "Сгруппируем данные по каждой таблице."
   ]
  },
  {
   "cell_type": "code",
   "execution_count": 15,
   "metadata": {},
   "outputs": [
    {
     "data": {
      "text/html": [
       "<div>\n",
       "<style scoped>\n",
       "    .dataframe tbody tr th:only-of-type {\n",
       "        vertical-align: middle;\n",
       "    }\n",
       "\n",
       "    .dataframe tbody tr th {\n",
       "        vertical-align: top;\n",
       "    }\n",
       "\n",
       "    .dataframe thead th {\n",
       "        text-align: right;\n",
       "    }\n",
       "</style>\n",
       "<table border=\"1\" class=\"dataframe\">\n",
       "  <thead>\n",
       "    <tr style=\"text-align: right;\">\n",
       "      <th></th>\n",
       "      <th></th>\n",
       "      <th>calls_qty</th>\n",
       "      <th>calls_duration</th>\n",
       "    </tr>\n",
       "    <tr>\n",
       "      <th>user_id</th>\n",
       "      <th>month</th>\n",
       "      <th></th>\n",
       "      <th></th>\n",
       "    </tr>\n",
       "  </thead>\n",
       "  <tbody>\n",
       "    <tr>\n",
       "      <td rowspan=\"5\" valign=\"top\">1000</td>\n",
       "      <td>5</td>\n",
       "      <td>22</td>\n",
       "      <td>159.0</td>\n",
       "    </tr>\n",
       "    <tr>\n",
       "      <td>6</td>\n",
       "      <td>43</td>\n",
       "      <td>172.0</td>\n",
       "    </tr>\n",
       "    <tr>\n",
       "      <td>7</td>\n",
       "      <td>47</td>\n",
       "      <td>340.0</td>\n",
       "    </tr>\n",
       "    <tr>\n",
       "      <td>8</td>\n",
       "      <td>52</td>\n",
       "      <td>408.0</td>\n",
       "    </tr>\n",
       "    <tr>\n",
       "      <td>9</td>\n",
       "      <td>58</td>\n",
       "      <td>466.0</td>\n",
       "    </tr>\n",
       "    <tr>\n",
       "      <td>...</td>\n",
       "      <td>...</td>\n",
       "      <td>...</td>\n",
       "      <td>...</td>\n",
       "    </tr>\n",
       "    <tr>\n",
       "      <td>1498</td>\n",
       "      <td>10</td>\n",
       "      <td>41</td>\n",
       "      <td>247.0</td>\n",
       "    </tr>\n",
       "    <tr>\n",
       "      <td rowspan=\"4\" valign=\"top\">1499</td>\n",
       "      <td>9</td>\n",
       "      <td>9</td>\n",
       "      <td>70.0</td>\n",
       "    </tr>\n",
       "    <tr>\n",
       "      <td>10</td>\n",
       "      <td>68</td>\n",
       "      <td>449.0</td>\n",
       "    </tr>\n",
       "    <tr>\n",
       "      <td>11</td>\n",
       "      <td>74</td>\n",
       "      <td>612.0</td>\n",
       "    </tr>\n",
       "    <tr>\n",
       "      <td>12</td>\n",
       "      <td>69</td>\n",
       "      <td>492.0</td>\n",
       "    </tr>\n",
       "  </tbody>\n",
       "</table>\n",
       "<p>3174 rows × 2 columns</p>\n",
       "</div>"
      ],
      "text/plain": [
       "               calls_qty  calls_duration\n",
       "user_id month                           \n",
       "1000    5             22           159.0\n",
       "        6             43           172.0\n",
       "        7             47           340.0\n",
       "        8             52           408.0\n",
       "        9             58           466.0\n",
       "...                  ...             ...\n",
       "1498    10            41           247.0\n",
       "1499    9              9            70.0\n",
       "        10            68           449.0\n",
       "        11            74           612.0\n",
       "        12            69           492.0\n",
       "\n",
       "[3174 rows x 2 columns]"
      ]
     },
     "execution_count": 15,
     "metadata": {},
     "output_type": "execute_result"
    }
   ],
   "source": [
    "calls_data = calls.groupby(['user_id', 'month'])[['duration']].agg(['count', 'sum'])\n",
    "calls_data.columns = ['calls_qty', 'calls_duration']\n",
    "calls_data"
   ]
  },
  {
   "cell_type": "code",
   "execution_count": 16,
   "metadata": {},
   "outputs": [
    {
     "data": {
      "text/html": [
       "<div>\n",
       "<style scoped>\n",
       "    .dataframe tbody tr th:only-of-type {\n",
       "        vertical-align: middle;\n",
       "    }\n",
       "\n",
       "    .dataframe tbody tr th {\n",
       "        vertical-align: top;\n",
       "    }\n",
       "\n",
       "    .dataframe thead th {\n",
       "        text-align: right;\n",
       "    }\n",
       "</style>\n",
       "<table border=\"1\" class=\"dataframe\">\n",
       "  <thead>\n",
       "    <tr style=\"text-align: right;\">\n",
       "      <th></th>\n",
       "      <th></th>\n",
       "      <th>messages_qty</th>\n",
       "    </tr>\n",
       "    <tr>\n",
       "      <th>user_id</th>\n",
       "      <th>month</th>\n",
       "      <th></th>\n",
       "    </tr>\n",
       "  </thead>\n",
       "  <tbody>\n",
       "    <tr>\n",
       "      <td rowspan=\"5\" valign=\"top\">1000</td>\n",
       "      <td>5</td>\n",
       "      <td>22</td>\n",
       "    </tr>\n",
       "    <tr>\n",
       "      <td>6</td>\n",
       "      <td>60</td>\n",
       "    </tr>\n",
       "    <tr>\n",
       "      <td>7</td>\n",
       "      <td>75</td>\n",
       "    </tr>\n",
       "    <tr>\n",
       "      <td>8</td>\n",
       "      <td>81</td>\n",
       "    </tr>\n",
       "    <tr>\n",
       "      <td>9</td>\n",
       "      <td>57</td>\n",
       "    </tr>\n",
       "    <tr>\n",
       "      <td>...</td>\n",
       "      <td>...</td>\n",
       "      <td>...</td>\n",
       "    </tr>\n",
       "    <tr>\n",
       "      <td>1498</td>\n",
       "      <td>10</td>\n",
       "      <td>42</td>\n",
       "    </tr>\n",
       "    <tr>\n",
       "      <td rowspan=\"4\" valign=\"top\">1499</td>\n",
       "      <td>9</td>\n",
       "      <td>11</td>\n",
       "    </tr>\n",
       "    <tr>\n",
       "      <td>10</td>\n",
       "      <td>48</td>\n",
       "    </tr>\n",
       "    <tr>\n",
       "      <td>11</td>\n",
       "      <td>59</td>\n",
       "    </tr>\n",
       "    <tr>\n",
       "      <td>12</td>\n",
       "      <td>66</td>\n",
       "    </tr>\n",
       "  </tbody>\n",
       "</table>\n",
       "<p>2717 rows × 1 columns</p>\n",
       "</div>"
      ],
      "text/plain": [
       "               messages_qty\n",
       "user_id month              \n",
       "1000    5                22\n",
       "        6                60\n",
       "        7                75\n",
       "        8                81\n",
       "        9                57\n",
       "...                     ...\n",
       "1498    10               42\n",
       "1499    9                11\n",
       "        10               48\n",
       "        11               59\n",
       "        12               66\n",
       "\n",
       "[2717 rows x 1 columns]"
      ]
     },
     "execution_count": 16,
     "metadata": {},
     "output_type": "execute_result"
    }
   ],
   "source": [
    "messages_data = messages.groupby(['user_id', 'month'])[['user_id']].agg(['count'])\n",
    "messages_data.columns = ['messages_qty']\n",
    "messages_data"
   ]
  },
  {
   "cell_type": "code",
   "execution_count": 17,
   "metadata": {},
   "outputs": [
    {
     "data": {
      "text/html": [
       "<div>\n",
       "<style scoped>\n",
       "    .dataframe tbody tr th:only-of-type {\n",
       "        vertical-align: middle;\n",
       "    }\n",
       "\n",
       "    .dataframe tbody tr th {\n",
       "        vertical-align: top;\n",
       "    }\n",
       "\n",
       "    .dataframe thead th {\n",
       "        text-align: right;\n",
       "    }\n",
       "</style>\n",
       "<table border=\"1\" class=\"dataframe\">\n",
       "  <thead>\n",
       "    <tr style=\"text-align: right;\">\n",
       "      <th></th>\n",
       "      <th></th>\n",
       "      <th>mb_used</th>\n",
       "    </tr>\n",
       "    <tr>\n",
       "      <th>user_id</th>\n",
       "      <th>month</th>\n",
       "      <th></th>\n",
       "    </tr>\n",
       "  </thead>\n",
       "  <tbody>\n",
       "    <tr>\n",
       "      <td rowspan=\"5\" valign=\"top\">1000</td>\n",
       "      <td>5</td>\n",
       "      <td>2256.0</td>\n",
       "    </tr>\n",
       "    <tr>\n",
       "      <td>6</td>\n",
       "      <td>23257.0</td>\n",
       "    </tr>\n",
       "    <tr>\n",
       "      <td>7</td>\n",
       "      <td>14016.0</td>\n",
       "    </tr>\n",
       "    <tr>\n",
       "      <td>8</td>\n",
       "      <td>14070.0</td>\n",
       "    </tr>\n",
       "    <tr>\n",
       "      <td>9</td>\n",
       "      <td>14581.0</td>\n",
       "    </tr>\n",
       "    <tr>\n",
       "      <td>...</td>\n",
       "      <td>...</td>\n",
       "      <td>...</td>\n",
       "    </tr>\n",
       "    <tr>\n",
       "      <td>1498</td>\n",
       "      <td>10</td>\n",
       "      <td>20604.0</td>\n",
       "    </tr>\n",
       "    <tr>\n",
       "      <td rowspan=\"4\" valign=\"top\">1499</td>\n",
       "      <td>9</td>\n",
       "      <td>1848.0</td>\n",
       "    </tr>\n",
       "    <tr>\n",
       "      <td>10</td>\n",
       "      <td>17809.0</td>\n",
       "    </tr>\n",
       "    <tr>\n",
       "      <td>11</td>\n",
       "      <td>17984.0</td>\n",
       "    </tr>\n",
       "    <tr>\n",
       "      <td>12</td>\n",
       "      <td>13077.0</td>\n",
       "    </tr>\n",
       "  </tbody>\n",
       "</table>\n",
       "<p>3203 rows × 1 columns</p>\n",
       "</div>"
      ],
      "text/plain": [
       "               mb_used\n",
       "user_id month         \n",
       "1000    5       2256.0\n",
       "        6      23257.0\n",
       "        7      14016.0\n",
       "        8      14070.0\n",
       "        9      14581.0\n",
       "...                ...\n",
       "1498    10     20604.0\n",
       "1499    9       1848.0\n",
       "        10     17809.0\n",
       "        11     17984.0\n",
       "        12     13077.0\n",
       "\n",
       "[3203 rows x 1 columns]"
      ]
     },
     "execution_count": 17,
     "metadata": {},
     "output_type": "execute_result"
    }
   ],
   "source": [
    "internet_data = internet.groupby(['user_id', 'month'])[['mb_used']].agg(['sum'])\n",
    "internet_data.columns = ['mb_used']\n",
    "internet_data"
   ]
  },
  {
   "cell_type": "markdown",
   "metadata": {},
   "source": [
    "Объединим три таблицы в одну."
   ]
  },
  {
   "cell_type": "code",
   "execution_count": 18,
   "metadata": {},
   "outputs": [
    {
     "data": {
      "text/html": [
       "<div>\n",
       "<style scoped>\n",
       "    .dataframe tbody tr th:only-of-type {\n",
       "        vertical-align: middle;\n",
       "    }\n",
       "\n",
       "    .dataframe tbody tr th {\n",
       "        vertical-align: top;\n",
       "    }\n",
       "\n",
       "    .dataframe thead th {\n",
       "        text-align: right;\n",
       "    }\n",
       "</style>\n",
       "<table border=\"1\" class=\"dataframe\">\n",
       "  <thead>\n",
       "    <tr style=\"text-align: right;\">\n",
       "      <th></th>\n",
       "      <th></th>\n",
       "      <th>calls_qty</th>\n",
       "      <th>calls_duration</th>\n",
       "      <th>messages_qty</th>\n",
       "      <th>mb_used</th>\n",
       "    </tr>\n",
       "    <tr>\n",
       "      <th>user_id</th>\n",
       "      <th>month</th>\n",
       "      <th></th>\n",
       "      <th></th>\n",
       "      <th></th>\n",
       "      <th></th>\n",
       "    </tr>\n",
       "  </thead>\n",
       "  <tbody>\n",
       "    <tr>\n",
       "      <td rowspan=\"8\" valign=\"top\">1000</td>\n",
       "      <td>5</td>\n",
       "      <td>22.0</td>\n",
       "      <td>159.0</td>\n",
       "      <td>22.0</td>\n",
       "      <td>2256.0</td>\n",
       "    </tr>\n",
       "    <tr>\n",
       "      <td>6</td>\n",
       "      <td>43.0</td>\n",
       "      <td>172.0</td>\n",
       "      <td>60.0</td>\n",
       "      <td>23257.0</td>\n",
       "    </tr>\n",
       "    <tr>\n",
       "      <td>7</td>\n",
       "      <td>47.0</td>\n",
       "      <td>340.0</td>\n",
       "      <td>75.0</td>\n",
       "      <td>14016.0</td>\n",
       "    </tr>\n",
       "    <tr>\n",
       "      <td>8</td>\n",
       "      <td>52.0</td>\n",
       "      <td>408.0</td>\n",
       "      <td>81.0</td>\n",
       "      <td>14070.0</td>\n",
       "    </tr>\n",
       "    <tr>\n",
       "      <td>9</td>\n",
       "      <td>58.0</td>\n",
       "      <td>466.0</td>\n",
       "      <td>57.0</td>\n",
       "      <td>14581.0</td>\n",
       "    </tr>\n",
       "    <tr>\n",
       "      <td>10</td>\n",
       "      <td>57.0</td>\n",
       "      <td>350.0</td>\n",
       "      <td>73.0</td>\n",
       "      <td>14717.0</td>\n",
       "    </tr>\n",
       "    <tr>\n",
       "      <td>11</td>\n",
       "      <td>43.0</td>\n",
       "      <td>338.0</td>\n",
       "      <td>58.0</td>\n",
       "      <td>14768.0</td>\n",
       "    </tr>\n",
       "    <tr>\n",
       "      <td>12</td>\n",
       "      <td>46.0</td>\n",
       "      <td>333.0</td>\n",
       "      <td>70.0</td>\n",
       "      <td>9827.0</td>\n",
       "    </tr>\n",
       "    <tr>\n",
       "      <td rowspan=\"2\" valign=\"top\">1001</td>\n",
       "      <td>11</td>\n",
       "      <td>59.0</td>\n",
       "      <td>430.0</td>\n",
       "      <td>NaN</td>\n",
       "      <td>18452.0</td>\n",
       "    </tr>\n",
       "    <tr>\n",
       "      <td>12</td>\n",
       "      <td>63.0</td>\n",
       "      <td>414.0</td>\n",
       "      <td>NaN</td>\n",
       "      <td>14053.0</td>\n",
       "    </tr>\n",
       "  </tbody>\n",
       "</table>\n",
       "</div>"
      ],
      "text/plain": [
       "               calls_qty  calls_duration  messages_qty  mb_used\n",
       "user_id month                                                  \n",
       "1000    5           22.0           159.0          22.0   2256.0\n",
       "        6           43.0           172.0          60.0  23257.0\n",
       "        7           47.0           340.0          75.0  14016.0\n",
       "        8           52.0           408.0          81.0  14070.0\n",
       "        9           58.0           466.0          57.0  14581.0\n",
       "        10          57.0           350.0          73.0  14717.0\n",
       "        11          43.0           338.0          58.0  14768.0\n",
       "        12          46.0           333.0          70.0   9827.0\n",
       "1001    11          59.0           430.0           NaN  18452.0\n",
       "        12          63.0           414.0           NaN  14053.0"
      ]
     },
     "execution_count": 18,
     "metadata": {},
     "output_type": "execute_result"
    }
   ],
   "source": [
    "dfs = [calls_data, messages_data, internet_data]\n",
    "total_data = reduce(lambda left,right: pd.merge(left,right,on=['user_id', 'month'], how='outer'), dfs)\n",
    "total_data.head(10)"
   ]
  },
  {
   "cell_type": "markdown",
   "metadata": {},
   "source": [
    "В объединной таблице встречаются пропущенные значения - это значит, что абонент в этот месяц не совершал каких-то операций, например, не отправлял сообщения.\n",
    "Проверим, в каких столбцах есть пропущенные значения."
   ]
  },
  {
   "cell_type": "code",
   "execution_count": 19,
   "metadata": {},
   "outputs": [
    {
     "name": "stdout",
     "output_type": "stream",
     "text": [
      "<class 'pandas.core.frame.DataFrame'>\n",
      "MultiIndex: 3214 entries, (1000, 5) to (1476, 4)\n",
      "Data columns (total 4 columns):\n",
      "calls_qty         3174 non-null float64\n",
      "calls_duration    3174 non-null float64\n",
      "messages_qty      2717 non-null float64\n",
      "mb_used           3203 non-null float64\n",
      "dtypes: float64(4)\n",
      "memory usage: 113.9 KB\n"
     ]
    }
   ],
   "source": [
    "total_data.info()"
   ]
  },
  {
   "cell_type": "markdown",
   "metadata": {},
   "source": [
    "Пропущенные значения есть во всех столбцах, поэтому их нужно заменить на 0. Также изменим тип даных на целочисленный, т.к. все значения округлены вверх до целого."
   ]
  },
  {
   "cell_type": "code",
   "execution_count": 20,
   "metadata": {},
   "outputs": [],
   "source": [
    "total_data = total_data.fillna(0).astype('int') "
   ]
  },
  {
   "cell_type": "markdown",
   "metadata": {},
   "source": [
    "Проверим, правильно ли объединились таблицы и все ли значения попали в новую таблицу.\n",
    "Сравним суммарные значения столбцов из новой таблицы со значениями столбцов из отдельных таблиц."
   ]
  },
  {
   "cell_type": "code",
   "execution_count": 21,
   "metadata": {},
   "outputs": [
    {
     "name": "stdout",
     "output_type": "stream",
     "text": [
      "Количество звонков совпадает.\n",
      "Продолжительность звонков совпадает.\n",
      "Количество сообщений совпадает.\n",
      "Количество интернет-трафика совпадает.\n"
     ]
    }
   ],
   "source": [
    "if calls['duration'].count() == total_data['calls_qty'].sum():\n",
    "    print('Количество звонков совпадает.')\n",
    "else:\n",
    "    print('Количество звонков не совпадает. Нужно найти ошибку.')\n",
    "\n",
    "if calls['duration'].sum() == total_data['calls_duration'].sum():\n",
    "    print('Продолжительность звонков совпадает.')\n",
    "else:\n",
    "    print('Продолжительность звонков не совпадает. Нужно найти ошибку.')\n",
    "\n",
    "if messages['user_id'].count() == total_data['messages_qty'].sum():\n",
    "    print('Количество сообщений совпадает.')\n",
    "else:\n",
    "    print('Количество сообщений не совпадает. Нужно найти ошибку.')\n",
    "    \n",
    "if internet['mb_used'].sum() == total_data['mb_used'].sum():\n",
    "    print('Количество интернет-трафика совпадает.')\n",
    "else:\n",
    "    print('Количество интернет-трафика не совпадает. Нужно найти ошибку.')"
   ]
  },
  {
   "cell_type": "markdown",
   "metadata": {},
   "source": [
    "Всё совпадает, а это значит, что все данные есть в новой таблице.\n",
    "\n",
    "Создадим новые столбцы:\n",
    "- 'tariff' - название тарифа, которым пользуется клиент;\n",
    "- 'city' - город проживания клиента;\n",
    "- 'monthly_revenue' - ежемесячная выручка."
   ]
  },
  {
   "cell_type": "code",
   "execution_count": 22,
   "metadata": {},
   "outputs": [],
   "source": [
    "for user_id in total_data.index:\n",
    "    total_data.loc[user_id, 'tariff'] = users.loc[user_id[0]-1000, 'tariff']"
   ]
  },
  {
   "cell_type": "code",
   "execution_count": 23,
   "metadata": {},
   "outputs": [],
   "source": [
    "total_data = total_data.join(users.loc[:,['user_id', 'city']].set_index('user_id'), how='outer')"
   ]
  },
  {
   "cell_type": "code",
   "execution_count": 24,
   "metadata": {},
   "outputs": [
    {
     "data": {
      "text/html": [
       "<div>\n",
       "<style scoped>\n",
       "    .dataframe tbody tr th:only-of-type {\n",
       "        vertical-align: middle;\n",
       "    }\n",
       "\n",
       "    .dataframe tbody tr th {\n",
       "        vertical-align: top;\n",
       "    }\n",
       "\n",
       "    .dataframe thead th {\n",
       "        text-align: right;\n",
       "    }\n",
       "</style>\n",
       "<table border=\"1\" class=\"dataframe\">\n",
       "  <thead>\n",
       "    <tr style=\"text-align: right;\">\n",
       "      <th></th>\n",
       "      <th></th>\n",
       "      <th>calls_qty</th>\n",
       "      <th>calls_duration</th>\n",
       "      <th>messages_qty</th>\n",
       "      <th>mb_used</th>\n",
       "      <th>tariff</th>\n",
       "      <th>city</th>\n",
       "      <th>monthly_revenue</th>\n",
       "    </tr>\n",
       "    <tr>\n",
       "      <th>user_id</th>\n",
       "      <th>month</th>\n",
       "      <th></th>\n",
       "      <th></th>\n",
       "      <th></th>\n",
       "      <th></th>\n",
       "      <th></th>\n",
       "      <th></th>\n",
       "      <th></th>\n",
       "    </tr>\n",
       "  </thead>\n",
       "  <tbody>\n",
       "    <tr>\n",
       "      <td rowspan=\"8\" valign=\"top\">1000</td>\n",
       "      <td>5</td>\n",
       "      <td>22</td>\n",
       "      <td>159</td>\n",
       "      <td>22</td>\n",
       "      <td>2256</td>\n",
       "      <td>ultra</td>\n",
       "      <td>Краснодар</td>\n",
       "      <td>1950</td>\n",
       "    </tr>\n",
       "    <tr>\n",
       "      <td>6</td>\n",
       "      <td>43</td>\n",
       "      <td>172</td>\n",
       "      <td>60</td>\n",
       "      <td>23257</td>\n",
       "      <td>ultra</td>\n",
       "      <td>Краснодар</td>\n",
       "      <td>1950</td>\n",
       "    </tr>\n",
       "    <tr>\n",
       "      <td>7</td>\n",
       "      <td>47</td>\n",
       "      <td>340</td>\n",
       "      <td>75</td>\n",
       "      <td>14016</td>\n",
       "      <td>ultra</td>\n",
       "      <td>Краснодар</td>\n",
       "      <td>1950</td>\n",
       "    </tr>\n",
       "    <tr>\n",
       "      <td>8</td>\n",
       "      <td>52</td>\n",
       "      <td>408</td>\n",
       "      <td>81</td>\n",
       "      <td>14070</td>\n",
       "      <td>ultra</td>\n",
       "      <td>Краснодар</td>\n",
       "      <td>1950</td>\n",
       "    </tr>\n",
       "    <tr>\n",
       "      <td>9</td>\n",
       "      <td>58</td>\n",
       "      <td>466</td>\n",
       "      <td>57</td>\n",
       "      <td>14581</td>\n",
       "      <td>ultra</td>\n",
       "      <td>Краснодар</td>\n",
       "      <td>1950</td>\n",
       "    </tr>\n",
       "    <tr>\n",
       "      <td>10</td>\n",
       "      <td>57</td>\n",
       "      <td>350</td>\n",
       "      <td>73</td>\n",
       "      <td>14717</td>\n",
       "      <td>ultra</td>\n",
       "      <td>Краснодар</td>\n",
       "      <td>1950</td>\n",
       "    </tr>\n",
       "    <tr>\n",
       "      <td>11</td>\n",
       "      <td>43</td>\n",
       "      <td>338</td>\n",
       "      <td>58</td>\n",
       "      <td>14768</td>\n",
       "      <td>ultra</td>\n",
       "      <td>Краснодар</td>\n",
       "      <td>1950</td>\n",
       "    </tr>\n",
       "    <tr>\n",
       "      <td>12</td>\n",
       "      <td>46</td>\n",
       "      <td>333</td>\n",
       "      <td>70</td>\n",
       "      <td>9827</td>\n",
       "      <td>ultra</td>\n",
       "      <td>Краснодар</td>\n",
       "      <td>1950</td>\n",
       "    </tr>\n",
       "    <tr>\n",
       "      <td rowspan=\"2\" valign=\"top\">1001</td>\n",
       "      <td>11</td>\n",
       "      <td>59</td>\n",
       "      <td>430</td>\n",
       "      <td>0</td>\n",
       "      <td>18452</td>\n",
       "      <td>smart</td>\n",
       "      <td>Москва</td>\n",
       "      <td>1350</td>\n",
       "    </tr>\n",
       "    <tr>\n",
       "      <td>12</td>\n",
       "      <td>63</td>\n",
       "      <td>414</td>\n",
       "      <td>0</td>\n",
       "      <td>14053</td>\n",
       "      <td>smart</td>\n",
       "      <td>Москва</td>\n",
       "      <td>550</td>\n",
       "    </tr>\n",
       "  </tbody>\n",
       "</table>\n",
       "</div>"
      ],
      "text/plain": [
       "               calls_qty  calls_duration  messages_qty  mb_used tariff  \\\n",
       "user_id month                                                            \n",
       "1000    5             22             159            22     2256  ultra   \n",
       "        6             43             172            60    23257  ultra   \n",
       "        7             47             340            75    14016  ultra   \n",
       "        8             52             408            81    14070  ultra   \n",
       "        9             58             466            57    14581  ultra   \n",
       "        10            57             350            73    14717  ultra   \n",
       "        11            43             338            58    14768  ultra   \n",
       "        12            46             333            70     9827  ultra   \n",
       "1001    11            59             430             0    18452  smart   \n",
       "        12            63             414             0    14053  smart   \n",
       "\n",
       "                    city  monthly_revenue  \n",
       "user_id month                              \n",
       "1000    5      Краснодар             1950  \n",
       "        6      Краснодар             1950  \n",
       "        7      Краснодар             1950  \n",
       "        8      Краснодар             1950  \n",
       "        9      Краснодар             1950  \n",
       "        10     Краснодар             1950  \n",
       "        11     Краснодар             1950  \n",
       "        12     Краснодар             1950  \n",
       "1001    11        Москва             1350  \n",
       "        12        Москва              550  "
      ]
     },
     "execution_count": 24,
     "metadata": {},
     "output_type": "execute_result"
    }
   ],
   "source": [
    "# функция подсчета выручки с каждого пользователя в месяц\n",
    "def revenue(row):\n",
    "    duration = row['calls_duration']\n",
    "    messages = row['messages_qty']\n",
    "    mb_used = row['mb_used']\n",
    "    tariff = row['tariff']      \n",
    "   \n",
    "    if tariff == 'smart':\n",
    "        extra_duration = duration - tariffs.loc[0, 'minutes_included']\n",
    "        extra_messages = messages - tariffs.loc[0, 'messages_included']\n",
    "        extra_gb = math.ceil((mb_used - tariffs.loc[0, 'mb_per_month_included']) / 1024)\n",
    "                \n",
    "        if extra_duration < 0: \n",
    "            extra_duration = 0        \n",
    "        if extra_messages < 0: \n",
    "            extra_messages = 0\n",
    "        if extra_gb < 0: \n",
    "            extra_gb = 0\n",
    "        \n",
    "        return (tariffs.loc[0, 'rub_per_minute'] * extra_duration + \n",
    "                   tariffs.loc[0, 'rub_per_message'] * extra_messages +\n",
    "                   tariffs.loc[0, 'rub_per_gb'] * extra_gb + \n",
    "                   tariffs.loc[0, 'rub_monthly_fee']\n",
    "                  ) \n",
    "    else:\n",
    "        extra_duration = duration - tariffs.loc[1, 'minutes_included']\n",
    "        extra_messages = messages - tariffs.loc[1, 'messages_included']\n",
    "        extra_gb = math.ceil((mb_used - tariffs.loc[1, 'mb_per_month_included']) / 1024)\n",
    "        \n",
    "        \n",
    "        if extra_duration < 0: \n",
    "            extra_duration = 0\n",
    "        if extra_gb < 0: \n",
    "            extra_gb = 0\n",
    "        if extra_messages < 0: \n",
    "            extra_messages = 0\n",
    "        \n",
    "        return (tariffs.loc[1, 'rub_per_minute'] * extra_duration +             \n",
    "                   tariffs.loc[1, 'rub_per_message'] * extra_messages + \n",
    "                   tariffs.loc[1, 'rub_per_gb'] * extra_gb + \n",
    "                   tariffs.loc[1, 'rub_monthly_fee']\n",
    "                  )\n",
    "\n",
    "total_data['monthly_revenue'] = total_data.apply(revenue, axis=1)\n",
    "total_data.head(10)"
   ]
  },
  {
   "cell_type": "code",
   "execution_count": 25,
   "metadata": {},
   "outputs": [
    {
     "data": {
      "text/plain": [
       "4925751"
      ]
     },
     "execution_count": 25,
     "metadata": {},
     "output_type": "execute_result"
    }
   ],
   "source": [
    "total_data['monthly_revenue'].sum()"
   ]
  },
  {
   "cell_type": "markdown",
   "metadata": {},
   "source": [
    "Мы получили необходимые данные для их дальнейшего анализа."
   ]
  },
  {
   "cell_type": "markdown",
   "metadata": {},
   "source": [
    "### Вывод"
   ]
  },
  {
   "cell_type": "markdown",
   "metadata": {},
   "source": [
    "В ходе данного этапа были сделаны следующие шаги и выводы:\n",
    "- изменён тип данных в столбцах с датами, чтобы можно было выделить месяц;\n",
    "- значения в столбцах с минутами и мегабайтами округлили вверх до ближайшего целого числа (это связано с условиями тарификации оператора) и поменяли тип данных на целочисленный;\n",
    "- были созданы групповые таблицы, содержащие данные об активности пользователей помесячно и на основе этих данных была рассчитана ежемесячная выручка по каждому клиенту;\n",
    "- общая выручка по всем клиентам составила - 4 925 751 руб.;\n",
    "- теперь можно приступать к анализу данных."
   ]
  },
  {
   "cell_type": "markdown",
   "metadata": {},
   "source": [
    "## Анализ данных"
   ]
  },
  {
   "cell_type": "markdown",
   "metadata": {},
   "source": [
    "Опишем поведение клиентов оператора, исходя из выборки. Для этого посчитаем, количество минут, сообщений и мегабайт требуется пользователям ежемесячно."
   ]
  },
  {
   "cell_type": "markdown",
   "metadata": {},
   "source": [
    "Для начала выведем информацию о медианном поведении каждого пользователя в течение 2018 года."
   ]
  },
  {
   "cell_type": "code",
   "execution_count": 26,
   "metadata": {},
   "outputs": [
    {
     "data": {
      "text/html": [
       "<div>\n",
       "<style scoped>\n",
       "    .dataframe tbody tr th:only-of-type {\n",
       "        vertical-align: middle;\n",
       "    }\n",
       "\n",
       "    .dataframe tbody tr th {\n",
       "        vertical-align: top;\n",
       "    }\n",
       "\n",
       "    .dataframe thead th {\n",
       "        text-align: right;\n",
       "    }\n",
       "</style>\n",
       "<table border=\"1\" class=\"dataframe\">\n",
       "  <thead>\n",
       "    <tr style=\"text-align: right;\">\n",
       "      <th></th>\n",
       "      <th>calls_duration</th>\n",
       "      <th>mb_used</th>\n",
       "      <th>messages_qty</th>\n",
       "      <th>tariff</th>\n",
       "    </tr>\n",
       "    <tr>\n",
       "      <th>user_id</th>\n",
       "      <th></th>\n",
       "      <th></th>\n",
       "      <th></th>\n",
       "      <th></th>\n",
       "    </tr>\n",
       "  </thead>\n",
       "  <tbody>\n",
       "    <tr>\n",
       "      <td>1000</td>\n",
       "      <td>339.0</td>\n",
       "      <td>14325.5</td>\n",
       "      <td>65.0</td>\n",
       "      <td>ultra</td>\n",
       "    </tr>\n",
       "    <tr>\n",
       "      <td>1001</td>\n",
       "      <td>422.0</td>\n",
       "      <td>16252.5</td>\n",
       "      <td>0.0</td>\n",
       "      <td>smart</td>\n",
       "    </tr>\n",
       "    <tr>\n",
       "      <td>1002</td>\n",
       "      <td>214.0</td>\n",
       "      <td>17601.0</td>\n",
       "      <td>11.0</td>\n",
       "      <td>smart</td>\n",
       "    </tr>\n",
       "    <tr>\n",
       "      <td>1003</td>\n",
       "      <td>824.0</td>\n",
       "      <td>11368.0</td>\n",
       "      <td>83.0</td>\n",
       "      <td>ultra</td>\n",
       "    </tr>\n",
       "    <tr>\n",
       "      <td>1004</td>\n",
       "      <td>132.5</td>\n",
       "      <td>17828.5</td>\n",
       "      <td>154.5</td>\n",
       "      <td>ultra</td>\n",
       "    </tr>\n",
       "  </tbody>\n",
       "</table>\n",
       "</div>"
      ],
      "text/plain": [
       "         calls_duration  mb_used  messages_qty tariff\n",
       "user_id                                              \n",
       "1000              339.0  14325.5          65.0  ultra\n",
       "1001              422.0  16252.5           0.0  smart\n",
       "1002              214.0  17601.0          11.0  smart\n",
       "1003              824.0  11368.0          83.0  ultra\n",
       "1004              132.5  17828.5         154.5  ultra"
      ]
     },
     "execution_count": 26,
     "metadata": {},
     "output_type": "execute_result"
    }
   ],
   "source": [
    "medians_per_month = total_data.pivot_table(index='user_id', \n",
    "                        values=['calls_duration', 'messages_qty', 'mb_used'], \n",
    "                        aggfunc='median')\n",
    "for user_id in users['user_id']:\n",
    "    medians_per_month.loc[user_id, 'tariff'] = users.loc[user_id-1000, 'tariff']\n",
    "medians_per_month.head()"
   ]
  },
  {
   "cell_type": "markdown",
   "metadata": {},
   "source": [
    "Посчитаем среднее количество, дисперсию и стандартное отклонение."
   ]
  },
  {
   "cell_type": "code",
   "execution_count": 27,
   "metadata": {},
   "outputs": [
    {
     "data": {
      "text/html": [
       "<div>\n",
       "<style scoped>\n",
       "    .dataframe tbody tr th:only-of-type {\n",
       "        vertical-align: middle;\n",
       "    }\n",
       "\n",
       "    .dataframe tbody tr th {\n",
       "        vertical-align: top;\n",
       "    }\n",
       "\n",
       "    .dataframe thead tr th {\n",
       "        text-align: left;\n",
       "    }\n",
       "\n",
       "    .dataframe thead tr:last-of-type th {\n",
       "        text-align: right;\n",
       "    }\n",
       "</style>\n",
       "<table border=\"1\" class=\"dataframe\">\n",
       "  <thead>\n",
       "    <tr>\n",
       "      <th></th>\n",
       "      <th colspan=\"4\" halign=\"left\">calls_duration</th>\n",
       "      <th colspan=\"4\" halign=\"left\">mb_used</th>\n",
       "      <th colspan=\"4\" halign=\"left\">messages_qty</th>\n",
       "    </tr>\n",
       "    <tr>\n",
       "      <th></th>\n",
       "      <th>mean</th>\n",
       "      <th>median</th>\n",
       "      <th>std</th>\n",
       "      <th>var</th>\n",
       "      <th>mean</th>\n",
       "      <th>median</th>\n",
       "      <th>std</th>\n",
       "      <th>var</th>\n",
       "      <th>mean</th>\n",
       "      <th>median</th>\n",
       "      <th>std</th>\n",
       "      <th>var</th>\n",
       "    </tr>\n",
       "    <tr>\n",
       "      <th>tariff</th>\n",
       "      <th></th>\n",
       "      <th></th>\n",
       "      <th></th>\n",
       "      <th></th>\n",
       "      <th></th>\n",
       "      <th></th>\n",
       "      <th></th>\n",
       "      <th></th>\n",
       "      <th></th>\n",
       "      <th></th>\n",
       "      <th></th>\n",
       "      <th></th>\n",
       "    </tr>\n",
       "  </thead>\n",
       "  <tbody>\n",
       "    <tr>\n",
       "      <td>smart</td>\n",
       "      <td>437.5</td>\n",
       "      <td>439.8</td>\n",
       "      <td>160.3</td>\n",
       "      <td>25685.4</td>\n",
       "      <td>16853.8</td>\n",
       "      <td>16948.0</td>\n",
       "      <td>4179.5</td>\n",
       "      <td>17468577.2</td>\n",
       "      <td>33.8</td>\n",
       "      <td>28.5</td>\n",
       "      <td>28.0</td>\n",
       "      <td>784.6</td>\n",
       "    </tr>\n",
       "    <tr>\n",
       "      <td>ultra</td>\n",
       "      <td>557.5</td>\n",
       "      <td>535.2</td>\n",
       "      <td>303.8</td>\n",
       "      <td>92290.6</td>\n",
       "      <td>20322.5</td>\n",
       "      <td>19750.5</td>\n",
       "      <td>8901.2</td>\n",
       "      <td>79230804.2</td>\n",
       "      <td>57.0</td>\n",
       "      <td>47.5</td>\n",
       "      <td>49.2</td>\n",
       "      <td>2424.3</td>\n",
       "    </tr>\n",
       "  </tbody>\n",
       "</table>\n",
       "</div>"
      ],
      "text/plain": [
       "       calls_duration                         mb_used                   \\\n",
       "                 mean median    std      var     mean   median     std   \n",
       "tariff                                                                   \n",
       "smart           437.5  439.8  160.3  25685.4  16853.8  16948.0  4179.5   \n",
       "ultra           557.5  535.2  303.8  92290.6  20322.5  19750.5  8901.2   \n",
       "\n",
       "                   messages_qty                       \n",
       "               var         mean median   std     var  \n",
       "tariff                                                \n",
       "smart   17468577.2         33.8   28.5  28.0   784.6  \n",
       "ultra   79230804.2         57.0   47.5  49.2  2424.3  "
      ]
     },
     "execution_count": 27,
     "metadata": {},
     "output_type": "execute_result"
    }
   ],
   "source": [
    "statistics = medians_per_month.pivot_table(index=['tariff'], values=['calls_duration', 'messages_qty', 'mb_used'], \n",
    "                    aggfunc={'calls_duration': [np.mean, np.median, np.var, np.std], \n",
    "                             'messages_qty': [np.mean, np.median, np.var, np.std], \n",
    "                             'mb_used': [np.mean, np.median, np.var, np.std]})\n",
    "statistics.applymap(\"{:.1f}\".format) #округлим выводимые значения используя format"
   ]
  },
  {
   "cell_type": "markdown",
   "metadata": {},
   "source": [
    "- В среднем пользователь тарифа 'smart' тратит 438 минут в месяц, а тарифа 'ultra' - 558 минут.\n",
    "- В среднем пользователь тарифа 'smart' расходует 16.5 гб трафика, а тарифа 'ultra' - 20 гб.\n",
    "- В среднем пользователь тарифа 'smart' отправляет 34 сообщения, а тарифа 'ultra' - 57.\n",
    "\n",
    "В среднем пользователи тарифа 'smart' укладываются в доступный лимит минут и сообщений, но им не хватает включённого интернет-трафика. В среднем им приходится докупать 2 гб трафика, а это 400 руб. - достаточно много по сравнению с основной стоимостью тарифа (550 руб.).\n",
    "\n",
    "В среднем пользователи тарифа 'ultra' больше разговаривают по телефону, больше отправляют сообщений и больше тратят интернет-трафика. При этом в среднем пользователи не превышают доступные им лимиты в рамках тарифа."
   ]
  },
  {
   "cell_type": "markdown",
   "metadata": {},
   "source": [
    "Построим гистограммы."
   ]
  },
  {
   "cell_type": "code",
   "execution_count": 28,
   "metadata": {},
   "outputs": [
    {
     "data": {
      "image/png": "[encoded data removed]",
      "text/plain": [
       "<Figure size 360x360 with 1 Axes>"
      ]
     },
     "metadata": {
      "needs_background": "light"
     },
     "output_type": "display_data"
    },
    {
     "data": {
      "image/png": "[encoded data removed]",
      "text/plain": [
       "<Figure size 360x360 with 1 Axes>"
      ]
     },
     "metadata": {
      "needs_background": "light"
     },
     "output_type": "display_data"
    },
    {
     "data": {
      "image/png": "[encoded data removed]",
      "text/plain": [
       "<Figure size 360x360 with 1 Axes>"
      ]
     },
     "metadata": {
      "needs_background": "light"
     },
     "output_type": "display_data"
    }
   ],
   "source": [
    "for column in ['calls_duration', 'messages_qty', 'mb_used']:\n",
    "    sns.catplot(x='tariff', y=column, data=medians_per_month, kind='box')\n",
    "    plt.title(column, fontsize=15)"
   ]
  },
  {
   "cell_type": "code",
   "execution_count": 29,
   "metadata": {},
   "outputs": [
    {
     "data": {
      "image/png": "[encoded data removed]",
      "text/plain": [
       "<Figure size 864x432 with 1 Axes>"
      ]
     },
     "metadata": {
      "needs_background": "light"
     },
     "output_type": "display_data"
    }
   ],
   "source": [
    "plt.figure(figsize=(12,6))\n",
    "for tariff in ['ultra', 'smart']:\n",
    "    sns.distplot(medians_per_month.query('tariff == @tariff')['calls_duration'], kde=True, bins=10)\n",
    "\n",
    "\n",
    "plt.xlim(0,1500)\n",
    "plt.xlabel('Количество израсходованных минут')\n",
    "plt.legend(['ultra', 'smart'])\n",
    "plt.show()"
   ]
  },
  {
   "cell_type": "code",
   "execution_count": 30,
   "metadata": {},
   "outputs": [
    {
     "data": {
      "image/png": "[encoded data removed]",
      "text/plain": [
       "<Figure size 864x432 with 1 Axes>"
      ]
     },
     "metadata": {
      "needs_background": "light"
     },
     "output_type": "display_data"
    }
   ],
   "source": [
    "plt.figure(figsize=(12,6))\n",
    "for tariff in ['ultra', 'smart']:\n",
    "    sns.distplot(medians_per_month.query('tariff == @tariff')['messages_qty'], kde=True, bins=10)\n",
    "    \n",
    "plt.xlim(0,250)\n",
    "plt.xlabel('Количество израсходованных сообщений')\n",
    "plt.legend(['ultra', 'smart'])\n",
    "plt.show()"
   ]
  },
  {
   "cell_type": "code",
   "execution_count": 31,
   "metadata": {},
   "outputs": [
    {
     "data": {
      "image/png": "[encoded data removed]",
      "text/plain": [
       "<Figure size 864x432 with 1 Axes>"
      ]
     },
     "metadata": {
      "needs_background": "light"
     },
     "output_type": "display_data"
    }
   ],
   "source": [
    "plt.figure(figsize=(12,6))\n",
    "for tariff in ['ultra', 'smart']:\n",
    "    sns.distplot(medians_per_month.query('tariff == @tariff')['mb_used'], kde=True, bins=10)\n",
    "    \n",
    "plt.xlim(0,50000)\n",
    "plt.xlabel('Количество израсходованного интернет-траффика, мб')\n",
    "plt.legend(['ultra', 'smart'])\n",
    "plt.show()"
   ]
  },
  {
   "cell_type": "markdown",
   "metadata": {},
   "source": [
    "Из графиков видно, что для тарифа 'ultra' дисперсии и размахи больше, медианы смещены в большую сторону в большей степени, чем для тарифа 'smart'. Выборка среди пользователей с тарифом 'ultra' содержит меньше выбросов.\n",
    "\n",
    "Распределения минут и интернет-трафика близки к нормальному распределению и относительно симметричны. Такое распределение похоже на распределение Стьюдента.\n",
    "\n",
    "Гистограмма распределения сообщений характеризует скошенный вправо датасет, что свидетельствует о том, что медиана меньше, чем среднее."
   ]
  },
  {
   "cell_type": "markdown",
   "metadata": {},
   "source": [
    "### Вывод"
   ]
  },
  {
   "cell_type": "markdown",
   "metadata": {},
   "source": [
    "В результате анализа данных были получены данные, которые позволили нам описать поведение пользователей в зависимости от тарифа:\n",
    "- в среднем пользователь тарифа 'smart' тратит 438 минут в месяц, а тарифа 'ultra' - 558 минут;\n",
    "- в среднем пользователь тарифа 'smart' расходует 16.5 гб трафика, а тарифа 'ultra' - 20 гб;\n",
    "- в среднем пользователь тарифа 'smart' отправляет 34 сообщения, а тарифа 'ultra' - 57;\n",
    "- в среднем пользователи тарифа 'smart' укладываются в доступный лимит минут и сообщений, но им не хватает включённого интернет-трафика. Им приходится докупать 2 гб трафика, а это 400 руб. - достаточно много по сравнению с основной стоимостью тарифа (550 руб.);\n",
    "- в среднем пользователи тарифа 'ultra' больше разговаривают по телефону, больше отправляют сообщений и больше тратят интернет-трафика. При этом в среднем пользователи не превышают доступные им лимиты в рамках тарифа.\n",
    "\n",
    "Построенные графики показывают нам, что размах значений для пользователей тарифа 'ultra' шире, чем размах значений пользователей тарифа 'smart'. Также мы увидели, что в выборке пользователей с тарифом 'smart' много выбросов."
   ]
  },
  {
   "cell_type": "markdown",
   "metadata": {},
   "source": [
    "## Проверка гипотез"
   ]
  },
  {
   "cell_type": "markdown",
   "metadata": {},
   "source": [
    "Нам необходимо проверить гипотезу о том, что выручки тарифов различаются.\n",
    "Нулевая альтернативная гипотезы звучат так:\n",
    "- H₀ - средняя выручка пользователей тарифов 'ultra' и 'smart' равна.\n",
    "- H₁ - средняя выручка пользователей тарифов 'ultra' и 'smart' различается.\n",
    "\n",
    "H₀ всегда формулируется так, чтобы использовать знак равенства.\n",
    "Пороговое значение alpha равно 0.05."
   ]
  },
  {
   "cell_type": "code",
   "execution_count": 32,
   "metadata": {},
   "outputs": [
    {
     "name": "stdout",
     "output_type": "stream",
     "text": [
      "p-значение: 2.7240946993530856e-246\n",
      "Отвергаем нулевую гипотезу\n"
     ]
    }
   ],
   "source": [
    "ultra_users = total_data.query('tariff == \"ultra\"')['monthly_revenue']\n",
    "smart_users = total_data.query('tariff == \"smart\"')['monthly_revenue']\n",
    "\n",
    "alpha = 0.05\n",
    "\n",
    "results = st.ttest_ind(\n",
    "    ultra_users, \n",
    "    smart_users, \n",
    "    equal_var=False)\n",
    "\n",
    "print('p-значение:', results.pvalue)\n",
    "\n",
    "if (results.pvalue < alpha):\n",
    "    print(\"Отвергаем нулевую гипотезу\")\n",
    "else:\n",
    "    print(\"Не получилось отвергнуть нулевую гипотезу\")"
   ]
  },
  {
   "cell_type": "code",
   "execution_count": 33,
   "metadata": {},
   "outputs": [
    {
     "data": {
      "text/html": [
       "<div>\n",
       "<style scoped>\n",
       "    .dataframe tbody tr th:only-of-type {\n",
       "        vertical-align: middle;\n",
       "    }\n",
       "\n",
       "    .dataframe tbody tr th {\n",
       "        vertical-align: top;\n",
       "    }\n",
       "\n",
       "    .dataframe thead tr th {\n",
       "        text-align: left;\n",
       "    }\n",
       "\n",
       "    .dataframe thead tr:last-of-type th {\n",
       "        text-align: right;\n",
       "    }\n",
       "</style>\n",
       "<table border=\"1\" class=\"dataframe\">\n",
       "  <thead>\n",
       "    <tr>\n",
       "      <th></th>\n",
       "      <th>count</th>\n",
       "      <th>mean</th>\n",
       "      <th>median</th>\n",
       "    </tr>\n",
       "    <tr>\n",
       "      <th></th>\n",
       "      <th>monthly_revenue</th>\n",
       "      <th>monthly_revenue</th>\n",
       "      <th>monthly_revenue</th>\n",
       "    </tr>\n",
       "    <tr>\n",
       "      <th>tariff</th>\n",
       "      <th></th>\n",
       "      <th></th>\n",
       "      <th></th>\n",
       "    </tr>\n",
       "  </thead>\n",
       "  <tbody>\n",
       "    <tr>\n",
       "      <td>smart</td>\n",
       "      <td>2229</td>\n",
       "      <td>1294.63930</td>\n",
       "      <td>1038</td>\n",
       "    </tr>\n",
       "    <tr>\n",
       "      <td>ultra</td>\n",
       "      <td>985</td>\n",
       "      <td>2071.06599</td>\n",
       "      <td>1950</td>\n",
       "    </tr>\n",
       "  </tbody>\n",
       "</table>\n",
       "</div>"
      ],
      "text/plain": [
       "                 count            mean          median\n",
       "       monthly_revenue monthly_revenue monthly_revenue\n",
       "tariff                                                \n",
       "smart             2229      1294.63930            1038\n",
       "ultra              985      2071.06599            1950"
      ]
     },
     "execution_count": 33,
     "metadata": {},
     "output_type": "execute_result"
    }
   ],
   "source": [
    "total_data.pivot_table(index='tariff', values='monthly_revenue', aggfunc=['count', 'mean','median'])"
   ]
  },
  {
   "cell_type": "markdown",
   "metadata": {},
   "source": [
    "Полученное значение p-value говорит о том, что средняя выручка от разных тарифов не равна. Мы отвергаем нулевую гипотезу и подтверждаем альтернативную гипотезу.\n",
    "Чтобы её подтвердить, можно посмотреть среднее и медианное значения выручки в зависимости от тарифа. Как мы видим, они достаточно сильно различаются."
   ]
  },
  {
   "cell_type": "markdown",
   "metadata": {},
   "source": [
    "Нам необходимо проверить ещё одну гипотезу о том, что выручка пользователей из Москвы отличается от выручки пользователей из других регионов.\n",
    "Нулевая альтернативная гипотезы звучат так:\n",
    "- H₀ - средняя выручка пользователей из Москвы и из других регионов равна.\n",
    "- H₁ - средняя выручка пользователей из Москвы и из других регионов различается.\n",
    "\n",
    "H₀ всегда формулируется так, чтобы использовать знак равенства.\n",
    "Пороговое значение alpha равно 0.05."
   ]
  },
  {
   "cell_type": "code",
   "execution_count": 34,
   "metadata": {},
   "outputs": [
    {
     "name": "stdout",
     "output_type": "stream",
     "text": [
      "p-значение: 0.5126564657748214\n",
      "Не получилось отвергнуть нулевую гипотезу\n"
     ]
    }
   ],
   "source": [
    "ultra_users = total_data.query('city == \"Москва\"')['monthly_revenue']\n",
    "smart_users = total_data.query('city != \"Москва\"')['monthly_revenue']\n",
    "\n",
    "alpha = 0.05\n",
    "\n",
    "results = st.ttest_ind(\n",
    "    ultra_users, \n",
    "    smart_users, \n",
    "    equal_var=False)\n",
    "\n",
    "print('p-значение:', results.pvalue)\n",
    "\n",
    "if (results.pvalue < alpha):\n",
    "    print(\"Отвергаем нулевую гипотезу\")\n",
    "else:\n",
    "    print(\"Не получилось отвергнуть нулевую гипотезу\")"
   ]
  },
  {
   "cell_type": "code",
   "execution_count": 35,
   "metadata": {},
   "outputs": [],
   "source": [
    "cities = total_data.copy()\n",
    "cities.loc[cities.loc[:,'city'] != 'Москва', 'city'] = 'Другой город'"
   ]
  },
  {
   "cell_type": "code",
   "execution_count": 36,
   "metadata": {},
   "outputs": [
    {
     "data": {
      "text/html": [
       "<div>\n",
       "<style scoped>\n",
       "    .dataframe tbody tr th:only-of-type {\n",
       "        vertical-align: middle;\n",
       "    }\n",
       "\n",
       "    .dataframe tbody tr th {\n",
       "        vertical-align: top;\n",
       "    }\n",
       "\n",
       "    .dataframe thead tr th {\n",
       "        text-align: left;\n",
       "    }\n",
       "\n",
       "    .dataframe thead tr:last-of-type th {\n",
       "        text-align: right;\n",
       "    }\n",
       "</style>\n",
       "<table border=\"1\" class=\"dataframe\">\n",
       "  <thead>\n",
       "    <tr>\n",
       "      <th></th>\n",
       "      <th>count</th>\n",
       "      <th>mean</th>\n",
       "      <th>median</th>\n",
       "    </tr>\n",
       "    <tr>\n",
       "      <th></th>\n",
       "      <th>monthly_revenue</th>\n",
       "      <th>monthly_revenue</th>\n",
       "      <th>monthly_revenue</th>\n",
       "    </tr>\n",
       "    <tr>\n",
       "      <th>city</th>\n",
       "      <th></th>\n",
       "      <th></th>\n",
       "      <th></th>\n",
       "    </tr>\n",
       "  </thead>\n",
       "  <tbody>\n",
       "    <tr>\n",
       "      <td>Другой город</td>\n",
       "      <td>2603</td>\n",
       "      <td>1528.316942</td>\n",
       "      <td>1587</td>\n",
       "    </tr>\n",
       "    <tr>\n",
       "      <td>Москва</td>\n",
       "      <td>611</td>\n",
       "      <td>1550.805237</td>\n",
       "      <td>1750</td>\n",
       "    </tr>\n",
       "  </tbody>\n",
       "</table>\n",
       "</div>"
      ],
      "text/plain": [
       "                       count            mean          median\n",
       "             monthly_revenue monthly_revenue monthly_revenue\n",
       "city                                                        \n",
       "Другой город            2603     1528.316942            1587\n",
       "Москва                   611     1550.805237            1750"
      ]
     },
     "execution_count": 36,
     "metadata": {},
     "output_type": "execute_result"
    }
   ],
   "source": [
    "cities.pivot_table(index='city', values='monthly_revenue', aggfunc=['count', 'mean','median'])"
   ]
  },
  {
   "cell_type": "markdown",
   "metadata": {},
   "source": [
    "Полученное значение p-value говорит о том, что средняя выручка пользователей из Москвы равна средней выручке пользователей из других регионов. Мы не отвергаем нулевую гипотезу.\n",
    "Чтобы её подтвердить, можно посмотреть среднее и медианное значения выручки в зависимости от города. Как мы видим, они различаются не сильно."
   ]
  },
  {
   "cell_type": "markdown",
   "metadata": {},
   "source": [
    "### Вывод"
   ]
  },
  {
   "cell_type": "markdown",
   "metadata": {},
   "source": [
    "В результате проверки двух гипотез можно сделать следующие выводы:\n",
    "\n",
    "1) средняя выручка пользователей тарифов 'ultra' и 'smart' отличается, что подтверждается средним и медианным значениями.\n",
    "Была отвергнута нулевая гипотеза и подтверждена альтернативная.\n",
    "\n",
    "2) средняя выручка пользователей из Москвы равна средней выручке пользователей из других регионов, что подтверждается средним и медианным значениями. Была подтверждена нулевая гипотеза. \n",
    "\n",
    "Для оценки был использован уровень статистической значимости критерия Стьюдента для независимых выборок. В данном случае критерий задан значением 0.05."
   ]
  },
  {
   "cell_type": "markdown",
   "metadata": {},
   "source": [
    "## Общий вывод"
   ]
  },
  {
   "cell_type": "markdown",
   "metadata": {},
   "source": [
    "В ходе данного исследования были сделаны следующие шаги:\n",
    "\n",
    "1) предварительный анализ показал, что есть пропуски только в одном столбце 'churn_date'. В результате анализа их решено было не заполнять, т.к. наличие пропуска характеризует, что клиент ещё пользовался услугами оператора на момент выгрузки данных. Также были обнаружены нулевые значения в столбцах 'duration' и 'mb_used', которые свидетельствуют о пропущенных звонках и не тарифицируемых соединениях. \n",
    "\n",
    "2) на этапе предобработки данных были изменены типы данных в столбцах с датами, чтобы можно было выделить месяц. Значения в столбцах 'duration' и 'mb_used' были округлены вверх до целого числа (в соответствии с тарифами оператора) и поменяли тип данных на целочисленный. Далее были созданы групповые таблицы о совершенных действиях пользователей по месяцам.\n",
    "\n",
    "3) в ходе анализа данных были сделаны следующие выводы:\n",
    " - в среднем пользователь тарифа 'smart' тратит 438 минут в месяц, а тарифа 'ultra' - 558 минут;\n",
    " - в среднем пользователь тарифа 'smart' расходует 16.5 гб трафика, а тарифа 'ultra' - 20 гб;\n",
    " - в среднем пользователь тарифа 'smart' отправляет 34 сообщения, а тарифа 'ultra' - 57;\n",
    " - в среднем пользователи тарифа 'smart' укладываются в доступный лимит минут и сообщений, но им не хватает включённого интернет-трафика. Им приходится докупать 2 гб трафика, а это 400 руб. - достаточно много по сравнению с основной стоимостью тарифа (550 руб.);\n",
    " - в среднем пользователи тарифа 'ultra' больше разговаривают по телефону, больше отправляют сообщений и больше тратят интернет-трафика. При этом в среднем пользователи не превышают доступные им лимиты в рамках тарифа.\n",
    " \n",
    "4) Проводя статистический анализа мы проверили две гипотезы с уровнем значимости =0.05 :\n",
    " - средняя выручка пользователей тарифов 'ultra' и 'smart' отличается, что подтверждается средним и медианным значениями. Была отвергнута нулевая гипотеза и подтверждена альтернативная.\n",
    " - средняя выручка пользователей из Москвы равна средней выручке пользователей из других регионов, что подтверждается средним и медианным значениями. Была подтверждена нулевая гипотеза.\n",
    " - для оценки был использован уровень статистической значимости критерия Стьюдента для независимых выборок. \n",
    "\n",
    "Исходя из полученных данных, тариф 'ultra' выглядит для оператора лучше, т.к. средняя выручка выше более, чем в 1.5 раза. Но при этом количество пользователей более чем в 2 раза меньше, чем на тарифе 'smart'.\n",
    "Оставив только один тариф, есть вероятность, что многие пользователи перейдут к конкурентам, т.к. не готовы к более высоким расходам по сравнению с текущим. Нужно соблюдать баланс и оставить пользователям выбирать тариф."
   ]
  }
 ],
 "metadata": {
  "ExecuteTimeLog": [
   {
    "duration": 1563,
    "start_time": "2021-12-15T19:04:19.245Z"
   },
   {
    "duration": 538,
    "start_time": "2021-12-15T19:04:20.810Z"
   },
   {
    "duration": 22,
    "start_time": "2021-12-15T19:04:21.351Z"
   },
   {
    "duration": 10,
    "start_time": "2021-12-15T19:04:21.377Z"
   },
   {
    "duration": 29,
    "start_time": "2021-12-15T19:04:21.390Z"
   },
   {
    "duration": 27,
    "start_time": "2021-12-15T19:04:21.422Z"
   },
   {
    "duration": 16,
    "start_time": "2021-12-15T19:04:21.451Z"
   },
   {
    "duration": 50,
    "start_time": "2021-12-15T19:04:21.469Z"
   },
   {
    "duration": 19,
    "start_time": "2021-12-15T19:04:21.524Z"
   },
   {
    "duration": 25,
    "start_time": "2021-12-15T19:04:21.547Z"
   },
   {
    "duration": 54,
    "start_time": "2021-12-15T19:04:21.575Z"
   },
   {
    "duration": 124,
    "start_time": "2021-12-15T19:04:21.632Z"
   },
   {
    "duration": 7,
    "start_time": "2021-12-15T19:04:21.758Z"
   },
   {
    "duration": 91,
    "start_time": "2021-12-15T19:04:21.768Z"
   },
   {
    "duration": 63,
    "start_time": "2021-12-15T19:04:21.861Z"
   },
   {
    "duration": 32,
    "start_time": "2021-12-15T19:04:21.926Z"
   },
   {
    "duration": 65,
    "start_time": "2021-12-15T19:04:21.961Z"
   },
   {
    "duration": 42,
    "start_time": "2021-12-15T19:04:22.029Z"
   },
   {
    "duration": 10,
    "start_time": "2021-12-15T19:04:22.074Z"
   },
   {
    "duration": 5,
    "start_time": "2021-12-15T19:04:22.118Z"
   },
   {
    "duration": 13,
    "start_time": "2021-12-15T19:04:22.125Z"
   },
   {
    "duration": 3139,
    "start_time": "2021-12-15T19:04:22.141Z"
   },
   {
    "duration": 9,
    "start_time": "2021-12-15T19:04:25.282Z"
   },
   {
    "duration": 1024,
    "start_time": "2021-12-15T19:04:25.294Z"
   },
   {
    "duration": 7,
    "start_time": "2021-12-15T19:04:26.321Z"
   },
   {
    "duration": 384,
    "start_time": "2021-12-15T19:04:26.330Z"
   },
   {
    "duration": 52,
    "start_time": "2021-12-15T19:04:26.721Z"
   },
   {
    "duration": 1779,
    "start_time": "2021-12-15T19:04:26.777Z"
   },
   {
    "duration": 575,
    "start_time": "2021-12-15T19:04:28.558Z"
   },
   {
    "duration": 462,
    "start_time": "2021-12-15T19:04:29.137Z"
   },
   {
    "duration": 476,
    "start_time": "2021-12-15T19:04:29.602Z"
   },
   {
    "duration": 15,
    "start_time": "2021-12-15T19:04:30.080Z"
   },
   {
    "duration": 146,
    "start_time": "2021-12-15T19:04:30.097Z"
   },
   {
    "duration": 16,
    "start_time": "2021-12-15T19:04:30.245Z"
   },
   {
    "duration": 15,
    "start_time": "2021-12-15T19:04:30.264Z"
   },
   {
    "duration": 73,
    "start_time": "2021-12-15T19:04:30.282Z"
   }
  ],
  "kernelspec": {
   "display_name": "Python 3",
   "language": "python",
   "name": "python3"
  },
  "language_info": {
   "codemirror_mode": {
    "name": "ipython",
    "version": 3
   },
   "file_extension": ".py",
   "mimetype": "text/x-python",
   "name": "python",
   "nbconvert_exporter": "python",
   "pygments_lexer": "ipython3",
   "version": "3.7.8"
  },
  "toc": {
   "base_numbering": 1,
   "nav_menu": {},
   "number_sections": true,
   "sideBar": true,
   "skip_h1_title": true,
   "title_cell": "Table of Contents",
   "title_sidebar": "Contents",
   "toc_cell": false,
   "toc_position": {
    "height": "calc(100% - 180px)",
    "left": "10px",
    "top": "150px",
    "width": "199.387px"
   },
   "toc_section_display": true,
   "toc_window_display": true
  }
 },
 "nbformat": 4,
 "nbformat_minor": 2
}
