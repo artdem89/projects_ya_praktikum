{
 "cells": [
  {
   "cell_type": "markdown",
   "metadata": {},
   "source": [
    "# Анализ базы данных сервиса для чтения книг по подписке"
   ]
  },
  {
   "cell_type": "markdown",
   "metadata": {},
   "source": [
    "Вы работаете в компании, которая компания купила крупный сервис для чтения книг по подписке. Ваша первая задача как аналитика — проанализировать базу данных. В ней — информация о книгах, издательствах, авторах, а также пользовательские обзоры книг. Эти данные помогут сформулировать ценностное предложение для нового продукта.\n",
    "\n",
    "Цель проекта - проанализировать данные, чтобы помочь в дальнейшем сформулировать новое предложение для клиентов.\n",
    "\n",
    "Задачи:\n",
    "- выгрузить информацию из базы данных;\n",
    "- исследовать полученные таблицы;\n",
    "- проанализировать данные и ответить на поставленные вопросы."
   ]
  },
  {
   "cell_type": "markdown",
   "metadata": {},
   "source": [
    "## Изучение и предобработка данных"
   ]
  },
  {
   "cell_type": "code",
   "execution_count": 1,
   "metadata": {},
   "outputs": [],
   "source": [
    "# импортируем библиотеки\n",
    "import pandas as pd\n",
    "from sqlalchemy import create_engine"
   ]
  },
  {
   "cell_type": "code",
   "execution_count": 2,
   "metadata": {},
   "outputs": [],
   "source": [
    "# устанавливаем параметры\n",
    "db_config = {'user': 'praktikum_student', # имя пользователя\n",
    "             'pwd': 'Sdf4$2;d-d30pp', # пароль\n",
    "             'host': 'rc1b-wcoijxj3yxfsf3fs.mdb.yandexcloud.net',\n",
    "             'port': 6432, # порт подключения\n",
    "             'db': 'data-analyst-final-project-db'} # название базы данных\n",
    "connection_string = 'postgresql://{}:{}@{}:{}/{}'.format(db_config['user'],\n",
    "                                                         db_config['pwd'],\n",
    "                                                         db_config['host'],\n",
    "                                                         db_config['port'],\n",
    "                                                         db_config['db'])\n",
    "# сохраняем коннектор\n",
    "engine = create_engine(connection_string, connect_args={'sslmode':'require'}) "
   ]
  },
  {
   "cell_type": "code",
   "execution_count": 3,
   "metadata": {},
   "outputs": [],
   "source": [
    "# функция для чтения файлов\n",
    "def select_sql(query):\n",
    "    result = pd.io.sql.read_sql(query, con = engine)\n",
    "    return result"
   ]
  },
  {
   "cell_type": "markdown",
   "metadata": {},
   "source": [
    "Выгрузим таблицы из базы данных.\n",
    "\n",
    "Таблица books содержит данные о книгах:\n",
    "- book_id — идентификатор книги;\n",
    "- author_id — идентификатор автора;\n",
    "- title — название книги;\n",
    "- num_pages — количество страниц;\n",
    "- publication_date — дата публикации книги;\n",
    "- publisher_id — идентификатор издателя."
   ]
  },
  {
   "cell_type": "code",
   "execution_count": 4,
   "metadata": {},
   "outputs": [
    {
     "data": {
      "text/html": [
       "<div>\n",
       "<style scoped>\n",
       "    .dataframe tbody tr th:only-of-type {\n",
       "        vertical-align: middle;\n",
       "    }\n",
       "\n",
       "    .dataframe tbody tr th {\n",
       "        vertical-align: top;\n",
       "    }\n",
       "\n",
       "    .dataframe thead th {\n",
       "        text-align: right;\n",
       "    }\n",
       "</style>\n",
       "<table border=\"1\" class=\"dataframe\">\n",
       "  <thead>\n",
       "    <tr style=\"text-align: right;\">\n",
       "      <th></th>\n",
       "      <th>book_id</th>\n",
       "      <th>author_id</th>\n",
       "      <th>title</th>\n",
       "      <th>num_pages</th>\n",
       "      <th>publication_date</th>\n",
       "      <th>publisher_id</th>\n",
       "    </tr>\n",
       "  </thead>\n",
       "  <tbody>\n",
       "    <tr>\n",
       "      <td>0</td>\n",
       "      <td>1</td>\n",
       "      <td>546</td>\n",
       "      <td>'Salem's Lot</td>\n",
       "      <td>594</td>\n",
       "      <td>2005-11-01</td>\n",
       "      <td>93</td>\n",
       "    </tr>\n",
       "    <tr>\n",
       "      <td>1</td>\n",
       "      <td>2</td>\n",
       "      <td>465</td>\n",
       "      <td>1 000 Places to See Before You Die</td>\n",
       "      <td>992</td>\n",
       "      <td>2003-05-22</td>\n",
       "      <td>336</td>\n",
       "    </tr>\n",
       "    <tr>\n",
       "      <td>2</td>\n",
       "      <td>3</td>\n",
       "      <td>407</td>\n",
       "      <td>13 Little Blue Envelopes (Little Blue Envelope...</td>\n",
       "      <td>322</td>\n",
       "      <td>2010-12-21</td>\n",
       "      <td>135</td>\n",
       "    </tr>\n",
       "    <tr>\n",
       "      <td>3</td>\n",
       "      <td>4</td>\n",
       "      <td>82</td>\n",
       "      <td>1491: New Revelations of the Americas Before C...</td>\n",
       "      <td>541</td>\n",
       "      <td>2006-10-10</td>\n",
       "      <td>309</td>\n",
       "    </tr>\n",
       "    <tr>\n",
       "      <td>4</td>\n",
       "      <td>5</td>\n",
       "      <td>125</td>\n",
       "      <td>1776</td>\n",
       "      <td>386</td>\n",
       "      <td>2006-07-04</td>\n",
       "      <td>268</td>\n",
       "    </tr>\n",
       "  </tbody>\n",
       "</table>\n",
       "</div>"
      ],
      "text/plain": [
       "   book_id  author_id                                              title  \\\n",
       "0        1        546                                       'Salem's Lot   \n",
       "1        2        465                 1 000 Places to See Before You Die   \n",
       "2        3        407  13 Little Blue Envelopes (Little Blue Envelope...   \n",
       "3        4         82  1491: New Revelations of the Americas Before C...   \n",
       "4        5        125                                               1776   \n",
       "\n",
       "   num_pages publication_date  publisher_id  \n",
       "0        594       2005-11-01            93  \n",
       "1        992       2003-05-22           336  \n",
       "2        322       2010-12-21           135  \n",
       "3        541       2006-10-10           309  \n",
       "4        386       2006-07-04           268  "
      ]
     },
     "execution_count": 4,
     "metadata": {},
     "output_type": "execute_result"
    }
   ],
   "source": [
    "books = '''\n",
    "SELECT\n",
    "    *\n",
    "FROM \n",
    "    books\n",
    "'''\n",
    "select_sql(books).head()"
   ]
  },
  {
   "cell_type": "code",
   "execution_count": 5,
   "metadata": {},
   "outputs": [
    {
     "data": {
      "text/html": [
       "<div>\n",
       "<style scoped>\n",
       "    .dataframe tbody tr th:only-of-type {\n",
       "        vertical-align: middle;\n",
       "    }\n",
       "\n",
       "    .dataframe tbody tr th {\n",
       "        vertical-align: top;\n",
       "    }\n",
       "\n",
       "    .dataframe thead th {\n",
       "        text-align: right;\n",
       "    }\n",
       "</style>\n",
       "<table border=\"1\" class=\"dataframe\">\n",
       "  <thead>\n",
       "    <tr style=\"text-align: right;\">\n",
       "      <th></th>\n",
       "      <th>cnt</th>\n",
       "    </tr>\n",
       "  </thead>\n",
       "  <tbody>\n",
       "    <tr>\n",
       "      <td>0</td>\n",
       "      <td>1000</td>\n",
       "    </tr>\n",
       "  </tbody>\n",
       "</table>\n",
       "</div>"
      ],
      "text/plain": [
       "    cnt\n",
       "0  1000"
      ]
     },
     "execution_count": 5,
     "metadata": {},
     "output_type": "execute_result"
    }
   ],
   "source": [
    "books_cnt = '''\n",
    "SELECT\n",
    "    COUNT(*) AS cnt\n",
    "FROM \n",
    "    books\n",
    "'''\n",
    "select_sql(books_cnt)"
   ]
  },
  {
   "cell_type": "markdown",
   "metadata": {},
   "source": [
    "Таблица books состоит из 1000 строк и 6 столбцов."
   ]
  },
  {
   "cell_type": "markdown",
   "metadata": {},
   "source": [
    "Таблица authors cодержит данные об авторах:\n",
    "- author_id — идентификатор автора;\n",
    "- author — имя автора."
   ]
  },
  {
   "cell_type": "code",
   "execution_count": 6,
   "metadata": {},
   "outputs": [
    {
     "data": {
      "text/html": [
       "<div>\n",
       "<style scoped>\n",
       "    .dataframe tbody tr th:only-of-type {\n",
       "        vertical-align: middle;\n",
       "    }\n",
       "\n",
       "    .dataframe tbody tr th {\n",
       "        vertical-align: top;\n",
       "    }\n",
       "\n",
       "    .dataframe thead th {\n",
       "        text-align: right;\n",
       "    }\n",
       "</style>\n",
       "<table border=\"1\" class=\"dataframe\">\n",
       "  <thead>\n",
       "    <tr style=\"text-align: right;\">\n",
       "      <th></th>\n",
       "      <th>author_id</th>\n",
       "      <th>author</th>\n",
       "    </tr>\n",
       "  </thead>\n",
       "  <tbody>\n",
       "    <tr>\n",
       "      <td>0</td>\n",
       "      <td>1</td>\n",
       "      <td>A.S. Byatt</td>\n",
       "    </tr>\n",
       "    <tr>\n",
       "      <td>1</td>\n",
       "      <td>2</td>\n",
       "      <td>Aesop/Laura Harris/Laura Gibbs</td>\n",
       "    </tr>\n",
       "    <tr>\n",
       "      <td>2</td>\n",
       "      <td>3</td>\n",
       "      <td>Agatha Christie</td>\n",
       "    </tr>\n",
       "    <tr>\n",
       "      <td>3</td>\n",
       "      <td>4</td>\n",
       "      <td>Alan Brennert</td>\n",
       "    </tr>\n",
       "    <tr>\n",
       "      <td>4</td>\n",
       "      <td>5</td>\n",
       "      <td>Alan Moore/David   Lloyd</td>\n",
       "    </tr>\n",
       "  </tbody>\n",
       "</table>\n",
       "</div>"
      ],
      "text/plain": [
       "   author_id                          author\n",
       "0          1                      A.S. Byatt\n",
       "1          2  Aesop/Laura Harris/Laura Gibbs\n",
       "2          3                 Agatha Christie\n",
       "3          4                   Alan Brennert\n",
       "4          5        Alan Moore/David   Lloyd"
      ]
     },
     "execution_count": 6,
     "metadata": {},
     "output_type": "execute_result"
    }
   ],
   "source": [
    "authors = '''\n",
    "SELECT \n",
    "    *\n",
    "FROM \n",
    "    authors\n",
    "'''\n",
    "select_sql(authors).head()"
   ]
  },
  {
   "cell_type": "code",
   "execution_count": 7,
   "metadata": {},
   "outputs": [
    {
     "data": {
      "text/html": [
       "<div>\n",
       "<style scoped>\n",
       "    .dataframe tbody tr th:only-of-type {\n",
       "        vertical-align: middle;\n",
       "    }\n",
       "\n",
       "    .dataframe tbody tr th {\n",
       "        vertical-align: top;\n",
       "    }\n",
       "\n",
       "    .dataframe thead th {\n",
       "        text-align: right;\n",
       "    }\n",
       "</style>\n",
       "<table border=\"1\" class=\"dataframe\">\n",
       "  <thead>\n",
       "    <tr style=\"text-align: right;\">\n",
       "      <th></th>\n",
       "      <th>cnt</th>\n",
       "    </tr>\n",
       "  </thead>\n",
       "  <tbody>\n",
       "    <tr>\n",
       "      <td>0</td>\n",
       "      <td>636</td>\n",
       "    </tr>\n",
       "  </tbody>\n",
       "</table>\n",
       "</div>"
      ],
      "text/plain": [
       "   cnt\n",
       "0  636"
      ]
     },
     "execution_count": 7,
     "metadata": {},
     "output_type": "execute_result"
    }
   ],
   "source": [
    "authors_cnt = '''\n",
    "SELECT\n",
    "    COUNT(*) AS cnt\n",
    "FROM \n",
    "    authors\n",
    "'''\n",
    "select_sql(authors_cnt)"
   ]
  },
  {
   "cell_type": "markdown",
   "metadata": {},
   "source": [
    "Таблица authors состоит из 636 строк и 2 столбца."
   ]
  },
  {
   "cell_type": "markdown",
   "metadata": {},
   "source": [
    "Таблица publishers cодержит данные об издательствах:\n",
    "- publisher_id — идентификатор издательства;\n",
    "- publisher — название издательства."
   ]
  },
  {
   "cell_type": "code",
   "execution_count": 8,
   "metadata": {},
   "outputs": [
    {
     "data": {
      "text/html": [
       "<div>\n",
       "<style scoped>\n",
       "    .dataframe tbody tr th:only-of-type {\n",
       "        vertical-align: middle;\n",
       "    }\n",
       "\n",
       "    .dataframe tbody tr th {\n",
       "        vertical-align: top;\n",
       "    }\n",
       "\n",
       "    .dataframe thead th {\n",
       "        text-align: right;\n",
       "    }\n",
       "</style>\n",
       "<table border=\"1\" class=\"dataframe\">\n",
       "  <thead>\n",
       "    <tr style=\"text-align: right;\">\n",
       "      <th></th>\n",
       "      <th>publisher_id</th>\n",
       "      <th>publisher</th>\n",
       "    </tr>\n",
       "  </thead>\n",
       "  <tbody>\n",
       "    <tr>\n",
       "      <td>0</td>\n",
       "      <td>1</td>\n",
       "      <td>Ace</td>\n",
       "    </tr>\n",
       "    <tr>\n",
       "      <td>1</td>\n",
       "      <td>2</td>\n",
       "      <td>Ace Book</td>\n",
       "    </tr>\n",
       "    <tr>\n",
       "      <td>2</td>\n",
       "      <td>3</td>\n",
       "      <td>Ace Books</td>\n",
       "    </tr>\n",
       "    <tr>\n",
       "      <td>3</td>\n",
       "      <td>4</td>\n",
       "      <td>Ace Hardcover</td>\n",
       "    </tr>\n",
       "    <tr>\n",
       "      <td>4</td>\n",
       "      <td>5</td>\n",
       "      <td>Addison Wesley Publishing Company</td>\n",
       "    </tr>\n",
       "  </tbody>\n",
       "</table>\n",
       "</div>"
      ],
      "text/plain": [
       "   publisher_id                          publisher\n",
       "0             1                                Ace\n",
       "1             2                           Ace Book\n",
       "2             3                          Ace Books\n",
       "3             4                      Ace Hardcover\n",
       "4             5  Addison Wesley Publishing Company"
      ]
     },
     "execution_count": 8,
     "metadata": {},
     "output_type": "execute_result"
    }
   ],
   "source": [
    "publishers = '''\n",
    "SELECT \n",
    "    *\n",
    "FROM \n",
    "    publishers\n",
    "'''\n",
    "select_sql(publishers).head()"
   ]
  },
  {
   "cell_type": "code",
   "execution_count": 9,
   "metadata": {},
   "outputs": [
    {
     "data": {
      "text/html": [
       "<div>\n",
       "<style scoped>\n",
       "    .dataframe tbody tr th:only-of-type {\n",
       "        vertical-align: middle;\n",
       "    }\n",
       "\n",
       "    .dataframe tbody tr th {\n",
       "        vertical-align: top;\n",
       "    }\n",
       "\n",
       "    .dataframe thead th {\n",
       "        text-align: right;\n",
       "    }\n",
       "</style>\n",
       "<table border=\"1\" class=\"dataframe\">\n",
       "  <thead>\n",
       "    <tr style=\"text-align: right;\">\n",
       "      <th></th>\n",
       "      <th>cnt</th>\n",
       "    </tr>\n",
       "  </thead>\n",
       "  <tbody>\n",
       "    <tr>\n",
       "      <td>0</td>\n",
       "      <td>340</td>\n",
       "    </tr>\n",
       "  </tbody>\n",
       "</table>\n",
       "</div>"
      ],
      "text/plain": [
       "   cnt\n",
       "0  340"
      ]
     },
     "execution_count": 9,
     "metadata": {},
     "output_type": "execute_result"
    }
   ],
   "source": [
    "publishers_cnt = '''\n",
    "SELECT\n",
    "    COUNT(*) AS cnt\n",
    "FROM \n",
    "    publishers\n",
    "'''\n",
    "select_sql(publishers_cnt)"
   ]
  },
  {
   "cell_type": "markdown",
   "metadata": {},
   "source": [
    "Таблица publishers состоит из 340 строк и 2 столбца."
   ]
  },
  {
   "cell_type": "markdown",
   "metadata": {},
   "source": [
    "Таблица ratings cодержит данные о пользовательских оценках книг:\n",
    "- rating_id — идентификатор оценки;\n",
    "- book_id — идентификатор книги;\n",
    "- username — имя пользователя, оставившего оценку;\n",
    "- rating — оценка книги."
   ]
  },
  {
   "cell_type": "code",
   "execution_count": 10,
   "metadata": {},
   "outputs": [
    {
     "data": {
      "text/html": [
       "<div>\n",
       "<style scoped>\n",
       "    .dataframe tbody tr th:only-of-type {\n",
       "        vertical-align: middle;\n",
       "    }\n",
       "\n",
       "    .dataframe tbody tr th {\n",
       "        vertical-align: top;\n",
       "    }\n",
       "\n",
       "    .dataframe thead th {\n",
       "        text-align: right;\n",
       "    }\n",
       "</style>\n",
       "<table border=\"1\" class=\"dataframe\">\n",
       "  <thead>\n",
       "    <tr style=\"text-align: right;\">\n",
       "      <th></th>\n",
       "      <th>rating_id</th>\n",
       "      <th>book_id</th>\n",
       "      <th>username</th>\n",
       "      <th>rating</th>\n",
       "    </tr>\n",
       "  </thead>\n",
       "  <tbody>\n",
       "    <tr>\n",
       "      <td>0</td>\n",
       "      <td>1</td>\n",
       "      <td>1</td>\n",
       "      <td>ryanfranco</td>\n",
       "      <td>4</td>\n",
       "    </tr>\n",
       "    <tr>\n",
       "      <td>1</td>\n",
       "      <td>2</td>\n",
       "      <td>1</td>\n",
       "      <td>grantpatricia</td>\n",
       "      <td>2</td>\n",
       "    </tr>\n",
       "    <tr>\n",
       "      <td>2</td>\n",
       "      <td>3</td>\n",
       "      <td>1</td>\n",
       "      <td>brandtandrea</td>\n",
       "      <td>5</td>\n",
       "    </tr>\n",
       "    <tr>\n",
       "      <td>3</td>\n",
       "      <td>4</td>\n",
       "      <td>2</td>\n",
       "      <td>lorichen</td>\n",
       "      <td>3</td>\n",
       "    </tr>\n",
       "    <tr>\n",
       "      <td>4</td>\n",
       "      <td>5</td>\n",
       "      <td>2</td>\n",
       "      <td>mariokeller</td>\n",
       "      <td>2</td>\n",
       "    </tr>\n",
       "  </tbody>\n",
       "</table>\n",
       "</div>"
      ],
      "text/plain": [
       "   rating_id  book_id       username  rating\n",
       "0          1        1     ryanfranco       4\n",
       "1          2        1  grantpatricia       2\n",
       "2          3        1   brandtandrea       5\n",
       "3          4        2       lorichen       3\n",
       "4          5        2    mariokeller       2"
      ]
     },
     "execution_count": 10,
     "metadata": {},
     "output_type": "execute_result"
    }
   ],
   "source": [
    "ratings = '''\n",
    "SELECT \n",
    "    *\n",
    "FROM \n",
    "    ratings\n",
    "'''\n",
    "select_sql(ratings).head()"
   ]
  },
  {
   "cell_type": "code",
   "execution_count": 11,
   "metadata": {},
   "outputs": [
    {
     "data": {
      "text/html": [
       "<div>\n",
       "<style scoped>\n",
       "    .dataframe tbody tr th:only-of-type {\n",
       "        vertical-align: middle;\n",
       "    }\n",
       "\n",
       "    .dataframe tbody tr th {\n",
       "        vertical-align: top;\n",
       "    }\n",
       "\n",
       "    .dataframe thead th {\n",
       "        text-align: right;\n",
       "    }\n",
       "</style>\n",
       "<table border=\"1\" class=\"dataframe\">\n",
       "  <thead>\n",
       "    <tr style=\"text-align: right;\">\n",
       "      <th></th>\n",
       "      <th>cnt</th>\n",
       "    </tr>\n",
       "  </thead>\n",
       "  <tbody>\n",
       "    <tr>\n",
       "      <td>0</td>\n",
       "      <td>6456</td>\n",
       "    </tr>\n",
       "  </tbody>\n",
       "</table>\n",
       "</div>"
      ],
      "text/plain": [
       "    cnt\n",
       "0  6456"
      ]
     },
     "execution_count": 11,
     "metadata": {},
     "output_type": "execute_result"
    }
   ],
   "source": [
    "ratings_cnt = '''\n",
    "SELECT\n",
    "    COUNT(*) AS cnt\n",
    "FROM \n",
    "    ratings\n",
    "'''\n",
    "select_sql(ratings_cnt)"
   ]
  },
  {
   "cell_type": "markdown",
   "metadata": {},
   "source": [
    "Таблица ratings состоит из 6456 строк и 4 столбцов."
   ]
  },
  {
   "cell_type": "markdown",
   "metadata": {},
   "source": [
    "Таблица reviews cодержит данные о пользовательских обзорах:\n",
    "- review_id — идентификатор обзора;\n",
    "- book_id — идентификатор книги;\n",
    "- username — имя автора обзора;\n",
    "- rating — текст обзора."
   ]
  },
  {
   "cell_type": "code",
   "execution_count": 12,
   "metadata": {},
   "outputs": [
    {
     "data": {
      "text/html": [
       "<div>\n",
       "<style scoped>\n",
       "    .dataframe tbody tr th:only-of-type {\n",
       "        vertical-align: middle;\n",
       "    }\n",
       "\n",
       "    .dataframe tbody tr th {\n",
       "        vertical-align: top;\n",
       "    }\n",
       "\n",
       "    .dataframe thead th {\n",
       "        text-align: right;\n",
       "    }\n",
       "</style>\n",
       "<table border=\"1\" class=\"dataframe\">\n",
       "  <thead>\n",
       "    <tr style=\"text-align: right;\">\n",
       "      <th></th>\n",
       "      <th>review_id</th>\n",
       "      <th>book_id</th>\n",
       "      <th>username</th>\n",
       "      <th>text</th>\n",
       "    </tr>\n",
       "  </thead>\n",
       "  <tbody>\n",
       "    <tr>\n",
       "      <td>0</td>\n",
       "      <td>1</td>\n",
       "      <td>1</td>\n",
       "      <td>brandtandrea</td>\n",
       "      <td>Mention society tell send professor analysis. ...</td>\n",
       "    </tr>\n",
       "    <tr>\n",
       "      <td>1</td>\n",
       "      <td>2</td>\n",
       "      <td>1</td>\n",
       "      <td>ryanfranco</td>\n",
       "      <td>Foot glass pretty audience hit themselves. Amo...</td>\n",
       "    </tr>\n",
       "    <tr>\n",
       "      <td>2</td>\n",
       "      <td>3</td>\n",
       "      <td>2</td>\n",
       "      <td>lorichen</td>\n",
       "      <td>Listen treat keep worry. Miss husband tax but ...</td>\n",
       "    </tr>\n",
       "    <tr>\n",
       "      <td>3</td>\n",
       "      <td>4</td>\n",
       "      <td>3</td>\n",
       "      <td>johnsonamanda</td>\n",
       "      <td>Finally month interesting blue could nature cu...</td>\n",
       "    </tr>\n",
       "    <tr>\n",
       "      <td>4</td>\n",
       "      <td>5</td>\n",
       "      <td>3</td>\n",
       "      <td>scotttamara</td>\n",
       "      <td>Nation purpose heavy give wait song will. List...</td>\n",
       "    </tr>\n",
       "  </tbody>\n",
       "</table>\n",
       "</div>"
      ],
      "text/plain": [
       "   review_id  book_id       username  \\\n",
       "0          1        1   brandtandrea   \n",
       "1          2        1     ryanfranco   \n",
       "2          3        2       lorichen   \n",
       "3          4        3  johnsonamanda   \n",
       "4          5        3    scotttamara   \n",
       "\n",
       "                                                text  \n",
       "0  Mention society tell send professor analysis. ...  \n",
       "1  Foot glass pretty audience hit themselves. Amo...  \n",
       "2  Listen treat keep worry. Miss husband tax but ...  \n",
       "3  Finally month interesting blue could nature cu...  \n",
       "4  Nation purpose heavy give wait song will. List...  "
      ]
     },
     "execution_count": 12,
     "metadata": {},
     "output_type": "execute_result"
    }
   ],
   "source": [
    "reviews = '''\n",
    "SELECT \n",
    "    *\n",
    "FROM \n",
    "    reviews\n",
    "'''\n",
    "select_sql(reviews).head()"
   ]
  },
  {
   "cell_type": "code",
   "execution_count": 13,
   "metadata": {},
   "outputs": [
    {
     "data": {
      "text/html": [
       "<div>\n",
       "<style scoped>\n",
       "    .dataframe tbody tr th:only-of-type {\n",
       "        vertical-align: middle;\n",
       "    }\n",
       "\n",
       "    .dataframe tbody tr th {\n",
       "        vertical-align: top;\n",
       "    }\n",
       "\n",
       "    .dataframe thead th {\n",
       "        text-align: right;\n",
       "    }\n",
       "</style>\n",
       "<table border=\"1\" class=\"dataframe\">\n",
       "  <thead>\n",
       "    <tr style=\"text-align: right;\">\n",
       "      <th></th>\n",
       "      <th>cnt</th>\n",
       "    </tr>\n",
       "  </thead>\n",
       "  <tbody>\n",
       "    <tr>\n",
       "      <td>0</td>\n",
       "      <td>2793</td>\n",
       "    </tr>\n",
       "  </tbody>\n",
       "</table>\n",
       "</div>"
      ],
      "text/plain": [
       "    cnt\n",
       "0  2793"
      ]
     },
     "execution_count": 13,
     "metadata": {},
     "output_type": "execute_result"
    }
   ],
   "source": [
    "reviews_cnt = '''\n",
    "SELECT\n",
    "    COUNT(*) AS cnt\n",
    "FROM \n",
    "    reviews\n",
    "'''\n",
    "select_sql(reviews_cnt)"
   ]
  },
  {
   "cell_type": "markdown",
   "metadata": {},
   "source": [
    "Таблица reviews состоит из 2793 строк и 4 столбцов."
   ]
  },
  {
   "cell_type": "markdown",
   "metadata": {},
   "source": [
    "### Вывод"
   ]
  },
  {
   "cell_type": "markdown",
   "metadata": {},
   "source": [
    "На данном этапе:\n",
    "- мы выгрузили таблицы из базы данных;\n",
    "- исследовали полученные таблицы."
   ]
  },
  {
   "cell_type": "markdown",
   "metadata": {},
   "source": [
    "## Анализ данных"
   ]
  },
  {
   "cell_type": "markdown",
   "metadata": {},
   "source": [
    "Посчитаем количество книг, вышедших после 1 января 2000 года."
   ]
  },
  {
   "cell_type": "code",
   "execution_count": 14,
   "metadata": {},
   "outputs": [
    {
     "data": {
      "text/html": [
       "<div>\n",
       "<style scoped>\n",
       "    .dataframe tbody tr th:only-of-type {\n",
       "        vertical-align: middle;\n",
       "    }\n",
       "\n",
       "    .dataframe tbody tr th {\n",
       "        vertical-align: top;\n",
       "    }\n",
       "\n",
       "    .dataframe thead th {\n",
       "        text-align: right;\n",
       "    }\n",
       "</style>\n",
       "<table border=\"1\" class=\"dataframe\">\n",
       "  <thead>\n",
       "    <tr style=\"text-align: right;\">\n",
       "      <th></th>\n",
       "      <th>count</th>\n",
       "    </tr>\n",
       "  </thead>\n",
       "  <tbody>\n",
       "    <tr>\n",
       "      <td>0</td>\n",
       "      <td>821</td>\n",
       "    </tr>\n",
       "  </tbody>\n",
       "</table>\n",
       "</div>"
      ],
      "text/plain": [
       "   count\n",
       "0    821"
      ]
     },
     "execution_count": 14,
     "metadata": {},
     "output_type": "execute_result"
    }
   ],
   "source": [
    "books_qty = '''\n",
    "SELECT\n",
    "    COUNT(book_id)\n",
    "FROM \n",
    "    books\n",
    "WHERE \n",
    "    publication_date >= '2000-01-01'\n",
    "'''\n",
    "select_sql(books_qty)"
   ]
  },
  {
   "cell_type": "markdown",
   "metadata": {},
   "source": [
    "Начиная с 1 января 2000 года, вышло 821 книга."
   ]
  },
  {
   "cell_type": "markdown",
   "metadata": {},
   "source": [
    "Для каждой книги посчитаем количество обзоров и среднюю оценку."
   ]
  },
  {
   "cell_type": "code",
   "execution_count": 15,
   "metadata": {},
   "outputs": [
    {
     "data": {
      "text/html": [
       "<div>\n",
       "<style scoped>\n",
       "    .dataframe tbody tr th:only-of-type {\n",
       "        vertical-align: middle;\n",
       "    }\n",
       "\n",
       "    .dataframe tbody tr th {\n",
       "        vertical-align: top;\n",
       "    }\n",
       "\n",
       "    .dataframe thead th {\n",
       "        text-align: right;\n",
       "    }\n",
       "</style>\n",
       "<table border=\"1\" class=\"dataframe\">\n",
       "  <thead>\n",
       "    <tr style=\"text-align: right;\">\n",
       "      <th></th>\n",
       "      <th>book_id</th>\n",
       "      <th>title</th>\n",
       "      <th>cnt_reviews</th>\n",
       "      <th>avg_rating</th>\n",
       "    </tr>\n",
       "  </thead>\n",
       "  <tbody>\n",
       "    <tr>\n",
       "      <td>0</td>\n",
       "      <td>948</td>\n",
       "      <td>Twilight (Twilight  #1)</td>\n",
       "      <td>7</td>\n",
       "      <td>3.662500</td>\n",
       "    </tr>\n",
       "    <tr>\n",
       "      <td>1</td>\n",
       "      <td>963</td>\n",
       "      <td>Water for Elephants</td>\n",
       "      <td>6</td>\n",
       "      <td>3.977273</td>\n",
       "    </tr>\n",
       "    <tr>\n",
       "      <td>2</td>\n",
       "      <td>734</td>\n",
       "      <td>The Glass Castle</td>\n",
       "      <td>6</td>\n",
       "      <td>4.206897</td>\n",
       "    </tr>\n",
       "    <tr>\n",
       "      <td>3</td>\n",
       "      <td>302</td>\n",
       "      <td>Harry Potter and the Prisoner of Azkaban (Harr...</td>\n",
       "      <td>6</td>\n",
       "      <td>4.414634</td>\n",
       "    </tr>\n",
       "    <tr>\n",
       "      <td>4</td>\n",
       "      <td>695</td>\n",
       "      <td>The Curious Incident of the Dog in the Night-Time</td>\n",
       "      <td>6</td>\n",
       "      <td>4.081081</td>\n",
       "    </tr>\n",
       "    <tr>\n",
       "      <td>...</td>\n",
       "      <td>...</td>\n",
       "      <td>...</td>\n",
       "      <td>...</td>\n",
       "      <td>...</td>\n",
       "    </tr>\n",
       "    <tr>\n",
       "      <td>995</td>\n",
       "      <td>83</td>\n",
       "      <td>Anne Rice's The Vampire Lestat: A Graphic Novel</td>\n",
       "      <td>0</td>\n",
       "      <td>3.666667</td>\n",
       "    </tr>\n",
       "    <tr>\n",
       "      <td>996</td>\n",
       "      <td>808</td>\n",
       "      <td>The Natural Way to Draw</td>\n",
       "      <td>0</td>\n",
       "      <td>3.000000</td>\n",
       "    </tr>\n",
       "    <tr>\n",
       "      <td>997</td>\n",
       "      <td>672</td>\n",
       "      <td>The Cat in the Hat and Other Dr. Seuss Favorites</td>\n",
       "      <td>0</td>\n",
       "      <td>5.000000</td>\n",
       "    </tr>\n",
       "    <tr>\n",
       "      <td>998</td>\n",
       "      <td>221</td>\n",
       "      <td>Essential Tales and Poems</td>\n",
       "      <td>0</td>\n",
       "      <td>4.000000</td>\n",
       "    </tr>\n",
       "    <tr>\n",
       "      <td>999</td>\n",
       "      <td>191</td>\n",
       "      <td>Disney's Beauty and the Beast (A Little Golden...</td>\n",
       "      <td>0</td>\n",
       "      <td>4.000000</td>\n",
       "    </tr>\n",
       "  </tbody>\n",
       "</table>\n",
       "<p>1000 rows × 4 columns</p>\n",
       "</div>"
      ],
      "text/plain": [
       "     book_id                                              title  cnt_reviews  \\\n",
       "0        948                            Twilight (Twilight  #1)            7   \n",
       "1        963                                Water for Elephants            6   \n",
       "2        734                                   The Glass Castle            6   \n",
       "3        302  Harry Potter and the Prisoner of Azkaban (Harr...            6   \n",
       "4        695  The Curious Incident of the Dog in the Night-Time            6   \n",
       "..       ...                                                ...          ...   \n",
       "995       83    Anne Rice's The Vampire Lestat: A Graphic Novel            0   \n",
       "996      808                            The Natural Way to Draw            0   \n",
       "997      672   The Cat in the Hat and Other Dr. Seuss Favorites            0   \n",
       "998      221                          Essential Tales and Poems            0   \n",
       "999      191  Disney's Beauty and the Beast (A Little Golden...            0   \n",
       "\n",
       "     avg_rating  \n",
       "0      3.662500  \n",
       "1      3.977273  \n",
       "2      4.206897  \n",
       "3      4.414634  \n",
       "4      4.081081  \n",
       "..          ...  \n",
       "995    3.666667  \n",
       "996    3.000000  \n",
       "997    5.000000  \n",
       "998    4.000000  \n",
       "999    4.000000  \n",
       "\n",
       "[1000 rows x 4 columns]"
      ]
     },
     "execution_count": 15,
     "metadata": {},
     "output_type": "execute_result"
    }
   ],
   "source": [
    "reviews_qty_and_ratings = '''\n",
    "SELECT\n",
    "    books.book_id AS book_id,\n",
    "    books.title AS title,\n",
    "    COUNT(DISTINCT reviews.text) AS cnt_reviews,\n",
    "    AVG(ratings.rating) AS avg_rating\n",
    "FROM\n",
    "    books\n",
    "LEFT JOIN ratings ON ratings.book_id = books.book_id\n",
    "LEFT JOIN reviews ON reviews.book_id = books.book_id\n",
    "GROUP BY\n",
    "     books.title,\n",
    "     books.book_id\n",
    "ORDER BY\n",
    "     cnt_reviews DESC\n",
    "'''\n",
    "select_sql(reviews_qty_and_ratings)"
   ]
  },
  {
   "cell_type": "markdown",
   "metadata": {},
   "source": [
    "Для каждой книги посчитаем количество обзоров и среднюю оценку.\n",
    "На первом месте по количеству обзоров книга \"Twilight (Twilight #1)\", но при этом рейтинг у неё достаточно низкий - 3.66.\n",
    "Несколько книг без обзоров, но с рейтингом."
   ]
  },
  {
   "cell_type": "code",
   "execution_count": 16,
   "metadata": {},
   "outputs": [
    {
     "data": {
      "text/html": [
       "<div>\n",
       "<style scoped>\n",
       "    .dataframe tbody tr th:only-of-type {\n",
       "        vertical-align: middle;\n",
       "    }\n",
       "\n",
       "    .dataframe tbody tr th {\n",
       "        vertical-align: top;\n",
       "    }\n",
       "\n",
       "    .dataframe thead th {\n",
       "        text-align: right;\n",
       "    }\n",
       "</style>\n",
       "<table border=\"1\" class=\"dataframe\">\n",
       "  <thead>\n",
       "    <tr style=\"text-align: right;\">\n",
       "      <th></th>\n",
       "      <th>rating_id</th>\n",
       "      <th>book_id</th>\n",
       "      <th>username</th>\n",
       "      <th>rating</th>\n",
       "    </tr>\n",
       "  </thead>\n",
       "  <tbody>\n",
       "    <tr>\n",
       "      <td>0</td>\n",
       "      <td>1</td>\n",
       "      <td>1</td>\n",
       "      <td>ryanfranco</td>\n",
       "      <td>4</td>\n",
       "    </tr>\n",
       "    <tr>\n",
       "      <td>1</td>\n",
       "      <td>2</td>\n",
       "      <td>1</td>\n",
       "      <td>grantpatricia</td>\n",
       "      <td>2</td>\n",
       "    </tr>\n",
       "    <tr>\n",
       "      <td>2</td>\n",
       "      <td>3</td>\n",
       "      <td>1</td>\n",
       "      <td>brandtandrea</td>\n",
       "      <td>5</td>\n",
       "    </tr>\n",
       "    <tr>\n",
       "      <td>3</td>\n",
       "      <td>4</td>\n",
       "      <td>2</td>\n",
       "      <td>lorichen</td>\n",
       "      <td>3</td>\n",
       "    </tr>\n",
       "    <tr>\n",
       "      <td>4</td>\n",
       "      <td>5</td>\n",
       "      <td>2</td>\n",
       "      <td>mariokeller</td>\n",
       "      <td>2</td>\n",
       "    </tr>\n",
       "  </tbody>\n",
       "</table>\n",
       "</div>"
      ],
      "text/plain": [
       "   rating_id  book_id       username  rating\n",
       "0          1        1     ryanfranco       4\n",
       "1          2        1  grantpatricia       2\n",
       "2          3        1   brandtandrea       5\n",
       "3          4        2       lorichen       3\n",
       "4          5        2    mariokeller       2"
      ]
     },
     "execution_count": 16,
     "metadata": {},
     "output_type": "execute_result"
    }
   ],
   "source": [
    "select_sql(ratings).head()"
   ]
  },
  {
   "cell_type": "code",
   "execution_count": 17,
   "metadata": {},
   "outputs": [
    {
     "data": {
      "text/html": [
       "<div>\n",
       "<style scoped>\n",
       "    .dataframe tbody tr th:only-of-type {\n",
       "        vertical-align: middle;\n",
       "    }\n",
       "\n",
       "    .dataframe tbody tr th {\n",
       "        vertical-align: top;\n",
       "    }\n",
       "\n",
       "    .dataframe thead th {\n",
       "        text-align: right;\n",
       "    }\n",
       "</style>\n",
       "<table border=\"1\" class=\"dataframe\">\n",
       "  <thead>\n",
       "    <tr style=\"text-align: right;\">\n",
       "      <th></th>\n",
       "      <th>review_id</th>\n",
       "      <th>book_id</th>\n",
       "      <th>username</th>\n",
       "      <th>text</th>\n",
       "    </tr>\n",
       "  </thead>\n",
       "  <tbody>\n",
       "    <tr>\n",
       "      <td>0</td>\n",
       "      <td>1</td>\n",
       "      <td>1</td>\n",
       "      <td>brandtandrea</td>\n",
       "      <td>Mention society tell send professor analysis. ...</td>\n",
       "    </tr>\n",
       "    <tr>\n",
       "      <td>1</td>\n",
       "      <td>2</td>\n",
       "      <td>1</td>\n",
       "      <td>ryanfranco</td>\n",
       "      <td>Foot glass pretty audience hit themselves. Amo...</td>\n",
       "    </tr>\n",
       "    <tr>\n",
       "      <td>2</td>\n",
       "      <td>3</td>\n",
       "      <td>2</td>\n",
       "      <td>lorichen</td>\n",
       "      <td>Listen treat keep worry. Miss husband tax but ...</td>\n",
       "    </tr>\n",
       "    <tr>\n",
       "      <td>3</td>\n",
       "      <td>4</td>\n",
       "      <td>3</td>\n",
       "      <td>johnsonamanda</td>\n",
       "      <td>Finally month interesting blue could nature cu...</td>\n",
       "    </tr>\n",
       "    <tr>\n",
       "      <td>4</td>\n",
       "      <td>5</td>\n",
       "      <td>3</td>\n",
       "      <td>scotttamara</td>\n",
       "      <td>Nation purpose heavy give wait song will. List...</td>\n",
       "    </tr>\n",
       "  </tbody>\n",
       "</table>\n",
       "</div>"
      ],
      "text/plain": [
       "   review_id  book_id       username  \\\n",
       "0          1        1   brandtandrea   \n",
       "1          2        1     ryanfranco   \n",
       "2          3        2       lorichen   \n",
       "3          4        3  johnsonamanda   \n",
       "4          5        3    scotttamara   \n",
       "\n",
       "                                                text  \n",
       "0  Mention society tell send professor analysis. ...  \n",
       "1  Foot glass pretty audience hit themselves. Amo...  \n",
       "2  Listen treat keep worry. Miss husband tax but ...  \n",
       "3  Finally month interesting blue could nature cu...  \n",
       "4  Nation purpose heavy give wait song will. List...  "
      ]
     },
     "execution_count": 17,
     "metadata": {},
     "output_type": "execute_result"
    }
   ],
   "source": [
    "select_sql(reviews).head()"
   ]
  },
  {
   "cell_type": "code",
   "execution_count": 18,
   "metadata": {},
   "outputs": [
    {
     "data": {
      "text/html": [
       "<div>\n",
       "<style scoped>\n",
       "    .dataframe tbody tr th:only-of-type {\n",
       "        vertical-align: middle;\n",
       "    }\n",
       "\n",
       "    .dataframe tbody tr th {\n",
       "        vertical-align: top;\n",
       "    }\n",
       "\n",
       "    .dataframe thead th {\n",
       "        text-align: right;\n",
       "    }\n",
       "</style>\n",
       "<table border=\"1\" class=\"dataframe\">\n",
       "  <thead>\n",
       "    <tr style=\"text-align: right;\">\n",
       "      <th></th>\n",
       "      <th>publisher_id</th>\n",
       "      <th>publisher</th>\n",
       "    </tr>\n",
       "  </thead>\n",
       "  <tbody>\n",
       "    <tr>\n",
       "      <td>0</td>\n",
       "      <td>1</td>\n",
       "      <td>Ace</td>\n",
       "    </tr>\n",
       "    <tr>\n",
       "      <td>1</td>\n",
       "      <td>2</td>\n",
       "      <td>Ace Book</td>\n",
       "    </tr>\n",
       "    <tr>\n",
       "      <td>2</td>\n",
       "      <td>3</td>\n",
       "      <td>Ace Books</td>\n",
       "    </tr>\n",
       "    <tr>\n",
       "      <td>3</td>\n",
       "      <td>4</td>\n",
       "      <td>Ace Hardcover</td>\n",
       "    </tr>\n",
       "    <tr>\n",
       "      <td>4</td>\n",
       "      <td>5</td>\n",
       "      <td>Addison Wesley Publishing Company</td>\n",
       "    </tr>\n",
       "  </tbody>\n",
       "</table>\n",
       "</div>"
      ],
      "text/plain": [
       "   publisher_id                          publisher\n",
       "0             1                                Ace\n",
       "1             2                           Ace Book\n",
       "2             3                          Ace Books\n",
       "3             4                      Ace Hardcover\n",
       "4             5  Addison Wesley Publishing Company"
      ]
     },
     "execution_count": 18,
     "metadata": {},
     "output_type": "execute_result"
    }
   ],
   "source": [
    "select_sql(publishers).head()"
   ]
  },
  {
   "cell_type": "markdown",
   "metadata": {},
   "source": [
    "Определим издательство, которое выпустило наибольшее число книг толще 50 страниц."
   ]
  },
  {
   "cell_type": "code",
   "execution_count": 19,
   "metadata": {},
   "outputs": [
    {
     "data": {
      "text/html": [
       "<div>\n",
       "<style scoped>\n",
       "    .dataframe tbody tr th:only-of-type {\n",
       "        vertical-align: middle;\n",
       "    }\n",
       "\n",
       "    .dataframe tbody tr th {\n",
       "        vertical-align: top;\n",
       "    }\n",
       "\n",
       "    .dataframe thead th {\n",
       "        text-align: right;\n",
       "    }\n",
       "</style>\n",
       "<table border=\"1\" class=\"dataframe\">\n",
       "  <thead>\n",
       "    <tr style=\"text-align: right;\">\n",
       "      <th></th>\n",
       "      <th>publisher_id</th>\n",
       "      <th>publisher</th>\n",
       "      <th>cnt_books</th>\n",
       "    </tr>\n",
       "  </thead>\n",
       "  <tbody>\n",
       "    <tr>\n",
       "      <td>0</td>\n",
       "      <td>212</td>\n",
       "      <td>Penguin Books</td>\n",
       "      <td>42</td>\n",
       "    </tr>\n",
       "    <tr>\n",
       "      <td>1</td>\n",
       "      <td>309</td>\n",
       "      <td>Vintage</td>\n",
       "      <td>31</td>\n",
       "    </tr>\n",
       "    <tr>\n",
       "      <td>2</td>\n",
       "      <td>116</td>\n",
       "      <td>Grand Central Publishing</td>\n",
       "      <td>25</td>\n",
       "    </tr>\n",
       "    <tr>\n",
       "      <td>3</td>\n",
       "      <td>217</td>\n",
       "      <td>Penguin Classics</td>\n",
       "      <td>24</td>\n",
       "    </tr>\n",
       "    <tr>\n",
       "      <td>4</td>\n",
       "      <td>35</td>\n",
       "      <td>Bantam</td>\n",
       "      <td>19</td>\n",
       "    </tr>\n",
       "    <tr>\n",
       "      <td>...</td>\n",
       "      <td>...</td>\n",
       "      <td>...</td>\n",
       "      <td>...</td>\n",
       "    </tr>\n",
       "    <tr>\n",
       "      <td>329</td>\n",
       "      <td>238</td>\n",
       "      <td>Random House Anchor</td>\n",
       "      <td>1</td>\n",
       "    </tr>\n",
       "    <tr>\n",
       "      <td>330</td>\n",
       "      <td>239</td>\n",
       "      <td>Random House Audio Publishing Group</td>\n",
       "      <td>1</td>\n",
       "    </tr>\n",
       "    <tr>\n",
       "      <td>331</td>\n",
       "      <td>241</td>\n",
       "      <td>Random House Large Print Publishing</td>\n",
       "      <td>1</td>\n",
       "    </tr>\n",
       "    <tr>\n",
       "      <td>332</td>\n",
       "      <td>242</td>\n",
       "      <td>Random House Trade</td>\n",
       "      <td>1</td>\n",
       "    </tr>\n",
       "    <tr>\n",
       "      <td>333</td>\n",
       "      <td>244</td>\n",
       "      <td>Random House Vintage</td>\n",
       "      <td>1</td>\n",
       "    </tr>\n",
       "  </tbody>\n",
       "</table>\n",
       "<p>334 rows × 3 columns</p>\n",
       "</div>"
      ],
      "text/plain": [
       "     publisher_id                            publisher  cnt_books\n",
       "0             212                        Penguin Books         42\n",
       "1             309                              Vintage         31\n",
       "2             116             Grand Central Publishing         25\n",
       "3             217                     Penguin Classics         24\n",
       "4              35                               Bantam         19\n",
       "..            ...                                  ...        ...\n",
       "329           238                  Random House Anchor          1\n",
       "330           239  Random House Audio Publishing Group          1\n",
       "331           241  Random House Large Print Publishing          1\n",
       "332           242                   Random House Trade          1\n",
       "333           244                 Random House Vintage          1\n",
       "\n",
       "[334 rows x 3 columns]"
      ]
     },
     "execution_count": 19,
     "metadata": {},
     "output_type": "execute_result"
    }
   ],
   "source": [
    "books_qty_per_publisher = '''\n",
    "SELECT\n",
    "    publishers.publisher_id AS publisher_id,\n",
    "    publishers.publisher AS publisher,\n",
    "    COUNT(DISTINCT books.book_id) AS cnt_books\n",
    "FROM\n",
    "    publishers\n",
    "INNER JOIN books ON books.publisher_id = publishers.publisher_id\n",
    "WHERE\n",
    "    books.num_pages > 50\n",
    "GROUP BY\n",
    "     publishers.publisher_id\n",
    "ORDER BY\n",
    "     cnt_books DESC\n",
    "'''\n",
    "select_sql(books_qty_per_publisher)"
   ]
  },
  {
   "cell_type": "markdown",
   "metadata": {},
   "source": [
    "Издательство \"Penguin Books\" выпустило больше всего книг - 42."
   ]
  },
  {
   "cell_type": "markdown",
   "metadata": {},
   "source": [
    "Определим автора с самой высокой средней оценкой книг, количество оценок 50 и более."
   ]
  },
  {
   "cell_type": "code",
   "execution_count": 20,
   "metadata": {},
   "outputs": [
    {
     "data": {
      "text/html": [
       "<div>\n",
       "<style scoped>\n",
       "    .dataframe tbody tr th:only-of-type {\n",
       "        vertical-align: middle;\n",
       "    }\n",
       "\n",
       "    .dataframe tbody tr th {\n",
       "        vertical-align: top;\n",
       "    }\n",
       "\n",
       "    .dataframe thead th {\n",
       "        text-align: right;\n",
       "    }\n",
       "</style>\n",
       "<table border=\"1\" class=\"dataframe\">\n",
       "  <thead>\n",
       "    <tr style=\"text-align: right;\">\n",
       "      <th></th>\n",
       "      <th>author_id</th>\n",
       "      <th>author</th>\n",
       "      <th>avg_rating</th>\n",
       "    </tr>\n",
       "  </thead>\n",
       "  <tbody>\n",
       "    <tr>\n",
       "      <td>0</td>\n",
       "      <td>236</td>\n",
       "      <td>J.K. Rowling/Mary GrandPré</td>\n",
       "      <td>4.283844</td>\n",
       "    </tr>\n",
       "    <tr>\n",
       "      <td>1</td>\n",
       "      <td>402</td>\n",
       "      <td>Markus Zusak/Cao Xuân Việt Khương</td>\n",
       "      <td>4.264151</td>\n",
       "    </tr>\n",
       "    <tr>\n",
       "      <td>2</td>\n",
       "      <td>240</td>\n",
       "      <td>J.R.R. Tolkien</td>\n",
       "      <td>4.258446</td>\n",
       "    </tr>\n",
       "    <tr>\n",
       "      <td>3</td>\n",
       "      <td>376</td>\n",
       "      <td>Louisa May Alcott</td>\n",
       "      <td>4.192308</td>\n",
       "    </tr>\n",
       "    <tr>\n",
       "      <td>4</td>\n",
       "      <td>498</td>\n",
       "      <td>Rick Riordan</td>\n",
       "      <td>4.080645</td>\n",
       "    </tr>\n",
       "    <tr>\n",
       "      <td>5</td>\n",
       "      <td>621</td>\n",
       "      <td>William Golding</td>\n",
       "      <td>3.901408</td>\n",
       "    </tr>\n",
       "    <tr>\n",
       "      <td>6</td>\n",
       "      <td>235</td>\n",
       "      <td>J.D. Salinger</td>\n",
       "      <td>3.825581</td>\n",
       "    </tr>\n",
       "    <tr>\n",
       "      <td>7</td>\n",
       "      <td>469</td>\n",
       "      <td>Paulo Coelho/Alan R. Clarke/Özdemir İnce</td>\n",
       "      <td>3.789474</td>\n",
       "    </tr>\n",
       "    <tr>\n",
       "      <td>8</td>\n",
       "      <td>630</td>\n",
       "      <td>William Shakespeare/Paul Werstine/Barbara A. M...</td>\n",
       "      <td>3.787879</td>\n",
       "    </tr>\n",
       "    <tr>\n",
       "      <td>9</td>\n",
       "      <td>106</td>\n",
       "      <td>Dan Brown</td>\n",
       "      <td>3.754540</td>\n",
       "    </tr>\n",
       "    <tr>\n",
       "      <td>10</td>\n",
       "      <td>372</td>\n",
       "      <td>Lois Lowry</td>\n",
       "      <td>3.750000</td>\n",
       "    </tr>\n",
       "    <tr>\n",
       "      <td>11</td>\n",
       "      <td>195</td>\n",
       "      <td>George Orwell/Boris Grabnar/Peter Škerl</td>\n",
       "      <td>3.729730</td>\n",
       "    </tr>\n",
       "    <tr>\n",
       "      <td>12</td>\n",
       "      <td>554</td>\n",
       "      <td>Stephenie Meyer</td>\n",
       "      <td>3.662500</td>\n",
       "    </tr>\n",
       "    <tr>\n",
       "      <td>13</td>\n",
       "      <td>311</td>\n",
       "      <td>John Steinbeck</td>\n",
       "      <td>3.622951</td>\n",
       "    </tr>\n",
       "  </tbody>\n",
       "</table>\n",
       "</div>"
      ],
      "text/plain": [
       "    author_id                                             author  avg_rating\n",
       "0         236                         J.K. Rowling/Mary GrandPré    4.283844\n",
       "1         402                  Markus Zusak/Cao Xuân Việt Khương    4.264151\n",
       "2         240                                     J.R.R. Tolkien    4.258446\n",
       "3         376                                  Louisa May Alcott    4.192308\n",
       "4         498                                       Rick Riordan    4.080645\n",
       "5         621                                    William Golding    3.901408\n",
       "6         235                                      J.D. Salinger    3.825581\n",
       "7         469           Paulo Coelho/Alan R. Clarke/Özdemir İnce    3.789474\n",
       "8         630  William Shakespeare/Paul Werstine/Barbara A. M...    3.787879\n",
       "9         106                                          Dan Brown    3.754540\n",
       "10        372                                         Lois Lowry    3.750000\n",
       "11        195            George Orwell/Boris Grabnar/Peter Škerl    3.729730\n",
       "12        554                                    Stephenie Meyer    3.662500\n",
       "13        311                                     John Steinbeck    3.622951"
      ]
     },
     "execution_count": 20,
     "metadata": {},
     "output_type": "execute_result"
    }
   ],
   "source": [
    "authors_and_avg_ratings = '''\n",
    "SELECT\n",
    "    SUBQ.author_id AS author_id,\n",
    "    SUBQ.author AS author,\n",
    "    AVG(SUBQ.avg_rating) AS avg_rating\n",
    "FROM\n",
    "    (SELECT\n",
    "        authors.author_id AS author_id,\n",
    "        authors.author AS author,\n",
    "        books.book_id AS book_id,\n",
    "        books.title AS title,\n",
    "        AVG(ratings.rating) AS avg_rating,\n",
    "        COUNT(ratings.rating) AS cnt_rating\n",
    "    FROM\n",
    "        authors\n",
    "    INNER JOIN books ON books.author_id = authors.author_id\n",
    "    INNER JOIN ratings ON ratings.book_id = books.book_id\n",
    "    GROUP BY\n",
    "        authors.author_id,\n",
    "        books.book_id\n",
    "    HAVING\n",
    "        COUNT(ratings.rating) >= 50) AS SUBQ\n",
    "GROUP BY\n",
    "    author_id,\n",
    "    author\n",
    "ORDER BY\n",
    "     avg_rating DESC\n",
    "'''\n",
    "select_sql(authors_and_avg_ratings)"
   ]
  },
  {
   "cell_type": "markdown",
   "metadata": {},
   "source": [
    "J.K. Rowling/Mary GrandPré - авторы с самой высокой средней оценкой книг и количеством оценок 50 и более. Средняя оценка книг этих авторов - 4.28 баллов."
   ]
  },
  {
   "cell_type": "markdown",
   "metadata": {},
   "source": [
    "Посчитаем среднее количество обзоров от пользователей, которые поставили больше 50 оценок."
   ]
  },
  {
   "cell_type": "code",
   "execution_count": 21,
   "metadata": {},
   "outputs": [
    {
     "data": {
      "text/html": [
       "<div>\n",
       "<style scoped>\n",
       "    .dataframe tbody tr th:only-of-type {\n",
       "        vertical-align: middle;\n",
       "    }\n",
       "\n",
       "    .dataframe tbody tr th {\n",
       "        vertical-align: top;\n",
       "    }\n",
       "\n",
       "    .dataframe thead th {\n",
       "        text-align: right;\n",
       "    }\n",
       "</style>\n",
       "<table border=\"1\" class=\"dataframe\">\n",
       "  <thead>\n",
       "    <tr style=\"text-align: right;\">\n",
       "      <th></th>\n",
       "      <th>avg_reviews</th>\n",
       "    </tr>\n",
       "  </thead>\n",
       "  <tbody>\n",
       "    <tr>\n",
       "      <td>0</td>\n",
       "      <td>24.333333</td>\n",
       "    </tr>\n",
       "  </tbody>\n",
       "</table>\n",
       "</div>"
      ],
      "text/plain": [
       "   avg_reviews\n",
       "0    24.333333"
      ]
     },
     "execution_count": 21,
     "metadata": {},
     "output_type": "execute_result"
    }
   ],
   "source": [
    "avg_reviews = '''\n",
    "SELECT\n",
    "    AVG(SUBQ.cnt_reviews) AS avg_reviews\n",
    "FROM\n",
    "    (SELECT\n",
    "        reviews.username AS username,\n",
    "        COUNT(reviews.review_id) AS cnt_reviews\n",
    "    FROM\n",
    "        reviews\n",
    "    WHERE\n",
    "        username IN\n",
    "            (SELECT\n",
    "                ratings.username AS username\n",
    "            FROM\n",
    "                ratings\n",
    "            GROUP BY\n",
    "                username\n",
    "            HAVING\n",
    "                COUNT(ratings.rating_id) > 50)\n",
    "    GROUP BY\n",
    "        username) AS SUBQ  \n",
    "'''\n",
    "select_sql(avg_reviews)"
   ]
  },
  {
   "cell_type": "markdown",
   "metadata": {},
   "source": [
    "Cреднее количество обзоров от пользователей, которые поставили больше 50 оценок, составило 24 обзора."
   ]
  },
  {
   "cell_type": "markdown",
   "metadata": {},
   "source": [
    "### Вывод"
   ]
  },
  {
   "cell_type": "markdown",
   "metadata": {},
   "source": [
    "На данном этапе:\n",
    "- мы проанализировали полученные таблицы;\n",
    "- количество книг, вышедших с 1 января 2000 года, составило 821;\n",
    "- для каждой книги посчитали количество обзоров и их среднюю оценку. На первом месте по количеству обзоров книга \"Twilight (Twilight #1)\" - 7 обзоров, а её рейтинг невысокий - 3.66;\n",
    "- на первом месте по количеству выпущенных книг находится издательство \"Penguin Books\" (42 книги);\n",
    "- на первом месте среди авторов с самой высокой средней оценкой книг и количеством оценок 50 и более находятся J.K. Rowling/Mary GrandPré. Средняя оценка их книг - 4.28 баллов;\n",
    "- среднее количество обзоров от пользователей, поставивших больше 50 оценок, равно 24 обзорам."
   ]
  },
  {
   "cell_type": "markdown",
   "metadata": {},
   "source": [
    "## Общий вывод"
   ]
  },
  {
   "cell_type": "markdown",
   "metadata": {},
   "source": [
    "В ходе данного исследования были сделаны следующие шаги:\n",
    "- извлечены таблицы из базы данных;\n",
    "- проанализированы полученные данные;\n",
    "- были получены ответы на поставленные вопросы."
   ]
  }
 ],
 "metadata": {
  "ExecuteTimeLog": [
   {
    "duration": 822,
    "start_time": "2021-09-25T12:52:32.157Z"
   },
   {
    "duration": 45,
    "start_time": "2021-09-25T12:52:44.355Z"
   },
   {
    "duration": 4,
    "start_time": "2021-09-25T12:53:11.831Z"
   },
   {
    "duration": 4,
    "start_time": "2021-09-25T13:08:08.159Z"
   },
   {
    "duration": 66,
    "start_time": "2021-09-25T13:08:16.944Z"
   },
   {
    "duration": 4,
    "start_time": "2021-09-25T13:09:04.531Z"
   },
   {
    "duration": 23,
    "start_time": "2021-09-25T13:09:12.259Z"
   },
   {
    "duration": 5,
    "start_time": "2021-09-25T13:10:33.458Z"
   },
   {
    "duration": 19,
    "start_time": "2021-09-25T13:10:40.633Z"
   },
   {
    "duration": 15,
    "start_time": "2021-09-25T13:49:59.394Z"
   },
   {
    "duration": 19,
    "start_time": "2021-09-25T13:50:08.362Z"
   },
   {
    "duration": 24,
    "start_time": "2021-09-25T13:50:20.519Z"
   },
   {
    "duration": 51,
    "start_time": "2021-09-25T13:51:40.337Z"
   },
   {
    "duration": 33,
    "start_time": "2021-09-25T13:52:33.144Z"
   },
   {
    "duration": 746,
    "start_time": "2021-09-25T14:08:11.322Z"
   },
   {
    "duration": 626,
    "start_time": "2021-09-25T14:08:18.309Z"
   },
   {
    "duration": 627,
    "start_time": "2021-09-25T14:08:22.818Z"
   },
   {
    "duration": 655,
    "start_time": "2021-09-25T14:08:41.860Z"
   },
   {
    "duration": 14,
    "start_time": "2021-09-25T14:09:32.775Z"
   },
   {
    "duration": 25,
    "start_time": "2021-09-25T14:11:20.332Z"
   },
   {
    "duration": 25,
    "start_time": "2021-09-25T14:11:26.450Z"
   },
   {
    "duration": 12,
    "start_time": "2021-09-25T14:11:52.804Z"
   },
   {
    "duration": 13,
    "start_time": "2021-09-25T14:12:54.563Z"
   },
   {
    "duration": 15,
    "start_time": "2021-09-25T14:13:30.099Z"
   },
   {
    "duration": 13,
    "start_time": "2021-09-25T14:14:50.808Z"
   },
   {
    "duration": 28,
    "start_time": "2021-09-25T14:38:03.102Z"
   },
   {
    "duration": 4,
    "start_time": "2021-09-25T14:38:23.812Z"
   },
   {
    "duration": 685,
    "start_time": "2021-09-25T14:38:32.123Z"
   },
   {
    "duration": 13,
    "start_time": "2021-09-25T14:39:37.997Z"
   },
   {
    "duration": 14,
    "start_time": "2021-09-25T14:41:19.037Z"
   },
   {
    "duration": 73,
    "start_time": "2021-09-25T14:45:55.423Z"
   },
   {
    "duration": 25,
    "start_time": "2021-09-25T14:49:31.990Z"
   },
   {
    "duration": 14,
    "start_time": "2021-09-25T14:49:37.600Z"
   },
   {
    "duration": 39,
    "start_time": "2021-09-25T14:49:52.739Z"
   },
   {
    "duration": 22,
    "start_time": "2021-09-25T15:25:15.525Z"
   },
   {
    "duration": 19,
    "start_time": "2021-09-25T15:25:16.366Z"
   },
   {
    "duration": 18,
    "start_time": "2021-09-25T15:25:17.495Z"
   },
   {
    "duration": 15,
    "start_time": "2021-09-25T15:25:17.717Z"
   },
   {
    "duration": 17,
    "start_time": "2021-09-25T15:25:18.275Z"
   },
   {
    "duration": 14,
    "start_time": "2021-09-25T15:25:18.443Z"
   },
   {
    "duration": 32,
    "start_time": "2021-09-25T15:25:18.992Z"
   },
   {
    "duration": 19,
    "start_time": "2021-09-25T15:25:19.163Z"
   },
   {
    "duration": 25,
    "start_time": "2021-09-25T15:25:19.703Z"
   },
   {
    "duration": 16,
    "start_time": "2021-09-25T15:25:19.869Z"
   },
   {
    "duration": 13,
    "start_time": "2021-09-25T15:25:22.811Z"
   },
   {
    "duration": 967,
    "start_time": "2021-09-25T15:26:46.598Z"
   },
   {
    "duration": 25,
    "start_time": "2021-09-25T15:26:51.700Z"
   },
   {
    "duration": 44,
    "start_time": "2021-09-25T15:27:41.771Z"
   },
   {
    "duration": 609,
    "start_time": "2021-09-25T15:29:37.560Z"
   },
   {
    "duration": 32,
    "start_time": "2021-09-25T15:29:54.363Z"
   },
   {
    "duration": 51,
    "start_time": "2021-09-25T15:30:51.225Z"
   },
   {
    "duration": 45,
    "start_time": "2021-09-25T15:31:43.847Z"
   },
   {
    "duration": 622,
    "start_time": "2021-09-25T15:32:42.112Z"
   },
   {
    "duration": 647,
    "start_time": "2021-09-25T15:34:09.116Z"
   },
   {
    "duration": 717,
    "start_time": "2021-09-25T15:34:14.401Z"
   },
   {
    "duration": 740,
    "start_time": "2021-09-25T15:37:05.601Z"
   },
   {
    "duration": 45,
    "start_time": "2021-09-25T15:38:09.180Z"
   },
   {
    "duration": 43,
    "start_time": "2021-09-25T15:39:03.094Z"
   },
   {
    "duration": 15,
    "start_time": "2021-09-25T15:41:05.430Z"
   },
   {
    "duration": 701,
    "start_time": "2021-09-25T15:50:48.970Z"
   },
   {
    "duration": 23,
    "start_time": "2021-09-25T15:51:12.379Z"
   },
   {
    "duration": 23,
    "start_time": "2021-09-25T15:53:36.982Z"
   },
   {
    "duration": 18,
    "start_time": "2021-09-25T15:54:31.157Z"
   },
   {
    "duration": 18,
    "start_time": "2021-09-25T15:54:36.946Z"
   },
   {
    "duration": 670,
    "start_time": "2021-09-25T16:07:32.826Z"
   },
   {
    "duration": 589,
    "start_time": "2021-09-25T16:08:54.362Z"
   },
   {
    "duration": 751,
    "start_time": "2021-09-25T16:09:19.629Z"
   },
   {
    "duration": 621,
    "start_time": "2021-09-25T16:09:32.198Z"
   },
   {
    "duration": 633,
    "start_time": "2021-09-25T16:09:55.274Z"
   },
   {
    "duration": 693,
    "start_time": "2021-09-26T14:44:03.144Z"
   },
   {
    "duration": 27,
    "start_time": "2021-09-26T14:44:03.838Z"
   },
   {
    "duration": 9,
    "start_time": "2021-09-26T14:44:03.867Z"
   },
   {
    "duration": 43,
    "start_time": "2021-09-26T14:44:04.166Z"
   },
   {
    "duration": 10,
    "start_time": "2021-09-26T14:44:04.477Z"
   },
   {
    "duration": 13,
    "start_time": "2021-09-26T14:44:05.318Z"
   },
   {
    "duration": 10,
    "start_time": "2021-09-26T14:44:05.487Z"
   },
   {
    "duration": 11,
    "start_time": "2021-09-26T14:44:06.177Z"
   },
   {
    "duration": 10,
    "start_time": "2021-09-26T14:44:06.701Z"
   },
   {
    "duration": 24,
    "start_time": "2021-09-26T14:44:07.257Z"
   },
   {
    "duration": 10,
    "start_time": "2021-09-26T14:44:07.426Z"
   },
   {
    "duration": 18,
    "start_time": "2021-09-26T14:44:08.381Z"
   },
   {
    "duration": 11,
    "start_time": "2021-09-26T14:44:08.541Z"
   },
   {
    "duration": 10,
    "start_time": "2021-09-26T14:44:29.279Z"
   },
   {
    "duration": 33,
    "start_time": "2021-09-26T14:44:29.831Z"
   },
   {
    "duration": 67,
    "start_time": "2021-09-26T14:44:30.593Z"
   },
   {
    "duration": 19,
    "start_time": "2021-09-26T14:44:31.051Z"
   },
   {
    "duration": 12,
    "start_time": "2021-09-26T14:44:31.507Z"
   },
   {
    "duration": 636,
    "start_time": "2021-09-26T14:44:33.312Z"
   },
   {
    "duration": 640,
    "start_time": "2021-09-26T14:45:57.549Z"
   },
   {
    "duration": 17,
    "start_time": "2021-09-26T14:48:02.304Z"
   },
   {
    "duration": 295,
    "start_time": "2021-09-26T14:48:49.625Z"
   },
   {
    "duration": 278,
    "start_time": "2021-09-26T14:48:54.816Z"
   },
   {
    "duration": 17,
    "start_time": "2021-09-26T14:48:59.587Z"
   },
   {
    "duration": 16,
    "start_time": "2021-09-26T14:49:13.345Z"
   },
   {
    "duration": 616,
    "start_time": "2021-09-26T14:49:18.577Z"
   },
   {
    "duration": 626,
    "start_time": "2021-09-26T14:50:08.767Z"
   },
   {
    "duration": 20,
    "start_time": "2021-09-26T14:51:20.618Z"
   },
   {
    "duration": 588,
    "start_time": "2021-09-26T14:52:04.715Z"
   },
   {
    "duration": 634,
    "start_time": "2021-09-26T14:52:29.952Z"
   },
   {
    "duration": 758,
    "start_time": "2021-09-26T14:52:35.601Z"
   },
   {
    "duration": 20,
    "start_time": "2021-09-26T14:53:09.064Z"
   },
   {
    "duration": 607,
    "start_time": "2021-09-26T14:53:46.461Z"
   },
   {
    "duration": 609,
    "start_time": "2021-09-26T14:54:56.226Z"
   },
   {
    "duration": 17,
    "start_time": "2021-09-26T14:55:08.375Z"
   },
   {
    "duration": 16,
    "start_time": "2021-09-26T14:55:43.854Z"
   },
   {
    "duration": 323,
    "start_time": "2021-09-26T15:00:37.238Z"
   },
   {
    "duration": 13,
    "start_time": "2021-09-26T15:00:42.927Z"
   },
   {
    "duration": 21,
    "start_time": "2021-09-26T15:01:09.595Z"
   },
   {
    "duration": 13,
    "start_time": "2021-09-26T15:02:10.921Z"
   },
   {
    "duration": 16,
    "start_time": "2021-09-26T15:04:16.316Z"
   },
   {
    "duration": 582,
    "start_time": "2021-09-26T15:04:23.369Z"
   },
   {
    "duration": 925,
    "start_time": "2021-09-26T15:04:30.458Z"
   },
   {
    "duration": 588,
    "start_time": "2021-09-26T15:04:44.177Z"
   },
   {
    "duration": 566,
    "start_time": "2021-09-26T15:04:53.287Z"
   },
   {
    "duration": 803,
    "start_time": "2021-09-26T15:04:57.812Z"
   },
   {
    "duration": 616,
    "start_time": "2021-09-26T15:05:18.846Z"
   },
   {
    "duration": 13,
    "start_time": "2021-09-26T15:05:35.748Z"
   },
   {
    "duration": 589,
    "start_time": "2021-09-26T15:05:50.975Z"
   },
   {
    "duration": 592,
    "start_time": "2021-09-26T15:06:03.841Z"
   },
   {
    "duration": 12,
    "start_time": "2021-09-26T15:06:14.375Z"
   },
   {
    "duration": 27,
    "start_time": "2021-09-26T15:07:11.438Z"
   },
   {
    "duration": 705,
    "start_time": "2021-09-26T15:07:50.585Z"
   },
   {
    "duration": 18,
    "start_time": "2021-09-26T15:10:56.227Z"
   },
   {
    "duration": 1196,
    "start_time": "2021-09-26T15:11:09.028Z"
   },
   {
    "duration": 13,
    "start_time": "2021-09-26T15:11:23.665Z"
   },
   {
    "duration": 14,
    "start_time": "2021-09-26T15:12:19.357Z"
   },
   {
    "duration": 13,
    "start_time": "2021-09-26T15:12:53.320Z"
   },
   {
    "duration": 714,
    "start_time": "2021-09-26T15:13:59.120Z"
   },
   {
    "duration": 26,
    "start_time": "2021-09-26T15:13:59.836Z"
   },
   {
    "duration": 14,
    "start_time": "2021-09-26T15:13:59.863Z"
   },
   {
    "duration": 93,
    "start_time": "2021-09-26T15:13:59.879Z"
   },
   {
    "duration": 64,
    "start_time": "2021-09-26T15:13:59.974Z"
   },
   {
    "duration": 32,
    "start_time": "2021-09-26T15:14:00.039Z"
   },
   {
    "duration": 11,
    "start_time": "2021-09-26T15:14:00.073Z"
   },
   {
    "duration": 39,
    "start_time": "2021-09-26T15:14:00.085Z"
   },
   {
    "duration": 46,
    "start_time": "2021-09-26T15:14:00.126Z"
   },
   {
    "duration": 46,
    "start_time": "2021-09-26T15:14:00.173Z"
   },
   {
    "duration": 25,
    "start_time": "2021-09-26T15:14:00.221Z"
   },
   {
    "duration": 43,
    "start_time": "2021-09-26T15:14:00.248Z"
   },
   {
    "duration": 21,
    "start_time": "2021-09-26T15:14:00.293Z"
   },
   {
    "duration": 18,
    "start_time": "2021-09-26T15:14:00.316Z"
   },
   {
    "duration": 52,
    "start_time": "2021-09-26T15:14:00.336Z"
   },
   {
    "duration": 66,
    "start_time": "2021-09-26T15:14:00.389Z"
   },
   {
    "duration": 166,
    "start_time": "2021-09-26T15:14:00.457Z"
   },
   {
    "duration": 11,
    "start_time": "2021-09-26T15:14:00.625Z"
   },
   {
    "duration": 16,
    "start_time": "2021-09-26T15:14:00.638Z"
   },
   {
    "duration": 17,
    "start_time": "2021-09-26T15:14:00.656Z"
   },
   {
    "duration": 89,
    "start_time": "2021-09-26T15:14:00.675Z"
   },
   {
    "duration": 31647,
    "start_time": "2021-09-26T15:13:29.118Z"
   },
   {
    "duration": 647,
    "start_time": "2021-09-26T15:24:55.413Z"
   },
   {
    "duration": 29,
    "start_time": "2021-09-26T15:24:56.062Z"
   },
   {
    "duration": 3,
    "start_time": "2021-09-26T15:24:56.093Z"
   },
   {
    "duration": 259,
    "start_time": "2021-09-26T15:24:56.098Z"
   },
   {
    "duration": 63,
    "start_time": "2021-09-26T15:24:56.359Z"
   },
   {
    "duration": 66,
    "start_time": "2021-09-26T15:24:56.424Z"
   },
   {
    "duration": 62,
    "start_time": "2021-09-26T15:24:56.491Z"
   },
   {
    "duration": 65,
    "start_time": "2021-09-26T15:24:56.556Z"
   },
   {
    "duration": 63,
    "start_time": "2021-09-26T15:24:56.623Z"
   },
   {
    "duration": 94,
    "start_time": "2021-09-26T15:24:56.688Z"
   },
   {
    "duration": 63,
    "start_time": "2021-09-26T15:24:56.783Z"
   },
   {
    "duration": 78,
    "start_time": "2021-09-26T15:24:56.848Z"
   },
   {
    "duration": 63,
    "start_time": "2021-09-26T15:24:56.928Z"
   },
   {
    "duration": 65,
    "start_time": "2021-09-26T15:24:56.992Z"
   },
   {
    "duration": 84,
    "start_time": "2021-09-26T15:24:57.059Z"
   },
   {
    "duration": 130,
    "start_time": "2021-09-26T15:24:57.145Z"
   },
   {
    "duration": 70,
    "start_time": "2021-09-26T15:24:57.277Z"
   },
   {
    "duration": 63,
    "start_time": "2021-09-26T15:24:57.349Z"
   },
   {
    "duration": 67,
    "start_time": "2021-09-26T15:24:57.414Z"
   },
   {
    "duration": 70,
    "start_time": "2021-09-26T15:24:57.483Z"
   },
   {
    "duration": 78,
    "start_time": "2021-09-26T15:24:57.555Z"
   },
   {
    "duration": -34,
    "start_time": "2021-09-26T15:24:57.669Z"
   },
   {
    "duration": 66,
    "start_time": "2021-09-26T15:30:56.500Z"
   },
   {
    "duration": 77,
    "start_time": "2021-09-26T15:31:36.679Z"
   },
   {
    "duration": 814,
    "start_time": "2021-09-27T05:45:21.711Z"
   },
   {
    "duration": 54,
    "start_time": "2021-09-27T05:45:22.528Z"
   },
   {
    "duration": 4,
    "start_time": "2021-09-27T05:45:23.088Z"
   },
   {
    "duration": 221,
    "start_time": "2021-09-27T05:45:23.427Z"
   },
   {
    "duration": 52,
    "start_time": "2021-09-27T05:45:23.651Z"
   },
   {
    "duration": 57,
    "start_time": "2021-09-27T05:45:24.118Z"
   },
   {
    "duration": 54,
    "start_time": "2021-09-27T05:45:24.288Z"
   },
   {
    "duration": 56,
    "start_time": "2021-09-27T05:45:24.818Z"
   },
   {
    "duration": 54,
    "start_time": "2021-09-27T05:45:24.988Z"
   },
   {
    "duration": 101,
    "start_time": "2021-09-27T05:45:25.528Z"
   },
   {
    "duration": 54,
    "start_time": "2021-09-27T05:45:25.707Z"
   },
   {
    "duration": 79,
    "start_time": "2021-09-27T05:45:26.239Z"
   },
   {
    "duration": 54,
    "start_time": "2021-09-27T05:45:26.429Z"
   },
   {
    "duration": 53,
    "start_time": "2021-09-27T05:45:27.996Z"
   },
   {
    "duration": 94,
    "start_time": "2021-09-27T05:45:52.353Z"
   },
   {
    "duration": 92,
    "start_time": "2021-09-27T05:46:17.763Z"
   },
   {
    "duration": 96,
    "start_time": "2021-09-27T05:46:27.566Z"
   },
   {
    "duration": 145,
    "start_time": "2021-09-27T05:48:01.105Z"
   },
   {
    "duration": 80,
    "start_time": "2021-09-27T05:48:01.768Z"
   },
   {
    "duration": 55,
    "start_time": "2021-09-27T05:48:02.383Z"
   },
   {
    "duration": 62,
    "start_time": "2021-09-27T05:48:03.588Z"
   },
   {
    "duration": 67,
    "start_time": "2021-09-27T05:48:07.166Z"
   },
   {
    "duration": 56,
    "start_time": "2021-09-27T05:48:34.322Z"
   },
   {
    "duration": 856,
    "start_time": "2021-09-27T05:49:04.026Z"
   },
   {
    "duration": 57,
    "start_time": "2021-09-27T05:49:05.526Z"
   },
   {
    "duration": 4,
    "start_time": "2021-09-27T05:49:06.216Z"
   },
   {
    "duration": 214,
    "start_time": "2021-09-27T05:49:06.906Z"
   },
   {
    "duration": 52,
    "start_time": "2021-09-27T05:49:07.333Z"
   },
   {
    "duration": 63,
    "start_time": "2021-09-27T05:49:08.687Z"
   },
   {
    "duration": 52,
    "start_time": "2021-09-27T05:49:09.106Z"
   },
   {
    "duration": 56,
    "start_time": "2021-09-27T05:49:10.353Z"
   },
   {
    "duration": 54,
    "start_time": "2021-09-27T05:49:10.742Z"
   },
   {
    "duration": 99,
    "start_time": "2021-09-27T05:49:11.854Z"
   },
   {
    "duration": 54,
    "start_time": "2021-09-27T05:49:12.451Z"
   },
   {
    "duration": 94,
    "start_time": "2021-09-27T05:49:13.513Z"
   },
   {
    "duration": 53,
    "start_time": "2021-09-27T05:49:13.851Z"
   },
   {
    "duration": 53,
    "start_time": "2021-09-27T05:49:16.327Z"
   },
   {
    "duration": 92,
    "start_time": "2021-09-27T05:49:18.329Z"
   },
   {
    "duration": 148,
    "start_time": "2021-09-27T05:49:30.253Z"
   },
   {
    "duration": 71,
    "start_time": "2021-09-27T05:49:30.753Z"
   },
   {
    "duration": 57,
    "start_time": "2021-09-27T05:49:31.385Z"
   },
   {
    "duration": 63,
    "start_time": "2021-09-27T05:49:32.367Z"
   },
   {
    "duration": 61,
    "start_time": "2021-09-27T05:49:34.457Z"
   },
   {
    "duration": 55,
    "start_time": "2021-09-27T05:49:37.535Z"
   },
   {
    "duration": 709,
    "start_time": "2021-12-20T18:02:56.882Z"
   },
   {
    "duration": 25,
    "start_time": "2021-12-20T18:02:57.593Z"
   },
   {
    "duration": 4,
    "start_time": "2021-12-20T18:02:58.171Z"
   },
   {
    "duration": 301,
    "start_time": "2021-12-20T18:02:59.604Z"
   },
   {
    "duration": 72,
    "start_time": "2021-12-20T18:03:00.030Z"
   },
   {
    "duration": 98,
    "start_time": "2021-12-20T18:03:01.059Z"
   },
   {
    "duration": 81,
    "start_time": "2021-12-20T18:03:01.439Z"
   },
   {
    "duration": 82,
    "start_time": "2021-12-20T18:03:02.318Z"
   },
   {
    "duration": 74,
    "start_time": "2021-12-20T18:03:02.545Z"
   },
   {
    "duration": 142,
    "start_time": "2021-12-20T18:03:03.309Z"
   },
   {
    "duration": 84,
    "start_time": "2021-12-20T18:03:03.504Z"
   },
   {
    "duration": 125,
    "start_time": "2021-12-20T18:03:04.314Z"
   },
   {
    "duration": 79,
    "start_time": "2021-12-20T18:03:05.118Z"
   },
   {
    "duration": 74,
    "start_time": "2021-12-20T18:03:08.761Z"
   },
   {
    "duration": 134,
    "start_time": "2021-12-20T18:03:16.472Z"
   },
   {
    "duration": 182,
    "start_time": "2021-12-20T18:03:21.353Z"
   },
   {
    "duration": 118,
    "start_time": "2021-12-20T18:03:22.021Z"
   },
   {
    "duration": 77,
    "start_time": "2021-12-20T18:03:22.411Z"
   },
   {
    "duration": 86,
    "start_time": "2021-12-20T18:03:23.351Z"
   },
   {
    "duration": 91,
    "start_time": "2021-12-20T18:03:27.886Z"
   },
   {
    "duration": 81,
    "start_time": "2021-12-20T18:03:35.442Z"
   }
  ],
  "kernelspec": {
   "display_name": "Python 3",
   "language": "python",
   "name": "python3"
  },
  "language_info": {
   "codemirror_mode": {
    "name": "ipython",
    "version": 3
   },
   "file_extension": ".py",
   "mimetype": "text/x-python",
   "name": "python",
   "nbconvert_exporter": "python",
   "pygments_lexer": "ipython3",
   "version": "3.7.8"
  },
  "toc": {
   "base_numbering": 1,
   "nav_menu": {},
   "number_sections": true,
   "sideBar": true,
   "skip_h1_title": true,
   "title_cell": "Table of Contents",
   "title_sidebar": "Contents",
   "toc_cell": false,
   "toc_position": {
    "height": "calc(100% - 180px)",
    "left": "10px",
    "top": "150px",
    "width": "366.391px"
   },
   "toc_section_display": true,
   "toc_window_display": true
  }
 },
 "nbformat": 4,
 "nbformat_minor": 2
}
