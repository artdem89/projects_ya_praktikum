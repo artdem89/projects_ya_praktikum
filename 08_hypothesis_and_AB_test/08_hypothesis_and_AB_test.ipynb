{
 "cells": [
  {
   "cell_type": "markdown",
   "metadata": {},
   "source": [
    "# Приоритизация гипотез и анализ A/B-теста"
   ]
  },
  {
   "cell_type": "markdown",
   "metadata": {},
   "source": [
    "Вы — аналитик крупного интернет-магазина. Вместе с отделом маркетинга вы подготовили список гипотез для увеличения выручки.\n",
    "Приоритизируйте гипотезы, запустите A/B-тест и проанализируйте результаты. "
   ]
  },
  {
   "cell_type": "code",
   "execution_count": 1,
   "metadata": {},
   "outputs": [],
   "source": [
    "#Импорт библиотек\n",
    "import pandas as pd\n",
    "import numpy as np\n",
    "import matplotlib.pyplot as plt\n",
    "import seaborn as sns\n",
    "import scipy.stats as stats\n",
    "import math\n",
    "from functools import reduce\n",
    "import datetime as dt"
   ]
  },
  {
   "cell_type": "markdown",
   "metadata": {},
   "source": [
    "##  Приоритизация гипотез."
   ]
  },
  {
   "cell_type": "markdown",
   "metadata": {},
   "source": [
    "В файле /datasets/hypothesis.csv 9 гипотез по увеличению выручки интернет-магазина с указанными параметрами:\n",
    "- Hypothesis — краткое описание гипотезы;\n",
    "- Reach — охват пользователей по 10-балльной шкале;\n",
    "- Impact — влияние на пользователей по 10-балльной шкале;\n",
    "- Confidence — уверенность в гипотезе по 10-балльной шкале;\n",
    "- Efforts — затраты ресурсов на проверку гипотезы по 10-балльной шкале. Чем больше значение Efforts, тем дороже проверка гипотезы."
   ]
  },
  {
   "cell_type": "markdown",
   "metadata": {},
   "source": [
    "Загрузим данные из исходного файла и изучим его."
   ]
  },
  {
   "cell_type": "code",
   "execution_count": 2,
   "metadata": {},
   "outputs": [
    {
     "data": {
      "text/html": [
       "<div>\n",
       "<style scoped>\n",
       "    .dataframe tbody tr th:only-of-type {\n",
       "        vertical-align: middle;\n",
       "    }\n",
       "\n",
       "    .dataframe tbody tr th {\n",
       "        vertical-align: top;\n",
       "    }\n",
       "\n",
       "    .dataframe thead th {\n",
       "        text-align: right;\n",
       "    }\n",
       "</style>\n",
       "<table border=\"1\" class=\"dataframe\">\n",
       "  <thead>\n",
       "    <tr style=\"text-align: right;\">\n",
       "      <th></th>\n",
       "      <th>Hypothesis</th>\n",
       "      <th>Reach</th>\n",
       "      <th>Impact</th>\n",
       "      <th>Confidence</th>\n",
       "      <th>Efforts</th>\n",
       "    </tr>\n",
       "  </thead>\n",
       "  <tbody>\n",
       "    <tr>\n",
       "      <td>0</td>\n",
       "      <td>Добавить два новых канала привлечения трафика,...</td>\n",
       "      <td>3</td>\n",
       "      <td>10</td>\n",
       "      <td>8</td>\n",
       "      <td>6</td>\n",
       "    </tr>\n",
       "    <tr>\n",
       "      <td>1</td>\n",
       "      <td>Запустить собственную службу доставки, что сок...</td>\n",
       "      <td>2</td>\n",
       "      <td>5</td>\n",
       "      <td>4</td>\n",
       "      <td>10</td>\n",
       "    </tr>\n",
       "    <tr>\n",
       "      <td>2</td>\n",
       "      <td>Добавить блоки рекомендаций товаров на сайт ин...</td>\n",
       "      <td>8</td>\n",
       "      <td>3</td>\n",
       "      <td>7</td>\n",
       "      <td>3</td>\n",
       "    </tr>\n",
       "    <tr>\n",
       "      <td>3</td>\n",
       "      <td>Изменить структура категорий, что увеличит кон...</td>\n",
       "      <td>8</td>\n",
       "      <td>3</td>\n",
       "      <td>3</td>\n",
       "      <td>8</td>\n",
       "    </tr>\n",
       "    <tr>\n",
       "      <td>4</td>\n",
       "      <td>Изменить цвет фона главной страницы, чтобы уве...</td>\n",
       "      <td>3</td>\n",
       "      <td>1</td>\n",
       "      <td>1</td>\n",
       "      <td>1</td>\n",
       "    </tr>\n",
       "    <tr>\n",
       "      <td>5</td>\n",
       "      <td>Добавить страницу отзывов клиентов о магазине,...</td>\n",
       "      <td>3</td>\n",
       "      <td>2</td>\n",
       "      <td>2</td>\n",
       "      <td>3</td>\n",
       "    </tr>\n",
       "    <tr>\n",
       "      <td>6</td>\n",
       "      <td>Показать на главной странице баннеры с актуаль...</td>\n",
       "      <td>5</td>\n",
       "      <td>3</td>\n",
       "      <td>8</td>\n",
       "      <td>3</td>\n",
       "    </tr>\n",
       "    <tr>\n",
       "      <td>7</td>\n",
       "      <td>Добавить форму подписки на все основные страни...</td>\n",
       "      <td>10</td>\n",
       "      <td>7</td>\n",
       "      <td>8</td>\n",
       "      <td>5</td>\n",
       "    </tr>\n",
       "    <tr>\n",
       "      <td>8</td>\n",
       "      <td>Запустить акцию, дающую скидку на товар в день...</td>\n",
       "      <td>1</td>\n",
       "      <td>9</td>\n",
       "      <td>9</td>\n",
       "      <td>5</td>\n",
       "    </tr>\n",
       "  </tbody>\n",
       "</table>\n",
       "</div>"
      ],
      "text/plain": [
       "                                          Hypothesis  Reach  Impact  \\\n",
       "0  Добавить два новых канала привлечения трафика,...      3      10   \n",
       "1  Запустить собственную службу доставки, что сок...      2       5   \n",
       "2  Добавить блоки рекомендаций товаров на сайт ин...      8       3   \n",
       "3  Изменить структура категорий, что увеличит кон...      8       3   \n",
       "4  Изменить цвет фона главной страницы, чтобы уве...      3       1   \n",
       "5  Добавить страницу отзывов клиентов о магазине,...      3       2   \n",
       "6  Показать на главной странице баннеры с актуаль...      5       3   \n",
       "7  Добавить форму подписки на все основные страни...     10       7   \n",
       "8  Запустить акцию, дающую скидку на товар в день...      1       9   \n",
       "\n",
       "   Confidence  Efforts  \n",
       "0           8        6  \n",
       "1           4       10  \n",
       "2           7        3  \n",
       "3           3        8  \n",
       "4           1        1  \n",
       "5           2        3  \n",
       "6           8        3  \n",
       "7           8        5  \n",
       "8           9        5  "
      ]
     },
     "execution_count": 2,
     "metadata": {},
     "output_type": "execute_result"
    }
   ],
   "source": [
    "hypothesis = pd.read_csv('/datasets/hypothesis.csv')\n",
    "hypothesis"
   ]
  },
  {
   "cell_type": "markdown",
   "metadata": {},
   "source": [
    "Аномалий в данных не обнаружено. Посчитаем показатели ICE и RICE для приоритизации гипотез на основе данных из таблицы.\n",
    "Будем использовать следующие формулы для расчёта показателей:\n",
    "\n",
    "$$ICE = \\frac{Impact * Confidence}{Efforts}$$\n",
    "\n",
    "$$RICE = \\frac{Rearch * Impact * Confidence}{Efforts}$$"
   ]
  },
  {
   "cell_type": "code",
   "execution_count": 3,
   "metadata": {},
   "outputs": [],
   "source": [
    "hypothesis['ICE'] = hypothesis['Impact'] * hypothesis['Confidence'] / hypothesis['Efforts']\n",
    "hypothesis['RICE'] = (hypothesis['Reach'] * hypothesis['Impact'] * hypothesis['Confidence']) / hypothesis['Efforts']"
   ]
  },
  {
   "cell_type": "code",
   "execution_count": 4,
   "metadata": {},
   "outputs": [
    {
     "data": {
      "text/html": [
       "<style  type=\"text/css\" >\n",
       "    #T_961fd8a4_5ddb_11ec_86b6_02420a391c71row0_col0 {\n",
       "            color: red;\n",
       "        }    #T_961fd8a4_5ddb_11ec_86b6_02420a391c71row4_col1 {\n",
       "            color: red;\n",
       "        }</style><table id=\"T_961fd8a4_5ddb_11ec_86b6_02420a391c71\" ><thead>    <tr>        <th class=\"blank level0\" ></th>        <th class=\"col_heading level0 col0\" >RICE</th>        <th class=\"col_heading level0 col1\" >ICE</th>        <th class=\"col_heading level0 col2\" >Hypothesis</th>    </tr></thead><tbody>\n",
       "                <tr>\n",
       "                        <th id=\"T_961fd8a4_5ddb_11ec_86b6_02420a391c71level0_row0\" class=\"row_heading level0 row0\" >7</th>\n",
       "                        <td id=\"T_961fd8a4_5ddb_11ec_86b6_02420a391c71row0_col0\" class=\"data row0 col0\" >112</td>\n",
       "                        <td id=\"T_961fd8a4_5ddb_11ec_86b6_02420a391c71row0_col1\" class=\"data row0 col1\" >11.2</td>\n",
       "                        <td id=\"T_961fd8a4_5ddb_11ec_86b6_02420a391c71row0_col2\" class=\"data row0 col2\" >Добавить форму подписки на все основные страницы, чтобы собрать базу клиентов для email-рассылок</td>\n",
       "            </tr>\n",
       "            <tr>\n",
       "                        <th id=\"T_961fd8a4_5ddb_11ec_86b6_02420a391c71level0_row1\" class=\"row_heading level0 row1\" >2</th>\n",
       "                        <td id=\"T_961fd8a4_5ddb_11ec_86b6_02420a391c71row1_col0\" class=\"data row1 col0\" >56</td>\n",
       "                        <td id=\"T_961fd8a4_5ddb_11ec_86b6_02420a391c71row1_col1\" class=\"data row1 col1\" >7</td>\n",
       "                        <td id=\"T_961fd8a4_5ddb_11ec_86b6_02420a391c71row1_col2\" class=\"data row1 col2\" >Добавить блоки рекомендаций товаров на сайт интернет магазина, чтобы повысить конверсию и средний чек заказа</td>\n",
       "            </tr>\n",
       "            <tr>\n",
       "                        <th id=\"T_961fd8a4_5ddb_11ec_86b6_02420a391c71level0_row2\" class=\"row_heading level0 row2\" >0</th>\n",
       "                        <td id=\"T_961fd8a4_5ddb_11ec_86b6_02420a391c71row2_col0\" class=\"data row2 col0\" >40</td>\n",
       "                        <td id=\"T_961fd8a4_5ddb_11ec_86b6_02420a391c71row2_col1\" class=\"data row2 col1\" >13.3333</td>\n",
       "                        <td id=\"T_961fd8a4_5ddb_11ec_86b6_02420a391c71row2_col2\" class=\"data row2 col2\" >Добавить два новых канала привлечения трафика, что позволит привлекать на 30% больше пользователей</td>\n",
       "            </tr>\n",
       "            <tr>\n",
       "                        <th id=\"T_961fd8a4_5ddb_11ec_86b6_02420a391c71level0_row3\" class=\"row_heading level0 row3\" >6</th>\n",
       "                        <td id=\"T_961fd8a4_5ddb_11ec_86b6_02420a391c71row3_col0\" class=\"data row3 col0\" >40</td>\n",
       "                        <td id=\"T_961fd8a4_5ddb_11ec_86b6_02420a391c71row3_col1\" class=\"data row3 col1\" >8</td>\n",
       "                        <td id=\"T_961fd8a4_5ddb_11ec_86b6_02420a391c71row3_col2\" class=\"data row3 col2\" >Показать на главной странице баннеры с актуальными акциями и распродажами, чтобы увеличить конверсию</td>\n",
       "            </tr>\n",
       "            <tr>\n",
       "                        <th id=\"T_961fd8a4_5ddb_11ec_86b6_02420a391c71level0_row4\" class=\"row_heading level0 row4\" >8</th>\n",
       "                        <td id=\"T_961fd8a4_5ddb_11ec_86b6_02420a391c71row4_col0\" class=\"data row4 col0\" >16.2</td>\n",
       "                        <td id=\"T_961fd8a4_5ddb_11ec_86b6_02420a391c71row4_col1\" class=\"data row4 col1\" >16.2</td>\n",
       "                        <td id=\"T_961fd8a4_5ddb_11ec_86b6_02420a391c71row4_col2\" class=\"data row4 col2\" >Запустить акцию, дающую скидку на товар в день рождения</td>\n",
       "            </tr>\n",
       "            <tr>\n",
       "                        <th id=\"T_961fd8a4_5ddb_11ec_86b6_02420a391c71level0_row5\" class=\"row_heading level0 row5\" >3</th>\n",
       "                        <td id=\"T_961fd8a4_5ddb_11ec_86b6_02420a391c71row5_col0\" class=\"data row5 col0\" >9</td>\n",
       "                        <td id=\"T_961fd8a4_5ddb_11ec_86b6_02420a391c71row5_col1\" class=\"data row5 col1\" >1.125</td>\n",
       "                        <td id=\"T_961fd8a4_5ddb_11ec_86b6_02420a391c71row5_col2\" class=\"data row5 col2\" >Изменить структура категорий, что увеличит конверсию, т.к. пользователи быстрее найдут нужный товар</td>\n",
       "            </tr>\n",
       "            <tr>\n",
       "                        <th id=\"T_961fd8a4_5ddb_11ec_86b6_02420a391c71level0_row6\" class=\"row_heading level0 row6\" >1</th>\n",
       "                        <td id=\"T_961fd8a4_5ddb_11ec_86b6_02420a391c71row6_col0\" class=\"data row6 col0\" >4</td>\n",
       "                        <td id=\"T_961fd8a4_5ddb_11ec_86b6_02420a391c71row6_col1\" class=\"data row6 col1\" >2</td>\n",
       "                        <td id=\"T_961fd8a4_5ddb_11ec_86b6_02420a391c71row6_col2\" class=\"data row6 col2\" >Запустить собственную службу доставки, что сократит срок доставки заказов</td>\n",
       "            </tr>\n",
       "            <tr>\n",
       "                        <th id=\"T_961fd8a4_5ddb_11ec_86b6_02420a391c71level0_row7\" class=\"row_heading level0 row7\" >5</th>\n",
       "                        <td id=\"T_961fd8a4_5ddb_11ec_86b6_02420a391c71row7_col0\" class=\"data row7 col0\" >4</td>\n",
       "                        <td id=\"T_961fd8a4_5ddb_11ec_86b6_02420a391c71row7_col1\" class=\"data row7 col1\" >1.33333</td>\n",
       "                        <td id=\"T_961fd8a4_5ddb_11ec_86b6_02420a391c71row7_col2\" class=\"data row7 col2\" >Добавить страницу отзывов клиентов о магазине, что позволит увеличить количество заказов</td>\n",
       "            </tr>\n",
       "            <tr>\n",
       "                        <th id=\"T_961fd8a4_5ddb_11ec_86b6_02420a391c71level0_row8\" class=\"row_heading level0 row8\" >4</th>\n",
       "                        <td id=\"T_961fd8a4_5ddb_11ec_86b6_02420a391c71row8_col0\" class=\"data row8 col0\" >3</td>\n",
       "                        <td id=\"T_961fd8a4_5ddb_11ec_86b6_02420a391c71row8_col1\" class=\"data row8 col1\" >1</td>\n",
       "                        <td id=\"T_961fd8a4_5ddb_11ec_86b6_02420a391c71row8_col2\" class=\"data row8 col2\" >Изменить цвет фона главной страницы, чтобы увеличить вовлеченность пользователей</td>\n",
       "            </tr>\n",
       "    </tbody></table>"
      ],
      "text/plain": [
       "<pandas.io.formats.style.Styler at 0x7efcda3de390>"
      ]
     },
     "execution_count": 4,
     "metadata": {},
     "output_type": "execute_result"
    }
   ],
   "source": [
    "pd.options.display.max_colwidth = 999\n",
    "def highlight_max(s, props=''):\n",
    "    return np.where(s == np.nanmax(s.values), props, '')\n",
    "hypothesis[{'Hypothesis', 'ICE', 'RICE'}].sort_values(by='RICE', ascending=False)\\\n",
    ".style.apply(highlight_max, props='color:red;', axis=0, subset=['ICE', 'RICE'])"
   ]
  },
  {
   "cell_type": "markdown",
   "metadata": {},
   "source": [
    "### Вывод"
   ]
  },
  {
   "cell_type": "markdown",
   "metadata": {},
   "source": [
    "На данном этапе были:\n",
    "- изучены данные из файла;\n",
    "- с помощью фреймворка ICE и RICE была сделана приоритизация гипотез;\n",
    "- наиболее перспективные гипотезы по ICE: 8, 0, 7;\n",
    "- наиболее перспективные гипотезы по RICE: 7, 2, 0;\n",
    "- после применения фреймворка RICE изменилась приоритизация и гипотеза 7 заняла первое место. Это объясняется тем, что наибольшее влияние оказал параметр Reach, который самый высокий у гипотезы 7. Этот параметр говорит о том, что изменение затронет наибольшее количество пользователей при применении данного гипотезы."
   ]
  },
  {
   "cell_type": "markdown",
   "metadata": {},
   "source": [
    "##  Анализ A/B-теста."
   ]
  },
  {
   "cell_type": "markdown",
   "metadata": {},
   "source": [
    "### Изучение данных из файлов и предобработка данных"
   ]
  },
  {
   "cell_type": "markdown",
   "metadata": {},
   "source": [
    "Загрузим данные из файлов orders и visitors и изучим их."
   ]
  },
  {
   "cell_type": "code",
   "execution_count": 5,
   "metadata": {},
   "outputs": [],
   "source": [
    "orders = pd.read_csv('/datasets/orders.csv')\n",
    "visitors = pd.read_csv('/datasets/visitors.csv')"
   ]
  },
  {
   "cell_type": "markdown",
   "metadata": {},
   "source": [
    "Структура orders.csv:\n",
    "- transactionId — идентификатор заказа;\n",
    "- visitorId — идентификатор пользователя, совершившего заказ;\n",
    "- date — дата, когда был совершён заказ;\n",
    "- revenue — выручка заказа;\n",
    "- group — группа A/B-теста, в которую попал заказ."
   ]
  },
  {
   "cell_type": "code",
   "execution_count": 6,
   "metadata": {},
   "outputs": [
    {
     "data": {
      "text/html": [
       "<div>\n",
       "<style scoped>\n",
       "    .dataframe tbody tr th:only-of-type {\n",
       "        vertical-align: middle;\n",
       "    }\n",
       "\n",
       "    .dataframe tbody tr th {\n",
       "        vertical-align: top;\n",
       "    }\n",
       "\n",
       "    .dataframe thead th {\n",
       "        text-align: right;\n",
       "    }\n",
       "</style>\n",
       "<table border=\"1\" class=\"dataframe\">\n",
       "  <thead>\n",
       "    <tr style=\"text-align: right;\">\n",
       "      <th></th>\n",
       "      <th>transactionId</th>\n",
       "      <th>visitorId</th>\n",
       "      <th>date</th>\n",
       "      <th>revenue</th>\n",
       "      <th>group</th>\n",
       "    </tr>\n",
       "  </thead>\n",
       "  <tbody>\n",
       "    <tr>\n",
       "      <td>886</td>\n",
       "      <td>51443164</td>\n",
       "      <td>4278982564</td>\n",
       "      <td>2019-08-05</td>\n",
       "      <td>24744</td>\n",
       "      <td>A</td>\n",
       "    </tr>\n",
       "    <tr>\n",
       "      <td>1093</td>\n",
       "      <td>3894437543</td>\n",
       "      <td>276558944</td>\n",
       "      <td>2019-08-12</td>\n",
       "      <td>5050</td>\n",
       "      <td>A</td>\n",
       "    </tr>\n",
       "    <tr>\n",
       "      <td>801</td>\n",
       "      <td>504373597</td>\n",
       "      <td>2604012846</td>\n",
       "      <td>2019-08-05</td>\n",
       "      <td>890</td>\n",
       "      <td>B</td>\n",
       "    </tr>\n",
       "    <tr>\n",
       "      <td>189</td>\n",
       "      <td>4189935502</td>\n",
       "      <td>1648269707</td>\n",
       "      <td>2019-08-17</td>\n",
       "      <td>290</td>\n",
       "      <td>B</td>\n",
       "    </tr>\n",
       "    <tr>\n",
       "      <td>808</td>\n",
       "      <td>2344401705</td>\n",
       "      <td>366673373</td>\n",
       "      <td>2019-08-05</td>\n",
       "      <td>1460</td>\n",
       "      <td>A</td>\n",
       "    </tr>\n",
       "    <tr>\n",
       "      <td>480</td>\n",
       "      <td>1954636284</td>\n",
       "      <td>2600415354</td>\n",
       "      <td>2019-08-06</td>\n",
       "      <td>1530</td>\n",
       "      <td>B</td>\n",
       "    </tr>\n",
       "    <tr>\n",
       "      <td>202</td>\n",
       "      <td>532398042</td>\n",
       "      <td>1306302251</td>\n",
       "      <td>2019-08-23</td>\n",
       "      <td>1498</td>\n",
       "      <td>A</td>\n",
       "    </tr>\n",
       "    <tr>\n",
       "      <td>311</td>\n",
       "      <td>3567356314</td>\n",
       "      <td>3077396270</td>\n",
       "      <td>2019-08-24</td>\n",
       "      <td>4195</td>\n",
       "      <td>B</td>\n",
       "    </tr>\n",
       "    <tr>\n",
       "      <td>866</td>\n",
       "      <td>707525727</td>\n",
       "      <td>1270030113</td>\n",
       "      <td>2019-08-30</td>\n",
       "      <td>3290</td>\n",
       "      <td>B</td>\n",
       "    </tr>\n",
       "    <tr>\n",
       "      <td>752</td>\n",
       "      <td>237002862</td>\n",
       "      <td>1398592185</td>\n",
       "      <td>2019-08-20</td>\n",
       "      <td>390</td>\n",
       "      <td>A</td>\n",
       "    </tr>\n",
       "  </tbody>\n",
       "</table>\n",
       "</div>"
      ],
      "text/plain": [
       "      transactionId   visitorId        date  revenue group\n",
       "886        51443164  4278982564  2019-08-05    24744     A\n",
       "1093     3894437543   276558944  2019-08-12     5050     A\n",
       "801       504373597  2604012846  2019-08-05      890     B\n",
       "189      4189935502  1648269707  2019-08-17      290     B\n",
       "808      2344401705   366673373  2019-08-05     1460     A\n",
       "480      1954636284  2600415354  2019-08-06     1530     B\n",
       "202       532398042  1306302251  2019-08-23     1498     A\n",
       "311      3567356314  3077396270  2019-08-24     4195     B\n",
       "866       707525727  1270030113  2019-08-30     3290     B\n",
       "752       237002862  1398592185  2019-08-20      390     A"
      ]
     },
     "metadata": {},
     "output_type": "display_data"
    }
   ],
   "source": [
    "display(orders.sample(10, random_state=1))"
   ]
  },
  {
   "cell_type": "code",
   "execution_count": 7,
   "metadata": {},
   "outputs": [
    {
     "name": "stdout",
     "output_type": "stream",
     "text": [
      "<class 'pandas.core.frame.DataFrame'>\n",
      "RangeIndex: 1197 entries, 0 to 1196\n",
      "Data columns (total 5 columns):\n",
      "transactionId    1197 non-null int64\n",
      "visitorId        1197 non-null int64\n",
      "date             1197 non-null object\n",
      "revenue          1197 non-null int64\n",
      "group            1197 non-null object\n",
      "dtypes: int64(3), object(2)\n",
      "memory usage: 46.9+ KB\n"
     ]
    }
   ],
   "source": [
    "orders.info()"
   ]
  },
  {
   "cell_type": "code",
   "execution_count": 8,
   "metadata": {},
   "outputs": [
    {
     "data": {
      "text/plain": [
       "transactionId    0\n",
       "visitorId        0\n",
       "date             0\n",
       "revenue          0\n",
       "group            0\n",
       "dtype: int64"
      ]
     },
     "execution_count": 8,
     "metadata": {},
     "output_type": "execute_result"
    }
   ],
   "source": [
    "orders.isnull().sum()"
   ]
  },
  {
   "cell_type": "code",
   "execution_count": 9,
   "metadata": {},
   "outputs": [
    {
     "data": {
      "text/plain": [
       "0"
      ]
     },
     "execution_count": 9,
     "metadata": {},
     "output_type": "execute_result"
    }
   ],
   "source": [
    "orders.duplicated().sum()"
   ]
  },
  {
   "cell_type": "markdown",
   "metadata": {},
   "source": [
    "Пропусков и дубликатов нет, но нужно изменить тип данных в столбце с датами со строки на дату."
   ]
  },
  {
   "cell_type": "code",
   "execution_count": 10,
   "metadata": {},
   "outputs": [],
   "source": [
    "orders['date'] = orders['date'].map(lambda x: dt.datetime.strptime(x, '%Y-%m-%d'))"
   ]
  },
  {
   "cell_type": "markdown",
   "metadata": {},
   "source": [
    "Проверим корректность распределения пользователей по группам - нет ли пользователей, которые попали в обе группы.\n",
    "Найдём всех пользователей, которые попали в группу A и в группу B."
   ]
  },
  {
   "cell_type": "code",
   "execution_count": 11,
   "metadata": {},
   "outputs": [],
   "source": [
    "visitorsA = orders[orders['group']=='A']['visitorId']\n",
    "visitorsB = orders[orders['group']=='B']['visitorId']"
   ]
  },
  {
   "cell_type": "code",
   "execution_count": 12,
   "metadata": {},
   "outputs": [
    {
     "data": {
      "text/plain": [
       "2       4069496402\n",
       "7         78758296\n",
       "8        295230930\n",
       "10       879864040\n",
       "12      3213223594\n",
       "           ...    \n",
       "1187     132143192\n",
       "1188    1022829655\n",
       "1193     370388673\n",
       "1194     573423106\n",
       "1195    1614305549\n",
       "Name: visitorId, Length: 557, dtype: int64"
      ]
     },
     "execution_count": 12,
     "metadata": {},
     "output_type": "execute_result"
    }
   ],
   "source": [
    "visitorsA"
   ]
  },
  {
   "cell_type": "code",
   "execution_count": 13,
   "metadata": {},
   "outputs": [
    {
     "data": {
      "text/plain": [
       "0       3312258926\n",
       "1       3642806036\n",
       "3       1196621759\n",
       "4       2322279887\n",
       "5        935554773\n",
       "           ...    \n",
       "1189     393266494\n",
       "1190    1197745035\n",
       "1191     608641596\n",
       "1192    3733762160\n",
       "1196    2108080724\n",
       "Name: visitorId, Length: 640, dtype: int64"
      ]
     },
     "execution_count": 13,
     "metadata": {},
     "output_type": "execute_result"
    }
   ],
   "source": [
    "visitorsB"
   ]
  },
  {
   "cell_type": "markdown",
   "metadata": {},
   "source": [
    "Найдём пересечение по пользователям."
   ]
  },
  {
   "cell_type": "code",
   "execution_count": 14,
   "metadata": {},
   "outputs": [
    {
     "data": {
      "text/plain": [
       "58"
      ]
     },
     "execution_count": 14,
     "metadata": {},
     "output_type": "execute_result"
    }
   ],
   "source": [
    "visitors_AB = orders.loc[orders['visitorId'].isin(visitorsA)& orders['visitorId'].isin(visitorsB),'visitorId'].unique()\n",
    "len(visitors_AB)"
   ]
  },
  {
   "cell_type": "markdown",
   "metadata": {},
   "source": [
    "58 пользователей оказались в двух группах одновременно. Удалим таких пользователей, т.к. они могут некорректно повлиять на результаты теста."
   ]
  },
  {
   "cell_type": "code",
   "execution_count": 15,
   "metadata": {},
   "outputs": [
    {
     "name": "stdout",
     "output_type": "stream",
     "text": [
      "<class 'pandas.core.frame.DataFrame'>\n",
      "Int64Index: 1016 entries, 0 to 1196\n",
      "Data columns (total 5 columns):\n",
      "transactionId    1016 non-null int64\n",
      "visitorId        1016 non-null int64\n",
      "date             1016 non-null datetime64[ns]\n",
      "revenue          1016 non-null int64\n",
      "group            1016 non-null object\n",
      "dtypes: datetime64[ns](1), int64(3), object(1)\n",
      "memory usage: 47.6+ KB\n"
     ]
    }
   ],
   "source": [
    "orders = orders.loc[~orders['visitorId'].isin(visitors_AB)]\n",
    "orders.info()"
   ]
  },
  {
   "cell_type": "markdown",
   "metadata": {},
   "source": [
    "Были удалены заказы пользователей, которые попали в две группы. Поэтому количество строк в таблице уменьшилось до 1016 (а было 1197). Это достаточно большое уменьшение, но зато результаты теста будут более корректны."
   ]
  },
  {
   "cell_type": "markdown",
   "metadata": {},
   "source": [
    "Структура visitors.csv:\n",
    "- date — дата;\n",
    "- group — группа A/B-теста;\n",
    "- visitors — количество пользователей в указанную дату в указанной группе A/B-теста."
   ]
  },
  {
   "cell_type": "code",
   "execution_count": 16,
   "metadata": {},
   "outputs": [
    {
     "data": {
      "text/html": [
       "<div>\n",
       "<style scoped>\n",
       "    .dataframe tbody tr th:only-of-type {\n",
       "        vertical-align: middle;\n",
       "    }\n",
       "\n",
       "    .dataframe tbody tr th {\n",
       "        vertical-align: top;\n",
       "    }\n",
       "\n",
       "    .dataframe thead th {\n",
       "        text-align: right;\n",
       "    }\n",
       "</style>\n",
       "<table border=\"1\" class=\"dataframe\">\n",
       "  <thead>\n",
       "    <tr style=\"text-align: right;\">\n",
       "      <th></th>\n",
       "      <th>date</th>\n",
       "      <th>group</th>\n",
       "      <th>visitors</th>\n",
       "    </tr>\n",
       "  </thead>\n",
       "  <tbody>\n",
       "    <tr>\n",
       "      <td>21</td>\n",
       "      <td>2019-08-22</td>\n",
       "      <td>A</td>\n",
       "      <td>609</td>\n",
       "    </tr>\n",
       "    <tr>\n",
       "      <td>52</td>\n",
       "      <td>2019-08-22</td>\n",
       "      <td>B</td>\n",
       "      <td>650</td>\n",
       "    </tr>\n",
       "    <tr>\n",
       "      <td>38</td>\n",
       "      <td>2019-08-08</td>\n",
       "      <td>B</td>\n",
       "      <td>654</td>\n",
       "    </tr>\n",
       "    <tr>\n",
       "      <td>24</td>\n",
       "      <td>2019-08-25</td>\n",
       "      <td>A</td>\n",
       "      <td>621</td>\n",
       "    </tr>\n",
       "    <tr>\n",
       "      <td>2</td>\n",
       "      <td>2019-08-03</td>\n",
       "      <td>A</td>\n",
       "      <td>507</td>\n",
       "    </tr>\n",
       "    <tr>\n",
       "      <td>41</td>\n",
       "      <td>2019-08-11</td>\n",
       "      <td>B</td>\n",
       "      <td>721</td>\n",
       "    </tr>\n",
       "    <tr>\n",
       "      <td>60</td>\n",
       "      <td>2019-08-30</td>\n",
       "      <td>B</td>\n",
       "      <td>490</td>\n",
       "    </tr>\n",
       "    <tr>\n",
       "      <td>50</td>\n",
       "      <td>2019-08-20</td>\n",
       "      <td>B</td>\n",
       "      <td>560</td>\n",
       "    </tr>\n",
       "    <tr>\n",
       "      <td>35</td>\n",
       "      <td>2019-08-05</td>\n",
       "      <td>B</td>\n",
       "      <td>707</td>\n",
       "    </tr>\n",
       "    <tr>\n",
       "      <td>44</td>\n",
       "      <td>2019-08-14</td>\n",
       "      <td>B</td>\n",
       "      <td>746</td>\n",
       "    </tr>\n",
       "  </tbody>\n",
       "</table>\n",
       "</div>"
      ],
      "text/plain": [
       "          date group  visitors\n",
       "21  2019-08-22     A       609\n",
       "52  2019-08-22     B       650\n",
       "38  2019-08-08     B       654\n",
       "24  2019-08-25     A       621\n",
       "2   2019-08-03     A       507\n",
       "41  2019-08-11     B       721\n",
       "60  2019-08-30     B       490\n",
       "50  2019-08-20     B       560\n",
       "35  2019-08-05     B       707\n",
       "44  2019-08-14     B       746"
      ]
     },
     "metadata": {},
     "output_type": "display_data"
    }
   ],
   "source": [
    "display(visitors.sample(10, random_state=1))"
   ]
  },
  {
   "cell_type": "code",
   "execution_count": 17,
   "metadata": {},
   "outputs": [
    {
     "name": "stdout",
     "output_type": "stream",
     "text": [
      "<class 'pandas.core.frame.DataFrame'>\n",
      "RangeIndex: 62 entries, 0 to 61\n",
      "Data columns (total 3 columns):\n",
      "date        62 non-null object\n",
      "group       62 non-null object\n",
      "visitors    62 non-null int64\n",
      "dtypes: int64(1), object(2)\n",
      "memory usage: 1.6+ KB\n"
     ]
    }
   ],
   "source": [
    "visitors.info()"
   ]
  },
  {
   "cell_type": "code",
   "execution_count": 18,
   "metadata": {},
   "outputs": [
    {
     "data": {
      "text/plain": [
       "date        0\n",
       "group       0\n",
       "visitors    0\n",
       "dtype: int64"
      ]
     },
     "execution_count": 18,
     "metadata": {},
     "output_type": "execute_result"
    }
   ],
   "source": [
    "visitors.isnull().sum()"
   ]
  },
  {
   "cell_type": "code",
   "execution_count": 19,
   "metadata": {},
   "outputs": [
    {
     "data": {
      "text/plain": [
       "0"
      ]
     },
     "execution_count": 19,
     "metadata": {},
     "output_type": "execute_result"
    }
   ],
   "source": [
    "visitors.duplicated().sum()"
   ]
  },
  {
   "cell_type": "markdown",
   "metadata": {},
   "source": [
    "Пропусков и дубликатов нет, но нужно изменить тип данных в столбце с датами со строки на дату."
   ]
  },
  {
   "cell_type": "code",
   "execution_count": 20,
   "metadata": {},
   "outputs": [],
   "source": [
    "visitors['date'] = visitors['date'].map(lambda x: dt.datetime.strptime(x, '%Y-%m-%d'))"
   ]
  },
  {
   "cell_type": "markdown",
   "metadata": {},
   "source": [
    "### Анализ кумулятивных метрик"
   ]
  },
  {
   "cell_type": "markdown",
   "metadata": {},
   "source": [
    "Чтобы исключить проблему подсматривания, проанализируем графики метрик. \n",
    "Сначала посчитаем кумулятивную выручку."
   ]
  },
  {
   "cell_type": "code",
   "execution_count": 21,
   "metadata": {},
   "outputs": [
    {
     "data": {
      "text/html": [
       "<div>\n",
       "<style scoped>\n",
       "    .dataframe tbody tr th:only-of-type {\n",
       "        vertical-align: middle;\n",
       "    }\n",
       "\n",
       "    .dataframe tbody tr th {\n",
       "        vertical-align: top;\n",
       "    }\n",
       "\n",
       "    .dataframe thead th {\n",
       "        text-align: right;\n",
       "    }\n",
       "</style>\n",
       "<table border=\"1\" class=\"dataframe\">\n",
       "  <thead>\n",
       "    <tr style=\"text-align: right;\">\n",
       "      <th></th>\n",
       "      <th>date</th>\n",
       "      <th>group</th>\n",
       "      <th>orders</th>\n",
       "      <th>buyers</th>\n",
       "      <th>revenue</th>\n",
       "      <th>visitors</th>\n",
       "    </tr>\n",
       "  </thead>\n",
       "  <tbody>\n",
       "    <tr>\n",
       "      <td>0</td>\n",
       "      <td>2019-08-01</td>\n",
       "      <td>A</td>\n",
       "      <td>23</td>\n",
       "      <td>19</td>\n",
       "      <td>142779</td>\n",
       "      <td>719</td>\n",
       "    </tr>\n",
       "    <tr>\n",
       "      <td>1</td>\n",
       "      <td>2019-08-01</td>\n",
       "      <td>B</td>\n",
       "      <td>17</td>\n",
       "      <td>17</td>\n",
       "      <td>59758</td>\n",
       "      <td>713</td>\n",
       "    </tr>\n",
       "    <tr>\n",
       "      <td>2</td>\n",
       "      <td>2019-08-02</td>\n",
       "      <td>A</td>\n",
       "      <td>42</td>\n",
       "      <td>36</td>\n",
       "      <td>234381</td>\n",
       "      <td>1338</td>\n",
       "    </tr>\n",
       "    <tr>\n",
       "      <td>3</td>\n",
       "      <td>2019-08-02</td>\n",
       "      <td>B</td>\n",
       "      <td>40</td>\n",
       "      <td>39</td>\n",
       "      <td>221801</td>\n",
       "      <td>1294</td>\n",
       "    </tr>\n",
       "    <tr>\n",
       "      <td>4</td>\n",
       "      <td>2019-08-03</td>\n",
       "      <td>A</td>\n",
       "      <td>66</td>\n",
       "      <td>60</td>\n",
       "      <td>346854</td>\n",
       "      <td>1845</td>\n",
       "    </tr>\n",
       "  </tbody>\n",
       "</table>\n",
       "</div>"
      ],
      "text/plain": [
       "        date group  orders  buyers  revenue  visitors\n",
       "0 2019-08-01     A      23      19   142779       719\n",
       "1 2019-08-01     B      17      17    59758       713\n",
       "2 2019-08-02     A      42      36   234381      1338\n",
       "3 2019-08-02     B      40      39   221801      1294\n",
       "4 2019-08-03     A      66      60   346854      1845"
      ]
     },
     "execution_count": 21,
     "metadata": {},
     "output_type": "execute_result"
    }
   ],
   "source": [
    "datesGroups = orders[['date', 'group']].drop_duplicates()\n",
    "\n",
    "ordersAggregated = datesGroups.apply(\n",
    "        lambda x: orders[np.logical_and(orders['date'] <= x['date'], orders['group'] == x['group'])].agg({\n",
    "            'date': 'max',\n",
    "            'group': 'max',\n",
    "            'transactionId': pd.Series.nunique,\n",
    "            'visitorId': pd.Series.nunique,\n",
    "            'revenue': 'sum'}), axis=1).sort_values(by=['date', 'group'])\n",
    "\n",
    "visitorsAggregated = datesGroups.apply(\n",
    "        lambda x: visitors[np.logical_and(visitors['date'] <= x['date'], visitors['group'] == x['group'])].agg({\n",
    "            'date': 'max',\n",
    "            'group': 'max',\n",
    "            'visitors': 'sum'}), axis=1).sort_values(by=['date', 'group'])\n",
    "\n",
    "cumulativeData = ordersAggregated.merge(visitorsAggregated, left_on=['date', 'group'], right_on=['date', 'group'])\n",
    "cumulativeData.columns = ['date', 'group', 'orders', 'buyers', 'revenue', 'visitors']\n",
    "\n",
    "cumulativeData.head(5)"
   ]
  },
  {
   "cell_type": "markdown",
   "metadata": {},
   "source": [
    "Построим график кумулятивной выручки по дням и по группам."
   ]
  },
  {
   "cell_type": "code",
   "execution_count": 22,
   "metadata": {},
   "outputs": [
    {
     "name": "stderr",
     "output_type": "stream",
     "text": [
      "/opt/conda/lib/python3.7/site-packages/pandas/plotting/_matplotlib/converter.py:103: FutureWarning: Using an implicitly registered datetime converter for a matplotlib plotting method. The converter was registered by pandas on import. Future versions of pandas will require you to explicitly register matplotlib converters.\n",
      "\n",
      "To register the converters:\n",
      "\t>>> from pandas.plotting import register_matplotlib_converters\n",
      "\t>>> register_matplotlib_converters()\n",
      "  warnings.warn(msg, FutureWarning)\n"
     ]
    },
    {
     "data": {
      "image/png": "[encoded data removed]",
      "text/plain": [
       "<Figure size 1440x720 with 1 Axes>"
      ]
     },
     "metadata": {
      "needs_background": "light"
     },
     "output_type": "display_data"
    }
   ],
   "source": [
    "cumulativeRevenueA = cumulativeData[cumulativeData['group'] == 'A'][['date', 'revenue', 'orders']]\n",
    "cumulativeRevenueB = cumulativeData[cumulativeData['group'] == 'B'][['date', 'revenue', 'orders']]\n",
    "\n",
    "plt.figure(figsize=(20,10))\n",
    "plt.plot(cumulativeRevenueA['date'], cumulativeRevenueA['revenue'], label='A')\n",
    "plt.plot(cumulativeRevenueB['date'], cumulativeRevenueB['revenue'], label='B')\n",
    "plt.title('Изменение кумулятивной выручки по группам', fontsize=18)\n",
    "plt.xlabel('Дата')\n",
    "plt.ylabel('Выручка')\n",
    "plt.grid()\n",
    "plt.legend();"
   ]
  },
  {
   "cell_type": "markdown",
   "metadata": {},
   "source": [
    "В первой половине месяца различия кумулятивной выручки между группами были небольшими. Но, начиная со второй половины месяца группа B резко вырывается вперёд и далее стабильно растёт. У группы A такой рост не наблюдается.\n",
    "Можно сделать предположение, что в группу B попали аномальные пользователи. Поэтому в дальнейшем мы сделаем проверку на аномалии."
   ]
  },
  {
   "cell_type": "markdown",
   "metadata": {},
   "source": [
    "Кумулятивный средний чек."
   ]
  },
  {
   "cell_type": "markdown",
   "metadata": {},
   "source": [
    "Построим график кумулятивного среднего чека по дням и по группам."
   ]
  },
  {
   "cell_type": "code",
   "execution_count": 23,
   "metadata": {},
   "outputs": [
    {
     "data": {
      "image/png": "[encoded data removed]",
      "text/plain": [
       "<Figure size 1440x720 with 1 Axes>"
      ]
     },
     "metadata": {
      "needs_background": "light"
     },
     "output_type": "display_data"
    }
   ],
   "source": [
    "plt.figure(figsize=(20,10))\n",
    "plt.plot(cumulativeRevenueA['date'], cumulativeRevenueA['revenue'] / cumulativeRevenueA['orders'], label = 'A')\n",
    "plt.plot(cumulativeRevenueB['date'], cumulativeRevenueB['revenue'] / cumulativeRevenueB['orders'], label = 'B')\n",
    "plt.title('Изменение кумулятивного среднего чека по группам', fontsize=18)\n",
    "plt.xlabel('Дата')\n",
    "plt.ylabel('Средний чек')\n",
    "plt.grid()\n",
    "plt.legend();"
   ]
  },
  {
   "cell_type": "markdown",
   "metadata": {},
   "source": [
    "Почти на протяжении всего периода кумулятивный средний чек группы B выше, чем средний чек группы A.\n",
    "Также наблюдается резкий рост среднего чека группы B во второй половине месяца. Поэтому необходим дополнительный анализ выбросов."
   ]
  },
  {
   "cell_type": "markdown",
   "metadata": {},
   "source": [
    "Построим график относительного изменения кумулятивного среднего чека группы B к группе A"
   ]
  },
  {
   "cell_type": "code",
   "execution_count": 24,
   "metadata": {},
   "outputs": [
    {
     "data": {
      "image/png": "[encoded data removed]",
      "text/plain": [
       "<Figure size 1440x720 with 1 Axes>"
      ]
     },
     "metadata": {
      "needs_background": "light"
     },
     "output_type": "display_data"
    }
   ],
   "source": [
    "mergedCumulativeRevenue = cumulativeRevenueA.merge(\n",
    "    cumulativeRevenueB, left_on='date', right_on='date', how='left', suffixes=['A', 'B'])\n",
    "\n",
    "plt.figure(figsize=(20,10))\n",
    "plt.plot(mergedCumulativeRevenue['date'], (mergedCumulativeRevenue['revenueB'] / mergedCumulativeRevenue['ordersB']) \\\n",
    "         / (mergedCumulativeRevenue['revenueA'] / mergedCumulativeRevenue['ordersA']) - 1)\n",
    "plt.axhline(y=0, color='black', linestyle='--')\n",
    "plt.title('Относительное изменение кумулятивного среднего чека группы B к группе A', fontsize=18)\n",
    "plt.xlabel('Дата')\n",
    "plt.grid();"
   ]
  },
  {
   "cell_type": "markdown",
   "metadata": {},
   "source": [
    "Результаты теста значительно и резко менялись несколько раз. Это может свидетельствовать о том, что в эти даты были совершены аномальные заказы. Данный график ещё раз показывает, необходимо исследовать данные на выбросы."
   ]
  },
  {
   "cell_type": "markdown",
   "metadata": {},
   "source": [
    "Кумулятивная конверсия."
   ]
  },
  {
   "cell_type": "markdown",
   "metadata": {},
   "source": [
    "Построим график кумулятивной конверсии по датам и по группам."
   ]
  },
  {
   "cell_type": "code",
   "execution_count": 25,
   "metadata": {},
   "outputs": [
    {
     "data": {
      "image/png": "[encoded data removed]",
      "text/plain": [
       "<Figure size 1440x720 with 1 Axes>"
      ]
     },
     "metadata": {
      "needs_background": "light"
     },
     "output_type": "display_data"
    }
   ],
   "source": [
    "cumulativeData['conversion'] = cumulativeData['orders'] / cumulativeData['visitors']\n",
    "\n",
    "cumulativeDataA = cumulativeData[cumulativeData['group'] == 'A']\n",
    "cumulativeDataB = cumulativeData[cumulativeData['group'] == 'B']\n",
    "\n",
    "plt.figure(figsize=(20,10))\n",
    "plt.plot(cumulativeDataA['date'], cumulativeDataA['conversion'], label='A')\n",
    "plt.plot(cumulativeDataB['date'], cumulativeDataB['conversion'], label='B')\n",
    "plt.title('Изменение кумулятивной конверсии по группам', fontsize=18)\n",
    "plt.xlabel('Дата')\n",
    "plt.grid()\n",
    "plt.legend()\n",
    "plt.axis([\"2019-08-01\", '2019-08-31', 0.02, 0.04]);\n"
   ]
  },
  {
   "cell_type": "markdown",
   "metadata": {},
   "source": [
    "В начале теста наблюдаются колебания кумулятивной конверсии - то у группы A выше, то у группы B. Затем конверсия группы A снижается и выравнивается вокруг своего среднего значения, а конверсия группы B, наоборот, растёт и также выравнивается у своего среднего значения.\n",
    "Группа B демонстрирует лучше конверсию, чем группа A, но это может быть следствием аномалий."
   ]
  },
  {
   "cell_type": "markdown",
   "metadata": {},
   "source": [
    "Построим график относительного изменения кумулятивной конверсии группы B к группе A."
   ]
  },
  {
   "cell_type": "code",
   "execution_count": 26,
   "metadata": {},
   "outputs": [
    {
     "data": {
      "image/png": "[encoded data removed]",
      "text/plain": [
       "<Figure size 1440x720 with 1 Axes>"
      ]
     },
     "metadata": {
      "needs_background": "light"
     },
     "output_type": "display_data"
    }
   ],
   "source": [
    "mergedCumulativeConversions = cumulativeDataA[['date', 'conversion']]\\\n",
    "                            .merge(cumulativeDataB[['date', 'conversion']],\n",
    "                             left_on='date',\n",
    "                             right_on='date',\n",
    "                             how='left',\n",
    "                             suffixes=['A', 'B'])\n",
    "plt.figure(figsize=(20,10))\n",
    "plt.plot(\n",
    "    mergedCumulativeConversions['date'],\n",
    "    mergedCumulativeConversions['conversionB'] / mergedCumulativeConversions['conversionA']-1)\n",
    "plt.title('Относительное изменение кумулятивной конверсии группы B к группе A', fontsize=18)\n",
    "plt.axhline(y=0, color='black', linestyle='--')\n",
    "plt.axhline(y=0.1, color='grey', linestyle='--')\n",
    "plt.xlabel('Дата')\n",
    "plt.grid()\n",
    "plt.axis([\"2019-08-01\", '2019-08-31', -0.3, 0.3]);"
   ]
  },
  {
   "cell_type": "markdown",
   "metadata": {},
   "source": [
    "Группа B в начале периода демонстрирует конверсию хуже, чем у группы A, но  в дальнейшем она растёт, преодолевает уровень в 10% и даже 20%. При этом до конца периода этот показатель не опускается ниже 10%.\n",
    "В следующих пунктах на необходимо проверить данные на аномалии и исключить их влияние."
   ]
  },
  {
   "cell_type": "markdown",
   "metadata": {},
   "source": [
    "### Анализ выбросов и всплесков: крайние значения данных"
   ]
  },
  {
   "cell_type": "markdown",
   "metadata": {},
   "source": [
    "Посчитаем количество заказов по пользователям."
   ]
  },
  {
   "cell_type": "code",
   "execution_count": 27,
   "metadata": {},
   "outputs": [
    {
     "data": {
      "text/html": [
       "<div>\n",
       "<style scoped>\n",
       "    .dataframe tbody tr th:only-of-type {\n",
       "        vertical-align: middle;\n",
       "    }\n",
       "\n",
       "    .dataframe tbody tr th {\n",
       "        vertical-align: top;\n",
       "    }\n",
       "\n",
       "    .dataframe thead th {\n",
       "        text-align: right;\n",
       "    }\n",
       "</style>\n",
       "<table border=\"1\" class=\"dataframe\">\n",
       "  <thead>\n",
       "    <tr style=\"text-align: right;\">\n",
       "      <th></th>\n",
       "      <th>visitorId</th>\n",
       "      <th>orders</th>\n",
       "    </tr>\n",
       "  </thead>\n",
       "  <tbody>\n",
       "    <tr>\n",
       "      <td>908</td>\n",
       "      <td>3967698036</td>\n",
       "      <td>3</td>\n",
       "    </tr>\n",
       "    <tr>\n",
       "      <td>55</td>\n",
       "      <td>249864742</td>\n",
       "      <td>3</td>\n",
       "    </tr>\n",
       "    <tr>\n",
       "      <td>478</td>\n",
       "      <td>2108163459</td>\n",
       "      <td>3</td>\n",
       "    </tr>\n",
       "    <tr>\n",
       "      <td>687</td>\n",
       "      <td>2988190573</td>\n",
       "      <td>3</td>\n",
       "    </tr>\n",
       "    <tr>\n",
       "      <td>890</td>\n",
       "      <td>3908431265</td>\n",
       "      <td>3</td>\n",
       "    </tr>\n",
       "    <tr>\n",
       "      <td>138</td>\n",
       "      <td>611059232</td>\n",
       "      <td>3</td>\n",
       "    </tr>\n",
       "    <tr>\n",
       "      <td>632</td>\n",
       "      <td>2742574263</td>\n",
       "      <td>3</td>\n",
       "    </tr>\n",
       "    <tr>\n",
       "      <td>157</td>\n",
       "      <td>678354126</td>\n",
       "      <td>2</td>\n",
       "    </tr>\n",
       "    <tr>\n",
       "      <td>323</td>\n",
       "      <td>1404560065</td>\n",
       "      <td>2</td>\n",
       "    </tr>\n",
       "    <tr>\n",
       "      <td>452</td>\n",
       "      <td>1985475298</td>\n",
       "      <td>2</td>\n",
       "    </tr>\n",
       "  </tbody>\n",
       "</table>\n",
       "</div>"
      ],
      "text/plain": [
       "      visitorId  orders\n",
       "908  3967698036       3\n",
       "55    249864742       3\n",
       "478  2108163459       3\n",
       "687  2988190573       3\n",
       "890  3908431265       3\n",
       "138   611059232       3\n",
       "632  2742574263       3\n",
       "157   678354126       2\n",
       "323  1404560065       2\n",
       "452  1985475298       2"
      ]
     },
     "execution_count": 27,
     "metadata": {},
     "output_type": "execute_result"
    }
   ],
   "source": [
    "ordersByUsers = (\n",
    "    orders.drop(['group', 'revenue', 'date'], axis=1)\n",
    "    .groupby('visitorId', as_index=False)\n",
    "    .agg({'transactionId': pd.Series.nunique})\n",
    ")\n",
    "ordersByUsers.columns = ['visitorId', 'orders']\n",
    "ordersByUsers.sort_values(by='orders', ascending=False).head(10)"
   ]
  },
  {
   "cell_type": "markdown",
   "metadata": {},
   "source": [
    "Построим точечный график количества заказов по пользователям. "
   ]
  },
  {
   "cell_type": "code",
   "execution_count": 28,
   "metadata": {},
   "outputs": [
    {
     "data": {
      "image/png": "[encoded data removed]",
      "text/plain": [
       "<Figure size 1440x720 with 1 Axes>"
      ]
     },
     "metadata": {
      "needs_background": "light"
     },
     "output_type": "display_data"
    }
   ],
   "source": [
    "x_values = pd.Series(range(0, len(ordersByUsers)))\n",
    "\n",
    "plt.figure(figsize=(20,10))\n",
    "plt.scatter(x_values, ordersByUsers['orders'])\n",
    "plt.title('Количество заказов по пользователям', fontsize=18)\n",
    "plt.xlabel('Пользователи')\n",
    "plt.ylabel('Количество заказов')\n",
    "plt.grid();"
   ]
  },
  {
   "cell_type": "markdown",
   "metadata": {},
   "source": [
    "Большинство пользователей совершает 1 заказ, остальные 2-3 заказа и эти значения похожи на выбросы."
   ]
  },
  {
   "cell_type": "markdown",
   "metadata": {},
   "source": [
    "Посчитаем 95-й и 99-й перцентили количества заказов на пользователя. "
   ]
  },
  {
   "cell_type": "code",
   "execution_count": 29,
   "metadata": {},
   "outputs": [
    {
     "name": "stdout",
     "output_type": "stream",
     "text": [
      "95-й перцентиль количества заказов на пользователя: 1.0\n",
      "99-й перцентиль количества заказов на пользователя: 2.0\n"
     ]
    }
   ],
   "source": [
    "print('95-й перцентиль количества заказов на пользователя:', np.percentile(ordersByUsers['orders'], 95))\n",
    "print('99-й перцентиль количества заказов на пользователя:', np.percentile(ordersByUsers['orders'], 99))"
   ]
  },
  {
   "cell_type": "markdown",
   "metadata": {},
   "source": [
    "Доля пользователей, которые совершили более 1 заказа - 5%, а более 2 заказов - всего лишь 1%."
   ]
  },
  {
   "cell_type": "markdown",
   "metadata": {},
   "source": [
    "Построим точечный график стоимостей заказов."
   ]
  },
  {
   "cell_type": "code",
   "execution_count": 30,
   "metadata": {},
   "outputs": [
    {
     "data": {
      "image/png": "[encoded data removed]",
      "text/plain": [
       "<Figure size 1440x720 with 1 Axes>"
      ]
     },
     "metadata": {
      "needs_background": "light"
     },
     "output_type": "display_data"
    }
   ],
   "source": [
    "x_values = pd.Series(range(0, len(orders['revenue'])))\n",
    "\n",
    "plt.figure(figsize=(20,10))\n",
    "plt.scatter(x_values, orders['revenue'])\n",
    "plt.title('Стоимость заказов по пользователям', fontsize=18)\n",
    "plt.xlabel('Заказы')\n",
    "plt.ylabel('Стоимость заказов')\n",
    "plt.grid();"
   ]
  },
  {
   "cell_type": "markdown",
   "metadata": {},
   "source": [
    "Большинство заказов до 100 000, также мы видим, что один заказ более 1 200 000, он даёт искажение всей картины.\n",
    "И из-за этого заказа не видно на графике распределение стоимости заказов."
   ]
  },
  {
   "cell_type": "markdown",
   "metadata": {},
   "source": [
    "Поэтому посчитаем 95-й и 99-й перцентили стоимости заказов."
   ]
  },
  {
   "cell_type": "code",
   "execution_count": 31,
   "metadata": {},
   "outputs": [
    {
     "name": "stdout",
     "output_type": "stream",
     "text": [
      "95-й перцентиль стоимости заказов: 26785.0\n",
      "99-й перцентиль стоимости заказов: 53904.0\n"
     ]
    }
   ],
   "source": [
    "print('95-й перцентиль стоимости заказов:', round(np.percentile(orders['revenue'], 95), 2))\n",
    "print('99-й перцентиль стоимости заказов:', round(np.percentile(orders['revenue'], 99), 2))"
   ]
  },
  {
   "cell_type": "markdown",
   "metadata": {},
   "source": [
    "Доля заказов, стоимость которых выше 26 785 - 5%, а выше 53 904 - всего лишь 1%."
   ]
  },
  {
   "cell_type": "markdown",
   "metadata": {},
   "source": [
    "С учётом выше сделанного анализа выбросов выберем границу для определения аномальных пользователей - более 1 заказа и  границу для определения аномальных заказов - более 26 785."
   ]
  },
  {
   "cell_type": "markdown",
   "metadata": {},
   "source": [
    "### Расчёт статистической значимости"
   ]
  },
  {
   "cell_type": "markdown",
   "metadata": {},
   "source": [
    "Посчитаем статистическую значимость различий в конверсии между группами по «сырым» данным.\n",
    "Сформулируем гипотезы:\n",
    "- нулевая гипотеза - статистически значимых различий в конверсии нет;\n",
    "- альтернативная гипотеза - статистически значимые различия в конверсии есть."
   ]
  },
  {
   "cell_type": "code",
   "execution_count": 32,
   "metadata": {},
   "outputs": [
    {
     "data": {
      "text/html": [
       "<div>\n",
       "<style scoped>\n",
       "    .dataframe tbody tr th:only-of-type {\n",
       "        vertical-align: middle;\n",
       "    }\n",
       "\n",
       "    .dataframe tbody tr th {\n",
       "        vertical-align: top;\n",
       "    }\n",
       "\n",
       "    .dataframe thead th {\n",
       "        text-align: right;\n",
       "    }\n",
       "</style>\n",
       "<table border=\"1\" class=\"dataframe\">\n",
       "  <thead>\n",
       "    <tr style=\"text-align: right;\">\n",
       "      <th></th>\n",
       "      <th>date</th>\n",
       "      <th>ordersPerDateA</th>\n",
       "      <th>revenuePerDateA</th>\n",
       "      <th>ordersPerDateB</th>\n",
       "      <th>revenuePerDateB</th>\n",
       "      <th>ordersCummulativeA</th>\n",
       "      <th>revenueCummulativeA</th>\n",
       "      <th>ordersCummulativeB</th>\n",
       "      <th>revenueCummulativeB</th>\n",
       "      <th>visitorsPerDateA</th>\n",
       "      <th>visitorsPerDateB</th>\n",
       "      <th>visitorsCummulativeA</th>\n",
       "      <th>visitorsCummulativeB</th>\n",
       "    </tr>\n",
       "  </thead>\n",
       "  <tbody>\n",
       "    <tr>\n",
       "      <td>0</td>\n",
       "      <td>2019-08-01</td>\n",
       "      <td>23</td>\n",
       "      <td>142779</td>\n",
       "      <td>17</td>\n",
       "      <td>59758</td>\n",
       "      <td>23</td>\n",
       "      <td>142779</td>\n",
       "      <td>17</td>\n",
       "      <td>59758</td>\n",
       "      <td>719</td>\n",
       "      <td>713</td>\n",
       "      <td>719</td>\n",
       "      <td>713</td>\n",
       "    </tr>\n",
       "    <tr>\n",
       "      <td>1</td>\n",
       "      <td>2019-08-02</td>\n",
       "      <td>19</td>\n",
       "      <td>91602</td>\n",
       "      <td>23</td>\n",
       "      <td>162043</td>\n",
       "      <td>42</td>\n",
       "      <td>234381</td>\n",
       "      <td>40</td>\n",
       "      <td>221801</td>\n",
       "      <td>619</td>\n",
       "      <td>581</td>\n",
       "      <td>1338</td>\n",
       "      <td>1294</td>\n",
       "    </tr>\n",
       "    <tr>\n",
       "      <td>2</td>\n",
       "      <td>2019-08-03</td>\n",
       "      <td>24</td>\n",
       "      <td>112473</td>\n",
       "      <td>14</td>\n",
       "      <td>67049</td>\n",
       "      <td>66</td>\n",
       "      <td>346854</td>\n",
       "      <td>54</td>\n",
       "      <td>288850</td>\n",
       "      <td>507</td>\n",
       "      <td>509</td>\n",
       "      <td>1845</td>\n",
       "      <td>1803</td>\n",
       "    </tr>\n",
       "    <tr>\n",
       "      <td>3</td>\n",
       "      <td>2019-08-04</td>\n",
       "      <td>11</td>\n",
       "      <td>41176</td>\n",
       "      <td>14</td>\n",
       "      <td>96890</td>\n",
       "      <td>77</td>\n",
       "      <td>388030</td>\n",
       "      <td>68</td>\n",
       "      <td>385740</td>\n",
       "      <td>717</td>\n",
       "      <td>770</td>\n",
       "      <td>2562</td>\n",
       "      <td>2573</td>\n",
       "    </tr>\n",
       "    <tr>\n",
       "      <td>4</td>\n",
       "      <td>2019-08-05</td>\n",
       "      <td>22</td>\n",
       "      <td>86383</td>\n",
       "      <td>21</td>\n",
       "      <td>89908</td>\n",
       "      <td>99</td>\n",
       "      <td>474413</td>\n",
       "      <td>89</td>\n",
       "      <td>475648</td>\n",
       "      <td>756</td>\n",
       "      <td>707</td>\n",
       "      <td>3318</td>\n",
       "      <td>3280</td>\n",
       "    </tr>\n",
       "  </tbody>\n",
       "</table>\n",
       "</div>"
      ],
      "text/plain": [
       "        date  ordersPerDateA  revenuePerDateA  ordersPerDateB  \\\n",
       "0 2019-08-01              23           142779              17   \n",
       "1 2019-08-02              19            91602              23   \n",
       "2 2019-08-03              24           112473              14   \n",
       "3 2019-08-04              11            41176              14   \n",
       "4 2019-08-05              22            86383              21   \n",
       "\n",
       "   revenuePerDateB  ordersCummulativeA  revenueCummulativeA  \\\n",
       "0            59758                  23               142779   \n",
       "1           162043                  42               234381   \n",
       "2            67049                  66               346854   \n",
       "3            96890                  77               388030   \n",
       "4            89908                  99               474413   \n",
       "\n",
       "   ordersCummulativeB  revenueCummulativeB  visitorsPerDateA  \\\n",
       "0                  17                59758               719   \n",
       "1                  40               221801               619   \n",
       "2                  54               288850               507   \n",
       "3                  68               385740               717   \n",
       "4                  89               475648               756   \n",
       "\n",
       "   visitorsPerDateB  visitorsCummulativeA  visitorsCummulativeB  \n",
       "0               713                   719                   713  \n",
       "1               581                  1338                  1294  \n",
       "2               509                  1845                  1803  \n",
       "3               770                  2562                  2573  \n",
       "4               707                  3318                  3280  "
      ]
     },
     "execution_count": 32,
     "metadata": {},
     "output_type": "execute_result"
    }
   ],
   "source": [
    "visitorsADaily = visitors[visitors['group'] == 'A'][['date', 'visitors']]\n",
    "visitorsADaily.columns = ['date', 'visitorsPerDateA']\n",
    "\n",
    "visitorsACummulative = visitorsADaily.apply(\n",
    "    lambda x: visitorsADaily[visitorsADaily['date'] <= x['date']].agg(\n",
    "        {'date': 'max', 'visitorsPerDateA': 'sum'}\n",
    "    ),\n",
    "    axis=1,\n",
    ")\n",
    "visitorsACummulative.columns = ['date', 'visitorsCummulativeA']\n",
    "\n",
    "visitorsBDaily = visitors[visitors['group'] == 'B'][['date', 'visitors']]\n",
    "visitorsBDaily.columns = ['date', 'visitorsPerDateB']\n",
    "\n",
    "visitorsBCummulative = visitorsBDaily.apply(\n",
    "    lambda x: visitorsBDaily[visitorsBDaily['date'] <= x['date']].agg(\n",
    "        {'date': 'max', 'visitorsPerDateB': 'sum'}\n",
    "    ),\n",
    "    axis=1,\n",
    ")\n",
    "visitorsBCummulative.columns = ['date', 'visitorsCummulativeB']\n",
    "\n",
    "ordersADaily = (\n",
    "    orders[orders['group'] == 'A'][['date', 'transactionId', 'visitorId', 'revenue']]\n",
    "    .groupby('date', as_index=False)\n",
    "    .agg({'transactionId': pd.Series.nunique, 'revenue': 'sum'})\n",
    ")\n",
    "ordersADaily.columns = ['date', 'ordersPerDateA', 'revenuePerDateA']\n",
    "\n",
    "ordersACummulative = ordersADaily.apply(\n",
    "    lambda x: ordersADaily[ordersADaily['date'] <= x['date']].agg(\n",
    "        {'date': 'max', 'ordersPerDateA': 'sum', 'revenuePerDateA': 'sum'}\n",
    "    ),\n",
    "    axis=1,\n",
    ").sort_values(by=['date'])\n",
    "ordersACummulative.columns = [\n",
    "    'date',\n",
    "    'ordersCummulativeA',\n",
    "    'revenueCummulativeA',\n",
    "]\n",
    "\n",
    "ordersBDaily = (\n",
    "    orders[orders['group'] == 'B'][['date', 'transactionId', 'visitorId', 'revenue']]\n",
    "    .groupby('date', as_index=False)\n",
    "    .agg({'transactionId': pd.Series.nunique, 'revenue': 'sum'})\n",
    ")\n",
    "ordersBDaily.columns = ['date', 'ordersPerDateB', 'revenuePerDateB']\n",
    "\n",
    "ordersBCummulative = ordersBDaily.apply(\n",
    "    lambda x: ordersBDaily[ordersBDaily['date'] <= x['date']].agg(\n",
    "        {'date': 'max', 'ordersPerDateB': 'sum', 'revenuePerDateB': 'sum'}\n",
    "    ),\n",
    "    axis=1,\n",
    ").sort_values(by=['date'])\n",
    "ordersBCummulative.columns = [\n",
    "    'date',\n",
    "    'ordersCummulativeB',\n",
    "    'revenueCummulativeB',\n",
    "]\n",
    "\n",
    "data = (\n",
    "    ordersADaily.merge(\n",
    "        ordersBDaily, left_on='date', right_on='date', how='left'\n",
    "    )\n",
    "    .merge(ordersACummulative, left_on='date', right_on='date', how='left')\n",
    "    .merge(ordersBCummulative, left_on='date', right_on='date', how='left')\n",
    "    .merge(visitorsADaily, left_on='date', right_on='date', how='left')\n",
    "    .merge(visitorsBDaily, left_on='date', right_on='date', how='left')\n",
    "    .merge(visitorsACummulative, left_on='date', right_on='date', how='left')\n",
    "    .merge(visitorsBCummulative, left_on='date', right_on='date', how='left')\n",
    ")\n",
    "\n",
    "data.head(5)"
   ]
  },
  {
   "cell_type": "code",
   "execution_count": 33,
   "metadata": {},
   "outputs": [
    {
     "name": "stdout",
     "output_type": "stream",
     "text": [
      "P-value: 0.011\n",
      "Относительное изменение конверсии группы B к группе A: 16.0%\n"
     ]
    }
   ],
   "source": [
    "ordersByUsersA = (\n",
    "    orders[orders['group'] == 'A']\n",
    "    .groupby('visitorId', as_index=False)\n",
    "    .agg({'transactionId': pd.Series.nunique})\n",
    ")\n",
    "ordersByUsersA.columns = ['visitorId', 'orders']\n",
    "\n",
    "ordersByUsersB = (\n",
    "    orders[orders['group'] == 'B']\n",
    "    .groupby('visitorId', as_index=False)\n",
    "    .agg({'transactionId': pd.Series.nunique})\n",
    ")\n",
    "ordersByUsersB.columns = ['visitorId', 'orders']\n",
    "\n",
    "sampleA = pd.concat(\n",
    "    [ordersByUsersA['orders'], pd.Series(0, index=np.arange(\n",
    "        data['visitorsPerDateA'].sum() - len(ordersByUsersA['orders'])), name='orders')], axis=0)\n",
    "\n",
    "sampleB = pd.concat(\n",
    "    [ordersByUsersB['orders'], pd.Series(0, index=np.arange(\n",
    "        data['visitorsPerDateB'].sum() - len(ordersByUsersB['orders'])), name='orders')], axis=0)\n",
    "\n",
    "print('P-value: {0:.3f}'.format(stats.mannwhitneyu(sampleA, sampleB, alternative = 'two-sided')[1]))\n",
    "\n",
    "print('Относительное изменение конверсии группы B к группе A: {:.1%}'\n",
    "      .format((data['ordersPerDateB'].sum()\n",
    "                /data['visitorsPerDateB'].sum())\n",
    "                /(data['ordersPerDateA'].sum()\n",
    "                /data['visitorsPerDateA'].sum())-1))"
   ]
  },
  {
   "cell_type": "markdown",
   "metadata": {},
   "source": [
    "Нулевую гипотезу отвергаем, так как P-value меньше 0.05. Соответственно, между группами есть статистически значимые различия в конверсии."
   ]
  },
  {
   "cell_type": "markdown",
   "metadata": {},
   "source": [
    "Посчитаем статистическую значимость различий в среднем чеке заказа между группами по «сырым» данным.\n",
    "Сформулируем гипотезы:\n",
    "- нулевая гипотеза - статистически значимых различий в среднем чеке нет;\n",
    "- альтернативная гипотеза - статистически значимые различия в среднем чеке есть."
   ]
  },
  {
   "cell_type": "code",
   "execution_count": 34,
   "metadata": {},
   "outputs": [
    {
     "name": "stdout",
     "output_type": "stream",
     "text": [
      "P-value: 0.829\n",
      "Относительное изменение среднего чека в группе B к группе A: 28.7%\n"
     ]
    }
   ],
   "source": [
    "print('P-value: {0:.3f}'.format(stats.mannwhitneyu(orders[orders['group']=='A']['revenue'],\n",
    "                                                   orders[orders['group']=='B']['revenue'], alternative = 'two-sided')[1]))\n",
    "print('Относительное изменение среднего чека в группе B к группе A: {:.1%}'\n",
    "      .format(orders[orders['group']=='B']['revenue'].mean()/orders[orders['group']=='A']['revenue'].mean()-1))"
   ]
  },
  {
   "cell_type": "markdown",
   "metadata": {},
   "source": [
    "Нулевую гипотезу не можем отвергнуть, так как P-value больше 0.05. Соответственно, между группами нет статистически значимых различий в среднем чеке заказа. Нужно дополнительно проверить различие после того, как будут очищены данные от выбросов."
   ]
  },
  {
   "cell_type": "markdown",
   "metadata": {},
   "source": [
    "Посчитаем статистическую значимость различий в конверсии между группами по «очищенным» данным.\n",
    "Сформулируем гипотезы:\n",
    "- нулевая гипотеза - статистически значимых различий в конверсии нет;\n",
    "- альтернативная гипотеза - статистически значимые различия в конверсии есть."
   ]
  },
  {
   "cell_type": "markdown",
   "metadata": {},
   "source": [
    "Найдём аномальных пользователей."
   ]
  },
  {
   "cell_type": "code",
   "execution_count": 35,
   "metadata": {},
   "outputs": [
    {
     "data": {
      "text/plain": [
       "1099    148427295\n",
       "928     204675465\n",
       "33      249864742\n",
       "684     358944393\n",
       "648     382846391\n",
       "Name: visitorId, dtype: int64"
      ]
     },
     "execution_count": 35,
     "metadata": {},
     "output_type": "execute_result"
    }
   ],
   "source": [
    "usersWithManyOrders = pd.concat(\n",
    "    [\n",
    "       ordersByUsersA[ordersByUsersA['orders'] > 2]['visitorId'],\n",
    "       ordersByUsersB[ordersByUsersB['orders'] > 2]['visitorId'], \n",
    "    ],\n",
    "    axis=0,\n",
    ")\n",
    "\n",
    "usersWithExpensiveOrders = orders[orders['revenue'] > 28000]['visitorId']\n",
    "abnormalUsers = (\n",
    "    pd.concat([usersWithManyOrders, usersWithExpensiveOrders], axis=0)\n",
    "    .drop_duplicates()\n",
    "    .sort_values()\n",
    ")\n",
    "\n",
    "abnormalUsers.head(5)"
   ]
  },
  {
   "cell_type": "markdown",
   "metadata": {},
   "source": [
    "Отфильтруем данные, убрав аномальных пользователей."
   ]
  },
  {
   "cell_type": "code",
   "execution_count": 36,
   "metadata": {},
   "outputs": [
    {
     "name": "stdout",
     "output_type": "stream",
     "text": [
      "P-value: 0.009\n",
      "Относительное изменение конверсии группы B к группе A: 18.9%\n"
     ]
    }
   ],
   "source": [
    "sampleAFiltered = pd.concat(\n",
    "    [\n",
    "        ordersByUsersA[\n",
    "            np.logical_not(ordersByUsersA['visitorId'].isin(abnormalUsers))\n",
    "        ]['orders'],\n",
    "        pd.Series(\n",
    "            0,\n",
    "            index=np.arange(\n",
    "                data['visitorsPerDateA'].sum() - len(ordersByUsersA['orders'])\n",
    "            ),\n",
    "            name='orders',\n",
    "        ),\n",
    "    ],\n",
    "    axis=0,\n",
    ")\n",
    "\n",
    "sampleBFiltered = pd.concat(\n",
    "    [\n",
    "        ordersByUsersB[\n",
    "            np.logical_not(ordersByUsersB['visitorId'].isin(abnormalUsers))\n",
    "        ]['orders'],\n",
    "        pd.Series(\n",
    "            0,\n",
    "            index=np.arange(\n",
    "                data['visitorsPerDateB'].sum() - len(ordersByUsersB['orders'])\n",
    "            ),\n",
    "            name='orders',\n",
    "        ),\n",
    "    ],\n",
    "    axis=0,\n",
    ")\n",
    "\n",
    "print('P-value: {0:.3f}'.format(stats.mannwhitneyu(sampleAFiltered, sampleBFiltered, alternative = 'two-sided')[1]))\n",
    "print('Относительное изменение конверсии группы B к группе A: {:.1%}'\n",
    "      .format(sampleBFiltered.mean()/sampleAFiltered.mean()-1)) "
   ]
  },
  {
   "cell_type": "markdown",
   "metadata": {},
   "source": [
    "По результатам теста нулевую гипотезу отвергаем, так как P-value меньше 0.05. Соответственно, между группами есть статистически значимые различия в конверсии после удаления выбросов."
   ]
  },
  {
   "cell_type": "markdown",
   "metadata": {},
   "source": [
    "Посчитаем статистическую значимость различий в среднем чеке заказа между группами по «очищенным» данным. Сформулируем гипотезы:\n",
    "- нулевая гипотеза - статистически значимых различий в среднем чеке нет;\n",
    "- альтернативная гипотеза - статистически значимые различия в среднем чеке есть."
   ]
  },
  {
   "cell_type": "code",
   "execution_count": 37,
   "metadata": {},
   "outputs": [
    {
     "name": "stdout",
     "output_type": "stream",
     "text": [
      "P-value: 0.762\n",
      "Относительное изменение среднего чека в группе B к группе A: -2.2%\n"
     ]
    }
   ],
   "source": [
    "print('P-value: {0:.3f}'\n",
    "      .format(stats.mannwhitneyu(\n",
    "          orders[np.logical_and(orders['group'] == 'A', np.logical_not(orders['visitorId'].isin(abnormalUsers)))]['revenue'],\n",
    "          orders[np.logical_and(orders['group'] == 'B', np.logical_not(orders['visitorId'].isin(abnormalUsers)))]['revenue'],\n",
    "          alternative = 'two-sided')[1]))\n",
    "\n",
    "print('Относительное изменение среднего чека в группе B к группе A: {:.1%}'\n",
    "      .format(orders[np.logical_and(orders['group'] == 'B', \n",
    "                                    np.logical_not(orders['visitorId'].isin(abnormalUsers)))]['revenue'].mean()\n",
    "              / orders[np.logical_and(orders['group'] == 'A', \n",
    "                                      np.logical_not(orders['visitorId'].isin(abnormalUsers)))]['revenue'].mean() - 1))"
   ]
  },
  {
   "cell_type": "markdown",
   "metadata": {},
   "source": [
    "По результатам теста нулевую гипотезу не можем отвергнуть, так как P-value больше 0.05. Соответственно, между группами нет статистически значимых различий в среднем чеке после удаления выбросов.\n",
    "Но относительное изменение среднего чека по \"очищенным\" данным показывает, что средний чек группы B на 2.2% снизился по отношению к группе A. Влияние аномалий было сильным, и мы это влияние убрали."
   ]
  },
  {
   "cell_type": "markdown",
   "metadata": {},
   "source": [
    "### Результаты A/B-теста"
   ]
  },
  {
   "cell_type": "markdown",
   "metadata": {},
   "source": [
    "По результатам A/B-теста можно сделать следующие выводы:\n",
    "- по \"сырым\" и \"очищенным\" данным есть статистически значимые различия в конверсии;\n",
    "- относительный прирост конверсии группы B к группе A составляет 18.9% после удаления выбросов (было 16.0%);\n",
    "- по \"сырым\" и \"очищенным\" данным нет статистически значимых различий в среднем чеке;\n",
    "- относительное изменение среднего чека заказов группы B к группе A составляет -2.2% после удаления выбросов (было 28.7%).\n",
    "\n",
    "На основе этих выводов можно принять решение остановить тест и зафиксировать победу групп B."
   ]
  },
  {
   "cell_type": "markdown",
   "metadata": {},
   "source": [
    "## Вывод"
   ]
  },
  {
   "cell_type": "markdown",
   "metadata": {},
   "source": [
    "1) Приоритизация гипотез с помощью фреймворка ICE и RICE показала, что:\n",
    "- наиболее перспективные гипотезы по ICE: 8, 0, 7;\n",
    "- наиболее перспективные гипотезы по RICE: 7, 2, 0;\n",
    "- после применения фреймворка RICE изменилась приоритизация и гипотеза 7 заняла первое место. Параметр Reach, который характеризует охват пользователей при применении данного гипотезы, самый высокий у гипотезы 7, что повлияло на изменение результатов приоритизации.\n",
    "\n",
    "2) Анализ кумулятивных метрик показал, что:\n",
    "- есть различия в кумулятивной выручке обеих групп - во второй половине месяца этот показатель у группы B резко вырос, а у группы A такой рост не наблюдается;\n",
    "- кумулятивный средний чек группы B стабильно выше, чему у группы A, при этом резкий рост наблюдается также во второй половние месяца;\n",
    "- кумулятивная конверсия групп в начале периода была с колебаниями, а потом стабилизировалась вокруг своих средних значений, при этом у группы B она выше, чем у группы A;\n",
    "- относительное изменение конверсии группы B по отношению к группе A преодолевает прирост на 10%, с дальнейшим достижением 20%;\n",
    "- все эти пункты свидетельствуют о том, что в группе B могут быть аномалии, которые нужно проверить и исключить их влияние.\n",
    "\n",
    "3) Анализ выбросов и всплесков показал, что:\n",
    "- 95% пользователей совершили 1 заказ, а 2 и более заказов - всего лишь 1%;\n",
    "- 95% заказов имеют стоимость до 26 785, а выше 53 904 - всего лишь 1%;\n",
    "- учитывая результаты анализа были выбраны границы для определения аномальных пользователей - более 1 заказа и границы для определения аномальных заказов - более 26 785.\n",
    "\n",
    "4) Расчёт статистической значимости показал, что:\n",
    "- исходные и отфильтрованные данные имеют статистически значимые различия в конверсии между группами;\n",
    "- относительный прирост конверсии группы B к группе A составляет 18.9% после удаления выбросов (было 16.0%);\n",
    "- исходные и отфильтрованные данные не имеют статистически значимых различий в среднем чеке заказов между группами;\n",
    "- относительное изменение среднего чека заказов группы B к группе A составляет -2.2% после удаления выбросов (было 28.7%);\n",
    "- было принято решение остановить тест, т.к. группа B показала прирост конверсии по отношению к группе A. Цель была достигнута."
   ]
  }
 ],
 "metadata": {
  "ExecuteTimeLog": [
   {
    "duration": 4,
    "start_time": "2021-07-10T14:36:00.792Z"
   },
   {
    "duration": 1570,
    "start_time": "2021-07-10T14:36:06.480Z"
   },
   {
    "duration": 18,
    "start_time": "2021-07-10T14:38:56.316Z"
   },
   {
    "duration": 1489,
    "start_time": "2021-07-10T14:39:16.108Z"
   },
   {
    "duration": 17,
    "start_time": "2021-07-10T14:39:28.724Z"
   },
   {
    "duration": 26,
    "start_time": "2021-07-10T14:40:46.208Z"
   },
   {
    "duration": 12,
    "start_time": "2021-07-10T14:41:14.860Z"
   },
   {
    "duration": 25,
    "start_time": "2021-07-10T14:41:22.717Z"
   },
   {
    "duration": 18,
    "start_time": "2021-07-10T14:41:50.534Z"
   },
   {
    "duration": 11,
    "start_time": "2021-07-10T14:42:21.276Z"
   },
   {
    "duration": 7,
    "start_time": "2021-07-10T14:43:46.901Z"
   },
   {
    "duration": 16,
    "start_time": "2021-07-10T14:43:57.761Z"
   },
   {
    "duration": 15,
    "start_time": "2021-07-10T14:45:12.341Z"
   },
   {
    "duration": 16,
    "start_time": "2021-07-10T14:45:22.569Z"
   },
   {
    "duration": 15,
    "start_time": "2021-07-10T14:45:35.501Z"
   },
   {
    "duration": 16,
    "start_time": "2021-07-10T14:45:45.645Z"
   },
   {
    "duration": 73,
    "start_time": "2021-07-10T15:00:51.090Z"
   },
   {
    "duration": 16,
    "start_time": "2021-07-10T15:04:55.087Z"
   },
   {
    "duration": 316,
    "start_time": "2021-07-10T15:05:10.887Z"
   },
   {
    "duration": 9,
    "start_time": "2021-07-10T15:05:15.710Z"
   },
   {
    "duration": 8,
    "start_time": "2021-07-10T15:05:33.058Z"
   },
   {
    "duration": 7,
    "start_time": "2021-07-10T15:05:46.839Z"
   },
   {
    "duration": 13,
    "start_time": "2021-07-10T15:26:42.919Z"
   },
   {
    "duration": 9,
    "start_time": "2021-07-10T15:26:54.275Z"
   },
   {
    "duration": 8,
    "start_time": "2021-07-10T15:27:08.819Z"
   },
   {
    "duration": 7,
    "start_time": "2021-07-10T15:27:09.724Z"
   },
   {
    "duration": 319,
    "start_time": "2021-07-10T15:33:40.839Z"
   },
   {
    "duration": 102,
    "start_time": "2021-07-10T15:35:09.631Z"
   },
   {
    "duration": 17,
    "start_time": "2021-07-10T15:35:33.555Z"
   },
   {
    "duration": 18,
    "start_time": "2021-07-10T15:55:52.396Z"
   },
   {
    "duration": 13,
    "start_time": "2021-07-10T15:57:32.493Z"
   },
   {
    "duration": 16,
    "start_time": "2021-07-10T15:57:45.588Z"
   },
   {
    "duration": 112,
    "start_time": "2021-07-10T15:58:20.369Z"
   },
   {
    "duration": 15,
    "start_time": "2021-07-10T16:04:06.465Z"
   },
   {
    "duration": 1557,
    "start_time": "2021-07-10T16:04:57.525Z"
   },
   {
    "duration": 6,
    "start_time": "2021-07-10T16:05:21.209Z"
   },
   {
    "duration": 1490,
    "start_time": "2021-07-10T16:05:26.545Z"
   },
   {
    "duration": 21,
    "start_time": "2021-07-10T16:06:06.521Z"
   },
   {
    "duration": 10,
    "start_time": "2021-07-10T16:06:08.217Z"
   },
   {
    "duration": 6,
    "start_time": "2021-07-10T16:07:24.201Z"
   },
   {
    "duration": 8,
    "start_time": "2021-07-10T16:07:28.801Z"
   },
   {
    "duration": 1028,
    "start_time": "2021-07-11T05:18:02.309Z"
   },
   {
    "duration": 27,
    "start_time": "2021-07-11T05:18:05.541Z"
   },
   {
    "duration": 7,
    "start_time": "2021-07-11T05:18:06.645Z"
   },
   {
    "duration": 12,
    "start_time": "2021-07-11T05:18:08.097Z"
   },
   {
    "duration": 63,
    "start_time": "2021-07-11T05:19:42.653Z"
   },
   {
    "duration": 55,
    "start_time": "2021-07-11T05:19:53.502Z"
   },
   {
    "duration": 54,
    "start_time": "2021-07-11T05:22:58.741Z"
   },
   {
    "duration": 9,
    "start_time": "2021-07-11T05:22:59.545Z"
   },
   {
    "duration": 12,
    "start_time": "2021-07-11T05:23:00.213Z"
   },
   {
    "duration": 7,
    "start_time": "2021-07-11T05:23:00.654Z"
   },
   {
    "duration": 6,
    "start_time": "2021-07-11T05:23:00.973Z"
   },
   {
    "duration": 7,
    "start_time": "2021-07-11T05:23:01.408Z"
   },
   {
    "duration": 13,
    "start_time": "2021-07-11T05:23:02.241Z"
   },
   {
    "duration": 8,
    "start_time": "2021-07-11T05:23:02.589Z"
   },
   {
    "duration": 6,
    "start_time": "2021-07-11T05:23:03.002Z"
   },
   {
    "duration": 5,
    "start_time": "2021-07-11T05:23:03.217Z"
   },
   {
    "duration": 5,
    "start_time": "2021-07-11T05:23:03.425Z"
   },
   {
    "duration": 5,
    "start_time": "2021-07-11T05:23:04.161Z"
   },
   {
    "duration": 12,
    "start_time": "2021-07-11T05:24:22.349Z"
   },
   {
    "duration": 11,
    "start_time": "2021-07-11T05:24:55.989Z"
   },
   {
    "duration": 339,
    "start_time": "2021-07-11T05:25:15.990Z"
   },
   {
    "duration": 210,
    "start_time": "2021-07-11T05:27:26.019Z"
   },
   {
    "duration": 193,
    "start_time": "2021-07-11T05:27:31.245Z"
   },
   {
    "duration": 394,
    "start_time": "2021-07-11T05:30:04.729Z"
   },
   {
    "duration": 714,
    "start_time": "2021-07-11T05:36:52.521Z"
   },
   {
    "duration": 365,
    "start_time": "2021-07-11T05:37:36.553Z"
   },
   {
    "duration": 490,
    "start_time": "2021-07-11T05:44:16.801Z"
   },
   {
    "duration": 542,
    "start_time": "2021-07-11T05:44:32.699Z"
   },
   {
    "duration": 417,
    "start_time": "2021-07-11T05:45:13.636Z"
   },
   {
    "duration": 519,
    "start_time": "2021-07-11T05:45:25.270Z"
   },
   {
    "duration": 493,
    "start_time": "2021-07-11T05:45:36.672Z"
   },
   {
    "duration": 356,
    "start_time": "2021-07-11T05:50:52.262Z"
   },
   {
    "duration": 356,
    "start_time": "2021-07-11T05:50:57.134Z"
   },
   {
    "duration": 383,
    "start_time": "2021-07-11T05:51:30.542Z"
   },
   {
    "duration": 351,
    "start_time": "2021-07-11T05:51:58.544Z"
   },
   {
    "duration": 382,
    "start_time": "2021-07-11T05:52:31.618Z"
   },
   {
    "duration": 372,
    "start_time": "2021-07-11T05:53:26.830Z"
   },
   {
    "duration": 374,
    "start_time": "2021-07-11T05:53:38.322Z"
   },
   {
    "duration": 503,
    "start_time": "2021-07-11T06:01:41.865Z"
   },
   {
    "duration": 446,
    "start_time": "2021-07-11T06:01:53.541Z"
   },
   {
    "duration": 458,
    "start_time": "2021-07-11T06:02:12.805Z"
   },
   {
    "duration": 460,
    "start_time": "2021-07-11T06:02:18.705Z"
   },
   {
    "duration": 428,
    "start_time": "2021-07-11T06:02:41.437Z"
   },
   {
    "duration": 469,
    "start_time": "2021-07-11T06:03:11.982Z"
   },
   {
    "duration": 12,
    "start_time": "2021-07-11T06:09:59.486Z"
   },
   {
    "duration": 106,
    "start_time": "2021-07-11T06:10:22.912Z"
   },
   {
    "duration": 101,
    "start_time": "2021-07-11T06:10:29.558Z"
   },
   {
    "duration": 351,
    "start_time": "2021-07-11T06:12:19.174Z"
   },
   {
    "duration": 457,
    "start_time": "2021-07-11T06:14:07.458Z"
   },
   {
    "duration": 473,
    "start_time": "2021-07-11T06:17:23.646Z"
   },
   {
    "duration": 289,
    "start_time": "2021-07-11T06:17:34.455Z"
   },
   {
    "duration": 232,
    "start_time": "2021-07-11T06:18:12.330Z"
   },
   {
    "duration": 524,
    "start_time": "2021-07-11T06:18:23.067Z"
   },
   {
    "duration": 459,
    "start_time": "2021-07-11T06:18:46.783Z"
   },
   {
    "duration": 474,
    "start_time": "2021-07-11T06:19:07.575Z"
   },
   {
    "duration": 1038,
    "start_time": "2021-07-11T06:19:14.195Z"
   },
   {
    "duration": 25,
    "start_time": "2021-07-11T06:19:15.235Z"
   },
   {
    "duration": 6,
    "start_time": "2021-07-11T06:19:15.263Z"
   },
   {
    "duration": 16,
    "start_time": "2021-07-11T06:19:15.270Z"
   },
   {
    "duration": 75,
    "start_time": "2021-07-11T06:19:15.287Z"
   },
   {
    "duration": 9,
    "start_time": "2021-07-11T06:19:15.363Z"
   },
   {
    "duration": 16,
    "start_time": "2021-07-11T06:19:15.373Z"
   },
   {
    "duration": 6,
    "start_time": "2021-07-11T06:19:15.391Z"
   },
   {
    "duration": 5,
    "start_time": "2021-07-11T06:19:15.399Z"
   },
   {
    "duration": 7,
    "start_time": "2021-07-11T06:19:15.405Z"
   },
   {
    "duration": 12,
    "start_time": "2021-07-11T06:19:15.413Z"
   },
   {
    "duration": 9,
    "start_time": "2021-07-11T06:19:15.427Z"
   },
   {
    "duration": 12,
    "start_time": "2021-07-11T06:19:15.437Z"
   },
   {
    "duration": 8,
    "start_time": "2021-07-11T06:19:15.451Z"
   },
   {
    "duration": 26,
    "start_time": "2021-07-11T06:19:15.460Z"
   },
   {
    "duration": 3,
    "start_time": "2021-07-11T06:19:15.488Z"
   },
   {
    "duration": 360,
    "start_time": "2021-07-11T06:19:15.493Z"
   },
   {
    "duration": 422,
    "start_time": "2021-07-11T06:19:15.855Z"
   },
   {
    "duration": 383,
    "start_time": "2021-07-11T06:19:16.279Z"
   },
   {
    "duration": 500,
    "start_time": "2021-07-11T06:19:16.664Z"
   },
   {
    "duration": 367,
    "start_time": "2021-07-11T06:19:17.166Z"
   },
   {
    "duration": 451,
    "start_time": "2021-07-11T06:19:17.535Z"
   },
   {
    "duration": 115,
    "start_time": "2021-07-11T06:19:17.988Z"
   },
   {
    "duration": 447,
    "start_time": "2021-07-11T06:19:18.105Z"
   },
   {
    "duration": 533,
    "start_time": "2021-07-11T06:19:40.045Z"
   },
   {
    "duration": 5,
    "start_time": "2021-07-11T06:22:57.191Z"
   },
   {
    "duration": 59,
    "start_time": "2021-07-11T06:24:39.395Z"
   },
   {
    "duration": 62,
    "start_time": "2021-07-11T06:24:48.907Z"
   },
   {
    "duration": 5,
    "start_time": "2021-07-11T06:25:01.495Z"
   },
   {
    "duration": 5,
    "start_time": "2021-07-11T06:25:09.554Z"
   },
   {
    "duration": 62,
    "start_time": "2021-07-11T06:26:00.951Z"
   },
   {
    "duration": 1039,
    "start_time": "2021-07-11T06:29:28.887Z"
   },
   {
    "duration": 27,
    "start_time": "2021-07-11T06:29:29.928Z"
   },
   {
    "duration": 26,
    "start_time": "2021-07-11T06:29:29.956Z"
   },
   {
    "duration": 19,
    "start_time": "2021-07-11T06:29:29.984Z"
   },
   {
    "duration": 78,
    "start_time": "2021-07-11T06:29:30.005Z"
   },
   {
    "duration": 9,
    "start_time": "2021-07-11T06:29:30.085Z"
   },
   {
    "duration": 22,
    "start_time": "2021-07-11T06:29:30.096Z"
   },
   {
    "duration": 22,
    "start_time": "2021-07-11T06:29:30.121Z"
   },
   {
    "duration": 11,
    "start_time": "2021-07-11T06:29:30.145Z"
   },
   {
    "duration": 20,
    "start_time": "2021-07-11T06:29:30.158Z"
   },
   {
    "duration": 22,
    "start_time": "2021-07-11T06:29:30.179Z"
   },
   {
    "duration": 26,
    "start_time": "2021-07-11T06:29:30.203Z"
   },
   {
    "duration": 31,
    "start_time": "2021-07-11T06:29:30.230Z"
   },
   {
    "duration": 28,
    "start_time": "2021-07-11T06:29:30.262Z"
   },
   {
    "duration": 16,
    "start_time": "2021-07-11T06:29:30.291Z"
   },
   {
    "duration": 21,
    "start_time": "2021-07-11T06:29:30.308Z"
   },
   {
    "duration": 356,
    "start_time": "2021-07-11T06:29:30.331Z"
   },
   {
    "duration": 412,
    "start_time": "2021-07-11T06:29:30.689Z"
   },
   {
    "duration": 397,
    "start_time": "2021-07-11T06:29:31.102Z"
   },
   {
    "duration": 691,
    "start_time": "2021-07-11T06:29:31.500Z"
   },
   {
    "duration": 373,
    "start_time": "2021-07-11T06:29:32.192Z"
   },
   {
    "duration": 491,
    "start_time": "2021-07-11T06:29:32.567Z"
   },
   {
    "duration": 104,
    "start_time": "2021-07-11T06:29:33.061Z"
   },
   {
    "duration": 470,
    "start_time": "2021-07-11T06:29:33.167Z"
   },
   {
    "duration": 5,
    "start_time": "2021-07-11T06:29:33.639Z"
   },
   {
    "duration": 12,
    "start_time": "2021-07-11T06:29:37.763Z"
   },
   {
    "duration": 5,
    "start_time": "2021-07-11T06:29:48.503Z"
   },
   {
    "duration": 11,
    "start_time": "2021-07-11T06:29:49.019Z"
   },
   {
    "duration": 7,
    "start_time": "2021-07-11T06:29:58.508Z"
   },
   {
    "duration": 287,
    "start_time": "2021-07-11T06:32:37.780Z"
   },
   {
    "duration": 524,
    "start_time": "2021-07-11T06:33:48.648Z"
   },
   {
    "duration": 5,
    "start_time": "2021-07-11T06:35:47.463Z"
   },
   {
    "duration": 1854,
    "start_time": "2021-07-12T09:46:37.960Z"
   },
   {
    "duration": 28,
    "start_time": "2021-07-12T09:48:00.578Z"
   },
   {
    "duration": 105,
    "start_time": "2021-07-12T09:48:01.274Z"
   },
   {
    "duration": 17,
    "start_time": "2021-07-12T09:48:01.470Z"
   },
   {
    "duration": 43,
    "start_time": "2021-07-12T09:48:14.130Z"
   },
   {
    "duration": 15,
    "start_time": "2021-07-12T09:48:14.554Z"
   },
   {
    "duration": 16,
    "start_time": "2021-07-12T09:48:14.742Z"
   },
   {
    "duration": 11,
    "start_time": "2021-07-12T09:48:14.942Z"
   },
   {
    "duration": 8,
    "start_time": "2021-07-12T09:48:15.166Z"
   },
   {
    "duration": 7,
    "start_time": "2021-07-12T09:48:15.522Z"
   },
   {
    "duration": 25,
    "start_time": "2021-07-12T09:48:16.534Z"
   },
   {
    "duration": 13,
    "start_time": "2021-07-12T09:48:18.516Z"
   },
   {
    "duration": 9,
    "start_time": "2021-07-12T09:48:19.282Z"
   },
   {
    "duration": 16,
    "start_time": "2021-07-12T09:48:19.522Z"
   },
   {
    "duration": 7,
    "start_time": "2021-07-12T09:48:19.966Z"
   },
   {
    "duration": 6,
    "start_time": "2021-07-12T09:48:20.566Z"
   },
   {
    "duration": 638,
    "start_time": "2021-07-12T09:48:21.825Z"
   },
   {
    "duration": 691,
    "start_time": "2021-07-12T09:48:24.802Z"
   },
   {
    "duration": 663,
    "start_time": "2021-07-12T09:48:29.626Z"
   },
   {
    "duration": 787,
    "start_time": "2021-07-12T09:48:31.490Z"
   },
   {
    "duration": 767,
    "start_time": "2021-07-12T09:48:33.086Z"
   },
   {
    "duration": 740,
    "start_time": "2021-07-12T09:48:34.213Z"
   },
   {
    "duration": 208,
    "start_time": "2021-07-12T09:48:36.426Z"
   },
   {
    "duration": 688,
    "start_time": "2021-07-12T09:48:37.238Z"
   },
   {
    "duration": 7,
    "start_time": "2021-07-12T09:48:38.606Z"
   },
   {
    "duration": 8,
    "start_time": "2021-07-12T09:52:46.686Z"
   },
   {
    "duration": 8,
    "start_time": "2021-07-12T09:53:19.858Z"
   },
   {
    "duration": 8,
    "start_time": "2021-07-12T09:53:32.562Z"
   },
   {
    "duration": 7,
    "start_time": "2021-07-12T09:53:38.574Z"
   },
   {
    "duration": 7,
    "start_time": "2021-07-12T09:53:42.650Z"
   },
   {
    "duration": 6,
    "start_time": "2021-07-12T09:53:52.866Z"
   },
   {
    "duration": 654,
    "start_time": "2021-07-12T10:16:03.351Z"
   },
   {
    "duration": 15,
    "start_time": "2021-07-12T10:17:17.586Z"
   },
   {
    "duration": 19,
    "start_time": "2021-07-12T10:17:56.670Z"
   },
   {
    "duration": 1091,
    "start_time": "2021-07-12T10:19:50.587Z"
   },
   {
    "duration": 5,
    "start_time": "2021-07-12T10:20:26.719Z"
   },
   {
    "duration": 705,
    "start_time": "2021-07-12T10:20:31.675Z"
   },
   {
    "duration": 987,
    "start_time": "2021-07-12T10:21:36.103Z"
   },
   {
    "duration": 474,
    "start_time": "2021-07-12T10:22:02.743Z"
   },
   {
    "duration": 225,
    "start_time": "2021-07-12T10:23:24.518Z"
   },
   {
    "duration": 299,
    "start_time": "2021-07-12T10:24:00.154Z"
   },
   {
    "duration": 243,
    "start_time": "2021-07-12T10:24:14.994Z"
   },
   {
    "duration": 228,
    "start_time": "2021-07-12T10:30:18.926Z"
   },
   {
    "duration": 223,
    "start_time": "2021-07-12T10:30:27.826Z"
   },
   {
    "duration": 246,
    "start_time": "2021-07-12T10:31:00.490Z"
   },
   {
    "duration": 224,
    "start_time": "2021-07-12T10:31:04.971Z"
   },
   {
    "duration": 15,
    "start_time": "2021-07-12T10:32:37.243Z"
   },
   {
    "duration": 246,
    "start_time": "2021-07-12T10:33:35.706Z"
   },
   {
    "duration": 366,
    "start_time": "2021-07-12T10:37:59.199Z"
   },
   {
    "duration": 369,
    "start_time": "2021-07-12T10:38:25.659Z"
   },
   {
    "duration": 5,
    "start_time": "2021-07-12T10:40:34.223Z"
   },
   {
    "duration": 15,
    "start_time": "2021-07-12T10:45:56.963Z"
   },
   {
    "duration": 220,
    "start_time": "2021-07-12T10:50:23.359Z"
   },
   {
    "duration": 1514,
    "start_time": "2021-07-12T10:50:57.791Z"
   },
   {
    "duration": 29,
    "start_time": "2021-07-12T10:50:59.309Z"
   },
   {
    "duration": 10,
    "start_time": "2021-07-12T10:50:59.342Z"
   },
   {
    "duration": 19,
    "start_time": "2021-07-12T10:50:59.355Z"
   },
   {
    "duration": 45,
    "start_time": "2021-07-12T10:50:59.376Z"
   },
   {
    "duration": 13,
    "start_time": "2021-07-12T10:50:59.423Z"
   },
   {
    "duration": 18,
    "start_time": "2021-07-12T10:50:59.438Z"
   },
   {
    "duration": 9,
    "start_time": "2021-07-12T10:50:59.460Z"
   },
   {
    "duration": 39,
    "start_time": "2021-07-12T10:50:59.471Z"
   },
   {
    "duration": 7,
    "start_time": "2021-07-12T10:50:59.513Z"
   },
   {
    "duration": 22,
    "start_time": "2021-07-12T10:50:59.522Z"
   },
   {
    "duration": 20,
    "start_time": "2021-07-12T10:50:59.546Z"
   },
   {
    "duration": 11,
    "start_time": "2021-07-12T10:50:59.568Z"
   },
   {
    "duration": 8,
    "start_time": "2021-07-12T10:50:59.610Z"
   },
   {
    "duration": 10,
    "start_time": "2021-07-12T10:50:59.621Z"
   },
   {
    "duration": 6,
    "start_time": "2021-07-12T10:50:59.641Z"
   },
   {
    "duration": 646,
    "start_time": "2021-07-12T10:50:59.651Z"
   },
   {
    "duration": 722,
    "start_time": "2021-07-12T10:51:00.299Z"
   },
   {
    "duration": 682,
    "start_time": "2021-07-12T10:51:01.023Z"
   },
   {
    "duration": 765,
    "start_time": "2021-07-12T10:51:01.709Z"
   },
   {
    "duration": 660,
    "start_time": "2021-07-12T10:51:02.476Z"
   },
   {
    "duration": 712,
    "start_time": "2021-07-12T10:51:03.139Z"
   },
   {
    "duration": 204,
    "start_time": "2021-07-12T10:51:03.856Z"
   },
   {
    "duration": 765,
    "start_time": "2021-07-12T10:51:04.062Z"
   },
   {
    "duration": 8,
    "start_time": "2021-07-12T10:51:04.829Z"
   },
   {
    "duration": 954,
    "start_time": "2021-07-12T10:51:04.839Z"
   },
   {
    "duration": 17,
    "start_time": "2021-07-12T10:51:05.796Z"
   },
   {
    "duration": 35,
    "start_time": "2021-07-12T10:51:05.816Z"
   },
   {
    "duration": 476,
    "start_time": "2021-07-12T10:51:05.854Z"
   },
   {
    "duration": 251,
    "start_time": "2021-07-12T10:51:06.332Z"
   },
   {
    "duration": 25,
    "start_time": "2021-07-12T10:51:06.585Z"
   },
   {
    "duration": 237,
    "start_time": "2021-07-12T10:52:13.372Z"
   },
   {
    "duration": 13,
    "start_time": "2021-07-12T10:52:16.840Z"
   },
   {
    "duration": 15,
    "start_time": "2021-07-12T10:53:47.272Z"
   },
   {
    "duration": 16,
    "start_time": "2021-07-12T10:54:20.472Z"
   },
   {
    "duration": 16,
    "start_time": "2021-07-12T10:54:25.284Z"
   },
   {
    "duration": 18,
    "start_time": "2021-07-12T10:55:16.395Z"
   },
   {
    "duration": 17,
    "start_time": "2021-07-12T10:55:53.687Z"
   },
   {
    "duration": 19,
    "start_time": "2021-07-12T11:07:03.940Z"
   },
   {
    "duration": 1465,
    "start_time": "2021-07-12T11:41:58.120Z"
   },
   {
    "duration": 28,
    "start_time": "2021-07-12T11:42:03.472Z"
   },
   {
    "duration": 13,
    "start_time": "2021-07-12T11:42:17.656Z"
   },
   {
    "duration": 16,
    "start_time": "2021-07-12T11:42:23.691Z"
   },
   {
    "duration": 1424,
    "start_time": "2021-07-12T11:42:34.754Z"
   },
   {
    "duration": 30,
    "start_time": "2021-07-12T11:42:36.180Z"
   },
   {
    "duration": 37,
    "start_time": "2021-07-12T11:42:36.214Z"
   },
   {
    "duration": 38,
    "start_time": "2021-07-12T11:42:36.253Z"
   },
   {
    "duration": 49,
    "start_time": "2021-07-12T11:42:36.293Z"
   },
   {
    "duration": 15,
    "start_time": "2021-07-12T11:42:36.345Z"
   },
   {
    "duration": 44,
    "start_time": "2021-07-12T11:42:36.362Z"
   },
   {
    "duration": 8,
    "start_time": "2021-07-12T11:42:36.409Z"
   },
   {
    "duration": 29,
    "start_time": "2021-07-12T11:42:36.420Z"
   },
   {
    "duration": 33,
    "start_time": "2021-07-12T11:42:36.451Z"
   },
   {
    "duration": 30,
    "start_time": "2021-07-12T11:42:36.486Z"
   },
   {
    "duration": 31,
    "start_time": "2021-07-12T11:42:36.519Z"
   },
   {
    "duration": 26,
    "start_time": "2021-07-12T11:42:36.553Z"
   },
   {
    "duration": 50,
    "start_time": "2021-07-12T11:42:36.582Z"
   },
   {
    "duration": 22,
    "start_time": "2021-07-12T11:42:36.646Z"
   },
   {
    "duration": 19,
    "start_time": "2021-07-12T11:42:36.670Z"
   },
   {
    "duration": 708,
    "start_time": "2021-07-12T11:42:36.695Z"
   },
   {
    "duration": 703,
    "start_time": "2021-07-12T11:42:37.406Z"
   },
   {
    "duration": 659,
    "start_time": "2021-07-12T11:42:38.111Z"
   },
   {
    "duration": 751,
    "start_time": "2021-07-12T11:42:38.773Z"
   },
   {
    "duration": 640,
    "start_time": "2021-07-12T11:42:39.527Z"
   },
   {
    "duration": 768,
    "start_time": "2021-07-12T11:42:40.170Z"
   },
   {
    "duration": 211,
    "start_time": "2021-07-12T11:42:40.945Z"
   },
   {
    "duration": 708,
    "start_time": "2021-07-12T11:42:41.160Z"
   },
   {
    "duration": 8,
    "start_time": "2021-07-12T11:42:41.872Z"
   },
   {
    "duration": 834,
    "start_time": "2021-07-12T11:42:41.882Z"
   },
   {
    "duration": 7,
    "start_time": "2021-07-12T11:42:42.718Z"
   },
   {
    "duration": 31,
    "start_time": "2021-07-12T11:42:42.728Z"
   },
   {
    "duration": 485,
    "start_time": "2021-07-12T11:42:42.762Z"
   },
   {
    "duration": 241,
    "start_time": "2021-07-12T11:42:43.249Z"
   },
   {
    "duration": 23,
    "start_time": "2021-07-12T11:42:43.493Z"
   },
   {
    "duration": 14,
    "start_time": "2021-07-12T11:42:43.519Z"
   },
   {
    "duration": 17,
    "start_time": "2021-07-12T11:42:43.536Z"
   },
   {
    "duration": 56,
    "start_time": "2021-07-12T11:42:43.555Z"
   },
   {
    "duration": 5,
    "start_time": "2021-07-12T11:43:25.889Z"
   },
   {
    "duration": 4,
    "start_time": "2021-07-12T11:43:57.362Z"
   },
   {
    "duration": 1520,
    "start_time": "2021-07-12T11:44:04.073Z"
   },
   {
    "duration": 28,
    "start_time": "2021-07-12T11:44:08.217Z"
   },
   {
    "duration": 14,
    "start_time": "2021-07-12T11:44:10.985Z"
   },
   {
    "duration": 18,
    "start_time": "2021-07-12T11:44:16.381Z"
   },
   {
    "duration": 15,
    "start_time": "2021-07-12T11:44:54.511Z"
   },
   {
    "duration": 15,
    "start_time": "2021-07-12T11:45:00.961Z"
   },
   {
    "duration": 43,
    "start_time": "2021-07-12T11:45:39.349Z"
   },
   {
    "duration": 13,
    "start_time": "2021-07-12T11:45:40.057Z"
   },
   {
    "duration": 16,
    "start_time": "2021-07-12T11:45:40.502Z"
   },
   {
    "duration": 8,
    "start_time": "2021-07-12T11:45:41.257Z"
   },
   {
    "duration": 9,
    "start_time": "2021-07-12T11:45:51.151Z"
   },
   {
    "duration": 8,
    "start_time": "2021-07-12T11:45:53.297Z"
   },
   {
    "duration": 9,
    "start_time": "2021-07-12T11:45:54.021Z"
   },
   {
    "duration": 20,
    "start_time": "2021-07-12T11:45:56.401Z"
   },
   {
    "duration": 16,
    "start_time": "2021-07-12T11:46:01.621Z"
   },
   {
    "duration": 8,
    "start_time": "2021-07-12T11:46:02.201Z"
   },
   {
    "duration": 8,
    "start_time": "2021-07-12T11:46:02.665Z"
   },
   {
    "duration": 7,
    "start_time": "2021-07-12T11:46:04.805Z"
   },
   {
    "duration": 6,
    "start_time": "2021-07-12T11:46:06.157Z"
   },
   {
    "duration": 599,
    "start_time": "2021-07-12T11:52:19.760Z"
   },
   {
    "duration": 706,
    "start_time": "2021-07-12T11:52:25.705Z"
   },
   {
    "duration": 654,
    "start_time": "2021-07-12T11:53:11.717Z"
   },
   {
    "duration": 814,
    "start_time": "2021-07-12T11:53:18.254Z"
   },
   {
    "duration": 646,
    "start_time": "2021-07-12T11:53:19.913Z"
   },
   {
    "duration": 736,
    "start_time": "2021-07-12T11:53:21.464Z"
   },
   {
    "duration": 220,
    "start_time": "2021-07-12T11:53:46.549Z"
   },
   {
    "duration": 681,
    "start_time": "2021-07-12T11:53:48.137Z"
   },
   {
    "duration": 6,
    "start_time": "2021-07-12T11:53:56.669Z"
   },
   {
    "duration": 803,
    "start_time": "2021-07-12T11:54:00.481Z"
   },
   {
    "duration": 8,
    "start_time": "2021-07-12T11:54:01.969Z"
   },
   {
    "duration": 464,
    "start_time": "2021-07-12T11:55:12.933Z"
   },
   {
    "duration": 255,
    "start_time": "2021-07-12T11:55:13.709Z"
   },
   {
    "duration": 15,
    "start_time": "2021-07-12T11:55:17.193Z"
   },
   {
    "duration": 16,
    "start_time": "2021-07-12T11:55:18.928Z"
   },
   {
    "duration": 19,
    "start_time": "2021-07-12T11:55:19.813Z"
   },
   {
    "duration": 19,
    "start_time": "2021-07-12T12:04:53.205Z"
   },
   {
    "duration": 20,
    "start_time": "2021-07-12T12:04:58.514Z"
   },
   {
    "duration": 1520,
    "start_time": "2021-07-12T18:24:34.667Z"
   },
   {
    "duration": 39,
    "start_time": "2021-07-12T18:24:36.189Z"
   },
   {
    "duration": 9,
    "start_time": "2021-07-12T18:24:36.231Z"
   },
   {
    "duration": 19,
    "start_time": "2021-07-12T18:24:36.242Z"
   },
   {
    "duration": 63,
    "start_time": "2021-07-12T18:24:36.264Z"
   },
   {
    "duration": 15,
    "start_time": "2021-07-12T18:24:36.329Z"
   },
   {
    "duration": 10,
    "start_time": "2021-07-12T18:24:36.346Z"
   },
   {
    "duration": 13,
    "start_time": "2021-07-12T18:24:36.360Z"
   },
   {
    "duration": 9,
    "start_time": "2021-07-12T18:24:36.376Z"
   },
   {
    "duration": 21,
    "start_time": "2021-07-12T18:24:36.410Z"
   },
   {
    "duration": 18,
    "start_time": "2021-07-12T18:24:36.434Z"
   },
   {
    "duration": 9,
    "start_time": "2021-07-12T18:24:36.454Z"
   },
   {
    "duration": 44,
    "start_time": "2021-07-12T18:24:36.465Z"
   },
   {
    "duration": 7,
    "start_time": "2021-07-12T18:24:36.512Z"
   },
   {
    "duration": 8,
    "start_time": "2021-07-12T18:24:36.522Z"
   },
   {
    "duration": 632,
    "start_time": "2021-07-12T18:24:36.533Z"
   },
   {
    "duration": 713,
    "start_time": "2021-07-12T18:24:37.168Z"
   },
   {
    "duration": 664,
    "start_time": "2021-07-12T18:24:37.884Z"
   },
   {
    "duration": 771,
    "start_time": "2021-07-12T18:24:38.552Z"
   },
   {
    "duration": 670,
    "start_time": "2021-07-12T18:24:39.325Z"
   },
   {
    "duration": 749,
    "start_time": "2021-07-12T18:24:39.997Z"
   },
   {
    "duration": 247,
    "start_time": "2021-07-12T18:24:40.749Z"
   },
   {
    "duration": 751,
    "start_time": "2021-07-12T18:24:41.002Z"
   },
   {
    "duration": 7,
    "start_time": "2021-07-12T18:24:41.756Z"
   },
   {
    "duration": 865,
    "start_time": "2021-07-12T18:24:41.765Z"
   },
   {
    "duration": 7,
    "start_time": "2021-07-12T18:24:42.632Z"
   },
   {
    "duration": 495,
    "start_time": "2021-07-12T18:24:42.642Z"
   },
   {
    "duration": 244,
    "start_time": "2021-07-12T18:24:43.139Z"
   },
   {
    "duration": 27,
    "start_time": "2021-07-12T18:24:43.386Z"
   },
   {
    "duration": 25,
    "start_time": "2021-07-12T18:24:43.416Z"
   },
   {
    "duration": 20,
    "start_time": "2021-07-12T18:24:43.451Z"
   },
   {
    "duration": 40,
    "start_time": "2021-07-12T18:24:43.474Z"
   },
   {
    "duration": 1586,
    "start_time": "2021-07-13T07:08:25.365Z"
   },
   {
    "duration": 31,
    "start_time": "2021-07-13T07:08:26.954Z"
   },
   {
    "duration": 16,
    "start_time": "2021-07-13T07:08:26.988Z"
   },
   {
    "duration": 19,
    "start_time": "2021-07-13T07:08:27.006Z"
   },
   {
    "duration": 77,
    "start_time": "2021-07-13T07:08:27.027Z"
   },
   {
    "duration": 15,
    "start_time": "2021-07-13T07:08:27.106Z"
   },
   {
    "duration": 10,
    "start_time": "2021-07-13T07:08:27.123Z"
   },
   {
    "duration": 48,
    "start_time": "2021-07-13T07:08:27.137Z"
   },
   {
    "duration": 8,
    "start_time": "2021-07-13T07:08:27.189Z"
   },
   {
    "duration": 19,
    "start_time": "2021-07-13T07:08:27.200Z"
   },
   {
    "duration": 18,
    "start_time": "2021-07-13T07:08:27.222Z"
   },
   {
    "duration": 47,
    "start_time": "2021-07-13T07:08:27.242Z"
   },
   {
    "duration": 10,
    "start_time": "2021-07-13T07:08:27.291Z"
   },
   {
    "duration": 9,
    "start_time": "2021-07-13T07:08:27.303Z"
   },
   {
    "duration": 7,
    "start_time": "2021-07-13T07:08:27.314Z"
   },
   {
    "duration": 622,
    "start_time": "2021-07-13T07:08:27.323Z"
   },
   {
    "duration": 680,
    "start_time": "2021-07-13T07:08:27.948Z"
   },
   {
    "duration": 650,
    "start_time": "2021-07-13T07:08:28.630Z"
   },
   {
    "duration": 719,
    "start_time": "2021-07-13T07:08:29.286Z"
   },
   {
    "duration": 642,
    "start_time": "2021-07-13T07:08:30.008Z"
   },
   {
    "duration": 740,
    "start_time": "2021-07-13T07:08:30.653Z"
   },
   {
    "duration": 206,
    "start_time": "2021-07-13T07:08:31.395Z"
   },
   {
    "duration": 683,
    "start_time": "2021-07-13T07:08:31.605Z"
   },
   {
    "duration": 7,
    "start_time": "2021-07-13T07:08:32.291Z"
   },
   {
    "duration": 805,
    "start_time": "2021-07-13T07:08:32.301Z"
   },
   {
    "duration": 7,
    "start_time": "2021-07-13T07:08:33.108Z"
   },
   {
    "duration": 491,
    "start_time": "2021-07-13T07:08:33.117Z"
   },
   {
    "duration": 252,
    "start_time": "2021-07-13T07:08:33.611Z"
   },
   {
    "duration": 22,
    "start_time": "2021-07-13T07:08:33.865Z"
   },
   {
    "duration": 15,
    "start_time": "2021-07-13T07:08:33.890Z"
   },
   {
    "duration": 21,
    "start_time": "2021-07-13T07:08:33.908Z"
   },
   {
    "duration": 58,
    "start_time": "2021-07-13T07:08:33.931Z"
   },
   {
    "duration": 1533,
    "start_time": "2021-07-13T17:28:24.493Z"
   },
   {
    "duration": 4,
    "start_time": "2021-07-13T17:30:12.434Z"
   },
   {
    "duration": 419,
    "start_time": "2021-07-13T17:31:16.094Z"
   },
   {
    "duration": 8,
    "start_time": "2021-07-13T17:31:27.838Z"
   },
   {
    "duration": 281,
    "start_time": "2021-07-13T17:31:33.586Z"
   },
   {
    "duration": 29,
    "start_time": "2021-07-13T17:31:40.321Z"
   },
   {
    "duration": 13,
    "start_time": "2021-07-13T17:31:42.141Z"
   },
   {
    "duration": 5,
    "start_time": "2021-07-13T17:31:42.637Z"
   },
   {
    "duration": 18,
    "start_time": "2021-07-13T17:31:43.273Z"
   },
   {
    "duration": 4,
    "start_time": "2021-07-13T17:31:52.106Z"
   },
   {
    "duration": 16,
    "start_time": "2021-07-13T17:31:52.801Z"
   },
   {
    "duration": 4,
    "start_time": "2021-07-13T17:32:42.830Z"
   },
   {
    "duration": 14,
    "start_time": "2021-07-13T17:32:43.317Z"
   },
   {
    "duration": 14,
    "start_time": "2021-07-13T17:36:58.802Z"
   },
   {
    "duration": 21,
    "start_time": "2021-07-13T17:43:39.014Z"
   },
   {
    "duration": 14,
    "start_time": "2021-07-13T17:43:57.373Z"
   },
   {
    "duration": 17,
    "start_time": "2021-07-13T17:44:03.218Z"
   },
   {
    "duration": 632,
    "start_time": "2021-07-13T17:44:46.401Z"
   },
   {
    "duration": 266,
    "start_time": "2021-07-13T17:48:51.806Z"
   },
   {
    "duration": 13,
    "start_time": "2021-07-13T17:49:32.385Z"
   },
   {
    "duration": 41,
    "start_time": "2021-07-13T17:49:37.829Z"
   },
   {
    "duration": 286,
    "start_time": "2021-07-13T17:50:51.202Z"
   },
   {
    "duration": 22,
    "start_time": "2021-07-13T17:51:18.425Z"
   },
   {
    "duration": 24,
    "start_time": "2021-07-13T17:52:05.098Z"
   },
   {
    "duration": 24,
    "start_time": "2021-07-13T17:52:40.921Z"
   },
   {
    "duration": 253,
    "start_time": "2021-07-13T17:55:52.666Z"
   },
   {
    "duration": 262,
    "start_time": "2021-07-13T17:56:13.469Z"
   },
   {
    "duration": 90,
    "start_time": "2021-07-13T17:56:31.950Z"
   },
   {
    "duration": 104,
    "start_time": "2021-07-13T17:56:41.945Z"
   },
   {
    "duration": 5,
    "start_time": "2021-07-13T17:56:49.421Z"
   },
   {
    "duration": 27,
    "start_time": "2021-07-13T18:08:50.214Z"
   },
   {
    "duration": 28,
    "start_time": "2021-07-13T18:09:09.006Z"
   },
   {
    "duration": 54,
    "start_time": "2021-07-13T18:09:12.411Z"
   },
   {
    "duration": 14,
    "start_time": "2021-07-13T18:09:13.138Z"
   },
   {
    "duration": 9,
    "start_time": "2021-07-13T18:09:13.342Z"
   },
   {
    "duration": 8,
    "start_time": "2021-07-13T18:09:13.802Z"
   },
   {
    "duration": 8,
    "start_time": "2021-07-13T18:09:14.062Z"
   },
   {
    "duration": 20,
    "start_time": "2021-07-13T18:09:14.470Z"
   },
   {
    "duration": 12,
    "start_time": "2021-07-13T18:09:14.842Z"
   },
   {
    "duration": 9,
    "start_time": "2021-07-13T18:09:15.014Z"
   },
   {
    "duration": 8,
    "start_time": "2021-07-13T18:09:15.190Z"
   },
   {
    "duration": 8,
    "start_time": "2021-07-13T18:09:15.378Z"
   },
   {
    "duration": 6,
    "start_time": "2021-07-13T18:09:15.730Z"
   },
   {
    "duration": 15,
    "start_time": "2021-07-13T18:13:17.042Z"
   },
   {
    "duration": 19,
    "start_time": "2021-07-13T18:14:01.026Z"
   },
   {
    "duration": 14,
    "start_time": "2021-07-13T18:14:33.458Z"
   },
   {
    "duration": 16,
    "start_time": "2021-07-13T18:14:55.594Z"
   },
   {
    "duration": 10,
    "start_time": "2021-07-13T18:16:23.111Z"
   },
   {
    "duration": 16,
    "start_time": "2021-07-13T18:16:30.682Z"
   },
   {
    "duration": 17,
    "start_time": "2021-07-13T18:16:54.826Z"
   },
   {
    "duration": 18,
    "start_time": "2021-07-13T18:17:31.782Z"
   },
   {
    "duration": 278,
    "start_time": "2021-07-13T18:21:38.178Z"
   },
   {
    "duration": 278,
    "start_time": "2021-07-13T18:21:43.126Z"
   },
   {
    "duration": 20,
    "start_time": "2021-07-13T18:22:18.834Z"
   },
   {
    "duration": 23,
    "start_time": "2021-07-13T18:22:29.954Z"
   },
   {
    "duration": 25,
    "start_time": "2021-07-13T18:23:06.334Z"
   },
   {
    "duration": 1455,
    "start_time": "2021-07-13T18:23:21.063Z"
   },
   {
    "duration": 31,
    "start_time": "2021-07-13T18:23:22.520Z"
   },
   {
    "duration": 996,
    "start_time": "2021-07-13T18:23:22.555Z"
   },
   {
    "duration": 54,
    "start_time": "2021-07-13T18:23:24.584Z"
   },
   {
    "duration": 14,
    "start_time": "2021-07-13T18:23:26.340Z"
   },
   {
    "duration": 9,
    "start_time": "2021-07-13T18:23:27.016Z"
   },
   {
    "duration": 8,
    "start_time": "2021-07-13T18:23:29.087Z"
   },
   {
    "duration": 9,
    "start_time": "2021-07-13T18:23:29.488Z"
   },
   {
    "duration": 19,
    "start_time": "2021-07-13T18:23:31.204Z"
   },
   {
    "duration": 25,
    "start_time": "2021-07-13T18:23:33.184Z"
   },
   {
    "duration": 396,
    "start_time": "2021-07-13T18:24:13.799Z"
   },
   {
    "duration": 25,
    "start_time": "2021-07-13T18:24:43.936Z"
   },
   {
    "duration": 82,
    "start_time": "2021-07-13T18:25:44.408Z"
   },
   {
    "duration": 82,
    "start_time": "2021-07-13T18:25:51.200Z"
   },
   {
    "duration": 368,
    "start_time": "2021-07-13T18:26:09.432Z"
   },
   {
    "duration": 192,
    "start_time": "2021-07-13T18:26:20.616Z"
   },
   {
    "duration": 187,
    "start_time": "2021-07-13T18:26:48.384Z"
   },
   {
    "duration": 266,
    "start_time": "2021-07-13T18:28:27.321Z"
   },
   {
    "duration": 189,
    "start_time": "2021-07-13T18:28:42.601Z"
   },
   {
    "duration": 335,
    "start_time": "2021-07-13T18:28:44.644Z"
   },
   {
    "duration": 11,
    "start_time": "2021-07-13T18:33:17.464Z"
   },
   {
    "duration": 190,
    "start_time": "2021-07-13T18:33:20.120Z"
   },
   {
    "duration": 15,
    "start_time": "2021-07-13T18:33:20.936Z"
   },
   {
    "duration": 255,
    "start_time": "2021-07-13T18:33:58.767Z"
   },
   {
    "duration": 194,
    "start_time": "2021-07-13T18:44:28.060Z"
   },
   {
    "duration": 11,
    "start_time": "2021-07-13T18:44:28.900Z"
   },
   {
    "duration": 275,
    "start_time": "2021-07-13T18:44:50.177Z"
   },
   {
    "duration": 277,
    "start_time": "2021-07-13T18:46:24.360Z"
   },
   {
    "duration": 6698,
    "start_time": "2021-07-13T18:51:39.408Z"
   },
   {
    "duration": 8,
    "start_time": "2021-07-13T19:06:59.221Z"
   },
   {
    "duration": 7,
    "start_time": "2021-07-13T19:07:35.480Z"
   },
   {
    "duration": 11,
    "start_time": "2021-07-13T19:07:44.724Z"
   },
   {
    "duration": 11,
    "start_time": "2021-07-13T19:07:49.764Z"
   },
   {
    "duration": 9,
    "start_time": "2021-07-13T19:07:54.769Z"
   },
   {
    "duration": 260,
    "start_time": "2021-07-13T19:08:09.588Z"
   },
   {
    "duration": 11,
    "start_time": "2021-07-13T19:08:14.336Z"
   },
   {
    "duration": 9,
    "start_time": "2021-07-13T19:08:26.076Z"
   },
   {
    "duration": 6,
    "start_time": "2021-07-13T19:09:29.964Z"
   },
   {
    "duration": 12,
    "start_time": "2021-07-13T19:09:49.560Z"
   },
   {
    "duration": 5,
    "start_time": "2021-07-13T19:11:22.756Z"
   },
   {
    "duration": 5,
    "start_time": "2021-07-13T19:11:40.473Z"
   },
   {
    "duration": 13,
    "start_time": "2021-07-13T19:12:11.544Z"
   },
   {
    "duration": 9,
    "start_time": "2021-07-13T19:12:11.788Z"
   },
   {
    "duration": 9,
    "start_time": "2021-07-13T19:12:11.888Z"
   },
   {
    "duration": 7,
    "start_time": "2021-07-13T19:12:12.305Z"
   },
   {
    "duration": 7,
    "start_time": "2021-07-13T19:12:12.924Z"
   },
   {
    "duration": 627,
    "start_time": "2021-07-13T19:12:44.417Z"
   },
   {
    "duration": 674,
    "start_time": "2021-07-13T19:12:45.055Z"
   },
   {
    "duration": 623,
    "start_time": "2021-07-13T19:12:45.796Z"
   },
   {
    "duration": 707,
    "start_time": "2021-07-13T19:12:46.541Z"
   },
   {
    "duration": 625,
    "start_time": "2021-07-13T19:12:47.917Z"
   },
   {
    "duration": 785,
    "start_time": "2021-07-13T19:12:48.761Z"
   },
   {
    "duration": 651,
    "start_time": "2021-07-13T19:13:10.709Z"
   },
   {
    "duration": 192,
    "start_time": "2021-07-13T19:13:37.849Z"
   },
   {
    "duration": 680,
    "start_time": "2021-07-13T19:13:47.305Z"
   },
   {
    "duration": 7,
    "start_time": "2021-07-13T19:14:33.921Z"
   },
   {
    "duration": 706,
    "start_time": "2021-07-13T19:16:39.953Z"
   },
   {
    "duration": 6,
    "start_time": "2021-07-13T19:16:46.886Z"
   },
   {
    "duration": 473,
    "start_time": "2021-07-13T19:17:52.714Z"
   },
   {
    "duration": 200,
    "start_time": "2021-07-13T19:17:56.381Z"
   },
   {
    "duration": 16,
    "start_time": "2021-07-13T19:17:59.818Z"
   },
   {
    "duration": 16,
    "start_time": "2021-07-13T19:18:01.581Z"
   },
   {
    "duration": 17,
    "start_time": "2021-07-13T19:18:02.465Z"
   },
   {
    "duration": 22,
    "start_time": "2021-07-13T19:18:05.006Z"
   },
   {
    "duration": 224,
    "start_time": "2021-07-13T19:25:12.201Z"
   },
   {
    "duration": 15,
    "start_time": "2021-07-13T19:25:27.549Z"
   },
   {
    "duration": 27,
    "start_time": "2021-07-13T19:25:42.913Z"
   },
   {
    "duration": 21,
    "start_time": "2021-07-13T19:25:51.041Z"
   },
   {
    "duration": 95,
    "start_time": "2021-07-13T19:26:55.221Z"
   },
   {
    "duration": 1486,
    "start_time": "2021-07-13T19:29:05.154Z"
   },
   {
    "duration": 32,
    "start_time": "2021-07-13T19:29:06.697Z"
   },
   {
    "duration": 1022,
    "start_time": "2021-07-13T19:29:07.473Z"
   },
   {
    "duration": 289,
    "start_time": "2021-07-13T19:29:21.797Z"
   },
   {
    "duration": 286,
    "start_time": "2021-07-13T19:30:49.341Z"
   },
   {
    "duration": 4,
    "start_time": "2021-07-13T19:31:04.989Z"
   },
   {
    "duration": 54,
    "start_time": "2021-07-13T19:31:06.773Z"
   },
   {
    "duration": 9,
    "start_time": "2021-07-13T19:31:41.997Z"
   },
   {
    "duration": 26,
    "start_time": "2021-07-13T19:31:46.085Z"
   },
   {
    "duration": 1519,
    "start_time": "2021-07-13T19:32:03.530Z"
   },
   {
    "duration": 31,
    "start_time": "2021-07-13T19:32:05.053Z"
   },
   {
    "duration": 9,
    "start_time": "2021-07-13T19:32:05.889Z"
   },
   {
    "duration": 601,
    "start_time": "2021-07-13T19:32:06.682Z"
   },
   {
    "duration": 54,
    "start_time": "2021-07-13T19:32:42.558Z"
   },
   {
    "duration": 20,
    "start_time": "2021-07-13T19:32:43.218Z"
   },
   {
    "duration": 11,
    "start_time": "2021-07-13T19:32:43.465Z"
   },
   {
    "duration": 9,
    "start_time": "2021-07-13T19:32:43.737Z"
   },
   {
    "duration": 9,
    "start_time": "2021-07-13T19:32:43.957Z"
   },
   {
    "duration": 21,
    "start_time": "2021-07-13T19:32:44.373Z"
   },
   {
    "duration": 9,
    "start_time": "2021-07-13T19:32:46.605Z"
   },
   {
    "duration": 11,
    "start_time": "2021-07-13T19:32:47.513Z"
   },
   {
    "duration": 12,
    "start_time": "2021-07-13T19:32:48.506Z"
   },
   {
    "duration": 12,
    "start_time": "2021-07-13T19:32:50.362Z"
   },
   {
    "duration": 9,
    "start_time": "2021-07-13T19:32:50.485Z"
   },
   {
    "duration": 7,
    "start_time": "2021-07-13T19:32:55.890Z"
   },
   {
    "duration": 7,
    "start_time": "2021-07-13T19:32:56.378Z"
   },
   {
    "duration": 6,
    "start_time": "2021-07-13T19:32:56.849Z"
   },
   {
    "duration": 607,
    "start_time": "2021-07-13T19:32:59.289Z"
   },
   {
    "duration": 693,
    "start_time": "2021-07-13T19:33:00.261Z"
   },
   {
    "duration": 649,
    "start_time": "2021-07-13T19:33:01.733Z"
   },
   {
    "duration": 796,
    "start_time": "2021-07-13T19:33:02.893Z"
   },
   {
    "duration": 630,
    "start_time": "2021-07-13T19:33:07.761Z"
   },
   {
    "duration": 779,
    "start_time": "2021-07-13T19:33:16.269Z"
   },
   {
    "duration": 188,
    "start_time": "2021-07-13T19:33:35.158Z"
   },
   {
    "duration": 723,
    "start_time": "2021-07-13T19:33:38.161Z"
   },
   {
    "duration": 7,
    "start_time": "2021-07-13T19:33:42.090Z"
   },
   {
    "duration": 675,
    "start_time": "2021-07-13T19:33:58.985Z"
   },
   {
    "duration": 7,
    "start_time": "2021-07-13T19:34:04.707Z"
   },
   {
    "duration": 487,
    "start_time": "2021-07-13T19:34:15.513Z"
   },
   {
    "duration": 208,
    "start_time": "2021-07-13T19:34:16.229Z"
   },
   {
    "duration": 17,
    "start_time": "2021-07-13T19:34:24.198Z"
   },
   {
    "duration": 17,
    "start_time": "2021-07-13T19:34:30.514Z"
   },
   {
    "duration": 19,
    "start_time": "2021-07-13T19:34:32.305Z"
   },
   {
    "duration": 21,
    "start_time": "2021-07-13T19:34:55.997Z"
   },
   {
    "duration": 1007,
    "start_time": "2021-07-14T06:07:45.114Z"
   },
   {
    "duration": 23,
    "start_time": "2021-07-14T06:07:46.123Z"
   },
   {
    "duration": 11,
    "start_time": "2021-07-14T06:07:46.148Z"
   },
   {
    "duration": 723,
    "start_time": "2021-07-14T06:07:46.160Z"
   },
   {
    "duration": 45,
    "start_time": "2021-07-14T06:07:46.885Z"
   },
   {
    "duration": 9,
    "start_time": "2021-07-14T06:07:46.931Z"
   },
   {
    "duration": 7,
    "start_time": "2021-07-14T06:07:46.941Z"
   },
   {
    "duration": 11,
    "start_time": "2021-07-14T06:07:46.950Z"
   },
   {
    "duration": 7,
    "start_time": "2021-07-14T06:07:46.962Z"
   },
   {
    "duration": 17,
    "start_time": "2021-07-14T06:07:46.970Z"
   },
   {
    "duration": 8,
    "start_time": "2021-07-14T06:07:46.988Z"
   },
   {
    "duration": 11,
    "start_time": "2021-07-14T06:07:46.997Z"
   },
   {
    "duration": 12,
    "start_time": "2021-07-14T06:07:47.009Z"
   },
   {
    "duration": 11,
    "start_time": "2021-07-14T06:07:47.023Z"
   },
   {
    "duration": 12,
    "start_time": "2021-07-14T06:07:47.035Z"
   },
   {
    "duration": 15,
    "start_time": "2021-07-14T06:07:47.049Z"
   },
   {
    "duration": 10,
    "start_time": "2021-07-14T06:07:47.065Z"
   },
   {
    "duration": 12,
    "start_time": "2021-07-14T06:07:47.076Z"
   },
   {
    "duration": 317,
    "start_time": "2021-07-14T06:07:47.090Z"
   },
   {
    "duration": 369,
    "start_time": "2021-07-14T06:07:47.409Z"
   },
   {
    "duration": 350,
    "start_time": "2021-07-14T06:07:47.780Z"
   },
   {
    "duration": 450,
    "start_time": "2021-07-14T06:07:48.132Z"
   },
   {
    "duration": 343,
    "start_time": "2021-07-14T06:07:48.585Z"
   },
   {
    "duration": 498,
    "start_time": "2021-07-14T06:07:48.930Z"
   },
   {
    "duration": 109,
    "start_time": "2021-07-14T06:07:49.430Z"
   },
   {
    "duration": 413,
    "start_time": "2021-07-14T06:07:49.540Z"
   },
   {
    "duration": 4,
    "start_time": "2021-07-14T06:07:49.954Z"
   },
   {
    "duration": 433,
    "start_time": "2021-07-14T06:07:49.960Z"
   },
   {
    "duration": 4,
    "start_time": "2021-07-14T06:07:50.394Z"
   },
   {
    "duration": 256,
    "start_time": "2021-07-14T06:07:50.400Z"
   },
   {
    "duration": 108,
    "start_time": "2021-07-14T06:07:50.658Z"
   },
   {
    "duration": 24,
    "start_time": "2021-07-14T06:07:50.767Z"
   },
   {
    "duration": 10,
    "start_time": "2021-07-14T06:07:50.792Z"
   },
   {
    "duration": 14,
    "start_time": "2021-07-14T06:07:50.803Z"
   },
   {
    "duration": 12,
    "start_time": "2021-07-14T06:07:50.819Z"
   },
   {
    "duration": 1005,
    "start_time": "2021-09-12T09:48:27.418Z"
   },
   {
    "duration": 23,
    "start_time": "2021-09-12T09:48:28.424Z"
   },
   {
    "duration": 17,
    "start_time": "2021-09-12T09:48:28.449Z"
   },
   {
    "duration": 292,
    "start_time": "2021-09-12T09:48:28.468Z"
   },
   {
    "duration": 83,
    "start_time": "2021-09-12T09:48:28.762Z"
   },
   {
    "duration": 11,
    "start_time": "2021-09-12T09:48:28.847Z"
   },
   {
    "duration": 17,
    "start_time": "2021-09-12T09:48:28.860Z"
   },
   {
    "duration": 10,
    "start_time": "2021-09-12T09:48:28.879Z"
   },
   {
    "duration": 18,
    "start_time": "2021-09-12T09:48:28.890Z"
   },
   {
    "duration": 22,
    "start_time": "2021-09-12T09:48:28.909Z"
   },
   {
    "duration": 20,
    "start_time": "2021-09-12T09:48:28.932Z"
   },
   {
    "duration": 8,
    "start_time": "2021-09-12T09:48:28.954Z"
   },
   {
    "duration": 12,
    "start_time": "2021-09-12T09:48:28.964Z"
   },
   {
    "duration": 15,
    "start_time": "2021-09-12T09:48:28.977Z"
   },
   {
    "duration": 26,
    "start_time": "2021-09-12T09:48:28.994Z"
   },
   {
    "duration": 18,
    "start_time": "2021-09-12T09:48:29.021Z"
   },
   {
    "duration": 27,
    "start_time": "2021-09-12T09:48:29.041Z"
   },
   {
    "duration": 23,
    "start_time": "2021-09-12T09:48:29.069Z"
   },
   {
    "duration": 26,
    "start_time": "2021-09-12T09:48:29.093Z"
   },
   {
    "duration": 33,
    "start_time": "2021-09-12T09:48:29.120Z"
   },
   {
    "duration": 347,
    "start_time": "2021-09-12T09:48:29.154Z"
   },
   {
    "duration": 400,
    "start_time": "2021-09-12T09:48:29.503Z"
   },
   {
    "duration": 395,
    "start_time": "2021-09-12T09:48:29.906Z"
   },
   {
    "duration": 513,
    "start_time": "2021-09-12T09:48:30.303Z"
   },
   {
    "duration": 387,
    "start_time": "2021-09-12T09:48:30.817Z"
   },
   {
    "duration": 549,
    "start_time": "2021-09-12T09:48:31.205Z"
   },
   {
    "duration": 101,
    "start_time": "2021-09-12T09:48:31.756Z"
   },
   {
    "duration": 505,
    "start_time": "2021-09-12T09:48:31.858Z"
   },
   {
    "duration": 5,
    "start_time": "2021-09-12T09:48:32.364Z"
   },
   {
    "duration": 492,
    "start_time": "2021-09-12T09:48:32.370Z"
   },
   {
    "duration": 5,
    "start_time": "2021-09-12T09:48:32.863Z"
   },
   {
    "duration": 267,
    "start_time": "2021-09-12T09:48:32.869Z"
   },
   {
    "duration": 121,
    "start_time": "2021-09-12T09:48:33.137Z"
   },
   {
    "duration": 25,
    "start_time": "2021-09-12T09:48:33.260Z"
   },
   {
    "duration": 25,
    "start_time": "2021-09-12T09:48:33.287Z"
   },
   {
    "duration": 45,
    "start_time": "2021-09-12T09:48:33.314Z"
   },
   {
    "duration": 27,
    "start_time": "2021-09-12T09:48:33.361Z"
   },
   {
    "duration": 1551,
    "start_time": "2021-12-15T19:17:01.769Z"
   },
   {
    "duration": 32,
    "start_time": "2021-12-15T19:17:03.327Z"
   },
   {
    "duration": 11,
    "start_time": "2021-12-15T19:17:03.362Z"
   },
   {
    "duration": 586,
    "start_time": "2021-12-15T19:17:03.376Z"
   },
   {
    "duration": 52,
    "start_time": "2021-12-15T19:17:03.966Z"
   },
   {
    "duration": 22,
    "start_time": "2021-12-15T19:17:04.021Z"
   },
   {
    "duration": 10,
    "start_time": "2021-12-15T19:17:04.046Z"
   },
   {
    "duration": 9,
    "start_time": "2021-12-15T19:17:04.061Z"
   },
   {
    "duration": 50,
    "start_time": "2021-12-15T19:17:04.072Z"
   },
   {
    "duration": 20,
    "start_time": "2021-12-15T19:17:04.125Z"
   },
   {
    "duration": 9,
    "start_time": "2021-12-15T19:17:04.148Z"
   },
   {
    "duration": 11,
    "start_time": "2021-12-15T19:17:04.159Z"
   },
   {
    "duration": 45,
    "start_time": "2021-12-15T19:17:04.173Z"
   },
   {
    "duration": 10,
    "start_time": "2021-12-15T19:17:04.221Z"
   },
   {
    "duration": 15,
    "start_time": "2021-12-15T19:17:04.234Z"
   },
   {
    "duration": 65,
    "start_time": "2021-12-15T19:17:04.252Z"
   },
   {
    "duration": 11,
    "start_time": "2021-12-15T19:17:04.320Z"
   },
   {
    "duration": 12,
    "start_time": "2021-12-15T19:17:04.334Z"
   },
   {
    "duration": 8,
    "start_time": "2021-12-15T19:17:04.349Z"
   },
   {
    "duration": 7,
    "start_time": "2021-12-15T19:17:04.360Z"
   },
   {
    "duration": 624,
    "start_time": "2021-12-15T19:17:04.417Z"
   },
   {
    "duration": 744,
    "start_time": "2021-12-15T19:17:05.044Z"
   },
   {
    "duration": 752,
    "start_time": "2021-12-15T19:17:05.791Z"
   },
   {
    "duration": 844,
    "start_time": "2021-12-15T19:17:06.546Z"
   },
   {
    "duration": 727,
    "start_time": "2021-12-15T19:17:07.393Z"
   },
   {
    "duration": 951,
    "start_time": "2021-12-15T19:17:08.126Z"
   },
   {
    "duration": 336,
    "start_time": "2021-12-15T19:17:09.081Z"
   },
   {
    "duration": 769,
    "start_time": "2021-12-15T19:17:09.419Z"
   },
   {
    "duration": 9,
    "start_time": "2021-12-15T19:17:10.191Z"
   },
   {
    "duration": 963,
    "start_time": "2021-12-15T19:17:10.218Z"
   },
   {
    "duration": 9,
    "start_time": "2021-12-15T19:17:11.183Z"
   },
   {
    "duration": 683,
    "start_time": "2021-12-15T19:17:11.194Z"
   },
   {
    "duration": 279,
    "start_time": "2021-12-15T19:17:11.879Z"
   },
   {
    "duration": 16,
    "start_time": "2021-12-15T19:17:12.161Z"
   },
   {
    "duration": 39,
    "start_time": "2021-12-15T19:17:12.179Z"
   },
   {
    "duration": 33,
    "start_time": "2021-12-15T19:17:12.221Z"
   },
   {
    "duration": 34,
    "start_time": "2021-12-15T19:17:12.257Z"
   }
  ],
  "kernelspec": {
   "display_name": "Python 3",
   "language": "python",
   "name": "python3"
  },
  "language_info": {
   "codemirror_mode": {
    "name": "ipython",
    "version": 3
   },
   "file_extension": ".py",
   "mimetype": "text/x-python",
   "name": "python",
   "nbconvert_exporter": "python",
   "pygments_lexer": "ipython3",
   "version": "3.7.8"
  },
  "toc": {
   "base_numbering": 1,
   "nav_menu": {},
   "number_sections": true,
   "sideBar": true,
   "skip_h1_title": true,
   "title_cell": "Table of Contents",
   "title_sidebar": "Contents",
   "toc_cell": false,
   "toc_position": {
    "height": "calc(100% - 180px)",
    "left": "10px",
    "top": "150px",
    "width": "366.391px"
   },
   "toc_section_display": true,
   "toc_window_display": true
  }
 },
 "nbformat": 4,
 "nbformat_minor": 2
}
