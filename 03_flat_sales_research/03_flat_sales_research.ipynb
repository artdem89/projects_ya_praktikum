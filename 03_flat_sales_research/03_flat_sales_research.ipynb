{
 "cells": [
  {
   "cell_type": "markdown",
   "metadata": {
    "toc": true
   },
   "source": [
    "<h1>Содержание<span class=\"tocSkip\"></span></h1>\n",
    "<div class=\"toc\"><ul class=\"toc-item\"><li><span><a href=\"#Изучение-данных-из-файла\" data-toc-modified-id=\"Изучение-данных-из-файла-1\"><span class=\"toc-item-num\">1&nbsp;&nbsp;</span>Изучение данных из файла</a></span><ul class=\"toc-item\"><li><span><a href=\"#Вывод\" data-toc-modified-id=\"Вывод-1.1\"><span class=\"toc-item-num\">1.1&nbsp;&nbsp;</span>Вывод</a></span></li></ul></li><li><span><a href=\"#Предобработка-данных\" data-toc-modified-id=\"Предобработка-данных-2\"><span class=\"toc-item-num\">2&nbsp;&nbsp;</span>Предобработка данных</a></span><ul class=\"toc-item\"><li><span><a href=\"#Вывод\" data-toc-modified-id=\"Вывод-2.1\"><span class=\"toc-item-num\">2.1&nbsp;&nbsp;</span>Вывод</a></span></li></ul></li><li><span><a href=\"#Расчёты-и-добавление-результатов-в-таблицу\" data-toc-modified-id=\"Расчёты-и-добавление-результатов-в-таблицу-3\"><span class=\"toc-item-num\">3&nbsp;&nbsp;</span>Расчёты и добавление результатов в таблицу</a></span><ul class=\"toc-item\"><li><span><a href=\"#Вывод\" data-toc-modified-id=\"Вывод-3.1\"><span class=\"toc-item-num\">3.1&nbsp;&nbsp;</span>Вывод</a></span></li></ul></li><li><span><a href=\"#Исследовательский-анализ-данных\" data-toc-modified-id=\"Исследовательский-анализ-данных-4\"><span class=\"toc-item-num\">4&nbsp;&nbsp;</span>Исследовательский анализ данных</a></span><ul class=\"toc-item\"><li><span><a href=\"#Вывод\" data-toc-modified-id=\"Вывод-4.1\"><span class=\"toc-item-num\">4.1&nbsp;&nbsp;</span>Вывод</a></span></li></ul></li><li><span><a href=\"#Общий-вывод\" data-toc-modified-id=\"Общий-вывод-5\"><span class=\"toc-item-num\">5&nbsp;&nbsp;</span>Общий вывод</a></span></li></ul></div>"
   ]
  },
  {
   "cell_type": "markdown",
   "metadata": {},
   "source": [
    "# Исследование объявлений о продаже квартир\n",
    "\n",
    "В вашем распоряжении данные сервиса Яндекс.Недвижимость — архив объявлений о продаже квартир в Санкт-Петербурге и соседних населённых пунктах за несколько лет. Нужно научиться определять рыночную стоимость объектов недвижимости. Ваша задача — установить параметры. Это позволит построить автоматизированную систему: она отследит аномалии и мошенническую деятельность. \n",
    "\n",
    "По каждой квартире на продажу доступны два вида данных. Первые вписаны пользователем, вторые получены автоматически на основе картографических данных. Например, расстояние до центра, аэропорта, ближайшего парка и водоёма.\n",
    "\n",
    "Описание данных:\n",
    "- airports_nearest — расстояние до ближайшего аэропорта в метрах (м);\n",
    "- balcony — число балконов;\n",
    "- ceiling_height — высота потолков (м);\n",
    "- cityCenters_nearest — расстояние до центра города (м);\n",
    "- days_exposition — сколько дней было размещено объявление (от публикации до снятия);\n",
    "- first_day_exposition — дата публикации;\n",
    "- floor — этаж;\n",
    "- floors_total — всего этажей в доме;\n",
    "- is_apartment — апартаменты (булев тип);\n",
    "- kitchen_area — площадь кухни в квадратных метрах (м²);\n",
    "- last_price — цена на момент снятия с публикации;\n",
    "- living_area — жилая площадь в квадратных метрах(м²);\n",
    "- locality_name — название населённого пункта;\n",
    "- open_plan — свободная планировка (булев тип);\n",
    "- parks_around3000 — число парков в радиусе 3 км;\n",
    "- parks_nearest — расстояние до ближайшего парка (м);\n",
    "- ponds_around3000 — число водоёмов в радиусе 3 км;\n",
    "- ponds_nearest — расстояние до ближайшего водоёма (м);\n",
    "- rooms — число комнат;\n",
    "- studio — квартира-студия (булев тип);\n",
    "- total_area — площадь квартиры в квадратных метрах (м²);\n",
    "- total_images — число фотографий квартиры в объявлении."
   ]
  },
  {
   "cell_type": "markdown",
   "metadata": {},
   "source": [
    "## Изучение данных из файла"
   ]
  },
  {
   "cell_type": "code",
   "execution_count": 1,
   "metadata": {},
   "outputs": [],
   "source": [
    "import pandas as pd\n",
    "import numpy as np\n",
    "from pymystem3 import Mystem\n",
    "from collections import Counter\n",
    "import matplotlib.pyplot as plt"
   ]
  },
  {
   "cell_type": "code",
   "execution_count": 2,
   "metadata": {},
   "outputs": [
    {
     "data": {
      "text/html": [
       "<div>\n",
       "<style scoped>\n",
       "    .dataframe tbody tr th:only-of-type {\n",
       "        vertical-align: middle;\n",
       "    }\n",
       "\n",
       "    .dataframe tbody tr th {\n",
       "        vertical-align: top;\n",
       "    }\n",
       "\n",
       "    .dataframe thead th {\n",
       "        text-align: right;\n",
       "    }\n",
       "</style>\n",
       "<table border=\"1\" class=\"dataframe\">\n",
       "  <thead>\n",
       "    <tr style=\"text-align: right;\">\n",
       "      <th></th>\n",
       "      <th>total_images</th>\n",
       "      <th>last_price</th>\n",
       "      <th>total_area</th>\n",
       "      <th>first_day_exposition</th>\n",
       "      <th>rooms</th>\n",
       "      <th>ceiling_height</th>\n",
       "      <th>floors_total</th>\n",
       "      <th>living_area</th>\n",
       "      <th>floor</th>\n",
       "      <th>is_apartment</th>\n",
       "      <th>...</th>\n",
       "      <th>kitchen_area</th>\n",
       "      <th>balcony</th>\n",
       "      <th>locality_name</th>\n",
       "      <th>airports_nearest</th>\n",
       "      <th>cityCenters_nearest</th>\n",
       "      <th>parks_around3000</th>\n",
       "      <th>parks_nearest</th>\n",
       "      <th>ponds_around3000</th>\n",
       "      <th>ponds_nearest</th>\n",
       "      <th>days_exposition</th>\n",
       "    </tr>\n",
       "  </thead>\n",
       "  <tbody>\n",
       "    <tr>\n",
       "      <td>17338</td>\n",
       "      <td>5</td>\n",
       "      <td>3300000.0</td>\n",
       "      <td>47.0</td>\n",
       "      <td>2018-03-30T00:00:00</td>\n",
       "      <td>1</td>\n",
       "      <td>3.00</td>\n",
       "      <td>10.0</td>\n",
       "      <td>NaN</td>\n",
       "      <td>4</td>\n",
       "      <td>NaN</td>\n",
       "      <td>...</td>\n",
       "      <td>NaN</td>\n",
       "      <td>NaN</td>\n",
       "      <td>деревня Новое Девяткино</td>\n",
       "      <td>NaN</td>\n",
       "      <td>NaN</td>\n",
       "      <td>NaN</td>\n",
       "      <td>NaN</td>\n",
       "      <td>NaN</td>\n",
       "      <td>NaN</td>\n",
       "      <td>42.0</td>\n",
       "    </tr>\n",
       "    <tr>\n",
       "      <td>13876</td>\n",
       "      <td>12</td>\n",
       "      <td>2290000.0</td>\n",
       "      <td>40.0</td>\n",
       "      <td>2016-01-17T00:00:00</td>\n",
       "      <td>2</td>\n",
       "      <td>3.00</td>\n",
       "      <td>3.0</td>\n",
       "      <td>27.0</td>\n",
       "      <td>2</td>\n",
       "      <td>False</td>\n",
       "      <td>...</td>\n",
       "      <td>7.4</td>\n",
       "      <td>NaN</td>\n",
       "      <td>Гатчина</td>\n",
       "      <td>NaN</td>\n",
       "      <td>NaN</td>\n",
       "      <td>NaN</td>\n",
       "      <td>NaN</td>\n",
       "      <td>NaN</td>\n",
       "      <td>NaN</td>\n",
       "      <td>895.0</td>\n",
       "    </tr>\n",
       "    <tr>\n",
       "      <td>3586</td>\n",
       "      <td>0</td>\n",
       "      <td>5450000.0</td>\n",
       "      <td>53.8</td>\n",
       "      <td>2018-02-01T00:00:00</td>\n",
       "      <td>2</td>\n",
       "      <td>2.85</td>\n",
       "      <td>2.0</td>\n",
       "      <td>36.5</td>\n",
       "      <td>2</td>\n",
       "      <td>NaN</td>\n",
       "      <td>...</td>\n",
       "      <td>5.3</td>\n",
       "      <td>1.0</td>\n",
       "      <td>Санкт-Петербург</td>\n",
       "      <td>38914.0</td>\n",
       "      <td>10617.0</td>\n",
       "      <td>1.0</td>\n",
       "      <td>255.0</td>\n",
       "      <td>0.0</td>\n",
       "      <td>NaN</td>\n",
       "      <td>64.0</td>\n",
       "    </tr>\n",
       "    <tr>\n",
       "      <td>6495</td>\n",
       "      <td>1</td>\n",
       "      <td>5482990.0</td>\n",
       "      <td>66.1</td>\n",
       "      <td>2016-02-19T00:00:00</td>\n",
       "      <td>2</td>\n",
       "      <td>NaN</td>\n",
       "      <td>25.0</td>\n",
       "      <td>43.6</td>\n",
       "      <td>1</td>\n",
       "      <td>NaN</td>\n",
       "      <td>...</td>\n",
       "      <td>11.1</td>\n",
       "      <td>0.0</td>\n",
       "      <td>поселок Бугры</td>\n",
       "      <td>NaN</td>\n",
       "      <td>NaN</td>\n",
       "      <td>NaN</td>\n",
       "      <td>NaN</td>\n",
       "      <td>NaN</td>\n",
       "      <td>NaN</td>\n",
       "      <td>469.0</td>\n",
       "    </tr>\n",
       "    <tr>\n",
       "      <td>14431</td>\n",
       "      <td>5</td>\n",
       "      <td>4190000.0</td>\n",
       "      <td>54.0</td>\n",
       "      <td>2017-10-30T00:00:00</td>\n",
       "      <td>2</td>\n",
       "      <td>3.00</td>\n",
       "      <td>12.0</td>\n",
       "      <td>34.0</td>\n",
       "      <td>3</td>\n",
       "      <td>NaN</td>\n",
       "      <td>...</td>\n",
       "      <td>9.0</td>\n",
       "      <td>2.0</td>\n",
       "      <td>Гатчина</td>\n",
       "      <td>NaN</td>\n",
       "      <td>NaN</td>\n",
       "      <td>NaN</td>\n",
       "      <td>NaN</td>\n",
       "      <td>NaN</td>\n",
       "      <td>NaN</td>\n",
       "      <td>73.0</td>\n",
       "    </tr>\n",
       "    <tr>\n",
       "      <td>8363</td>\n",
       "      <td>13</td>\n",
       "      <td>5690000.0</td>\n",
       "      <td>41.7</td>\n",
       "      <td>2016-12-29T00:00:00</td>\n",
       "      <td>2</td>\n",
       "      <td>3.20</td>\n",
       "      <td>5.0</td>\n",
       "      <td>23.0</td>\n",
       "      <td>2</td>\n",
       "      <td>NaN</td>\n",
       "      <td>...</td>\n",
       "      <td>7.5</td>\n",
       "      <td>0.0</td>\n",
       "      <td>Санкт-Петербург</td>\n",
       "      <td>23963.0</td>\n",
       "      <td>3530.0</td>\n",
       "      <td>2.0</td>\n",
       "      <td>352.0</td>\n",
       "      <td>3.0</td>\n",
       "      <td>341.0</td>\n",
       "      <td>283.0</td>\n",
       "    </tr>\n",
       "    <tr>\n",
       "      <td>15270</td>\n",
       "      <td>15</td>\n",
       "      <td>4999000.0</td>\n",
       "      <td>42.0</td>\n",
       "      <td>2018-11-23T00:00:00</td>\n",
       "      <td>1</td>\n",
       "      <td>2.80</td>\n",
       "      <td>17.0</td>\n",
       "      <td>22.0</td>\n",
       "      <td>4</td>\n",
       "      <td>NaN</td>\n",
       "      <td>...</td>\n",
       "      <td>11.0</td>\n",
       "      <td>2.0</td>\n",
       "      <td>Санкт-Петербург</td>\n",
       "      <td>30571.0</td>\n",
       "      <td>11470.0</td>\n",
       "      <td>1.0</td>\n",
       "      <td>721.0</td>\n",
       "      <td>0.0</td>\n",
       "      <td>NaN</td>\n",
       "      <td>60.0</td>\n",
       "    </tr>\n",
       "    <tr>\n",
       "      <td>2143</td>\n",
       "      <td>4</td>\n",
       "      <td>3350000.0</td>\n",
       "      <td>55.5</td>\n",
       "      <td>2017-11-14T00:00:00</td>\n",
       "      <td>2</td>\n",
       "      <td>NaN</td>\n",
       "      <td>5.0</td>\n",
       "      <td>33.5</td>\n",
       "      <td>3</td>\n",
       "      <td>NaN</td>\n",
       "      <td>...</td>\n",
       "      <td>8.5</td>\n",
       "      <td>2.0</td>\n",
       "      <td>Гатчина</td>\n",
       "      <td>NaN</td>\n",
       "      <td>NaN</td>\n",
       "      <td>NaN</td>\n",
       "      <td>NaN</td>\n",
       "      <td>NaN</td>\n",
       "      <td>NaN</td>\n",
       "      <td>211.0</td>\n",
       "    </tr>\n",
       "    <tr>\n",
       "      <td>11284</td>\n",
       "      <td>17</td>\n",
       "      <td>3200000.0</td>\n",
       "      <td>48.0</td>\n",
       "      <td>2017-10-25T00:00:00</td>\n",
       "      <td>1</td>\n",
       "      <td>2.80</td>\n",
       "      <td>9.0</td>\n",
       "      <td>19.0</td>\n",
       "      <td>4</td>\n",
       "      <td>NaN</td>\n",
       "      <td>...</td>\n",
       "      <td>11.5</td>\n",
       "      <td>2.0</td>\n",
       "      <td>Всеволожск</td>\n",
       "      <td>NaN</td>\n",
       "      <td>NaN</td>\n",
       "      <td>NaN</td>\n",
       "      <td>NaN</td>\n",
       "      <td>NaN</td>\n",
       "      <td>NaN</td>\n",
       "      <td>246.0</td>\n",
       "    </tr>\n",
       "    <tr>\n",
       "      <td>17095</td>\n",
       "      <td>8</td>\n",
       "      <td>5100000.0</td>\n",
       "      <td>50.2</td>\n",
       "      <td>2018-10-06T00:00:00</td>\n",
       "      <td>2</td>\n",
       "      <td>2.50</td>\n",
       "      <td>3.0</td>\n",
       "      <td>28.0</td>\n",
       "      <td>1</td>\n",
       "      <td>NaN</td>\n",
       "      <td>...</td>\n",
       "      <td>5.4</td>\n",
       "      <td>NaN</td>\n",
       "      <td>Пушкин</td>\n",
       "      <td>12671.0</td>\n",
       "      <td>24825.0</td>\n",
       "      <td>1.0</td>\n",
       "      <td>171.0</td>\n",
       "      <td>0.0</td>\n",
       "      <td>NaN</td>\n",
       "      <td>23.0</td>\n",
       "    </tr>\n",
       "  </tbody>\n",
       "</table>\n",
       "<p>10 rows × 22 columns</p>\n",
       "</div>"
      ],
      "text/plain": [
       "       total_images  last_price  total_area first_day_exposition  rooms  \\\n",
       "17338             5   3300000.0        47.0  2018-03-30T00:00:00      1   \n",
       "13876            12   2290000.0        40.0  2016-01-17T00:00:00      2   \n",
       "3586              0   5450000.0        53.8  2018-02-01T00:00:00      2   \n",
       "6495              1   5482990.0        66.1  2016-02-19T00:00:00      2   \n",
       "14431             5   4190000.0        54.0  2017-10-30T00:00:00      2   \n",
       "8363             13   5690000.0        41.7  2016-12-29T00:00:00      2   \n",
       "15270            15   4999000.0        42.0  2018-11-23T00:00:00      1   \n",
       "2143              4   3350000.0        55.5  2017-11-14T00:00:00      2   \n",
       "11284            17   3200000.0        48.0  2017-10-25T00:00:00      1   \n",
       "17095             8   5100000.0        50.2  2018-10-06T00:00:00      2   \n",
       "\n",
       "       ceiling_height  floors_total  living_area  floor is_apartment  ...  \\\n",
       "17338            3.00          10.0          NaN      4          NaN  ...   \n",
       "13876            3.00           3.0         27.0      2        False  ...   \n",
       "3586             2.85           2.0         36.5      2          NaN  ...   \n",
       "6495              NaN          25.0         43.6      1          NaN  ...   \n",
       "14431            3.00          12.0         34.0      3          NaN  ...   \n",
       "8363             3.20           5.0         23.0      2          NaN  ...   \n",
       "15270            2.80          17.0         22.0      4          NaN  ...   \n",
       "2143              NaN           5.0         33.5      3          NaN  ...   \n",
       "11284            2.80           9.0         19.0      4          NaN  ...   \n",
       "17095            2.50           3.0         28.0      1          NaN  ...   \n",
       "\n",
       "       kitchen_area  balcony            locality_name  airports_nearest  \\\n",
       "17338           NaN      NaN  деревня Новое Девяткино               NaN   \n",
       "13876           7.4      NaN                  Гатчина               NaN   \n",
       "3586            5.3      1.0          Санкт-Петербург           38914.0   \n",
       "6495           11.1      0.0            поселок Бугры               NaN   \n",
       "14431           9.0      2.0                  Гатчина               NaN   \n",
       "8363            7.5      0.0          Санкт-Петербург           23963.0   \n",
       "15270          11.0      2.0          Санкт-Петербург           30571.0   \n",
       "2143            8.5      2.0                  Гатчина               NaN   \n",
       "11284          11.5      2.0               Всеволожск               NaN   \n",
       "17095           5.4      NaN                   Пушкин           12671.0   \n",
       "\n",
       "      cityCenters_nearest  parks_around3000  parks_nearest  ponds_around3000  \\\n",
       "17338                 NaN               NaN            NaN               NaN   \n",
       "13876                 NaN               NaN            NaN               NaN   \n",
       "3586              10617.0               1.0          255.0               0.0   \n",
       "6495                  NaN               NaN            NaN               NaN   \n",
       "14431                 NaN               NaN            NaN               NaN   \n",
       "8363               3530.0               2.0          352.0               3.0   \n",
       "15270             11470.0               1.0          721.0               0.0   \n",
       "2143                  NaN               NaN            NaN               NaN   \n",
       "11284                 NaN               NaN            NaN               NaN   \n",
       "17095             24825.0               1.0          171.0               0.0   \n",
       "\n",
       "       ponds_nearest  days_exposition  \n",
       "17338            NaN             42.0  \n",
       "13876            NaN            895.0  \n",
       "3586             NaN             64.0  \n",
       "6495             NaN            469.0  \n",
       "14431            NaN             73.0  \n",
       "8363           341.0            283.0  \n",
       "15270            NaN             60.0  \n",
       "2143             NaN            211.0  \n",
       "11284            NaN            246.0  \n",
       "17095            NaN             23.0  \n",
       "\n",
       "[10 rows x 22 columns]"
      ]
     },
     "metadata": {},
     "output_type": "display_data"
    }
   ],
   "source": [
    "df = pd.read_csv('/datasets/real_estate_data.csv', sep='\\t')\n",
    "display(df.sample(10, random_state=1))"
   ]
  },
  {
   "cell_type": "code",
   "execution_count": 3,
   "metadata": {},
   "outputs": [
    {
     "name": "stdout",
     "output_type": "stream",
     "text": [
      "<class 'pandas.core.frame.DataFrame'>\n",
      "RangeIndex: 23699 entries, 0 to 23698\n",
      "Data columns (total 22 columns):\n",
      "total_images            23699 non-null int64\n",
      "last_price              23699 non-null float64\n",
      "total_area              23699 non-null float64\n",
      "first_day_exposition    23699 non-null object\n",
      "rooms                   23699 non-null int64\n",
      "ceiling_height          14504 non-null float64\n",
      "floors_total            23613 non-null float64\n",
      "living_area             21796 non-null float64\n",
      "floor                   23699 non-null int64\n",
      "is_apartment            2775 non-null object\n",
      "studio                  23699 non-null bool\n",
      "open_plan               23699 non-null bool\n",
      "kitchen_area            21421 non-null float64\n",
      "balcony                 12180 non-null float64\n",
      "locality_name           23650 non-null object\n",
      "airports_nearest        18157 non-null float64\n",
      "cityCenters_nearest     18180 non-null float64\n",
      "parks_around3000        18181 non-null float64\n",
      "parks_nearest           8079 non-null float64\n",
      "ponds_around3000        18181 non-null float64\n",
      "ponds_nearest           9110 non-null float64\n",
      "days_exposition         20518 non-null float64\n",
      "dtypes: bool(2), float64(14), int64(3), object(3)\n",
      "memory usage: 3.7+ MB\n"
     ]
    }
   ],
   "source": [
    "df.info()"
   ]
  },
  {
   "cell_type": "code",
   "execution_count": 4,
   "metadata": {},
   "outputs": [
    {
     "data": {
      "text/html": [
       "<style  type=\"text/css\" >\n",
       "    #T_57eeab70_5dd9_11ec_b85c_02420a391c71row0_col0 {\n",
       "            background-color:  #3b4cc0;\n",
       "            color:  #f1f1f1;\n",
       "        }    #T_57eeab70_5dd9_11ec_b85c_02420a391c71row1_col0 {\n",
       "            background-color:  #3b4cc0;\n",
       "            color:  #f1f1f1;\n",
       "        }    #T_57eeab70_5dd9_11ec_b85c_02420a391c71row2_col0 {\n",
       "            background-color:  #3b4cc0;\n",
       "            color:  #f1f1f1;\n",
       "        }    #T_57eeab70_5dd9_11ec_b85c_02420a391c71row3_col0 {\n",
       "            background-color:  #3b4cc0;\n",
       "            color:  #f1f1f1;\n",
       "        }    #T_57eeab70_5dd9_11ec_b85c_02420a391c71row4_col0 {\n",
       "            background-color:  #3b4cc0;\n",
       "            color:  #f1f1f1;\n",
       "        }    #T_57eeab70_5dd9_11ec_b85c_02420a391c71row5_col0 {\n",
       "            background-color:  #ccd9ed;\n",
       "            color:  #000000;\n",
       "        }    #T_57eeab70_5dd9_11ec_b85c_02420a391c71row6_col0 {\n",
       "            background-color:  #3c4ec2;\n",
       "            color:  #f1f1f1;\n",
       "        }    #T_57eeab70_5dd9_11ec_b85c_02420a391c71row7_col0 {\n",
       "            background-color:  #5673e0;\n",
       "            color:  #000000;\n",
       "        }    #T_57eeab70_5dd9_11ec_b85c_02420a391c71row8_col0 {\n",
       "            background-color:  #3b4cc0;\n",
       "            color:  #f1f1f1;\n",
       "        }    #T_57eeab70_5dd9_11ec_b85c_02420a391c71row9_col0 {\n",
       "            background-color:  #b40426;\n",
       "            color:  #f1f1f1;\n",
       "        }    #T_57eeab70_5dd9_11ec_b85c_02420a391c71row10_col0 {\n",
       "            background-color:  #3b4cc0;\n",
       "            color:  #f1f1f1;\n",
       "        }    #T_57eeab70_5dd9_11ec_b85c_02420a391c71row11_col0 {\n",
       "            background-color:  #3b4cc0;\n",
       "            color:  #f1f1f1;\n",
       "        }    #T_57eeab70_5dd9_11ec_b85c_02420a391c71row12_col0 {\n",
       "            background-color:  #5b7ae5;\n",
       "            color:  #000000;\n",
       "        }    #T_57eeab70_5dd9_11ec_b85c_02420a391c71row13_col0 {\n",
       "            background-color:  #e9d5cb;\n",
       "            color:  #000000;\n",
       "        }    #T_57eeab70_5dd9_11ec_b85c_02420a391c71row14_col0 {\n",
       "            background-color:  #3b4cc0;\n",
       "            color:  #f1f1f1;\n",
       "        }    #T_57eeab70_5dd9_11ec_b85c_02420a391c71row15_col0 {\n",
       "            background-color:  #92b4fe;\n",
       "            color:  #000000;\n",
       "        }    #T_57eeab70_5dd9_11ec_b85c_02420a391c71row16_col0 {\n",
       "            background-color:  #92b4fe;\n",
       "            color:  #000000;\n",
       "        }    #T_57eeab70_5dd9_11ec_b85c_02420a391c71row17_col0 {\n",
       "            background-color:  #92b4fe;\n",
       "            color:  #000000;\n",
       "        }    #T_57eeab70_5dd9_11ec_b85c_02420a391c71row18_col0 {\n",
       "            background-color:  #f49a7b;\n",
       "            color:  #000000;\n",
       "        }    #T_57eeab70_5dd9_11ec_b85c_02420a391c71row19_col0 {\n",
       "            background-color:  #92b4fe;\n",
       "            color:  #000000;\n",
       "        }    #T_57eeab70_5dd9_11ec_b85c_02420a391c71row20_col0 {\n",
       "            background-color:  #f7ad90;\n",
       "            color:  #000000;\n",
       "        }    #T_57eeab70_5dd9_11ec_b85c_02420a391c71row21_col0 {\n",
       "            background-color:  #6a8bef;\n",
       "            color:  #000000;\n",
       "        }</style><table id=\"T_57eeab70_5dd9_11ec_b85c_02420a391c71\" ><thead>    <tr>        <th class=\"blank level0\" ></th>        <th class=\"col_heading level0 col0\" >0</th>    </tr></thead><tbody>\n",
       "                <tr>\n",
       "                        <th id=\"T_57eeab70_5dd9_11ec_b85c_02420a391c71level0_row0\" class=\"row_heading level0 row0\" >total_images</th>\n",
       "                        <td id=\"T_57eeab70_5dd9_11ec_b85c_02420a391c71row0_col0\" class=\"data row0 col0\" >0</td>\n",
       "            </tr>\n",
       "            <tr>\n",
       "                        <th id=\"T_57eeab70_5dd9_11ec_b85c_02420a391c71level0_row1\" class=\"row_heading level0 row1\" >last_price</th>\n",
       "                        <td id=\"T_57eeab70_5dd9_11ec_b85c_02420a391c71row1_col0\" class=\"data row1 col0\" >0</td>\n",
       "            </tr>\n",
       "            <tr>\n",
       "                        <th id=\"T_57eeab70_5dd9_11ec_b85c_02420a391c71level0_row2\" class=\"row_heading level0 row2\" >total_area</th>\n",
       "                        <td id=\"T_57eeab70_5dd9_11ec_b85c_02420a391c71row2_col0\" class=\"data row2 col0\" >0</td>\n",
       "            </tr>\n",
       "            <tr>\n",
       "                        <th id=\"T_57eeab70_5dd9_11ec_b85c_02420a391c71level0_row3\" class=\"row_heading level0 row3\" >first_day_exposition</th>\n",
       "                        <td id=\"T_57eeab70_5dd9_11ec_b85c_02420a391c71row3_col0\" class=\"data row3 col0\" >0</td>\n",
       "            </tr>\n",
       "            <tr>\n",
       "                        <th id=\"T_57eeab70_5dd9_11ec_b85c_02420a391c71level0_row4\" class=\"row_heading level0 row4\" >rooms</th>\n",
       "                        <td id=\"T_57eeab70_5dd9_11ec_b85c_02420a391c71row4_col0\" class=\"data row4 col0\" >0</td>\n",
       "            </tr>\n",
       "            <tr>\n",
       "                        <th id=\"T_57eeab70_5dd9_11ec_b85c_02420a391c71level0_row5\" class=\"row_heading level0 row5\" >ceiling_height</th>\n",
       "                        <td id=\"T_57eeab70_5dd9_11ec_b85c_02420a391c71row5_col0\" class=\"data row5 col0\" >38.8</td>\n",
       "            </tr>\n",
       "            <tr>\n",
       "                        <th id=\"T_57eeab70_5dd9_11ec_b85c_02420a391c71level0_row6\" class=\"row_heading level0 row6\" >floors_total</th>\n",
       "                        <td id=\"T_57eeab70_5dd9_11ec_b85c_02420a391c71row6_col0\" class=\"data row6 col0\" >0.36</td>\n",
       "            </tr>\n",
       "            <tr>\n",
       "                        <th id=\"T_57eeab70_5dd9_11ec_b85c_02420a391c71level0_row7\" class=\"row_heading level0 row7\" >living_area</th>\n",
       "                        <td id=\"T_57eeab70_5dd9_11ec_b85c_02420a391c71row7_col0\" class=\"data row7 col0\" >8.03</td>\n",
       "            </tr>\n",
       "            <tr>\n",
       "                        <th id=\"T_57eeab70_5dd9_11ec_b85c_02420a391c71level0_row8\" class=\"row_heading level0 row8\" >floor</th>\n",
       "                        <td id=\"T_57eeab70_5dd9_11ec_b85c_02420a391c71row8_col0\" class=\"data row8 col0\" >0</td>\n",
       "            </tr>\n",
       "            <tr>\n",
       "                        <th id=\"T_57eeab70_5dd9_11ec_b85c_02420a391c71level0_row9\" class=\"row_heading level0 row9\" >is_apartment</th>\n",
       "                        <td id=\"T_57eeab70_5dd9_11ec_b85c_02420a391c71row9_col0\" class=\"data row9 col0\" >88.29</td>\n",
       "            </tr>\n",
       "            <tr>\n",
       "                        <th id=\"T_57eeab70_5dd9_11ec_b85c_02420a391c71level0_row10\" class=\"row_heading level0 row10\" >studio</th>\n",
       "                        <td id=\"T_57eeab70_5dd9_11ec_b85c_02420a391c71row10_col0\" class=\"data row10 col0\" >0</td>\n",
       "            </tr>\n",
       "            <tr>\n",
       "                        <th id=\"T_57eeab70_5dd9_11ec_b85c_02420a391c71level0_row11\" class=\"row_heading level0 row11\" >open_plan</th>\n",
       "                        <td id=\"T_57eeab70_5dd9_11ec_b85c_02420a391c71row11_col0\" class=\"data row11 col0\" >0</td>\n",
       "            </tr>\n",
       "            <tr>\n",
       "                        <th id=\"T_57eeab70_5dd9_11ec_b85c_02420a391c71level0_row12\" class=\"row_heading level0 row12\" >kitchen_area</th>\n",
       "                        <td id=\"T_57eeab70_5dd9_11ec_b85c_02420a391c71row12_col0\" class=\"data row12 col0\" >9.61</td>\n",
       "            </tr>\n",
       "            <tr>\n",
       "                        <th id=\"T_57eeab70_5dd9_11ec_b85c_02420a391c71level0_row13\" class=\"row_heading level0 row13\" >balcony</th>\n",
       "                        <td id=\"T_57eeab70_5dd9_11ec_b85c_02420a391c71row13_col0\" class=\"data row13 col0\" >48.61</td>\n",
       "            </tr>\n",
       "            <tr>\n",
       "                        <th id=\"T_57eeab70_5dd9_11ec_b85c_02420a391c71level0_row14\" class=\"row_heading level0 row14\" >locality_name</th>\n",
       "                        <td id=\"T_57eeab70_5dd9_11ec_b85c_02420a391c71row14_col0\" class=\"data row14 col0\" >0.21</td>\n",
       "            </tr>\n",
       "            <tr>\n",
       "                        <th id=\"T_57eeab70_5dd9_11ec_b85c_02420a391c71level0_row15\" class=\"row_heading level0 row15\" >airports_nearest</th>\n",
       "                        <td id=\"T_57eeab70_5dd9_11ec_b85c_02420a391c71row15_col0\" class=\"data row15 col0\" >23.38</td>\n",
       "            </tr>\n",
       "            <tr>\n",
       "                        <th id=\"T_57eeab70_5dd9_11ec_b85c_02420a391c71level0_row16\" class=\"row_heading level0 row16\" >cityCenters_nearest</th>\n",
       "                        <td id=\"T_57eeab70_5dd9_11ec_b85c_02420a391c71row16_col0\" class=\"data row16 col0\" >23.29</td>\n",
       "            </tr>\n",
       "            <tr>\n",
       "                        <th id=\"T_57eeab70_5dd9_11ec_b85c_02420a391c71level0_row17\" class=\"row_heading level0 row17\" >parks_around3000</th>\n",
       "                        <td id=\"T_57eeab70_5dd9_11ec_b85c_02420a391c71row17_col0\" class=\"data row17 col0\" >23.28</td>\n",
       "            </tr>\n",
       "            <tr>\n",
       "                        <th id=\"T_57eeab70_5dd9_11ec_b85c_02420a391c71level0_row18\" class=\"row_heading level0 row18\" >parks_nearest</th>\n",
       "                        <td id=\"T_57eeab70_5dd9_11ec_b85c_02420a391c71row18_col0\" class=\"data row18 col0\" >65.91</td>\n",
       "            </tr>\n",
       "            <tr>\n",
       "                        <th id=\"T_57eeab70_5dd9_11ec_b85c_02420a391c71level0_row19\" class=\"row_heading level0 row19\" >ponds_around3000</th>\n",
       "                        <td id=\"T_57eeab70_5dd9_11ec_b85c_02420a391c71row19_col0\" class=\"data row19 col0\" >23.28</td>\n",
       "            </tr>\n",
       "            <tr>\n",
       "                        <th id=\"T_57eeab70_5dd9_11ec_b85c_02420a391c71level0_row20\" class=\"row_heading level0 row20\" >ponds_nearest</th>\n",
       "                        <td id=\"T_57eeab70_5dd9_11ec_b85c_02420a391c71row20_col0\" class=\"data row20 col0\" >61.56</td>\n",
       "            </tr>\n",
       "            <tr>\n",
       "                        <th id=\"T_57eeab70_5dd9_11ec_b85c_02420a391c71level0_row21\" class=\"row_heading level0 row21\" >days_exposition</th>\n",
       "                        <td id=\"T_57eeab70_5dd9_11ec_b85c_02420a391c71row21_col0\" class=\"data row21 col0\" >13.42</td>\n",
       "            </tr>\n",
       "    </tbody></table>"
      ],
      "text/plain": [
       "<pandas.io.formats.style.Styler at 0x7f9fc7c93e50>"
      ]
     },
     "execution_count": 4,
     "metadata": {},
     "output_type": "execute_result"
    }
   ],
   "source": [
    "pd.DataFrame(round((df.isna().mean()*100),2)).style.background_gradient('coolwarm')"
   ]
  },
  {
   "cell_type": "code",
   "execution_count": 5,
   "metadata": {},
   "outputs": [
    {
     "data": {
      "text/html": [
       "<div>\n",
       "<style scoped>\n",
       "    .dataframe tbody tr th:only-of-type {\n",
       "        vertical-align: middle;\n",
       "    }\n",
       "\n",
       "    .dataframe tbody tr th {\n",
       "        vertical-align: top;\n",
       "    }\n",
       "\n",
       "    .dataframe thead th {\n",
       "        text-align: right;\n",
       "    }\n",
       "</style>\n",
       "<table border=\"1\" class=\"dataframe\">\n",
       "  <thead>\n",
       "    <tr style=\"text-align: right;\">\n",
       "      <th></th>\n",
       "      <th>total_images</th>\n",
       "      <th>last_price</th>\n",
       "      <th>total_area</th>\n",
       "      <th>rooms</th>\n",
       "      <th>ceiling_height</th>\n",
       "      <th>floors_total</th>\n",
       "      <th>living_area</th>\n",
       "      <th>floor</th>\n",
       "      <th>kitchen_area</th>\n",
       "      <th>balcony</th>\n",
       "      <th>airports_nearest</th>\n",
       "      <th>cityCenters_nearest</th>\n",
       "      <th>parks_around3000</th>\n",
       "      <th>parks_nearest</th>\n",
       "      <th>ponds_around3000</th>\n",
       "      <th>ponds_nearest</th>\n",
       "      <th>days_exposition</th>\n",
       "    </tr>\n",
       "  </thead>\n",
       "  <tbody>\n",
       "    <tr>\n",
       "      <td>count</td>\n",
       "      <td>23699.000</td>\n",
       "      <td>23699.000</td>\n",
       "      <td>23699.000</td>\n",
       "      <td>23699.000</td>\n",
       "      <td>14504.000</td>\n",
       "      <td>23613.000</td>\n",
       "      <td>21796.000</td>\n",
       "      <td>23699.000</td>\n",
       "      <td>21421.000</td>\n",
       "      <td>12180.000</td>\n",
       "      <td>18157.000</td>\n",
       "      <td>18180.000</td>\n",
       "      <td>18181.000</td>\n",
       "      <td>8079.000</td>\n",
       "      <td>18181.000</td>\n",
       "      <td>9110.000</td>\n",
       "      <td>20518.000</td>\n",
       "    </tr>\n",
       "    <tr>\n",
       "      <td>mean</td>\n",
       "      <td>9.858</td>\n",
       "      <td>6541548.772</td>\n",
       "      <td>60.349</td>\n",
       "      <td>2.071</td>\n",
       "      <td>2.771</td>\n",
       "      <td>10.674</td>\n",
       "      <td>34.458</td>\n",
       "      <td>5.892</td>\n",
       "      <td>10.570</td>\n",
       "      <td>1.150</td>\n",
       "      <td>28793.672</td>\n",
       "      <td>14191.278</td>\n",
       "      <td>0.611</td>\n",
       "      <td>490.805</td>\n",
       "      <td>0.770</td>\n",
       "      <td>517.981</td>\n",
       "      <td>180.889</td>\n",
       "    </tr>\n",
       "    <tr>\n",
       "      <td>std</td>\n",
       "      <td>5.683</td>\n",
       "      <td>10887013.268</td>\n",
       "      <td>35.654</td>\n",
       "      <td>1.078</td>\n",
       "      <td>1.261</td>\n",
       "      <td>6.597</td>\n",
       "      <td>22.030</td>\n",
       "      <td>4.885</td>\n",
       "      <td>5.905</td>\n",
       "      <td>1.071</td>\n",
       "      <td>12630.881</td>\n",
       "      <td>8608.386</td>\n",
       "      <td>0.802</td>\n",
       "      <td>342.318</td>\n",
       "      <td>0.938</td>\n",
       "      <td>277.721</td>\n",
       "      <td>219.728</td>\n",
       "    </tr>\n",
       "    <tr>\n",
       "      <td>min</td>\n",
       "      <td>0.000</td>\n",
       "      <td>12190.000</td>\n",
       "      <td>12.000</td>\n",
       "      <td>0.000</td>\n",
       "      <td>1.000</td>\n",
       "      <td>1.000</td>\n",
       "      <td>2.000</td>\n",
       "      <td>1.000</td>\n",
       "      <td>1.300</td>\n",
       "      <td>0.000</td>\n",
       "      <td>0.000</td>\n",
       "      <td>181.000</td>\n",
       "      <td>0.000</td>\n",
       "      <td>1.000</td>\n",
       "      <td>0.000</td>\n",
       "      <td>13.000</td>\n",
       "      <td>1.000</td>\n",
       "    </tr>\n",
       "    <tr>\n",
       "      <td>25%</td>\n",
       "      <td>6.000</td>\n",
       "      <td>3400000.000</td>\n",
       "      <td>40.000</td>\n",
       "      <td>1.000</td>\n",
       "      <td>2.520</td>\n",
       "      <td>5.000</td>\n",
       "      <td>18.600</td>\n",
       "      <td>2.000</td>\n",
       "      <td>7.000</td>\n",
       "      <td>0.000</td>\n",
       "      <td>18585.000</td>\n",
       "      <td>9238.000</td>\n",
       "      <td>0.000</td>\n",
       "      <td>288.000</td>\n",
       "      <td>0.000</td>\n",
       "      <td>294.000</td>\n",
       "      <td>45.000</td>\n",
       "    </tr>\n",
       "    <tr>\n",
       "      <td>50%</td>\n",
       "      <td>9.000</td>\n",
       "      <td>4650000.000</td>\n",
       "      <td>52.000</td>\n",
       "      <td>2.000</td>\n",
       "      <td>2.650</td>\n",
       "      <td>9.000</td>\n",
       "      <td>30.000</td>\n",
       "      <td>4.000</td>\n",
       "      <td>9.100</td>\n",
       "      <td>1.000</td>\n",
       "      <td>26726.000</td>\n",
       "      <td>13098.500</td>\n",
       "      <td>0.000</td>\n",
       "      <td>455.000</td>\n",
       "      <td>1.000</td>\n",
       "      <td>502.000</td>\n",
       "      <td>95.000</td>\n",
       "    </tr>\n",
       "    <tr>\n",
       "      <td>75%</td>\n",
       "      <td>14.000</td>\n",
       "      <td>6800000.000</td>\n",
       "      <td>69.900</td>\n",
       "      <td>3.000</td>\n",
       "      <td>2.800</td>\n",
       "      <td>16.000</td>\n",
       "      <td>42.300</td>\n",
       "      <td>8.000</td>\n",
       "      <td>12.000</td>\n",
       "      <td>2.000</td>\n",
       "      <td>37273.000</td>\n",
       "      <td>16293.000</td>\n",
       "      <td>1.000</td>\n",
       "      <td>612.000</td>\n",
       "      <td>1.000</td>\n",
       "      <td>729.000</td>\n",
       "      <td>232.000</td>\n",
       "    </tr>\n",
       "    <tr>\n",
       "      <td>max</td>\n",
       "      <td>50.000</td>\n",
       "      <td>763000000.000</td>\n",
       "      <td>900.000</td>\n",
       "      <td>19.000</td>\n",
       "      <td>100.000</td>\n",
       "      <td>60.000</td>\n",
       "      <td>409.700</td>\n",
       "      <td>33.000</td>\n",
       "      <td>112.000</td>\n",
       "      <td>5.000</td>\n",
       "      <td>84869.000</td>\n",
       "      <td>65968.000</td>\n",
       "      <td>3.000</td>\n",
       "      <td>3190.000</td>\n",
       "      <td>3.000</td>\n",
       "      <td>1344.000</td>\n",
       "      <td>1580.000</td>\n",
       "    </tr>\n",
       "  </tbody>\n",
       "</table>\n",
       "</div>"
      ],
      "text/plain": [
       "       total_images    last_price  total_area     rooms  ceiling_height  \\\n",
       "count     23699.000     23699.000   23699.000 23699.000       14504.000   \n",
       "mean          9.858   6541548.772      60.349     2.071           2.771   \n",
       "std           5.683  10887013.268      35.654     1.078           1.261   \n",
       "min           0.000     12190.000      12.000     0.000           1.000   \n",
       "25%           6.000   3400000.000      40.000     1.000           2.520   \n",
       "50%           9.000   4650000.000      52.000     2.000           2.650   \n",
       "75%          14.000   6800000.000      69.900     3.000           2.800   \n",
       "max          50.000 763000000.000     900.000    19.000         100.000   \n",
       "\n",
       "       floors_total  living_area     floor  kitchen_area   balcony  \\\n",
       "count     23613.000    21796.000 23699.000     21421.000 12180.000   \n",
       "mean         10.674       34.458     5.892        10.570     1.150   \n",
       "std           6.597       22.030     4.885         5.905     1.071   \n",
       "min           1.000        2.000     1.000         1.300     0.000   \n",
       "25%           5.000       18.600     2.000         7.000     0.000   \n",
       "50%           9.000       30.000     4.000         9.100     1.000   \n",
       "75%          16.000       42.300     8.000        12.000     2.000   \n",
       "max          60.000      409.700    33.000       112.000     5.000   \n",
       "\n",
       "       airports_nearest  cityCenters_nearest  parks_around3000  parks_nearest  \\\n",
       "count         18157.000            18180.000         18181.000       8079.000   \n",
       "mean          28793.672            14191.278             0.611        490.805   \n",
       "std           12630.881             8608.386             0.802        342.318   \n",
       "min               0.000              181.000             0.000          1.000   \n",
       "25%           18585.000             9238.000             0.000        288.000   \n",
       "50%           26726.000            13098.500             0.000        455.000   \n",
       "75%           37273.000            16293.000             1.000        612.000   \n",
       "max           84869.000            65968.000             3.000       3190.000   \n",
       "\n",
       "       ponds_around3000  ponds_nearest  days_exposition  \n",
       "count         18181.000       9110.000        20518.000  \n",
       "mean              0.770        517.981          180.889  \n",
       "std               0.938        277.721          219.728  \n",
       "min               0.000         13.000            1.000  \n",
       "25%               0.000        294.000           45.000  \n",
       "50%               1.000        502.000           95.000  \n",
       "75%               1.000        729.000          232.000  \n",
       "max               3.000       1344.000         1580.000  "
      ]
     },
     "execution_count": 5,
     "metadata": {},
     "output_type": "execute_result"
    }
   ],
   "source": [
    "pd.set_option('display.float_format', lambda x: '%.3f' % x)\n",
    "df.describe()"
   ]
  },
  {
   "cell_type": "markdown",
   "metadata": {},
   "source": [
    "### Вывод"
   ]
  },
  {
   "cell_type": "markdown",
   "metadata": {},
   "source": [
    "По предварительному анализу данных выявлено:\n",
    "- большое количество пропусков в разных столбцах. На следующем этапе будем их изучать и при необходимости заполнять;\n",
    "- в столбце 'last_price' найдены аномальные значения - 12190 (слишком низкая цена для квартиры) и 763000000 (слишком высокая цена для квартиры);\n",
    "- в столбце 'ceiling_height' найдены аномальные значения - 1 (слишком низкая высота потолка) и 100 (слишком высокий потолок);\n",
    "- аномальные значения убирать на следующем этапе не будем, посмотрим, какое влияние они будут оказывать на этапе 4."
   ]
  },
  {
   "cell_type": "markdown",
   "metadata": {},
   "source": [
    "## Предобработка данных"
   ]
  },
  {
   "cell_type": "markdown",
   "metadata": {},
   "source": [
    "На предыдущем шаге, при анализе данных в столбце 'ceiling_height' было обнаружено очень много пропусков (38,8%). Этот столбец важен для дальнейшего анализа, поэтому необходимо заполнить пропуски."
   ]
  },
  {
   "cell_type": "code",
   "execution_count": 6,
   "metadata": {},
   "outputs": [],
   "source": [
    "df['ceiling_height'] = df['ceiling_height'].fillna(df['ceiling_height'].median())"
   ]
  },
  {
   "cell_type": "markdown",
   "metadata": {},
   "source": [
    "Пропуски заполним медианным значением."
   ]
  },
  {
   "cell_type": "code",
   "execution_count": 7,
   "metadata": {},
   "outputs": [],
   "source": [
    "df['living_area_part'] = df['living_area'] / df['total_area']\n",
    "df['kitchen_area_part'] = df['kitchen_area'] / df['total_area']"
   ]
  },
  {
   "cell_type": "markdown",
   "metadata": {},
   "source": [
    "Для того, чтобы заполнить пропуски в столбцах 'living_area' и 'kitchen_area' добавим новые столбцы 'living_area_part' и 'kitchen_area_part', которые показывают соотношение жилой и общей площади, а также отношение площади кухни к общей. Это необходимо для того, чтобы заполнить пропуски."
   ]
  },
  {
   "cell_type": "code",
   "execution_count": 8,
   "metadata": {},
   "outputs": [],
   "source": [
    "for room in df['rooms'].unique():\n",
    "    df.loc[(df['living_area'].isna())&(df['rooms'] == room), 'living_area'] = \\\n",
    "    df.loc[df['rooms'] == room, 'living_area_part'].median() * df['total_area']"
   ]
  },
  {
   "cell_type": "markdown",
   "metadata": {},
   "source": [
    "С помощью цикла заполним пропуски в столбце 'living_area' в зависимости от количества комнат и медианного соотношения жилой и общей площади."
   ]
  },
  {
   "cell_type": "code",
   "execution_count": 9,
   "metadata": {},
   "outputs": [],
   "source": [
    "df.loc[(df['kitchen_area'].isna())&(df['rooms'] >= 1), 'kitchen_area'] = \\\n",
    "df.loc[df['rooms'] >= 1, 'kitchen_area_part'].median() * df['total_area']"
   ]
  },
  {
   "cell_type": "code",
   "execution_count": 10,
   "metadata": {},
   "outputs": [],
   "source": [
    "df['kitchen_area'] = df['kitchen_area'].fillna(0)\n",
    "df['kitchen_area'] = df['kitchen_area'].astype('int')"
   ]
  },
  {
   "cell_type": "markdown",
   "metadata": {},
   "source": [
    "Заполним пропуски в столбце 'kitchen_area' только для объектов с 1 и более комнатой в зависимости от количества комнат и медианного соотношения площади кухни и общей площади.\n",
    "Для объектов без комнат зону кухни заполним 0.\n",
    "После обработки столбца тип данных поменялся на вещественный, заменим его на целочисленный."
   ]
  },
  {
   "cell_type": "code",
   "execution_count": 11,
   "metadata": {},
   "outputs": [],
   "source": [
    "df.dropna(subset=['floors_total', 'locality_name'], inplace=True)"
   ]
  },
  {
   "cell_type": "markdown",
   "metadata": {},
   "source": [
    "Доля пропусков в столбцах 'floors_total' и 'locality_name' крайне мала (менее 0.5%) и такие пропуски никак не заполнить в зависимости от других столбцов. Поэтому было решено их удалить, т.к. это не окажет влияния на результаты анализа."
   ]
  },
  {
   "cell_type": "code",
   "execution_count": 12,
   "metadata": {},
   "outputs": [],
   "source": [
    "df['is_apartment'] = df['is_apartment'].fillna(False)"
   ]
  },
  {
   "cell_type": "markdown",
   "metadata": {},
   "source": [
    "Столбец 'is_apartment' содержит больше всего пропусков - 88,3%. Заменим их на значение - False.\n",
    "Информация об апартаментах заполняется пользователем, т.к. обычно эта информация необязательна для заполнения, то большинство пользователей не проставило эту информацию.\n",
    "Те люди, которые знают, что у них точно апартаменты, указали эту информацию, т.к. эта информация влиет на стоимость объекта."
   ]
  },
  {
   "cell_type": "code",
   "execution_count": 13,
   "metadata": {},
   "outputs": [],
   "source": [
    "df['balcony'] = df['balcony'].fillna(0)\n",
    "df['balcony'] = df['balcony'].astype('float') "
   ]
  },
  {
   "cell_type": "markdown",
   "metadata": {},
   "source": [
    "Столбец 'balcony' содержит почти 50% пропусков. Заменим их на значение - 0  и поменяем тип данных на float. Информация о количестве балконов заполняется пользователем, т.к. обычно эта информация необязательна для заполнения, то большинство пользователей не проставило эту информацию. Наличие балкона является преимуществом при продаже квартир, поэтому пользователи указывают количество балконов при их наличии и не заполняют информацию о балконах при их отсутствии."
   ]
  },
  {
   "cell_type": "code",
   "execution_count": 14,
   "metadata": {},
   "outputs": [
    {
     "name": "stderr",
     "output_type": "stream",
     "text": [
      "/opt/conda/lib/python3.7/site-packages/numpy/lib/nanfunctions.py:1111: RuntimeWarning: Mean of empty slice\n",
      "  return np.nanmean(a, axis, out=out, keepdims=keepdims)\n"
     ]
    }
   ],
   "source": [
    "#df['days_exposition'] = df['days_exposition'].fillna(df['days_exposition'].median())\n",
    "df['days_exposition'] = df.groupby('locality_name')['days_exposition'].transform(lambda x: x.fillna(x.median()))"
   ]
  },
  {
   "cell_type": "code",
   "execution_count": 15,
   "metadata": {},
   "outputs": [
    {
     "data": {
      "text/plain": [
       "0.34"
      ]
     },
     "execution_count": 15,
     "metadata": {},
     "output_type": "execute_result"
    }
   ],
   "source": [
    "round(df['days_exposition'].isna().mean() * 100, 2)"
   ]
  },
  {
   "cell_type": "code",
   "execution_count": 16,
   "metadata": {},
   "outputs": [],
   "source": [
    "df.dropna(subset=['days_exposition'], inplace=True)"
   ]
  },
  {
   "cell_type": "markdown",
   "metadata": {},
   "source": [
    "Пропуски заполним медианным значением в зависимости от населённого пункта. Оставшиеся строки с пропусками удалим."
   ]
  },
  {
   "cell_type": "code",
   "execution_count": 17,
   "metadata": {},
   "outputs": [],
   "source": [
    "df['last_price'] = df['last_price'].astype('int') "
   ]
  },
  {
   "cell_type": "markdown",
   "metadata": {},
   "source": [
    "В столбцах 'last_price' вещественный тип данных заменён на целочисленный методом astype() для удобства использования в анализе."
   ]
  },
  {
   "cell_type": "code",
   "execution_count": 18,
   "metadata": {},
   "outputs": [],
   "source": [
    "df['first_day_exposition'] = pd.to_datetime(df['first_day_exposition'], format='%Y-%m-%dT%H:%M:%S')"
   ]
  },
  {
   "cell_type": "markdown",
   "metadata": {},
   "source": [
    "Изменили тип данных в столбце с датами публикации объявлений - из строки в дату и время. Это сделано для того, чтобы на следующем шаге добавить столбцы с днем недели, месяцем и годом публикации."
   ]
  },
  {
   "cell_type": "markdown",
   "metadata": {},
   "source": [
    "### Вывод"
   ]
  },
  {
   "cell_type": "markdown",
   "metadata": {},
   "source": [
    "В ходе анализа были выявлены пропуски во многих столбцах, которые было решено исправить.\n",
    "\n",
    "1) Заполнены пропуски в столбце 'ceiling_height' медианным значением. Пропуски связаны с тем, что высота потолка необязательный атрибут для размещения объявления.\n",
    "\n",
    "2) Заполнены пропуски в столбцах 'living_area' и 'kitchen_area' в зависимости от количества комнат и медианного соотношения жилой и общей площади, а также площади кухни и общей. Пропуски связаны с тем, что площади необязательные атрибуты для размещения объявления, хотя это важный фактор, на который ориентируются покупатели.\n",
    "\n",
    "3) Удалены объекты с пропуском в столбцах 'locality_name' и 'floors_total'. Такие пропуски невозможно заполнить корректно и их доля менее 0.5%. Пропуски связаны с некорректным распознанием адреса, ошибками при выгрузке данных или отсутствием информации в базе (например, новый дом). Обычно город и количество этажей в доме проставляется автоматически при правильном адресе.\n",
    "\n",
    "4) Заполнены пропуски в столбце 'is_apartment' значением False, т.к. если пользователь точно знает, что у него апартаменты, то он укажет это в объявлении, т.к. это влияет на стоимость объекта (цена ниже, чем у квартиры, можно быстрее продать).\n",
    "\n",
    "5) Заполнены пропуски в столбце 'balcony' значением 0. Количество балконов может тоже влиять на цену, соответственно, при их наличии пользователи указывают их количество, при отсутствии - в большинстве случаев не будут заполнять это поле.\n",
    "\n",
    "6) Заполнены пропуски в столбце 'days_exposition' медианным значением в зависимости от населённого пункта. Пропуски могут связаны с ошибками при выгрузке данных или это ещё не проданные квартиры. Часть значений всё равно не было заполнено, т.к. в отдельных населённых пунктах нет информации о сроках продаж. Их доля мала (0.34%), поэтому их можно удалить."
   ]
  },
  {
   "cell_type": "markdown",
   "metadata": {},
   "source": [
    "## Расчёты и добавление результатов в таблицу"
   ]
  },
  {
   "cell_type": "markdown",
   "metadata": {},
   "source": [
    "Цена квадратного метра"
   ]
  },
  {
   "cell_type": "code",
   "execution_count": 19,
   "metadata": {},
   "outputs": [],
   "source": [
    "df['price_per_meter'] = round(df['last_price'] / df['total_area'], 0)"
   ]
  },
  {
   "cell_type": "markdown",
   "metadata": {},
   "source": [
    "День недели, месяц и год публикации объявления"
   ]
  },
  {
   "cell_type": "code",
   "execution_count": 20,
   "metadata": {},
   "outputs": [],
   "source": [
    "df['weekday_exposition'] = df['first_day_exposition'].dt.weekday\n",
    "df['month_exposition'] = df['first_day_exposition'].dt.month\n",
    "df['year_exposition'] = df['first_day_exposition'].dt.year"
   ]
  },
  {
   "cell_type": "markdown",
   "metadata": {},
   "source": [
    "Этаж квартиры"
   ]
  },
  {
   "cell_type": "code",
   "execution_count": 21,
   "metadata": {},
   "outputs": [],
   "source": [
    "def floor_category(row):    \n",
    "    if row['floor'] == 1:\n",
    "        return 'первый'\n",
    "    elif row['floor'] == row['floors_total']:\n",
    "        return 'последний'\n",
    "    elif row['floor'] > row['floors_total']:\n",
    "        return 'ошибочный этаж'\n",
    "    else:\n",
    "        return 'другой'\n",
    "df['floor_category'] = df.apply(floor_category, axis=1)"
   ]
  },
  {
   "cell_type": "code",
   "execution_count": 22,
   "metadata": {},
   "outputs": [
    {
     "data": {
      "text/plain": [
       "floor_category\n",
       "другой       17276\n",
       "первый        2894\n",
       "последний     3315\n",
       "Name: floor_category, dtype: int64"
      ]
     },
     "execution_count": 22,
     "metadata": {},
     "output_type": "execute_result"
    }
   ],
   "source": [
    "df.groupby('floor_category')['floor_category'].count()"
   ]
  },
  {
   "cell_type": "markdown",
   "metadata": {},
   "source": [
    "Соотношение жилой и общей площади, а также отношение площади кухни к общей. Эти столбцы были добавлены на предыдущем шаге, но после заполнения пропусков нужно обновить информацию, т.к. там тоже были пропуски."
   ]
  },
  {
   "cell_type": "code",
   "execution_count": 23,
   "metadata": {},
   "outputs": [],
   "source": [
    "df['living_area_part'] = df['living_area'] / df['total_area']\n",
    "df['kitchen_area_part'] = df['kitchen_area'] / df['total_area']"
   ]
  },
  {
   "cell_type": "markdown",
   "metadata": {},
   "source": [
    "### Вывод"
   ]
  },
  {
   "cell_type": "markdown",
   "metadata": {},
   "source": [
    "Посчитали и добавили столбцы для исследовательского анализа данных."
   ]
  },
  {
   "cell_type": "code",
   "execution_count": 24,
   "metadata": {},
   "outputs": [
    {
     "data": {
      "text/html": [
       "<div>\n",
       "<style scoped>\n",
       "    .dataframe tbody tr th:only-of-type {\n",
       "        vertical-align: middle;\n",
       "    }\n",
       "\n",
       "    .dataframe tbody tr th {\n",
       "        vertical-align: top;\n",
       "    }\n",
       "\n",
       "    .dataframe thead th {\n",
       "        text-align: right;\n",
       "    }\n",
       "</style>\n",
       "<table border=\"1\" class=\"dataframe\">\n",
       "  <thead>\n",
       "    <tr style=\"text-align: right;\">\n",
       "      <th></th>\n",
       "      <th>total_images</th>\n",
       "      <th>last_price</th>\n",
       "      <th>total_area</th>\n",
       "      <th>first_day_exposition</th>\n",
       "      <th>rooms</th>\n",
       "      <th>ceiling_height</th>\n",
       "      <th>floors_total</th>\n",
       "      <th>living_area</th>\n",
       "      <th>floor</th>\n",
       "      <th>is_apartment</th>\n",
       "      <th>...</th>\n",
       "      <th>ponds_around3000</th>\n",
       "      <th>ponds_nearest</th>\n",
       "      <th>days_exposition</th>\n",
       "      <th>living_area_part</th>\n",
       "      <th>kitchen_area_part</th>\n",
       "      <th>price_per_meter</th>\n",
       "      <th>weekday_exposition</th>\n",
       "      <th>month_exposition</th>\n",
       "      <th>year_exposition</th>\n",
       "      <th>floor_category</th>\n",
       "    </tr>\n",
       "  </thead>\n",
       "  <tbody>\n",
       "    <tr>\n",
       "      <td>22543</td>\n",
       "      <td>8</td>\n",
       "      <td>35000000</td>\n",
       "      <td>118.000</td>\n",
       "      <td>2018-05-29</td>\n",
       "      <td>3</td>\n",
       "      <td>2.650</td>\n",
       "      <td>7.000</td>\n",
       "      <td>59.000</td>\n",
       "      <td>3</td>\n",
       "      <td>False</td>\n",
       "      <td>...</td>\n",
       "      <td>3.000</td>\n",
       "      <td>463.000</td>\n",
       "      <td>159.000</td>\n",
       "      <td>0.500</td>\n",
       "      <td>0.212</td>\n",
       "      <td>296610.000</td>\n",
       "      <td>1</td>\n",
       "      <td>5</td>\n",
       "      <td>2018</td>\n",
       "      <td>другой</td>\n",
       "    </tr>\n",
       "    <tr>\n",
       "      <td>9766</td>\n",
       "      <td>13</td>\n",
       "      <td>2500000</td>\n",
       "      <td>30.000</td>\n",
       "      <td>2018-11-06</td>\n",
       "      <td>1</td>\n",
       "      <td>2.650</td>\n",
       "      <td>5.000</td>\n",
       "      <td>17.000</td>\n",
       "      <td>4</td>\n",
       "      <td>False</td>\n",
       "      <td>...</td>\n",
       "      <td>nan</td>\n",
       "      <td>nan</td>\n",
       "      <td>172.000</td>\n",
       "      <td>0.567</td>\n",
       "      <td>0.167</td>\n",
       "      <td>83333.000</td>\n",
       "      <td>1</td>\n",
       "      <td>11</td>\n",
       "      <td>2018</td>\n",
       "      <td>другой</td>\n",
       "    </tr>\n",
       "    <tr>\n",
       "      <td>3030</td>\n",
       "      <td>5</td>\n",
       "      <td>15884000</td>\n",
       "      <td>72.200</td>\n",
       "      <td>2017-03-04</td>\n",
       "      <td>2</td>\n",
       "      <td>2.650</td>\n",
       "      <td>7.000</td>\n",
       "      <td>37.900</td>\n",
       "      <td>3</td>\n",
       "      <td>False</td>\n",
       "      <td>...</td>\n",
       "      <td>0.000</td>\n",
       "      <td>nan</td>\n",
       "      <td>341.000</td>\n",
       "      <td>0.525</td>\n",
       "      <td>0.235</td>\n",
       "      <td>220000.000</td>\n",
       "      <td>5</td>\n",
       "      <td>3</td>\n",
       "      <td>2017</td>\n",
       "      <td>другой</td>\n",
       "    </tr>\n",
       "    <tr>\n",
       "      <td>2179</td>\n",
       "      <td>7</td>\n",
       "      <td>5680000</td>\n",
       "      <td>77.000</td>\n",
       "      <td>2017-11-10</td>\n",
       "      <td>4</td>\n",
       "      <td>3.700</td>\n",
       "      <td>2.000</td>\n",
       "      <td>50.800</td>\n",
       "      <td>1</td>\n",
       "      <td>False</td>\n",
       "      <td>...</td>\n",
       "      <td>1.000</td>\n",
       "      <td>1007.000</td>\n",
       "      <td>168.000</td>\n",
       "      <td>0.660</td>\n",
       "      <td>0.130</td>\n",
       "      <td>73766.000</td>\n",
       "      <td>4</td>\n",
       "      <td>11</td>\n",
       "      <td>2017</td>\n",
       "      <td>первый</td>\n",
       "    </tr>\n",
       "    <tr>\n",
       "      <td>17594</td>\n",
       "      <td>14</td>\n",
       "      <td>1300000</td>\n",
       "      <td>31.000</td>\n",
       "      <td>2017-02-17</td>\n",
       "      <td>1</td>\n",
       "      <td>2.650</td>\n",
       "      <td>2.000</td>\n",
       "      <td>16.200</td>\n",
       "      <td>1</td>\n",
       "      <td>False</td>\n",
       "      <td>...</td>\n",
       "      <td>nan</td>\n",
       "      <td>nan</td>\n",
       "      <td>69.000</td>\n",
       "      <td>0.523</td>\n",
       "      <td>0.161</td>\n",
       "      <td>41935.000</td>\n",
       "      <td>4</td>\n",
       "      <td>2</td>\n",
       "      <td>2017</td>\n",
       "      <td>первый</td>\n",
       "    </tr>\n",
       "  </tbody>\n",
       "</table>\n",
       "<p>5 rows × 29 columns</p>\n",
       "</div>"
      ],
      "text/plain": [
       "       total_images  last_price  total_area first_day_exposition  rooms  \\\n",
       "22543             8    35000000     118.000           2018-05-29      3   \n",
       "9766             13     2500000      30.000           2018-11-06      1   \n",
       "3030              5    15884000      72.200           2017-03-04      2   \n",
       "2179              7     5680000      77.000           2017-11-10      4   \n",
       "17594            14     1300000      31.000           2017-02-17      1   \n",
       "\n",
       "       ceiling_height  floors_total  living_area  floor  is_apartment  ...  \\\n",
       "22543           2.650         7.000       59.000      3         False  ...   \n",
       "9766            2.650         5.000       17.000      4         False  ...   \n",
       "3030            2.650         7.000       37.900      3         False  ...   \n",
       "2179            3.700         2.000       50.800      1         False  ...   \n",
       "17594           2.650         2.000       16.200      1         False  ...   \n",
       "\n",
       "       ponds_around3000  ponds_nearest  days_exposition  living_area_part  \\\n",
       "22543             3.000        463.000          159.000             0.500   \n",
       "9766                nan            nan          172.000             0.567   \n",
       "3030              0.000            nan          341.000             0.525   \n",
       "2179              1.000       1007.000          168.000             0.660   \n",
       "17594               nan            nan           69.000             0.523   \n",
       "\n",
       "      kitchen_area_part  price_per_meter  weekday_exposition  \\\n",
       "22543             0.212       296610.000                   1   \n",
       "9766              0.167        83333.000                   1   \n",
       "3030              0.235       220000.000                   5   \n",
       "2179              0.130        73766.000                   4   \n",
       "17594             0.161        41935.000                   4   \n",
       "\n",
       "       month_exposition  year_exposition  floor_category  \n",
       "22543                 5             2018          другой  \n",
       "9766                 11             2018          другой  \n",
       "3030                  3             2017          другой  \n",
       "2179                 11             2017          первый  \n",
       "17594                 2             2017          первый  \n",
       "\n",
       "[5 rows x 29 columns]"
      ]
     },
     "metadata": {},
     "output_type": "display_data"
    }
   ],
   "source": [
    "display(df.sample(5, random_state=1))"
   ]
  },
  {
   "cell_type": "markdown",
   "metadata": {},
   "source": [
    "## Исследовательский анализ данных"
   ]
  },
  {
   "cell_type": "markdown",
   "metadata": {},
   "source": [
    "Изучим следующие параметры: площадь, цена, число комнат, высота потолков"
   ]
  },
  {
   "cell_type": "code",
   "execution_count": 25,
   "metadata": {},
   "outputs": [
    {
     "data": {
      "text/plain": [
       "count   23485.000\n",
       "mean       60.359\n",
       "std        35.700\n",
       "min        12.000\n",
       "25%        40.000\n",
       "50%        52.000\n",
       "75%        69.800\n",
       "max       900.000\n",
       "Name: total_area, dtype: float64"
      ]
     },
     "execution_count": 25,
     "metadata": {},
     "output_type": "execute_result"
    }
   ],
   "source": [
    "df['total_area'].describe()"
   ]
  },
  {
   "cell_type": "code",
   "execution_count": 26,
   "metadata": {},
   "outputs": [
    {
     "data": {
      "image/png": "[encoded data removed]",
      "text/plain": [
       "<Figure size 432x288 with 1 Axes>"
      ]
     },
     "metadata": {
      "needs_background": "light"
     },
     "output_type": "display_data"
    }
   ],
   "source": [
    "plt.ylim(0, 200)\n",
    "df.boxplot('total_area')\n",
    "plt.show()"
   ]
  },
  {
   "cell_type": "code",
   "execution_count": 27,
   "metadata": {},
   "outputs": [
    {
     "data": {
      "text/plain": [
       "<matplotlib.axes._subplots.AxesSubplot at 0x7fa011e64910>"
      ]
     },
     "execution_count": 27,
     "metadata": {},
     "output_type": "execute_result"
    },
    {
     "data": {
      "image/png": "[encoded data removed]",
      "text/plain": [
       "<Figure size 720x360 with 1 Axes>"
      ]
     },
     "metadata": {
      "needs_background": "light"
     },
     "output_type": "display_data"
    }
   ],
   "source": [
    "df['total_area'].hist(bins=30, figsize=(10, 5))"
   ]
  },
  {
   "cell_type": "markdown",
   "metadata": {},
   "source": [
    "Как мы видим из гистограмм, нормальное распределение значений в диапазоне от 115 до 150 кв.м. Большинство значений входит в диапазон от 40 до 70 кв.м. Всё что за пределами - можно считать выбросами (>150 кв.м).\n",
    "Построим гистограмму в диапазоне 12-150 кв.м."
   ]
  },
  {
   "cell_type": "code",
   "execution_count": 28,
   "metadata": {},
   "outputs": [
    {
     "data": {
      "text/plain": [
       "<matplotlib.axes._subplots.AxesSubplot at 0x7fa0116d3c90>"
      ]
     },
     "execution_count": 28,
     "metadata": {},
     "output_type": "execute_result"
    },
    {
     "data": {
      "image/png": "[encoded data removed]",
      "text/plain": [
       "<Figure size 720x360 with 1 Axes>"
      ]
     },
     "metadata": {
      "needs_background": "light"
     },
     "output_type": "display_data"
    }
   ],
   "source": [
    "df['total_area'].hist(bins=30, figsize=(10,5), range=(12,150))"
   ]
  },
  {
   "cell_type": "code",
   "execution_count": 29,
   "metadata": {},
   "outputs": [
    {
     "data": {
      "text/plain": [
       "count       23485.000\n",
       "mean      6553103.816\n",
       "std      10926838.543\n",
       "min         12190.000\n",
       "25%       3440000.000\n",
       "50%       4650000.000\n",
       "75%       6800000.000\n",
       "max     763000000.000\n",
       "Name: last_price, dtype: float64"
      ]
     },
     "execution_count": 29,
     "metadata": {},
     "output_type": "execute_result"
    }
   ],
   "source": [
    "df['last_price'].describe()"
   ]
  },
  {
   "cell_type": "code",
   "execution_count": 30,
   "metadata": {},
   "outputs": [
    {
     "data": {
      "image/png": "[encoded data removed]",
      "text/plain": [
       "<Figure size 432x288 with 1 Axes>"
      ]
     },
     "metadata": {
      "needs_background": "light"
     },
     "output_type": "display_data"
    }
   ],
   "source": [
    "plt.ylim(0, 20000000)\n",
    "df.boxplot('last_price')\n",
    "plt.show()"
   ]
  },
  {
   "cell_type": "code",
   "execution_count": 31,
   "metadata": {},
   "outputs": [
    {
     "data": {
      "text/plain": [
       "<matplotlib.axes._subplots.AxesSubplot at 0x7fa0115907d0>"
      ]
     },
     "execution_count": 31,
     "metadata": {},
     "output_type": "execute_result"
    },
    {
     "data": {
      "image/png": "[encoded data removed]",
      "text/plain": [
       "<Figure size 720x360 with 1 Axes>"
      ]
     },
     "metadata": {
      "needs_background": "light"
     },
     "output_type": "display_data"
    }
   ],
   "source": [
    "df['last_price'].hist(bins=100, figsize=(10, 5))"
   ]
  },
  {
   "cell_type": "markdown",
   "metadata": {},
   "source": [
    "Как мы видим из гистограмм, нормальное распределение значений в диапазоне от 0,129 до 12 млн. Большинство значений входит в диапазон от 3,4 до 7 млн. Всё что за пределами - можно считать выбросами (>20 млн). Минимальная цена также выглядит подозрительной. Исследуем квартиры с минимальными ценами."
   ]
  },
  {
   "cell_type": "code",
   "execution_count": 32,
   "metadata": {},
   "outputs": [
    {
     "data": {
      "text/html": [
       "<div>\n",
       "<style scoped>\n",
       "    .dataframe tbody tr th:only-of-type {\n",
       "        vertical-align: middle;\n",
       "    }\n",
       "\n",
       "    .dataframe tbody tr th {\n",
       "        vertical-align: top;\n",
       "    }\n",
       "\n",
       "    .dataframe thead th {\n",
       "        text-align: right;\n",
       "    }\n",
       "</style>\n",
       "<table border=\"1\" class=\"dataframe\">\n",
       "  <thead>\n",
       "    <tr style=\"text-align: right;\">\n",
       "      <th></th>\n",
       "      <th>last_price</th>\n",
       "      <th>total_area</th>\n",
       "      <th>locality_name</th>\n",
       "    </tr>\n",
       "  </thead>\n",
       "  <tbody>\n",
       "    <tr>\n",
       "      <td>8793</td>\n",
       "      <td>12190</td>\n",
       "      <td>109.000</td>\n",
       "      <td>Санкт-Петербург</td>\n",
       "    </tr>\n",
       "    <tr>\n",
       "      <td>17456</td>\n",
       "      <td>430000</td>\n",
       "      <td>30.400</td>\n",
       "      <td>Сланцы</td>\n",
       "    </tr>\n",
       "    <tr>\n",
       "      <td>14911</td>\n",
       "      <td>430000</td>\n",
       "      <td>54.000</td>\n",
       "      <td>посёлок станции Свирь</td>\n",
       "    </tr>\n",
       "    <tr>\n",
       "      <td>16274</td>\n",
       "      <td>440000</td>\n",
       "      <td>40.000</td>\n",
       "      <td>деревня Старополье</td>\n",
       "    </tr>\n",
       "    <tr>\n",
       "      <td>9581</td>\n",
       "      <td>450000</td>\n",
       "      <td>43.400</td>\n",
       "      <td>деревня Старополье</td>\n",
       "    </tr>\n",
       "  </tbody>\n",
       "</table>\n",
       "</div>"
      ],
      "text/plain": [
       "       last_price  total_area          locality_name\n",
       "8793        12190     109.000        Санкт-Петербург\n",
       "17456      430000      30.400                 Сланцы\n",
       "14911      430000      54.000  посёлок станции Свирь\n",
       "16274      440000      40.000     деревня Старополье\n",
       "9581       450000      43.400     деревня Старополье"
      ]
     },
     "execution_count": 32,
     "metadata": {},
     "output_type": "execute_result"
    }
   ],
   "source": [
    "df.sort_values(by='last_price').head()[['last_price', 'total_area', 'locality_name']]"
   ]
  },
  {
   "cell_type": "markdown",
   "metadata": {},
   "source": [
    "Только 1 квартира с такой низкой ценой - 12190 за 109 кв.м. В 2019 году таких цен не могло быть.\n",
    "Остальные квартиры по цене приемлемы, т.к. они расположены не Санкт-Петербурге, а в области - цены там намного ниже.\n",
    "Построим гистограмму в диапазоне 0,4-20 млн."
   ]
  },
  {
   "cell_type": "code",
   "execution_count": 33,
   "metadata": {},
   "outputs": [
    {
     "data": {
      "text/plain": [
       "<matplotlib.axes._subplots.AxesSubplot at 0x7fa01161fbd0>"
      ]
     },
     "execution_count": 33,
     "metadata": {},
     "output_type": "execute_result"
    },
    {
     "data": {
      "image/png": "[encoded data removed]",
      "text/plain": [
       "<Figure size 720x360 with 1 Axes>"
      ]
     },
     "metadata": {
      "needs_background": "light"
     },
     "output_type": "display_data"
    }
   ],
   "source": [
    "df['last_price'].hist(bins=30, figsize=(10,5), range=(400000,20000000))"
   ]
  },
  {
   "cell_type": "code",
   "execution_count": 34,
   "metadata": {},
   "outputs": [
    {
     "data": {
      "text/plain": [
       "count   23485.000\n",
       "mean        2.071\n",
       "std         1.079\n",
       "min         0.000\n",
       "25%         1.000\n",
       "50%         2.000\n",
       "75%         3.000\n",
       "max        19.000\n",
       "Name: rooms, dtype: float64"
      ]
     },
     "execution_count": 34,
     "metadata": {},
     "output_type": "execute_result"
    }
   ],
   "source": [
    "df['rooms'].describe()"
   ]
  },
  {
   "cell_type": "code",
   "execution_count": 35,
   "metadata": {},
   "outputs": [
    {
     "data": {
      "image/png": "[encoded data removed]",
      "text/plain": [
       "<Figure size 432x288 with 1 Axes>"
      ]
     },
     "metadata": {
      "needs_background": "light"
     },
     "output_type": "display_data"
    }
   ],
   "source": [
    "plt.ylim(-1, 10)\n",
    "df.boxplot('rooms')\n",
    "plt.show()"
   ]
  },
  {
   "cell_type": "code",
   "execution_count": 36,
   "metadata": {},
   "outputs": [
    {
     "data": {
      "text/plain": [
       "<matplotlib.axes._subplots.AxesSubplot at 0x7fa0112f13d0>"
      ]
     },
     "execution_count": 36,
     "metadata": {},
     "output_type": "execute_result"
    },
    {
     "data": {
      "image/png": "[encoded data removed]",
      "text/plain": [
       "<Figure size 720x360 with 1 Axes>"
      ]
     },
     "metadata": {
      "needs_background": "light"
     },
     "output_type": "display_data"
    }
   ],
   "source": [
    "df['rooms'].hist(bins=20, figsize=(10, 5))"
   ]
  },
  {
   "cell_type": "markdown",
   "metadata": {},
   "source": [
    "Как мы видим из гистограмм, нормальное распределение значений в диапазоне от 0 до 6 комнат. Большинство значений входит в диапазон от 1 до 3 комнат. Всё что за пределами - можно считать выбросами (>6). Построим гистограмму в диапазоне 0-6 комнат."
   ]
  },
  {
   "cell_type": "code",
   "execution_count": 37,
   "metadata": {},
   "outputs": [
    {
     "data": {
      "text/plain": [
       "<matplotlib.axes._subplots.AxesSubplot at 0x7fa01126f950>"
      ]
     },
     "execution_count": 37,
     "metadata": {},
     "output_type": "execute_result"
    },
    {
     "data": {
      "image/png": "[encoded data removed]",
      "text/plain": [
       "<Figure size 720x360 with 1 Axes>"
      ]
     },
     "metadata": {
      "needs_background": "light"
     },
     "output_type": "display_data"
    }
   ],
   "source": [
    "df['rooms'].hist(bins=10, figsize=(10,5), range=(0,6))"
   ]
  },
  {
   "cell_type": "markdown",
   "metadata": {},
   "source": [
    "Самые популярные квартиры - с 1-2 комнатами, а потом уже идут трёшки."
   ]
  },
  {
   "cell_type": "code",
   "execution_count": 38,
   "metadata": {},
   "outputs": [
    {
     "data": {
      "text/plain": [
       "count   23485.000\n",
       "mean        2.725\n",
       "std         0.993\n",
       "min         1.000\n",
       "25%         2.600\n",
       "50%         2.650\n",
       "75%         2.700\n",
       "max       100.000\n",
       "Name: ceiling_height, dtype: float64"
      ]
     },
     "execution_count": 38,
     "metadata": {},
     "output_type": "execute_result"
    }
   ],
   "source": [
    "df['ceiling_height'].describe()"
   ]
  },
  {
   "cell_type": "code",
   "execution_count": 39,
   "metadata": {},
   "outputs": [
    {
     "data": {
      "image/png": "[encoded data removed]",
      "text/plain": [
       "<Figure size 432x288 with 1 Axes>"
      ]
     },
     "metadata": {
      "needs_background": "light"
     },
     "output_type": "display_data"
    }
   ],
   "source": [
    "plt.ylim(2, 3.5)\n",
    "df.boxplot('ceiling_height')\n",
    "plt.show()"
   ]
  },
  {
   "cell_type": "code",
   "execution_count": 40,
   "metadata": {},
   "outputs": [
    {
     "data": {
      "text/plain": [
       "<matplotlib.axes._subplots.AxesSubplot at 0x7fa011640f10>"
      ]
     },
     "execution_count": 40,
     "metadata": {},
     "output_type": "execute_result"
    },
    {
     "data": {
      "image/png": "[encoded data removed]",
      "text/plain": [
       "<Figure size 720x360 with 1 Axes>"
      ]
     },
     "metadata": {
      "needs_background": "light"
     },
     "output_type": "display_data"
    }
   ],
   "source": [
    "df['ceiling_height'].hist(bins=100, figsize=(10, 5))"
   ]
  },
  {
   "cell_type": "markdown",
   "metadata": {},
   "source": [
    "Как мы видим из гистограмм, нормальное распределение значений в диапазоне от 2.45 до 2.85 м. Большинство значений входит в диапазон от 2.5 до 2.7 комнат. Всё что за пределами - можно считать выбросами (>3.5). Построим гистограмму в диапазоне 2.45-3.5 м."
   ]
  },
  {
   "cell_type": "code",
   "execution_count": 41,
   "metadata": {
    "scrolled": true
   },
   "outputs": [
    {
     "data": {
      "text/plain": [
       "<matplotlib.axes._subplots.AxesSubplot at 0x7fa011754250>"
      ]
     },
     "execution_count": 41,
     "metadata": {},
     "output_type": "execute_result"
    },
    {
     "data": {
      "image/png": "[encoded data removed]",
      "text/plain": [
       "<Figure size 720x360 with 1 Axes>"
      ]
     },
     "metadata": {
      "needs_background": "light"
     },
     "output_type": "display_data"
    }
   ],
   "source": [
    "df['ceiling_height'].hist(bins=10, figsize=(10,5), range=(2.45,3.5))"
   ]
  },
  {
   "cell_type": "markdown",
   "metadata": {},
   "source": [
    "Изучим время продажи квартиры"
   ]
  },
  {
   "cell_type": "code",
   "execution_count": 42,
   "metadata": {},
   "outputs": [
    {
     "data": {
      "text/plain": [
       "count   23485.000\n",
       "mean      170.172\n",
       "std       207.186\n",
       "min         1.000\n",
       "25%        45.000\n",
       "50%        95.000\n",
       "75%       201.000\n",
       "max      1580.000\n",
       "Name: days_exposition, dtype: float64"
      ]
     },
     "execution_count": 42,
     "metadata": {},
     "output_type": "execute_result"
    }
   ],
   "source": [
    "df['days_exposition'].describe()"
   ]
  },
  {
   "cell_type": "code",
   "execution_count": 43,
   "metadata": {},
   "outputs": [
    {
     "data": {
      "image/png": "[encoded data removed]",
      "text/plain": [
       "<Figure size 432x288 with 1 Axes>"
      ]
     },
     "metadata": {
      "needs_background": "light"
     },
     "output_type": "display_data"
    }
   ],
   "source": [
    "plt.ylim(0, 500)\n",
    "df.boxplot('days_exposition')\n",
    "plt.show()"
   ]
  },
  {
   "cell_type": "code",
   "execution_count": 44,
   "metadata": {},
   "outputs": [
    {
     "data": {
      "text/plain": [
       "<matplotlib.axes._subplots.AxesSubplot at 0x7fa010f7d210>"
      ]
     },
     "execution_count": 44,
     "metadata": {},
     "output_type": "execute_result"
    },
    {
     "data": {
      "image/png": "[encoded data removed]",
      "text/plain": [
       "<Figure size 720x360 with 1 Axes>"
      ]
     },
     "metadata": {
      "needs_background": "light"
     },
     "output_type": "display_data"
    }
   ],
   "source": [
    "df['days_exposition'].hist(bins=100, figsize=(10, 5))"
   ]
  },
  {
   "cell_type": "markdown",
   "metadata": {},
   "source": [
    "Как мы видим из гистограмм, нормальное распределение значений в диапазоне от 1 до 430 дней. Большинство значений входит в диапазон от 50 до 200 дней. Всё что за пределами - можно считать выбросами (>430). Постороим гистограмму в диапазоне 1-430 дней."
   ]
  },
  {
   "cell_type": "code",
   "execution_count": 45,
   "metadata": {},
   "outputs": [
    {
     "data": {
      "text/plain": [
       "<matplotlib.axes._subplots.AxesSubplot at 0x7fa010df9a10>"
      ]
     },
     "execution_count": 45,
     "metadata": {},
     "output_type": "execute_result"
    },
    {
     "data": {
      "image/png": "[encoded data removed]",
      "text/plain": [
       "<Figure size 720x360 with 1 Axes>"
      ]
     },
     "metadata": {
      "needs_background": "light"
     },
     "output_type": "display_data"
    }
   ],
   "source": [
    "df['days_exposition'].hist(bins=50, figsize=(10,5), range=(1,430))"
   ]
  },
  {
   "cell_type": "markdown",
   "metadata": {},
   "source": [
    "- Обычно продажа занимает около 100 дней (медианное значение). Это действительно так, если объект в нормальном состоянии, то за 3 месяца можно решить все вопросы, связанные с оформлением сделки, переездом и т.п.\n",
    "- Очень быстрые продажи - это продажи до 45 дней. Таких объектов было 25%, скорее всего, такие объекты были в лучшем состоянии и, возможно, по цене ниже рыночной.\n",
    "- Очень долгие продажи - это продажи, которые дольше 200 дней. Таких объектов также 25%, вероятно, они в худшем состоянии и/или их цена выше рыночной."
   ]
  },
  {
   "cell_type": "markdown",
   "metadata": {},
   "source": [
    "Уберём редкие и выбивающиеся значения."
   ]
  },
  {
   "cell_type": "code",
   "execution_count": 46,
   "metadata": {},
   "outputs": [],
   "source": [
    "clear_df = df[(df['total_area'] <= 150) & \n",
    "     (df['last_price'] <= 20000000) &\n",
    "     (df['rooms'] <= 6) &\n",
    "     (df['ceiling_height'] <= 3.5) &\n",
    "     (df['days_exposition'] <= 430)].reset_index(drop=True)"
   ]
  },
  {
   "cell_type": "code",
   "execution_count": 47,
   "metadata": {},
   "outputs": [],
   "source": [
    "clear_df = clear_df[(clear_df['total_area'] >= 12) & \n",
    "     (clear_df['last_price'] >= 400000) &\n",
    "     (clear_df['rooms'] <= 6) &\n",
    "     (clear_df['ceiling_height'] >= 2.45) &\n",
    "     (clear_df['days_exposition'] >= 30)].reset_index(drop=True)"
   ]
  },
  {
   "cell_type": "code",
   "execution_count": 48,
   "metadata": {},
   "outputs": [
    {
     "data": {
      "text/plain": [
       "71.4"
      ]
     },
     "execution_count": 48,
     "metadata": {},
     "output_type": "execute_result"
    }
   ],
   "source": [
    "round(clear_df['rooms'].count() / df['rooms'].count() * 100, 2)"
   ]
  },
  {
   "cell_type": "markdown",
   "metadata": {},
   "source": [
    "Оставили 62% значений. Убрали все аномальные значения.\n",
    "Посмотрим, как изменились средние значения некоторых параметров."
   ]
  },
  {
   "cell_type": "code",
   "execution_count": 49,
   "metadata": {},
   "outputs": [
    {
     "data": {
      "text/html": [
       "<div>\n",
       "<style scoped>\n",
       "    .dataframe tbody tr th:only-of-type {\n",
       "        vertical-align: middle;\n",
       "    }\n",
       "\n",
       "    .dataframe tbody tr th {\n",
       "        vertical-align: top;\n",
       "    }\n",
       "\n",
       "    .dataframe thead th {\n",
       "        text-align: right;\n",
       "    }\n",
       "</style>\n",
       "<table border=\"1\" class=\"dataframe\">\n",
       "  <thead>\n",
       "    <tr style=\"text-align: right;\">\n",
       "      <th></th>\n",
       "      <th>last_price</th>\n",
       "      <th>total_area</th>\n",
       "      <th>ceiling_height</th>\n",
       "      <th>price_per_meter</th>\n",
       "      <th>days_exposition</th>\n",
       "    </tr>\n",
       "  </thead>\n",
       "  <tbody>\n",
       "    <tr>\n",
       "      <td>count</td>\n",
       "      <td>23485.000</td>\n",
       "      <td>23485.000</td>\n",
       "      <td>23485.000</td>\n",
       "      <td>23485.000</td>\n",
       "      <td>23485.000</td>\n",
       "    </tr>\n",
       "    <tr>\n",
       "      <td>mean</td>\n",
       "      <td>6553103.816</td>\n",
       "      <td>60.359</td>\n",
       "      <td>2.725</td>\n",
       "      <td>99546.942</td>\n",
       "      <td>170.172</td>\n",
       "    </tr>\n",
       "    <tr>\n",
       "      <td>std</td>\n",
       "      <td>10926838.543</td>\n",
       "      <td>35.700</td>\n",
       "      <td>0.993</td>\n",
       "      <td>50378.709</td>\n",
       "      <td>207.186</td>\n",
       "    </tr>\n",
       "    <tr>\n",
       "      <td>min</td>\n",
       "      <td>12190.000</td>\n",
       "      <td>12.000</td>\n",
       "      <td>1.000</td>\n",
       "      <td>112.000</td>\n",
       "      <td>1.000</td>\n",
       "    </tr>\n",
       "    <tr>\n",
       "      <td>25%</td>\n",
       "      <td>3440000.000</td>\n",
       "      <td>40.000</td>\n",
       "      <td>2.600</td>\n",
       "      <td>76696.000</td>\n",
       "      <td>45.000</td>\n",
       "    </tr>\n",
       "    <tr>\n",
       "      <td>50%</td>\n",
       "      <td>4650000.000</td>\n",
       "      <td>52.000</td>\n",
       "      <td>2.650</td>\n",
       "      <td>95014.000</td>\n",
       "      <td>95.000</td>\n",
       "    </tr>\n",
       "    <tr>\n",
       "      <td>75%</td>\n",
       "      <td>6800000.000</td>\n",
       "      <td>69.800</td>\n",
       "      <td>2.700</td>\n",
       "      <td>114286.000</td>\n",
       "      <td>201.000</td>\n",
       "    </tr>\n",
       "    <tr>\n",
       "      <td>max</td>\n",
       "      <td>763000000.000</td>\n",
       "      <td>900.000</td>\n",
       "      <td>100.000</td>\n",
       "      <td>1907500.000</td>\n",
       "      <td>1580.000</td>\n",
       "    </tr>\n",
       "  </tbody>\n",
       "</table>\n",
       "</div>"
      ],
      "text/plain": [
       "         last_price  total_area  ceiling_height  price_per_meter  \\\n",
       "count     23485.000   23485.000       23485.000        23485.000   \n",
       "mean    6553103.816      60.359           2.725        99546.942   \n",
       "std    10926838.543      35.700           0.993        50378.709   \n",
       "min       12190.000      12.000           1.000          112.000   \n",
       "25%     3440000.000      40.000           2.600        76696.000   \n",
       "50%     4650000.000      52.000           2.650        95014.000   \n",
       "75%     6800000.000      69.800           2.700       114286.000   \n",
       "max   763000000.000     900.000         100.000      1907500.000   \n",
       "\n",
       "       days_exposition  \n",
       "count        23485.000  \n",
       "mean           170.172  \n",
       "std            207.186  \n",
       "min              1.000  \n",
       "25%             45.000  \n",
       "50%             95.000  \n",
       "75%            201.000  \n",
       "max           1580.000  "
      ]
     },
     "execution_count": 49,
     "metadata": {},
     "output_type": "execute_result"
    }
   ],
   "source": [
    "df[['last_price', 'total_area', 'ceiling_height', 'price_per_meter','days_exposition']].describe()"
   ]
  },
  {
   "cell_type": "code",
   "execution_count": 50,
   "metadata": {},
   "outputs": [
    {
     "data": {
      "text/html": [
       "<div>\n",
       "<style scoped>\n",
       "    .dataframe tbody tr th:only-of-type {\n",
       "        vertical-align: middle;\n",
       "    }\n",
       "\n",
       "    .dataframe tbody tr th {\n",
       "        vertical-align: top;\n",
       "    }\n",
       "\n",
       "    .dataframe thead th {\n",
       "        text-align: right;\n",
       "    }\n",
       "</style>\n",
       "<table border=\"1\" class=\"dataframe\">\n",
       "  <thead>\n",
       "    <tr style=\"text-align: right;\">\n",
       "      <th></th>\n",
       "      <th>last_price</th>\n",
       "      <th>total_area</th>\n",
       "      <th>ceiling_height</th>\n",
       "      <th>price_per_meter</th>\n",
       "      <th>days_exposition</th>\n",
       "    </tr>\n",
       "  </thead>\n",
       "  <tbody>\n",
       "    <tr>\n",
       "      <td>count</td>\n",
       "      <td>16768.000</td>\n",
       "      <td>16768.000</td>\n",
       "      <td>16768.000</td>\n",
       "      <td>16768.000</td>\n",
       "      <td>16768.000</td>\n",
       "    </tr>\n",
       "    <tr>\n",
       "      <td>mean</td>\n",
       "      <td>5319665.435</td>\n",
       "      <td>55.711</td>\n",
       "      <td>2.676</td>\n",
       "      <td>94373.776</td>\n",
       "      <td>132.911</td>\n",
       "    </tr>\n",
       "    <tr>\n",
       "      <td>std</td>\n",
       "      <td>3082211.819</td>\n",
       "      <td>21.440</td>\n",
       "      <td>0.165</td>\n",
       "      <td>32913.630</td>\n",
       "      <td>95.221</td>\n",
       "    </tr>\n",
       "    <tr>\n",
       "      <td>min</td>\n",
       "      <td>430000.000</td>\n",
       "      <td>12.000</td>\n",
       "      <td>2.450</td>\n",
       "      <td>7963.000</td>\n",
       "      <td>30.000</td>\n",
       "    </tr>\n",
       "    <tr>\n",
       "      <td>25%</td>\n",
       "      <td>3369750.000</td>\n",
       "      <td>40.000</td>\n",
       "      <td>2.600</td>\n",
       "      <td>75000.000</td>\n",
       "      <td>61.000</td>\n",
       "    </tr>\n",
       "    <tr>\n",
       "      <td>50%</td>\n",
       "      <td>4500000.000</td>\n",
       "      <td>51.000</td>\n",
       "      <td>2.650</td>\n",
       "      <td>93750.000</td>\n",
       "      <td>95.000</td>\n",
       "    </tr>\n",
       "    <tr>\n",
       "      <td>75%</td>\n",
       "      <td>6400000.000</td>\n",
       "      <td>66.700</td>\n",
       "      <td>2.700</td>\n",
       "      <td>112099.000</td>\n",
       "      <td>173.000</td>\n",
       "    </tr>\n",
       "    <tr>\n",
       "      <td>max</td>\n",
       "      <td>20000000.000</td>\n",
       "      <td>150.000</td>\n",
       "      <td>3.500</td>\n",
       "      <td>387097.000</td>\n",
       "      <td>430.000</td>\n",
       "    </tr>\n",
       "  </tbody>\n",
       "</table>\n",
       "</div>"
      ],
      "text/plain": [
       "        last_price  total_area  ceiling_height  price_per_meter  \\\n",
       "count    16768.000   16768.000       16768.000        16768.000   \n",
       "mean   5319665.435      55.711           2.676        94373.776   \n",
       "std    3082211.819      21.440           0.165        32913.630   \n",
       "min     430000.000      12.000           2.450         7963.000   \n",
       "25%    3369750.000      40.000           2.600        75000.000   \n",
       "50%    4500000.000      51.000           2.650        93750.000   \n",
       "75%    6400000.000      66.700           2.700       112099.000   \n",
       "max   20000000.000     150.000           3.500       387097.000   \n",
       "\n",
       "       days_exposition  \n",
       "count        16768.000  \n",
       "mean           132.911  \n",
       "std             95.221  \n",
       "min             30.000  \n",
       "25%             61.000  \n",
       "50%             95.000  \n",
       "75%            173.000  \n",
       "max            430.000  "
      ]
     },
     "execution_count": 50,
     "metadata": {},
     "output_type": "execute_result"
    }
   ],
   "source": [
    "clear_df[['last_price', 'total_area', 'ceiling_height', 'price_per_meter','days_exposition']].describe()"
   ]
  },
  {
   "cell_type": "markdown",
   "metadata": {},
   "source": [
    "Все средние значения уменьшились."
   ]
  },
  {
   "cell_type": "markdown",
   "metadata": {},
   "source": [
    "Изучим факторы, которые влияют на стоимость квартиры.\n",
    "Выведем матрицу диаграмм рассеяния, чтобы изучить зависимость между стоимостью квартиры и её площадью, числом комнат, удалённостью от центра."
   ]
  },
  {
   "cell_type": "code",
   "execution_count": 51,
   "metadata": {},
   "outputs": [
    {
     "data": {
      "text/plain": [
       "array([[<matplotlib.axes._subplots.AxesSubplot object at 0x7fa010d04310>,\n",
       "        <matplotlib.axes._subplots.AxesSubplot object at 0x7fa01131ba90>,\n",
       "        <matplotlib.axes._subplots.AxesSubplot object at 0x7fa010c8cfd0>,\n",
       "        <matplotlib.axes._subplots.AxesSubplot object at 0x7fa010c3fc50>],\n",
       "       [<matplotlib.axes._subplots.AxesSubplot object at 0x7fa010c00fd0>,\n",
       "        <matplotlib.axes._subplots.AxesSubplot object at 0x7fa010bb5c90>,\n",
       "        <matplotlib.axes._subplots.AxesSubplot object at 0x7fa010b754d0>,\n",
       "        <matplotlib.axes._subplots.AxesSubplot object at 0x7fa010b2acd0>],\n",
       "       [<matplotlib.axes._subplots.AxesSubplot object at 0x7fa010b34850>,\n",
       "        <matplotlib.axes._subplots.AxesSubplot object at 0x7fa010af7210>,\n",
       "        <matplotlib.axes._subplots.AxesSubplot object at 0x7fa010ae1550>,\n",
       "        <matplotlib.axes._subplots.AxesSubplot object at 0x7fa010fc5c50>],\n",
       "       [<matplotlib.axes._subplots.AxesSubplot object at 0x7fa0110170d0>,\n",
       "        <matplotlib.axes._subplots.AxesSubplot object at 0x7fa011df56d0>,\n",
       "        <matplotlib.axes._subplots.AxesSubplot object at 0x7fa011645d10>,\n",
       "        <matplotlib.axes._subplots.AxesSubplot object at 0x7fa010fb1d90>]],\n",
       "      dtype=object)"
      ]
     },
     "execution_count": 51,
     "metadata": {},
     "output_type": "execute_result"
    },
    {
     "data": {
      "image/png": "[encoded data removed]",
      "text/plain": [
       "<Figure size 864x864 with 16 Axes>"
      ]
     },
     "metadata": {
      "needs_background": "light"
     },
     "output_type": "display_data"
    }
   ],
   "source": [
    "pd.plotting.scatter_matrix(clear_df[['last_price', 'total_area', 'rooms', 'cityCenters_nearest']], figsize=(12, 12)) "
   ]
  },
  {
   "cell_type": "code",
   "execution_count": 52,
   "metadata": {},
   "outputs": [
    {
     "data": {
      "text/html": [
       "<div>\n",
       "<style scoped>\n",
       "    .dataframe tbody tr th:only-of-type {\n",
       "        vertical-align: middle;\n",
       "    }\n",
       "\n",
       "    .dataframe tbody tr th {\n",
       "        vertical-align: top;\n",
       "    }\n",
       "\n",
       "    .dataframe thead th {\n",
       "        text-align: right;\n",
       "    }\n",
       "</style>\n",
       "<table border=\"1\" class=\"dataframe\">\n",
       "  <thead>\n",
       "    <tr style=\"text-align: right;\">\n",
       "      <th></th>\n",
       "      <th>last_price</th>\n",
       "      <th>total_area</th>\n",
       "      <th>rooms</th>\n",
       "      <th>cityCenters_nearest</th>\n",
       "    </tr>\n",
       "  </thead>\n",
       "  <tbody>\n",
       "    <tr>\n",
       "      <td>last_price</td>\n",
       "      <td>1.000</td>\n",
       "      <td>0.759</td>\n",
       "      <td>0.469</td>\n",
       "      <td>-0.346</td>\n",
       "    </tr>\n",
       "    <tr>\n",
       "      <td>total_area</td>\n",
       "      <td>0.759</td>\n",
       "      <td>1.000</td>\n",
       "      <td>0.795</td>\n",
       "      <td>-0.183</td>\n",
       "    </tr>\n",
       "    <tr>\n",
       "      <td>rooms</td>\n",
       "      <td>0.469</td>\n",
       "      <td>0.795</td>\n",
       "      <td>1.000</td>\n",
       "      <td>-0.122</td>\n",
       "    </tr>\n",
       "    <tr>\n",
       "      <td>cityCenters_nearest</td>\n",
       "      <td>-0.346</td>\n",
       "      <td>-0.183</td>\n",
       "      <td>-0.122</td>\n",
       "      <td>1.000</td>\n",
       "    </tr>\n",
       "  </tbody>\n",
       "</table>\n",
       "</div>"
      ],
      "text/plain": [
       "                     last_price  total_area  rooms  cityCenters_nearest\n",
       "last_price                1.000       0.759  0.469               -0.346\n",
       "total_area                0.759       1.000  0.795               -0.183\n",
       "rooms                     0.469       0.795  1.000               -0.122\n",
       "cityCenters_nearest      -0.346      -0.183 -0.122                1.000"
      ]
     },
     "execution_count": 52,
     "metadata": {},
     "output_type": "execute_result"
    }
   ],
   "source": [
    "clear_df[['last_price', 'total_area', 'rooms', 'cityCenters_nearest']].corr()"
   ]
  },
  {
   "cell_type": "markdown",
   "metadata": {},
   "source": [
    "- Больше всего цена зависит от площади квартиры. Это логично - чем больше квадратных метров, тем дороже объект.\n",
    "- Потом чуть слабее связь между количеством комнат и ценой. Это тоже логично, т.к. количество комнат сильно коррелирует с общей площадью. Больше комнат - больше площадь - дороже объект.\n",
    "- Корреляция цены и удалённости от центра - отрицательная, что говорит о том, что чем дальше объект, тем он дешевле."
   ]
  },
  {
   "cell_type": "markdown",
   "metadata": {},
   "source": [
    "Исследуем стоимость квартир в зависимости от этажа."
   ]
  },
  {
   "cell_type": "code",
   "execution_count": 53,
   "metadata": {},
   "outputs": [
    {
     "data": {
      "text/plain": [
       "<matplotlib.axes._subplots.AxesSubplot at 0x7fa010816fd0>"
      ]
     },
     "execution_count": 53,
     "metadata": {},
     "output_type": "execute_result"
    },
    {
     "data": {
      "image/png": "[encoded data removed]",
      "text/plain": [
       "<Figure size 432x288 with 1 Axes>"
      ]
     },
     "metadata": {
      "needs_background": "light"
     },
     "output_type": "display_data"
    }
   ],
   "source": [
    "clear_df.pivot_table(index='floor_category', values='last_price', aggfunc='mean').plot(y='last_price', kind ='bar')"
   ]
  },
  {
   "cell_type": "markdown",
   "metadata": {},
   "source": [
    "- первый и последний этажи стоят дешевле, чем остальные. Это объясняется тем, что крайние этажи могут быть проблемными из-за подвалов и крыш;\n",
    "- при этом последние этажи дороже первых, т.к. на последних этаже нет соседей сверху и никто не топает/бегает над головой. Это может цениться больше, чем близость к земле."
   ]
  },
  {
   "cell_type": "markdown",
   "metadata": {},
   "source": [
    "Исследуем стоимость квартиры в зависимости от даты размещения объявления."
   ]
  },
  {
   "cell_type": "code",
   "execution_count": 54,
   "metadata": {},
   "outputs": [
    {
     "data": {
      "text/html": [
       "<div>\n",
       "<style scoped>\n",
       "    .dataframe tbody tr th:only-of-type {\n",
       "        vertical-align: middle;\n",
       "    }\n",
       "\n",
       "    .dataframe tbody tr th {\n",
       "        vertical-align: top;\n",
       "    }\n",
       "\n",
       "    .dataframe thead th {\n",
       "        text-align: right;\n",
       "    }\n",
       "</style>\n",
       "<table border=\"1\" class=\"dataframe\">\n",
       "  <thead>\n",
       "    <tr style=\"text-align: right;\">\n",
       "      <th></th>\n",
       "      <th>last_price</th>\n",
       "      <th>weekday_exposition</th>\n",
       "      <th>month_exposition</th>\n",
       "      <th>year_exposition</th>\n",
       "    </tr>\n",
       "  </thead>\n",
       "  <tbody>\n",
       "    <tr>\n",
       "      <td>last_price</td>\n",
       "      <td>1.000</td>\n",
       "      <td>-0.015</td>\n",
       "      <td>0.005</td>\n",
       "      <td>0.034</td>\n",
       "    </tr>\n",
       "    <tr>\n",
       "      <td>weekday_exposition</td>\n",
       "      <td>-0.015</td>\n",
       "      <td>1.000</td>\n",
       "      <td>0.005</td>\n",
       "      <td>-0.005</td>\n",
       "    </tr>\n",
       "    <tr>\n",
       "      <td>month_exposition</td>\n",
       "      <td>0.005</td>\n",
       "      <td>0.005</td>\n",
       "      <td>1.000</td>\n",
       "      <td>-0.296</td>\n",
       "    </tr>\n",
       "    <tr>\n",
       "      <td>year_exposition</td>\n",
       "      <td>0.034</td>\n",
       "      <td>-0.005</td>\n",
       "      <td>-0.296</td>\n",
       "      <td>1.000</td>\n",
       "    </tr>\n",
       "  </tbody>\n",
       "</table>\n",
       "</div>"
      ],
      "text/plain": [
       "                    last_price  weekday_exposition  month_exposition  \\\n",
       "last_price               1.000              -0.015             0.005   \n",
       "weekday_exposition      -0.015               1.000             0.005   \n",
       "month_exposition         0.005               0.005             1.000   \n",
       "year_exposition          0.034              -0.005            -0.296   \n",
       "\n",
       "                    year_exposition  \n",
       "last_price                    0.034  \n",
       "weekday_exposition           -0.005  \n",
       "month_exposition             -0.296  \n",
       "year_exposition               1.000  "
      ]
     },
     "execution_count": 54,
     "metadata": {},
     "output_type": "execute_result"
    }
   ],
   "source": [
    "clear_df[['last_price', 'weekday_exposition', 'month_exposition', 'year_exposition']].corr()"
   ]
  },
  {
   "cell_type": "code",
   "execution_count": 55,
   "metadata": {},
   "outputs": [
    {
     "data": {
      "text/plain": [
       "<matplotlib.axes._subplots.AxesSubplot at 0x7fa0106dd550>"
      ]
     },
     "execution_count": 55,
     "metadata": {},
     "output_type": "execute_result"
    },
    {
     "data": {
      "image/png": "[encoded data removed]",
      "text/plain": [
       "<Figure size 432x288 with 1 Axes>"
      ]
     },
     "metadata": {
      "needs_background": "light"
     },
     "output_type": "display_data"
    },
    {
     "data": {
      "image/png": "[encoded data removed]",
      "text/plain": [
       "<Figure size 432x288 with 1 Axes>"
      ]
     },
     "metadata": {
      "needs_background": "light"
     },
     "output_type": "display_data"
    },
    {
     "data": {
      "image/png": "[encoded data removed]",
      "text/plain": [
       "<Figure size 432x288 with 1 Axes>"
      ]
     },
     "metadata": {
      "needs_background": "light"
     },
     "output_type": "display_data"
    }
   ],
   "source": [
    "clear_df.pivot_table(index='weekday_exposition', values='last_price', aggfunc='mean').plot(y='last_price')\n",
    "clear_df.pivot_table(index='month_exposition', values='last_price', aggfunc='mean').plot(y='last_price')\n",
    "clear_df.pivot_table(index='year_exposition', values='last_price', aggfunc='mean').plot(y='last_price')"
   ]
  },
  {
   "cell_type": "markdown",
   "metadata": {},
   "source": [
    "Сильной зависимости цены квартир от даты размещения нет:\n",
    "- в течение недели средняя стоимость квартиры колеблется в диапазоне 5.15-5.4 млн. При этом стоимость растёт с понедельника до среды, а потом начинает снижаться и резко падать к воскресенью. Вероятно, люди благосклоны делать скидки ближе к выходным дням;\n",
    "- в течение года средняя стоимость квартир колеблется в примерно таком же диапазоне (5-5.5 млн.). При этом стоимость растёт с начала года до мая, а потом начинает резко снижаться к июне и резко растёт к сентябрю. А к Новому году - снова снижение. Можно объяснить тем, что в декабре-январе люди выставляют самую низкую цену, т.к. спрос небольшой, постепенно он растёт и достигает своего максимума в апреле. Резкое снижение объясняется майскими праздниками и, возможно, подготовкой к дачному сезону (мало кто в это время занимается продажей квартиры), спрос опять же небольшой. Далее после резкого спада цены начинают расти до сентября, а перед Новым годом спрос снова падает;\n",
    "- сильнее зависимость от года - в 2014 году средняя стоимость квартир приближалась к 11 млн., а затем из-за политической ситуации цены пошли вниз (до 5 млн.) и в течение 5 лет так и не достигли уровня 2014 года.\n",
    "\n",
    "Но, скорее всего, первые два фактора не влияют на стоимость квартиры и их корреляция со стоимостью квартиры случайна. Можно разместить в день и месяц с высокими ценами, а продать с низкими. Плюс на эти значения оказывает сильное влияние год, в котором было опубликовано объявление."
   ]
  },
  {
   "cell_type": "markdown",
   "metadata": {},
   "source": [
    "Выберем 10 населённых пунктов с наибольшим числом объявлений."
   ]
  },
  {
   "cell_type": "code",
   "execution_count": 56,
   "metadata": {},
   "outputs": [],
   "source": [
    "top_10_localities = clear_df['locality_name'].value_counts().head(10)"
   ]
  },
  {
   "cell_type": "code",
   "execution_count": 57,
   "metadata": {},
   "outputs": [
    {
     "data": {
      "text/html": [
       "<div>\n",
       "<style scoped>\n",
       "    .dataframe tbody tr th:only-of-type {\n",
       "        vertical-align: middle;\n",
       "    }\n",
       "\n",
       "    .dataframe tbody tr th {\n",
       "        vertical-align: top;\n",
       "    }\n",
       "\n",
       "    .dataframe thead th {\n",
       "        text-align: right;\n",
       "    }\n",
       "</style>\n",
       "<table border=\"1\" class=\"dataframe\">\n",
       "  <thead>\n",
       "    <tr style=\"text-align: right;\">\n",
       "      <th></th>\n",
       "      <th>price_per_meter</th>\n",
       "    </tr>\n",
       "    <tr>\n",
       "      <th>locality_name</th>\n",
       "      <th></th>\n",
       "    </tr>\n",
       "  </thead>\n",
       "  <tbody>\n",
       "    <tr>\n",
       "      <td>Санкт-Петербург</td>\n",
       "      <td>109112.339</td>\n",
       "    </tr>\n",
       "    <tr>\n",
       "      <td>Пушкин</td>\n",
       "      <td>101563.357</td>\n",
       "    </tr>\n",
       "    <tr>\n",
       "      <td>деревня Кудрово</td>\n",
       "      <td>92994.305</td>\n",
       "    </tr>\n",
       "    <tr>\n",
       "      <td>посёлок Парголово</td>\n",
       "      <td>89908.857</td>\n",
       "    </tr>\n",
       "    <tr>\n",
       "      <td>посёлок Мурино</td>\n",
       "      <td>85527.198</td>\n",
       "    </tr>\n",
       "    <tr>\n",
       "      <td>посёлок Шушары</td>\n",
       "      <td>78933.429</td>\n",
       "    </tr>\n",
       "    <tr>\n",
       "      <td>Колпино</td>\n",
       "      <td>75029.089</td>\n",
       "    </tr>\n",
       "    <tr>\n",
       "      <td>Гатчина</td>\n",
       "      <td>68582.681</td>\n",
       "    </tr>\n",
       "    <tr>\n",
       "      <td>Всеволожск</td>\n",
       "      <td>67527.066</td>\n",
       "    </tr>\n",
       "    <tr>\n",
       "      <td>Выборг</td>\n",
       "      <td>57794.319</td>\n",
       "    </tr>\n",
       "  </tbody>\n",
       "</table>\n",
       "</div>"
      ],
      "text/plain": [
       "                   price_per_meter\n",
       "locality_name                     \n",
       "Санкт-Петербург         109112.339\n",
       "Пушкин                  101563.357\n",
       "деревня Кудрово          92994.305\n",
       "посёлок Парголово        89908.857\n",
       "посёлок Мурино           85527.198\n",
       "посёлок Шушары           78933.429\n",
       "Колпино                  75029.089\n",
       "Гатчина                  68582.681\n",
       "Всеволожск               67527.066\n",
       "Выборг                   57794.319"
      ]
     },
     "execution_count": 57,
     "metadata": {},
     "output_type": "execute_result"
    }
   ],
   "source": [
    "clear_df.query('locality_name in @top_10_localities.index')\\\n",
    ".pivot_table(index='locality_name', values='price_per_meter')\\\n",
    ".sort_values(by='price_per_meter', ascending=False)"
   ]
  },
  {
   "cell_type": "markdown",
   "metadata": {},
   "source": [
    "Согласно данным из сводной таблицы, 3 самых дорогих населённых пункта - это СПб, Пушкин и Кудрово, и 3 самых дешёвых - Гатчина, Всеволожск и Выборг. Это связано с тем, что:\n",
    "- СПб - самый крупный город в исследовании;\n",
    "- Пушкин - исторически ценный город, соответственно, стоимость жилья дороже, чем в других городах области;\n",
    "- Кудрово - возможно, из-за того, что динамично застраивается и стоимость жилья увеличивается;\n",
    "- низкая стоимость в последних городах связана с тем, что это небольшие населённые пункты, а также с тем, что происходит отток людей в связи с близостью крупного города."
   ]
  },
  {
   "cell_type": "markdown",
   "metadata": {},
   "source": [
    "Определение границы центра Санкт-Петербурга."
   ]
  },
  {
   "cell_type": "code",
   "execution_count": 58,
   "metadata": {},
   "outputs": [],
   "source": [
    "clear_df['cityCenters_nearest_km'] = round(clear_df['cityCenters_nearest'] / 1000, 0)"
   ]
  },
  {
   "cell_type": "code",
   "execution_count": 59,
   "metadata": {},
   "outputs": [
    {
     "data": {
      "text/html": [
       "<div>\n",
       "<style scoped>\n",
       "    .dataframe tbody tr th:only-of-type {\n",
       "        vertical-align: middle;\n",
       "    }\n",
       "\n",
       "    .dataframe tbody tr th {\n",
       "        vertical-align: top;\n",
       "    }\n",
       "\n",
       "    .dataframe thead th {\n",
       "        text-align: right;\n",
       "    }\n",
       "</style>\n",
       "<table border=\"1\" class=\"dataframe\">\n",
       "  <thead>\n",
       "    <tr style=\"text-align: right;\">\n",
       "      <th></th>\n",
       "      <th>last_price</th>\n",
       "      <th>price_per_meter</th>\n",
       "    </tr>\n",
       "    <tr>\n",
       "      <th>cityCenters_nearest_km</th>\n",
       "      <th></th>\n",
       "      <th></th>\n",
       "    </tr>\n",
       "  </thead>\n",
       "  <tbody>\n",
       "    <tr>\n",
       "      <td>0.000</td>\n",
       "      <td>8415000.000</td>\n",
       "      <td>109190.667</td>\n",
       "    </tr>\n",
       "    <tr>\n",
       "      <td>1.000</td>\n",
       "      <td>10486860.453</td>\n",
       "      <td>130142.907</td>\n",
       "    </tr>\n",
       "    <tr>\n",
       "      <td>2.000</td>\n",
       "      <td>9671875.000</td>\n",
       "      <td>128099.993</td>\n",
       "    </tr>\n",
       "    <tr>\n",
       "      <td>3.000</td>\n",
       "      <td>8834334.778</td>\n",
       "      <td>116710.691</td>\n",
       "    </tr>\n",
       "    <tr>\n",
       "      <td>4.000</td>\n",
       "      <td>9043500.579</td>\n",
       "      <td>121915.018</td>\n",
       "    </tr>\n",
       "    <tr>\n",
       "      <td>5.000</td>\n",
       "      <td>9047607.194</td>\n",
       "      <td>127279.489</td>\n",
       "    </tr>\n",
       "    <tr>\n",
       "      <td>6.000</td>\n",
       "      <td>8432453.251</td>\n",
       "      <td>128267.923</td>\n",
       "    </tr>\n",
       "    <tr>\n",
       "      <td>7.000</td>\n",
       "      <td>7930751.039</td>\n",
       "      <td>124950.000</td>\n",
       "    </tr>\n",
       "    <tr>\n",
       "      <td>8.000</td>\n",
       "      <td>7995353.699</td>\n",
       "      <td>121320.370</td>\n",
       "    </tr>\n",
       "    <tr>\n",
       "      <td>9.000</td>\n",
       "      <td>6505072.359</td>\n",
       "      <td>111535.301</td>\n",
       "    </tr>\n",
       "    <tr>\n",
       "      <td>10.000</td>\n",
       "      <td>6130514.228</td>\n",
       "      <td>110917.776</td>\n",
       "    </tr>\n",
       "    <tr>\n",
       "      <td>11.000</td>\n",
       "      <td>5990021.074</td>\n",
       "      <td>108174.492</td>\n",
       "    </tr>\n",
       "    <tr>\n",
       "      <td>12.000</td>\n",
       "      <td>5748703.289</td>\n",
       "      <td>107679.644</td>\n",
       "    </tr>\n",
       "    <tr>\n",
       "      <td>13.000</td>\n",
       "      <td>6024166.089</td>\n",
       "      <td>108153.318</td>\n",
       "    </tr>\n",
       "    <tr>\n",
       "      <td>14.000</td>\n",
       "      <td>5588537.217</td>\n",
       "      <td>104573.278</td>\n",
       "    </tr>\n",
       "    <tr>\n",
       "      <td>15.000</td>\n",
       "      <td>5794789.741</td>\n",
       "      <td>104505.335</td>\n",
       "    </tr>\n",
       "    <tr>\n",
       "      <td>16.000</td>\n",
       "      <td>5307538.278</td>\n",
       "      <td>100615.178</td>\n",
       "    </tr>\n",
       "    <tr>\n",
       "      <td>17.000</td>\n",
       "      <td>5136541.548</td>\n",
       "      <td>97087.874</td>\n",
       "    </tr>\n",
       "    <tr>\n",
       "      <td>18.000</td>\n",
       "      <td>4764940.837</td>\n",
       "      <td>96992.847</td>\n",
       "    </tr>\n",
       "    <tr>\n",
       "      <td>19.000</td>\n",
       "      <td>5102007.720</td>\n",
       "      <td>98786.888</td>\n",
       "    </tr>\n",
       "    <tr>\n",
       "      <td>20.000</td>\n",
       "      <td>6086362.553</td>\n",
       "      <td>103587.579</td>\n",
       "    </tr>\n",
       "    <tr>\n",
       "      <td>21.000</td>\n",
       "      <td>5672838.468</td>\n",
       "      <td>95733.819</td>\n",
       "    </tr>\n",
       "    <tr>\n",
       "      <td>22.000</td>\n",
       "      <td>5495352.595</td>\n",
       "      <td>93210.848</td>\n",
       "    </tr>\n",
       "    <tr>\n",
       "      <td>23.000</td>\n",
       "      <td>4847616.667</td>\n",
       "      <td>93536.483</td>\n",
       "    </tr>\n",
       "    <tr>\n",
       "      <td>24.000</td>\n",
       "      <td>3916398.696</td>\n",
       "      <td>84879.217</td>\n",
       "    </tr>\n",
       "    <tr>\n",
       "      <td>25.000</td>\n",
       "      <td>4197441.900</td>\n",
       "      <td>90615.550</td>\n",
       "    </tr>\n",
       "    <tr>\n",
       "      <td>26.000</td>\n",
       "      <td>4094213.923</td>\n",
       "      <td>87719.256</td>\n",
       "    </tr>\n",
       "    <tr>\n",
       "      <td>27.000</td>\n",
       "      <td>8300000.000</td>\n",
       "      <td>132115.500</td>\n",
       "    </tr>\n",
       "    <tr>\n",
       "      <td>28.000</td>\n",
       "      <td>4814166.667</td>\n",
       "      <td>83275.833</td>\n",
       "    </tr>\n",
       "    <tr>\n",
       "      <td>29.000</td>\n",
       "      <td>4525000.000</td>\n",
       "      <td>76085.000</td>\n",
       "    </tr>\n",
       "  </tbody>\n",
       "</table>\n",
       "</div>"
      ],
      "text/plain": [
       "                         last_price  price_per_meter\n",
       "cityCenters_nearest_km                              \n",
       "0.000                   8415000.000       109190.667\n",
       "1.000                  10486860.453       130142.907\n",
       "2.000                   9671875.000       128099.993\n",
       "3.000                   8834334.778       116710.691\n",
       "4.000                   9043500.579       121915.018\n",
       "5.000                   9047607.194       127279.489\n",
       "6.000                   8432453.251       128267.923\n",
       "7.000                   7930751.039       124950.000\n",
       "8.000                   7995353.699       121320.370\n",
       "9.000                   6505072.359       111535.301\n",
       "10.000                  6130514.228       110917.776\n",
       "11.000                  5990021.074       108174.492\n",
       "12.000                  5748703.289       107679.644\n",
       "13.000                  6024166.089       108153.318\n",
       "14.000                  5588537.217       104573.278\n",
       "15.000                  5794789.741       104505.335\n",
       "16.000                  5307538.278       100615.178\n",
       "17.000                  5136541.548        97087.874\n",
       "18.000                  4764940.837        96992.847\n",
       "19.000                  5102007.720        98786.888\n",
       "20.000                  6086362.553       103587.579\n",
       "21.000                  5672838.468        95733.819\n",
       "22.000                  5495352.595        93210.848\n",
       "23.000                  4847616.667        93536.483\n",
       "24.000                  3916398.696        84879.217\n",
       "25.000                  4197441.900        90615.550\n",
       "26.000                  4094213.923        87719.256\n",
       "27.000                  8300000.000       132115.500\n",
       "28.000                  4814166.667        83275.833\n",
       "29.000                  4525000.000        76085.000"
      ]
     },
     "execution_count": 59,
     "metadata": {},
     "output_type": "execute_result"
    }
   ],
   "source": [
    "df_spb = clear_df.query('locality_name == \"Санкт-Петербург\"')\\\n",
    ".pivot_table(index=['cityCenters_nearest_km'], values=['last_price', 'price_per_meter'])\n",
    "df_spb"
   ]
  },
  {
   "cell_type": "code",
   "execution_count": 60,
   "metadata": {},
   "outputs": [
    {
     "data": {
      "text/plain": [
       "<matplotlib.axes._subplots.AxesSubplot at 0x7f9fc7e8cf10>"
      ]
     },
     "execution_count": 60,
     "metadata": {},
     "output_type": "execute_result"
    },
    {
     "data": {
      "image/png": "[encoded data removed]",
      "text/plain": [
       "<Figure size 720x360 with 2 Axes>"
      ]
     },
     "metadata": {
      "needs_background": "light"
     },
     "output_type": "display_data"
    }
   ],
   "source": [
    "df_spb.plot(kind='line', secondary_y= 'price_per_meter', figsize = (10,5), style = 'o-', grid = True)"
   ]
  },
  {
   "cell_type": "markdown",
   "metadata": {},
   "source": [
    "Анализируя графики цен, можно выделить границы центра Петербурга - это 0-3 км, далее будут идти дорогие районы с большими квартирами и прекрасными видом из окна (что повлияет на стоимость квартиры).\n",
    "Всплески в районе 25-30 км - это, скорее всего, какие-то элитные квартиры.\n",
    "Иследуем основные параметры квартир и факторы, влияющие на стоимость."
   ]
  },
  {
   "cell_type": "code",
   "execution_count": 61,
   "metadata": {},
   "outputs": [],
   "source": [
    "df_spb_city_center = clear_df.query('locality_name == \"Санкт-Петербург\" and cityCenters_nearest_km <= 3')"
   ]
  },
  {
   "cell_type": "code",
   "execution_count": 62,
   "metadata": {},
   "outputs": [
    {
     "data": {
      "text/plain": [
       "count   451.000\n",
       "mean     79.058\n",
       "std      27.338\n",
       "min      12.000\n",
       "25%      60.000\n",
       "50%      77.600\n",
       "75%      97.000\n",
       "max     150.000\n",
       "Name: total_area, dtype: float64"
      ]
     },
     "execution_count": 62,
     "metadata": {},
     "output_type": "execute_result"
    }
   ],
   "source": [
    "df_spb_city_center['total_area'].describe()"
   ]
  },
  {
   "cell_type": "code",
   "execution_count": 63,
   "metadata": {},
   "outputs": [
    {
     "data": {
      "text/plain": [
       "1.49"
      ]
     },
     "execution_count": 63,
     "metadata": {},
     "output_type": "execute_result"
    }
   ],
   "source": [
    "round(df_spb_city_center['total_area'].median() / df['total_area'].median(), 2)"
   ]
  },
  {
   "cell_type": "markdown",
   "metadata": {},
   "source": [
    "Медианная площадь квартир в центре на 49% больше, чем в целом по городу."
   ]
  },
  {
   "cell_type": "code",
   "execution_count": 64,
   "metadata": {},
   "outputs": [
    {
     "data": {
      "text/plain": [
       "count        451.000\n",
       "mean     9426147.002\n",
       "std      3667919.837\n",
       "min      2400000.000\n",
       "25%      6800000.000\n",
       "50%      8750000.000\n",
       "75%     11700000.000\n",
       "max     20000000.000\n",
       "Name: last_price, dtype: float64"
      ]
     },
     "execution_count": 64,
     "metadata": {},
     "output_type": "execute_result"
    }
   ],
   "source": [
    "df_spb_city_center['last_price'].describe()"
   ]
  },
  {
   "cell_type": "code",
   "execution_count": 65,
   "metadata": {},
   "outputs": [
    {
     "data": {
      "text/plain": [
       "1.88"
      ]
     },
     "execution_count": 65,
     "metadata": {},
     "output_type": "execute_result"
    }
   ],
   "source": [
    "round(df_spb_city_center['last_price'].median() / df['last_price'].median(), 2)"
   ]
  },
  {
   "cell_type": "markdown",
   "metadata": {},
   "source": [
    "Средняя стоимость квартир в центре города выше на 88%, чем в целом по городу. Объясняется это расположением и исторической ценностью."
   ]
  },
  {
   "cell_type": "code",
   "execution_count": 66,
   "metadata": {},
   "outputs": [
    {
     "data": {
      "text/plain": [
       "count   451.000\n",
       "mean      2.749\n",
       "std       1.063\n",
       "min       0.000\n",
       "25%       2.000\n",
       "50%       3.000\n",
       "75%       3.000\n",
       "max       6.000\n",
       "Name: rooms, dtype: float64"
      ]
     },
     "execution_count": 66,
     "metadata": {},
     "output_type": "execute_result"
    }
   ],
   "source": [
    "df_spb_city_center['rooms'].describe()"
   ]
  },
  {
   "cell_type": "markdown",
   "metadata": {},
   "source": [
    "Наибольшая популярность у 2-3 комнатных квартир."
   ]
  },
  {
   "cell_type": "code",
   "execution_count": 67,
   "metadata": {},
   "outputs": [
    {
     "data": {
      "text/plain": [
       "count   451.000\n",
       "mean      2.921\n",
       "std       0.292\n",
       "min       2.500\n",
       "25%       2.650\n",
       "50%       2.850\n",
       "75%       3.155\n",
       "max       3.500\n",
       "Name: ceiling_height, dtype: float64"
      ]
     },
     "execution_count": 67,
     "metadata": {},
     "output_type": "execute_result"
    }
   ],
   "source": [
    "df_spb_city_center['ceiling_height'].describe()"
   ]
  },
  {
   "cell_type": "code",
   "execution_count": 68,
   "metadata": {},
   "outputs": [
    {
     "data": {
      "text/plain": [
       "1.08"
      ]
     },
     "execution_count": 68,
     "metadata": {},
     "output_type": "execute_result"
    }
   ],
   "source": [
    "round(df_spb_city_center['ceiling_height'].median() / df['ceiling_height'].median(), 2)"
   ]
  },
  {
   "cell_type": "markdown",
   "metadata": {},
   "source": [
    "Средняя высота потолков чуть выше (на 8%), чем в целом по городу."
   ]
  },
  {
   "cell_type": "code",
   "execution_count": 69,
   "metadata": {},
   "outputs": [
    {
     "data": {
      "text/plain": [
       "<matplotlib.axes._subplots.AxesSubplot at 0x7f9fc7e78a10>"
      ]
     },
     "execution_count": 69,
     "metadata": {},
     "output_type": "execute_result"
    },
    {
     "data": {
      "image/png": "[encoded data removed]",
      "text/plain": [
       "<Figure size 432x288 with 1 Axes>"
      ]
     },
     "metadata": {
      "needs_background": "light"
     },
     "output_type": "display_data"
    }
   ],
   "source": [
    "df_spb_city_center.pivot_table(index='rooms', values='last_price', aggfunc='mean').plot(y='last_price')"
   ]
  },
  {
   "cell_type": "markdown",
   "metadata": {},
   "source": [
    "Очевидное заключение: чем больше комнат (тем, скорее всего, больше площадь), тем дороже квартира. Но рост идёт только до 5комнатных квартир, далее стоимость немного снижается. Лучше смотреть ещё и на общую площадь."
   ]
  },
  {
   "cell_type": "code",
   "execution_count": 70,
   "metadata": {},
   "outputs": [
    {
     "data": {
      "text/plain": [
       "<matplotlib.axes._subplots.AxesSubplot at 0x7f9fc7d4fb10>"
      ]
     },
     "execution_count": 70,
     "metadata": {},
     "output_type": "execute_result"
    },
    {
     "data": {
      "image/png": "[encoded data removed]",
      "text/plain": [
       "<Figure size 432x288 with 1 Axes>"
      ]
     },
     "metadata": {
      "needs_background": "light"
     },
     "output_type": "display_data"
    }
   ],
   "source": [
    "df_spb_city_center.pivot_table(index='floor_category', values='last_price', aggfunc='mean').plot(y='last_price', kind ='bar')"
   ]
  },
  {
   "cell_type": "markdown",
   "metadata": {},
   "source": [
    "Первый и последний этажи стоят дешевле, чем остальные. Но стоимость на последнем этаже выше, чем на первом. Возможно, это объясняется красивым видом из окна на город."
   ]
  },
  {
   "cell_type": "code",
   "execution_count": 71,
   "metadata": {},
   "outputs": [
    {
     "data": {
      "text/plain": [
       "<matplotlib.axes._subplots.AxesSubplot at 0x7f9fbc7b4250>"
      ]
     },
     "execution_count": 71,
     "metadata": {},
     "output_type": "execute_result"
    },
    {
     "data": {
      "image/png": "[encoded data removed]",
      "text/plain": [
       "<Figure size 432x288 with 1 Axes>"
      ]
     },
     "metadata": {
      "needs_background": "light"
     },
     "output_type": "display_data"
    },
    {
     "data": {
      "image/png": "[encoded data removed]",
      "text/plain": [
       "<Figure size 432x288 with 1 Axes>"
      ]
     },
     "metadata": {
      "needs_background": "light"
     },
     "output_type": "display_data"
    },
    {
     "data": {
      "image/png": "[encoded data removed]",
      "text/plain": [
       "<Figure size 432x288 with 1 Axes>"
      ]
     },
     "metadata": {
      "needs_background": "light"
     },
     "output_type": "display_data"
    }
   ],
   "source": [
    "df_spb_city_center.pivot_table(index='weekday_exposition', values='last_price', aggfunc='mean').plot(y='last_price')\n",
    "df_spb_city_center.pivot_table(index='month_exposition', values='last_price', aggfunc='mean').plot(y='last_price')\n",
    "df_spb_city_center.pivot_table(index='year_exposition', values='last_price', aggfunc='mean').plot(y='last_price')"
   ]
  },
  {
   "cell_type": "markdown",
   "metadata": {},
   "source": [
    "В центре также нет смысла смотреть на день недели и месяц размещения объявления без привязки к году.\n",
    "Не было квартир с годом размещения 2014, не совсем понятен рост от 2015 до 2016 года и потом падение (какие были предпосылки?!), зато понятен рост с 2017 года - восстановление экономики, адаптация к новым условиям после кризиса 2014 года."
   ]
  },
  {
   "cell_type": "markdown",
   "metadata": {},
   "source": [
    "### Вывод"
   ]
  },
  {
   "cell_type": "markdown",
   "metadata": {},
   "source": [
    "- Был проведён исследовательский анализ данных с помощью различных инструментов (гистограммы, сводные таблицы, срезы).\n",
    "- Изучены различне параметры квартир, их влияние на стоимость.\n",
    "- Для исключения влияния выбросов были убраны редкие и аномальные значения.\n",
    "- Изучены населённые пункты с наибольшим числом объявлений.\n",
    "- Определены границы центра Петербурга (до 3 км) и проанализирован сегмент квартир в центре."
   ]
  },
  {
   "cell_type": "markdown",
   "metadata": {},
   "source": [
    "## Общий вывод"
   ]
  },
  {
   "cell_type": "markdown",
   "metadata": {},
   "source": [
    "В ходе данного исследования были сделаны следующие шаги:\n",
    "- 1) предварительный анализ показал большое количество пропусков в разных столбцах, которые были изучены и заполнены медианными значениями. Это столбцы с высотой потолка, жилой площадью, площадью кухни, сроком размещения. Если доля пропусков была крайне мала (менее 0.5%), то такие строки удалялись (столбцы с кол-вом этажей и названием населённого пункта).\n",
    "- 2) далее были добавлены расчётные столбцы для более детального анализа данных - цена квадратного метра, классификация этажей, день недели, месяц, году публикации.\n",
    "- 3) основная часть исследования была в шаге 3 - Исследовательский анализ, в ходе которого были сделаны следующие выводы:\n",
    " - на стоимость квартиры влияют общая площадь и количество комнат (чем больше, тем дороже), удалённость от центра (чем дальше, тем дешевле);\n",
    " - самые популярные объекты - это 1-2 комнатные квартиры;\n",
    " - среднее время продажи квартиры - около 100 дней;\n",
    " - самые дорогие населённые пункты - Петербург, Пушкин и Кудрово. Они динамично развиваются и застраиваются;\n",
    " - были найдены некоторые отличия в центре города по сравнению со всей выборкой:\n",
    "     - медианное значение общей площади в центре на 49% больше - 77.6 кв.м. против 52 кв.м.;\n",
    "     - медианное значение стоимости квартиры в центре на 88% больше - 8.75 млн. против 4.65 млн.;\n",
    "     - медианное значение комнат в центре больше - 3 комнаты против 2;\n",
    "     - медианное значение высоты потолка на 8% больше - 2.85 против 2.65;\n",
    "     - медианное значение количества дней продаж одинаковое - 95;\n",
    "     - медианное значение стоимость за 1 кв. м. на 21% больше - 114 тыс. против 95 тыс.     "
   ]
  }
 ],
 "metadata": {
  "ExecuteTimeLog": [
   {
    "duration": 868,
    "start_time": "2021-12-15T19:00:58.761Z"
   },
   {
    "duration": 195,
    "start_time": "2021-12-15T19:00:59.632Z"
   },
   {
    "duration": 25,
    "start_time": "2021-12-15T19:00:59.831Z"
   },
   {
    "duration": 773,
    "start_time": "2021-12-15T19:00:59.860Z"
   },
   {
    "duration": 124,
    "start_time": "2021-12-15T19:01:00.636Z"
   },
   {
    "duration": 8,
    "start_time": "2021-12-15T19:01:00.763Z"
   },
   {
    "duration": 15,
    "start_time": "2021-12-15T19:01:00.774Z"
   },
   {
    "duration": 128,
    "start_time": "2021-12-15T19:01:00.794Z"
   },
   {
    "duration": 12,
    "start_time": "2021-12-15T19:01:00.926Z"
   },
   {
    "duration": 17,
    "start_time": "2021-12-15T19:01:00.941Z"
   },
   {
    "duration": 22,
    "start_time": "2021-12-15T19:01:00.962Z"
   },
   {
    "duration": 32,
    "start_time": "2021-12-15T19:01:00.987Z"
   },
   {
    "duration": 11,
    "start_time": "2021-12-15T19:01:01.022Z"
   },
   {
    "duration": 554,
    "start_time": "2021-12-15T19:01:01.036Z"
   },
   {
    "duration": 9,
    "start_time": "2021-12-15T19:01:01.594Z"
   },
   {
    "duration": 42,
    "start_time": "2021-12-15T19:01:01.618Z"
   },
   {
    "duration": 22,
    "start_time": "2021-12-15T19:01:01.663Z"
   },
   {
    "duration": 23,
    "start_time": "2021-12-15T19:01:01.688Z"
   },
   {
    "duration": 17,
    "start_time": "2021-12-15T19:01:01.714Z"
   },
   {
    "duration": 39,
    "start_time": "2021-12-15T19:01:01.734Z"
   },
   {
    "duration": 2565,
    "start_time": "2021-12-15T19:01:01.777Z"
   },
   {
    "duration": 17,
    "start_time": "2021-12-15T19:01:04.345Z"
   },
   {
    "duration": 8,
    "start_time": "2021-12-15T19:01:04.372Z"
   },
   {
    "duration": 57,
    "start_time": "2021-12-15T19:01:04.385Z"
   },
   {
    "duration": 11,
    "start_time": "2021-12-15T19:01:04.444Z"
   },
   {
    "duration": 260,
    "start_time": "2021-12-15T19:01:04.457Z"
   },
   {
    "duration": 390,
    "start_time": "2021-12-15T19:01:04.719Z"
   },
   {
    "duration": 419,
    "start_time": "2021-12-15T19:01:05.116Z"
   },
   {
    "duration": 13,
    "start_time": "2021-12-15T19:01:05.538Z"
   },
   {
    "duration": 256,
    "start_time": "2021-12-15T19:01:05.553Z"
   },
   {
    "duration": 635,
    "start_time": "2021-12-15T19:01:05.817Z"
   },
   {
    "duration": 23,
    "start_time": "2021-12-15T19:01:06.455Z"
   },
   {
    "duration": 449,
    "start_time": "2021-12-15T19:01:06.480Z"
   },
   {
    "duration": 10,
    "start_time": "2021-12-15T19:01:06.932Z"
   },
   {
    "duration": 461,
    "start_time": "2021-12-15T19:01:06.946Z"
   },
   {
    "duration": 408,
    "start_time": "2021-12-15T19:01:07.409Z"
   },
   {
    "duration": 435,
    "start_time": "2021-12-15T19:01:07.819Z"
   },
   {
    "duration": 11,
    "start_time": "2021-12-15T19:01:08.257Z"
   },
   {
    "duration": 252,
    "start_time": "2021-12-15T19:01:08.270Z"
   },
   {
    "duration": 696,
    "start_time": "2021-12-15T19:01:08.524Z"
   },
   {
    "duration": 377,
    "start_time": "2021-12-15T19:01:09.223Z"
   },
   {
    "duration": 20,
    "start_time": "2021-12-15T19:01:09.602Z"
   },
   {
    "duration": 226,
    "start_time": "2021-12-15T19:01:09.625Z"
   },
   {
    "duration": 623,
    "start_time": "2021-12-15T19:01:09.854Z"
   },
   {
    "duration": 465,
    "start_time": "2021-12-15T19:01:10.479Z"
   },
   {
    "duration": 24,
    "start_time": "2021-12-15T19:01:10.947Z"
   },
   {
    "duration": 43,
    "start_time": "2021-12-15T19:01:10.975Z"
   },
   {
    "duration": 9,
    "start_time": "2021-12-15T19:01:11.021Z"
   },
   {
    "duration": 58,
    "start_time": "2021-12-15T19:01:11.033Z"
   },
   {
    "duration": 58,
    "start_time": "2021-12-15T19:01:11.093Z"
   },
   {
    "duration": 6642,
    "start_time": "2021-12-15T19:01:11.154Z"
   },
   {
    "duration": 28,
    "start_time": "2021-12-15T19:01:17.798Z"
   },
   {
    "duration": 276,
    "start_time": "2021-12-15T19:01:17.829Z"
   },
   {
    "duration": 19,
    "start_time": "2021-12-15T19:01:18.107Z"
   },
   {
    "duration": 887,
    "start_time": "2021-12-15T19:01:18.128Z"
   },
   {
    "duration": 7,
    "start_time": "2021-12-15T19:01:19.018Z"
   },
   {
    "duration": 32,
    "start_time": "2021-12-15T19:01:19.027Z"
   },
   {
    "duration": 6,
    "start_time": "2021-12-15T19:01:19.061Z"
   },
   {
    "duration": 63,
    "start_time": "2021-12-15T19:01:19.069Z"
   },
   {
    "duration": 504,
    "start_time": "2021-12-15T19:01:19.134Z"
   },
   {
    "duration": 11,
    "start_time": "2021-12-15T19:01:19.641Z"
   },
   {
    "duration": 14,
    "start_time": "2021-12-15T19:01:19.654Z"
   },
   {
    "duration": 8,
    "start_time": "2021-12-15T19:01:19.671Z"
   },
   {
    "duration": 45,
    "start_time": "2021-12-15T19:01:19.681Z"
   },
   {
    "duration": 8,
    "start_time": "2021-12-15T19:01:19.729Z"
   },
   {
    "duration": 11,
    "start_time": "2021-12-15T19:01:19.739Z"
   },
   {
    "duration": 11,
    "start_time": "2021-12-15T19:01:19.753Z"
   },
   {
    "duration": 9,
    "start_time": "2021-12-15T19:01:19.816Z"
   },
   {
    "duration": 483,
    "start_time": "2021-12-15T19:01:19.829Z"
   },
   {
    "duration": 286,
    "start_time": "2021-12-15T19:01:20.317Z"
   },
   {
    "duration": 1120,
    "start_time": "2021-12-15T19:01:20.605Z"
   }
  ],
  "kernelspec": {
   "display_name": "Python 3",
   "language": "python",
   "name": "python3"
  },
  "language_info": {
   "codemirror_mode": {
    "name": "ipython",
    "version": 3
   },
   "file_extension": ".py",
   "mimetype": "text/x-python",
   "name": "python",
   "nbconvert_exporter": "python",
   "pygments_lexer": "ipython3",
   "version": "3.7.8"
  },
  "toc": {
   "base_numbering": 1,
   "nav_menu": {},
   "number_sections": true,
   "sideBar": true,
   "skip_h1_title": true,
   "title_cell": "Содержание",
   "title_sidebar": "Contents",
   "toc_cell": true,
   "toc_position": {
    "height": "calc(100% - 180px)",
    "left": "10px",
    "top": "150px",
    "width": "366.391px"
   },
   "toc_section_display": true,
   "toc_window_display": true
  }
 },
 "nbformat": 4,
 "nbformat_minor": 2
}
